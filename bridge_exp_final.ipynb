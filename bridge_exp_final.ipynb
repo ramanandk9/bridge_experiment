{
  "cells": [
    {
      "cell_type": "markdown",
      "metadata": {
        "id": "4pK-v_y_xQ5H"
      },
      "source": [
        ""
      ]
    },
    {
      "cell_type": "code",
      "execution_count": null,
      "metadata": {
        "id": "UkZnPsgyxL15",
        "colab": {
          "base_uri": "https://localhost:8080/",
          "height": 346
        },
        "outputId": "6bfa42fc-94f4-4124-da95-c36cebc456aa"
      },
      "outputs": [
        {
          "output_type": "error",
          "ename": "KeyboardInterrupt",
          "evalue": "ignored",
          "traceback": [
            "\u001b[0;31m---------------------------------------------------------------------------\u001b[0m",
            "\u001b[0;31mKeyboardInterrupt\u001b[0m                         Traceback (most recent call last)",
            "\u001b[0;32m<ipython-input-1-3aeef50c6911>\u001b[0m in \u001b[0;36m<module>\u001b[0;34m()\u001b[0m\n\u001b[1;32m      1\u001b[0m \u001b[0;32mfrom\u001b[0m \u001b[0mgoogle\u001b[0m\u001b[0;34m.\u001b[0m\u001b[0mcolab\u001b[0m \u001b[0;32mimport\u001b[0m \u001b[0mdrive\u001b[0m\u001b[0;34m\u001b[0m\u001b[0;34m\u001b[0m\u001b[0m\n\u001b[1;32m      2\u001b[0m \u001b[0;34m\u001b[0m\u001b[0m\n\u001b[0;32m----> 3\u001b[0;31m \u001b[0mdrive\u001b[0m\u001b[0;34m.\u001b[0m\u001b[0mmount\u001b[0m\u001b[0;34m(\u001b[0m\u001b[0;34m'/content/gdrive'\u001b[0m\u001b[0;34m)\u001b[0m\u001b[0;34m\u001b[0m\u001b[0;34m\u001b[0m\u001b[0m\n\u001b[0m",
            "\u001b[0;32m/usr/local/lib/python3.7/dist-packages/google/colab/drive.py\u001b[0m in \u001b[0;36mmount\u001b[0;34m(mountpoint, force_remount, timeout_ms, use_metadata_server)\u001b[0m\n\u001b[1;32m    111\u001b[0m       \u001b[0mtimeout_ms\u001b[0m\u001b[0;34m=\u001b[0m\u001b[0mtimeout_ms\u001b[0m\u001b[0;34m,\u001b[0m\u001b[0;34m\u001b[0m\u001b[0;34m\u001b[0m\u001b[0m\n\u001b[1;32m    112\u001b[0m       \u001b[0muse_metadata_server\u001b[0m\u001b[0;34m=\u001b[0m\u001b[0muse_metadata_server\u001b[0m\u001b[0;34m,\u001b[0m\u001b[0;34m\u001b[0m\u001b[0;34m\u001b[0m\u001b[0m\n\u001b[0;32m--> 113\u001b[0;31m       ephemeral=ephemeral)\n\u001b[0m\u001b[1;32m    114\u001b[0m \u001b[0;34m\u001b[0m\u001b[0m\n\u001b[1;32m    115\u001b[0m \u001b[0;34m\u001b[0m\u001b[0m\n",
            "\u001b[0;32m/usr/local/lib/python3.7/dist-packages/google/colab/drive.py\u001b[0m in \u001b[0;36m_mount\u001b[0;34m(mountpoint, force_remount, timeout_ms, use_metadata_server, ephemeral)\u001b[0m\n\u001b[1;32m    134\u001b[0m   \u001b[0;32mif\u001b[0m \u001b[0mephemeral\u001b[0m\u001b[0;34m:\u001b[0m\u001b[0;34m\u001b[0m\u001b[0;34m\u001b[0m\u001b[0m\n\u001b[1;32m    135\u001b[0m     _message.blocking_request(\n\u001b[0;32m--> 136\u001b[0;31m         'request_auth', request={'authType': 'dfs_ephemeral'}, timeout_sec=None)\n\u001b[0m\u001b[1;32m    137\u001b[0m \u001b[0;34m\u001b[0m\u001b[0m\n\u001b[1;32m    138\u001b[0m   \u001b[0mmountpoint\u001b[0m \u001b[0;34m=\u001b[0m \u001b[0m_os\u001b[0m\u001b[0;34m.\u001b[0m\u001b[0mpath\u001b[0m\u001b[0;34m.\u001b[0m\u001b[0mexpanduser\u001b[0m\u001b[0;34m(\u001b[0m\u001b[0mmountpoint\u001b[0m\u001b[0;34m)\u001b[0m\u001b[0;34m\u001b[0m\u001b[0;34m\u001b[0m\u001b[0m\n",
            "\u001b[0;32m/usr/local/lib/python3.7/dist-packages/google/colab/_message.py\u001b[0m in \u001b[0;36mblocking_request\u001b[0;34m(request_type, request, timeout_sec, parent)\u001b[0m\n\u001b[1;32m    173\u001b[0m   request_id = send_request(\n\u001b[1;32m    174\u001b[0m       request_type, request, parent=parent, expect_reply=True)\n\u001b[0;32m--> 175\u001b[0;31m   \u001b[0;32mreturn\u001b[0m \u001b[0mread_reply_from_input\u001b[0m\u001b[0;34m(\u001b[0m\u001b[0mrequest_id\u001b[0m\u001b[0;34m,\u001b[0m \u001b[0mtimeout_sec\u001b[0m\u001b[0;34m)\u001b[0m\u001b[0;34m\u001b[0m\u001b[0;34m\u001b[0m\u001b[0m\n\u001b[0m",
            "\u001b[0;32m/usr/local/lib/python3.7/dist-packages/google/colab/_message.py\u001b[0m in \u001b[0;36mread_reply_from_input\u001b[0;34m(message_id, timeout_sec)\u001b[0m\n\u001b[1;32m     99\u001b[0m     \u001b[0mreply\u001b[0m \u001b[0;34m=\u001b[0m \u001b[0m_read_next_input_message\u001b[0m\u001b[0;34m(\u001b[0m\u001b[0;34m)\u001b[0m\u001b[0;34m\u001b[0m\u001b[0;34m\u001b[0m\u001b[0m\n\u001b[1;32m    100\u001b[0m     \u001b[0;32mif\u001b[0m \u001b[0mreply\u001b[0m \u001b[0;34m==\u001b[0m \u001b[0m_NOT_READY\u001b[0m \u001b[0;32mor\u001b[0m \u001b[0;32mnot\u001b[0m \u001b[0misinstance\u001b[0m\u001b[0;34m(\u001b[0m\u001b[0mreply\u001b[0m\u001b[0;34m,\u001b[0m \u001b[0mdict\u001b[0m\u001b[0;34m)\u001b[0m\u001b[0;34m:\u001b[0m\u001b[0;34m\u001b[0m\u001b[0;34m\u001b[0m\u001b[0m\n\u001b[0;32m--> 101\u001b[0;31m       \u001b[0mtime\u001b[0m\u001b[0;34m.\u001b[0m\u001b[0msleep\u001b[0m\u001b[0;34m(\u001b[0m\u001b[0;36m0.025\u001b[0m\u001b[0;34m)\u001b[0m\u001b[0;34m\u001b[0m\u001b[0;34m\u001b[0m\u001b[0m\n\u001b[0m\u001b[1;32m    102\u001b[0m       \u001b[0;32mcontinue\u001b[0m\u001b[0;34m\u001b[0m\u001b[0;34m\u001b[0m\u001b[0m\n\u001b[1;32m    103\u001b[0m     if (reply.get('type') == 'colab_reply' and\n",
            "\u001b[0;31mKeyboardInterrupt\u001b[0m: "
          ]
        }
      ],
      "source": [
        "from google.colab import drive\n",
        "\n",
        "drive.mount('/content/gdrive')"
      ]
    },
    {
      "cell_type": "code",
      "execution_count": null,
      "metadata": {
        "id": "ehYIAiK9xSlP"
      },
      "outputs": [],
      "source": [
        "from scipy.io import loadmat\n",
        "import pandas as pd\n",
        "import numpy as np\n",
        "import sklearn\n",
        "import time\n",
        "import random\n",
        "from scipy.stats import kurtosis,skew\n",
        "from tqdm import tqdm"
      ]
    },
    {
      "cell_type": "code",
      "execution_count": null,
      "metadata": {
        "id": "hXRSIW1AxTdX"
      },
      "outputs": [],
      "source": [
        "Data=loadmat(\"/content/gdrive/MyDrive/Old_ADA_Bridge-damage_vibration_data.mat\")"
      ]
    },
    {
      "cell_type": "code",
      "execution_count": null,
      "metadata": {
        "id": "4xlmW2VjxTZy"
      },
      "outputs": [],
      "source": [
        "class dataMatrix:\n",
        "    def __init__(self,data):\n",
        "        self.data=dict()\n",
        "        self.classes=['time','a1','a2','a3','a4','a5','a6','a7','a8','o1','o2','o3']\n",
        "        try:\n",
        "            for i in range(12):\n",
        "                self.data[self.classes[i]]=data[:8868,i] # 8868\n",
        "        except:\n",
        "            return\n",
        "        "
      ]
    },
    {
      "cell_type": "code",
      "execution_count": null,
      "metadata": {
        "id": "eo4QJ4VwxTXZ"
      },
      "outputs": [],
      "source": [
        "class matData:\n",
        "    def __init__(self,data):\n",
        "        self.header='VBA'\n",
        "        self.data=dict()\n",
        "        for i in range(1,8):\n",
        "            new_data=dict()\n",
        "            for j in range(1,13,1):\n",
        "                if data['VBA'][i][j].shape==(1,0):\n",
        "                    continue\n",
        "                else:\n",
        "                    new_data['no'+str(j)]=dataMatrix(data['VBA'][i][j])\n",
        "#                     print(new_data['no'+str(j)].data['time'].shape)\n",
        "            self.data[data['VBA'][i][0][0]]=new_data\n",
        "        "
      ]
    },
    {
      "cell_type": "code",
      "execution_count": null,
      "metadata": {
        "id": "LveZEcbFxTU2"
      },
      "outputs": [],
      "source": [
        "dataObj=matData(Data)\n",
        "classes=['time','a1','a2','a3','a4','a5','a6','a7','a8','o1','o2','o3']\n",
        "case=['INT 30km','INT 50km','INT 40km','RCV 40km','DMG1 40km','DMG2 40km','DMG3 40km']"
      ]
    },
    {
      "cell_type": "code",
      "execution_count": null,
      "metadata": {
        "id": "SAbzuiCQxTSW"
      },
      "outputs": [],
      "source": [
        ""
      ]
    },
    {
      "cell_type": "code",
      "execution_count": null,
      "metadata": {
        "id": "GeKrFPKWxTP4"
      },
      "outputs": [],
      "source": [
        "x_train_ss=[]\n",
        "y_train_ss=[]\n",
        "for i in case[:4]:\n",
        "    keys=dataObj.data[i].keys()\n",
        "    for j in keys:\n",
        "        for k in classes[1:-3]:\n",
        "            x_train_ss.append(dataObj.data[i][j].data[k])\n",
        "            y_train_ss.append(1)\n",
        "            \n",
        "for i in case[4:]:\n",
        "    keys=dataObj.data[i].keys()\n",
        "    for j in keys:\n",
        "        all_sensor_data=[]\n",
        "        for k in classes[1:-3]:\n",
        "            x_train_ss.append(dataObj.data[i][j].data[k])\n",
        "            y_train_ss.append(0)\n",
        "           \n",
        "X=abs(np.array(x_train_ss))\n",
        "Y=np.array(y_train_ss)\n",
        "print(X.shape)\n",
        "print(Y.shape)"
      ]
    },
    {
      "cell_type": "code",
      "source": [
        "X=X/np.max(X)\n",
        "X=X*100.+.0000001\n",
        "X=np.log(X)"
      ],
      "metadata": {
        "id": "PficSQUpujv1"
      },
      "execution_count": null,
      "outputs": []
    },
    {
      "cell_type": "code",
      "execution_count": null,
      "metadata": {
        "id": "1yxtJffQxa1d"
      },
      "outputs": [],
      "source": [
        "def shuffle(a,b):\n",
        "  c=[]\n",
        "  for i in range(len(a)):\n",
        "    c.append([a[i],b[i]])\n",
        "  # print(c)\n",
        "  random.shuffle(c)\n",
        "  # print(c)\n",
        "  a=np.array([i[0] for i in c])\n",
        "  b=np.array([i[1] for i in c])\n",
        "  return a,b"
      ]
    },
    {
      "cell_type": "code",
      "execution_count": null,
      "metadata": {
        "id": "3gvLnlMXyxAW"
      },
      "outputs": [],
      "source": [
        "x_data,y_data=shuffle(X,Y)"
      ]
    },
    {
      "cell_type": "code",
      "execution_count": null,
      "metadata": {
        "id": "qXZync7_yw82"
      },
      "outputs": [],
      "source": [
        "all_window_sizes=[1000,100,10,4096,2048,1024,512,256,128,64,32,16,8,4,2,1]\n",
        "# all_window_sizes=[1]"
      ]
    },
    {
      "cell_type": "code",
      "execution_count": null,
      "metadata": {
        "id": "F1d_aLnXxax5"
      },
      "outputs": [],
      "source": [
        "##### preparing single sensor data for multiple segments.\n",
        "##### preparing new data mean,variance, std. ONLY FOR SINGLE SENSOR PREDICTION.\n",
        "def segment_data(window_size,x):\n",
        "  n_segments=8868//window_size\n",
        "  mean_array=[]\n",
        "  variance_array=[]\n",
        "  std_array=[]\n",
        "  skew_array=[]\n",
        "  kurtosis_array=[]\n",
        "  if window_size==1:\n",
        "    dict_=dict()\n",
        "    dict_['mean']=x\n",
        "    dict_['var_']=x\n",
        "    dict_['std_']=x\n",
        "    dict_['skew']=x\n",
        "    dict_['kurt']=x\n",
        "    return dict_\n",
        "  for i in tqdm(range(len(x_data))):\n",
        "    mean=[]\n",
        "    std=[]\n",
        "    skew_=[]\n",
        "    kurtosis_=[]\n",
        "    for j in range(n_segments):\n",
        "      idx=j*window_size\n",
        "      #print(x[i][idx:idx+window_size].shape)\n",
        "      mean.append(np.mean(x[i][idx:idx+window_size]))\n",
        "      std.append(np.std(x[i][idx:idx+window_size]))\n",
        "      skew_.append(skew(x[i][idx:idx+window_size],axis=0,bias=False))\n",
        "      kurtosis_.append(kurtosis(x[i][idx:idx+window_size],axis=0,fisher=True,bias=False))\n",
        "\n",
        "    variance=[j*j for j in std]\n",
        "\n",
        "    mean_array.append(mean)\n",
        "    variance_array.append(variance)\n",
        "    std_array.append(std)\n",
        "    skew_array.append(skew_)\n",
        "    kurtosis_array.append(kurtosis_)\n",
        "\n",
        "  dict_=dict()\n",
        "  dict_['mean']=mean_array\n",
        "  dict_['var_']=variance_array\n",
        "  dict_['std_']=std_array\n",
        "  dict_['skew']=skew_array\n",
        "  dict_['kurt']=kurtosis_array\n",
        "\n",
        "  return dict_"
      ]
    },
    {
      "cell_type": "code",
      "execution_count": null,
      "metadata": {
        "id": "2qAO7m-Exavx"
      },
      "outputs": [],
      "source": [
        "# 100 segments 72.78, 71.50, 69.85, 96.32, 84\n",
        "from sklearn.svm import SVC\n",
        "from sklearn.linear_model import LinearRegression"
      ]
    },
    {
      "cell_type": "code",
      "execution_count": null,
      "metadata": {
        "id": "uIT4-oOFxatO"
      },
      "outputs": [],
      "source": [
        "def accuracy(array,y,split_size=70):\n",
        "  n=len(y)\n",
        "  train_size=(n*split_size)//100  # train_test_split 70:30\n",
        "  model=SVC().fit(array[:train_size],y[:train_size]) # x as [length, window_size] y as [length,]\n",
        "  train_acc=np.sum(model.predict(array[:train_size])==y[:train_size])/train_size\n",
        "  acc=np.sum(model.predict(array[train_size:])==y[train_size:])/len(y[train_size:])\n",
        "  return round(train_acc,3),round(acc,3)"
      ]
    },
    {
      "cell_type": "code",
      "execution_count": null,
      "metadata": {
        "id": "HduqwBjW4Rf1"
      },
      "outputs": [],
      "source": [
        "svm_log=\"/content/gdrive/MyDrive/project/logs/svm_logs4_with_abs_25jan_new_log_10_iterations_3.txt\"\n",
        "lr_log=\"/content/gdrive/MyDrive/project/logs/lr_logs_25jan_exp.txt\""
      ]
    },
    {
      "cell_type": "code",
      "source": [
        ""
      ],
      "metadata": {
        "id": "ATERMwClJXs1"
      },
      "execution_count": null,
      "outputs": []
    },
    {
      "cell_type": "code",
      "source": [
        "svm_log_data=dict()"
      ],
      "metadata": {
        "id": "5B9c7h1FIDQs"
      },
      "execution_count": null,
      "outputs": []
    },
    {
      "cell_type": "code",
      "source": [
        "# with abs\n",
        "\n",
        "with open(svm_log,\"w\") as log_file:\n",
        "  for epoch in range(10):\n",
        "    print('########################## epoch: ',epoch,' ###########################')\n",
        "    for window_size in all_window_sizes:\n",
        "      if window_size not in svm_log_data.keys():\n",
        "        svm_log_data[window_size]=dict()\n",
        "      x_data,y_data=shuffle(X,Y)\n",
        "      segmented_data=segment_data(window_size,x_data)\n",
        "      log_file.write(\"\\n\\nwindow_size: \"+str(window_size))\n",
        "      print(\"\\nwindow_size: \"+str(window_size))\n",
        "      keys=list(segmented_data.keys())\n",
        "      if window_size==1:\n",
        "        keys=keys[:1]\n",
        "      for key in keys:\n",
        "        if key not in svm_log_data[window_size].keys():\n",
        "          svm_log_data[window_size][key]=dict()\n",
        "        for split_size in range(50,100,10):\n",
        "          if split_size not in svm_log_data[window_size][key].keys():\n",
        "            svm_log_data[window_size][key][split_size]=[]\n",
        "          train_acc,acc=accuracy(segmented_data[key],y_data,split_size)\n",
        "          svm_log_data[window_size][key][split_size].append(acc)\n",
        "          arr=svm_log_data[window_size][key][split_size]\n",
        "          average=round(sum(arr)/len(arr),3)\n",
        "          text=\"\\tsplit_size:\"+str(split_size)+\"\\t \"+str(key)+\":  train--\"+(str(train_acc)+'000')[:6]+\" test--\"+(str(acc)+'000')[:6]+\" avg: \"+(str(average)+'000')[:6]+\" max: \"+(str(max(arr))+'000')[:6]+\" >>> \"+str(arr)\n",
        "          print(text)\n",
        "          log_file.write(text)"
      ],
      "metadata": {
        "colab": {
          "base_uri": "https://localhost:8080/"
        },
        "id": "P_EWMXjzz0-w",
        "outputId": "c6352500-41e8-4783-960e-73c2a5ce611f"
      },
      "execution_count": null,
      "outputs": [
        {
          "metadata": {
            "tags": null
          },
          "name": "stdout",
          "output_type": "stream",
          "text": [
            "########################## epoch:  0  ###########################\n"
          ]
        },
        {
          "metadata": {
            "tags": null
          },
          "name": "stderr",
          "output_type": "stream",
          "text": [
            "100%|██████████| 544/544 [00:02<00:00, 187.40it/s]\n"
          ]
        },
        {
          "metadata": {
            "tags": null
          },
          "name": "stdout",
          "output_type": "stream",
          "text": [
            "\n",
            "window_size: 1000\n",
            "\tsplit_size:50\t mean:  train--0.7170 test--0.6540 avg: 0.6540 max: 0.6540 >>> [0.654]\n",
            "\tsplit_size:60\t mean:  train--0.7150 test--0.6240 avg: 0.6240 max: 0.6240 >>> [0.624]\n",
            "\tsplit_size:70\t mean:  train--0.7080 test--0.6160 avg: 0.6160 max: 0.6160 >>> [0.616]\n",
            "\tsplit_size:80\t mean:  train--0.7060 test--0.6150 avg: 0.6150 max: 0.6150 >>> [0.615]\n",
            "\tsplit_size:90\t mean:  train--0.7080 test--0.6000 avg: 0.6000 max: 0.6000 >>> [0.6]\n",
            "\tsplit_size:50\t var_:  train--0.6360 test--0.5400 avg: 0.5400 max: 0.5400 >>> [0.54]\n",
            "\tsplit_size:60\t var_:  train--0.6200 test--0.5410 avg: 0.5410 max: 0.5410 >>> [0.541]\n",
            "\tsplit_size:70\t var_:  train--0.6180 test--0.5370 avg: 0.5370 max: 0.5370 >>> [0.537]\n",
            "\tsplit_size:80\t var_:  train--0.6210 test--0.4950 avg: 0.4950 max: 0.4950 >>> [0.495]\n",
            "\tsplit_size:90\t var_:  train--0.6180 test--0.4730 avg: 0.4730 max: 0.4730 >>> [0.473]\n",
            "\tsplit_size:50\t std_:  train--0.6650 test--0.6100 avg: 0.6100 max: 0.6100 >>> [0.61]\n",
            "\tsplit_size:60\t std_:  train--0.6560 test--0.6150 avg: 0.6150 max: 0.6150 >>> [0.615]\n",
            "\tsplit_size:70\t std_:  train--0.6610 test--0.5980 avg: 0.5980 max: 0.5980 >>> [0.598]\n",
            "\tsplit_size:80\t std_:  train--0.6690 test--0.5690 avg: 0.5690 max: 0.5690 >>> [0.569]\n",
            "\tsplit_size:90\t std_:  train--0.6810 test--0.5450 avg: 0.5450 max: 0.5450 >>> [0.545]\n",
            "\tsplit_size:50\t skew:  train--0.6210 test--0.5480 avg: 0.5480 max: 0.5480 >>> [0.548]\n",
            "\tsplit_size:60\t skew:  train--0.6170 test--0.5870 avg: 0.5870 max: 0.5870 >>> [0.587]\n",
            "\tsplit_size:70\t skew:  train--0.6260 test--0.6280 avg: 0.6280 max: 0.6280 >>> [0.628]\n",
            "\tsplit_size:80\t skew:  train--0.6320 test--0.6060 avg: 0.6060 max: 0.6060 >>> [0.606]\n",
            "\tsplit_size:90\t skew:  train--0.6420 test--0.5820 avg: 0.5820 max: 0.5820 >>> [0.582]\n",
            "\tsplit_size:50\t kurt:  train--0.6320 test--0.5180 avg: 0.5180 max: 0.5180 >>> [0.518]\n",
            "\tsplit_size:60\t kurt:  train--0.6070 test--0.5410 avg: 0.5410 max: 0.5410 >>> [0.541]\n",
            "\tsplit_size:70\t kurt:  train--0.5920 test--0.5610 avg: 0.5610 max: 0.5610 >>> [0.561]\n",
            "\tsplit_size:80\t kurt:  train--0.5950 test--0.5230 avg: 0.5230 max: 0.5230 >>> [0.523]\n",
            "\tsplit_size:90\t kurt:  train--0.5990 test--0.4730 avg: 0.4730 max: 0.4730 >>> [0.473]\n"
          ]
        },
        {
          "metadata": {
            "tags": null
          },
          "name": "stderr",
          "output_type": "stream",
          "text": [
            "100%|██████████| 544/544 [00:33<00:00, 16.04it/s]\n"
          ]
        },
        {
          "metadata": {
            "tags": null
          },
          "name": "stdout",
          "output_type": "stream",
          "text": [
            "\n",
            "window_size: 100\n",
            "\tsplit_size:50\t mean:  train--0.7170 test--0.6990 avg: 0.6990 max: 0.6990 >>> [0.699]\n",
            "\tsplit_size:60\t mean:  train--0.7090 test--0.7060 avg: 0.7060 max: 0.7060 >>> [0.706]\n",
            "\tsplit_size:70\t mean:  train--0.7050 test--0.6770 avg: 0.6770 max: 0.6770 >>> [0.677]\n",
            "\tsplit_size:80\t mean:  train--0.7010 test--0.6970 avg: 0.6970 max: 0.6970 >>> [0.697]\n",
            "\tsplit_size:90\t mean:  train--0.7080 test--0.7090 avg: 0.7090 max: 0.7090 >>> [0.709]\n",
            "\tsplit_size:50\t var_:  train--0.6910 test--0.6320 avg: 0.6320 max: 0.6320 >>> [0.632]\n",
            "\tsplit_size:60\t var_:  train--0.6930 test--0.6330 avg: 0.6330 max: 0.6330 >>> [0.633]\n",
            "\tsplit_size:70\t var_:  train--0.7130 test--0.5610 avg: 0.5610 max: 0.5610 >>> [0.561]\n",
            "\tsplit_size:80\t var_:  train--0.6850 test--0.5600 avg: 0.5600 max: 0.5600 >>> [0.56]\n",
            "\tsplit_size:90\t var_:  train--0.6950 test--0.5640 avg: 0.5640 max: 0.5640 >>> [0.564]\n",
            "\tsplit_size:50\t std_:  train--0.6990 test--0.6800 avg: 0.6800 max: 0.6800 >>> [0.68]\n",
            "\tsplit_size:60\t std_:  train--0.7090 test--0.6700 avg: 0.6700 max: 0.6700 >>> [0.67]\n",
            "\tsplit_size:70\t std_:  train--0.7050 test--0.6340 avg: 0.6340 max: 0.6340 >>> [0.634]\n",
            "\tsplit_size:80\t std_:  train--0.6920 test--0.6510 avg: 0.6510 max: 0.6510 >>> [0.651]\n",
            "\tsplit_size:90\t std_:  train--0.6990 test--0.6910 avg: 0.6910 max: 0.6910 >>> [0.691]\n",
            "\tsplit_size:50\t skew:  train--0.8050 test--0.6070 avg: 0.6070 max: 0.6070 >>> [0.607]\n",
            "\tsplit_size:60\t skew:  train--0.8280 test--0.6420 avg: 0.6420 max: 0.6420 >>> [0.642]\n",
            "\tsplit_size:70\t skew:  train--0.8390 test--0.5670 avg: 0.5670 max: 0.5670 >>> [0.567]\n",
            "\tsplit_size:80\t skew:  train--0.8210 test--0.6880 avg: 0.6880 max: 0.6880 >>> [0.688]\n",
            "\tsplit_size:90\t skew:  train--0.8430 test--0.7090 avg: 0.7090 max: 0.7090 >>> [0.709]\n",
            "\tsplit_size:50\t kurt:  train--0.7870 test--0.5440 avg: 0.5440 max: 0.5440 >>> [0.544]\n",
            "\tsplit_size:60\t kurt:  train--0.7360 test--0.6280 avg: 0.6280 max: 0.6280 >>> [0.628]\n",
            "\tsplit_size:70\t kurt:  train--0.7390 test--0.6460 avg: 0.6460 max: 0.6460 >>> [0.646]\n",
            "\tsplit_size:80\t kurt:  train--0.7450 test--0.6610 avg: 0.6610 max: 0.6610 >>> [0.661]\n",
            "\tsplit_size:90\t kurt:  train--0.7630 test--0.6910 avg: 0.6910 max: 0.6910 >>> [0.691]\n"
          ]
        },
        {
          "metadata": {
            "tags": null
          },
          "name": "stderr",
          "output_type": "stream",
          "text": [
            "100%|██████████| 544/544 [05:23<00:00,  1.68it/s]\n"
          ]
        },
        {
          "metadata": {
            "tags": null
          },
          "name": "stdout",
          "output_type": "stream",
          "text": [
            "\n",
            "window_size: 10\n",
            "\tsplit_size:50\t mean:  train--0.9260 test--0.8160 avg: 0.8160 max: 0.8160 >>> [0.816]\n",
            "\tsplit_size:60\t mean:  train--0.9260 test--0.8440 avg: 0.8440 max: 0.8440 >>> [0.844]\n",
            "\tsplit_size:70\t mean:  train--0.9390 test--0.8660 avg: 0.8660 max: 0.8660 >>> [0.866]\n",
            "\tsplit_size:80\t mean:  train--0.9490 test--0.8440 avg: 0.8440 max: 0.8440 >>> [0.844]\n",
            "\tsplit_size:90\t mean:  train--0.9590 test--0.8000 avg: 0.8000 max: 0.8000 >>> [0.8]\n",
            "\tsplit_size:50\t var_:  train--0.8600 test--0.6400 avg: 0.6400 max: 0.6400 >>> [0.64]\n",
            "\tsplit_size:60\t var_:  train--0.8590 test--0.6190 avg: 0.6190 max: 0.6190 >>> [0.619]\n",
            "\tsplit_size:70\t var_:  train--0.8550 test--0.6590 avg: 0.6590 max: 0.6590 >>> [0.659]\n",
            "\tsplit_size:80\t var_:  train--0.8510 test--0.6510 avg: 0.6510 max: 0.6510 >>> [0.651]\n",
            "\tsplit_size:90\t var_:  train--0.8610 test--0.6550 avg: 0.6550 max: 0.6550 >>> [0.655]\n",
            "\tsplit_size:50\t std_:  train--0.9010 test--0.6430 avg: 0.6430 max: 0.6430 >>> [0.643]\n",
            "\tsplit_size:60\t std_:  train--0.8770 test--0.6420 avg: 0.6420 max: 0.6420 >>> [0.642]\n",
            "\tsplit_size:70\t std_:  train--0.8820 test--0.6400 avg: 0.6400 max: 0.6400 >>> [0.64]\n",
            "\tsplit_size:80\t std_:  train--0.8780 test--0.6510 avg: 0.6510 max: 0.6510 >>> [0.651]\n",
            "\tsplit_size:90\t std_:  train--0.8790 test--0.5820 avg: 0.5820 max: 0.5820 >>> [0.582]\n",
            "\tsplit_size:50\t skew:  train--1.0000 test--0.7170 avg: 0.7170 max: 0.7170 >>> [0.717]\n",
            "\tsplit_size:60\t skew:  train--1.0000 test--0.7250 avg: 0.7250 max: 0.7250 >>> [0.725]\n",
            "\tsplit_size:70\t skew:  train--0.9970 test--0.7260 avg: 0.7260 max: 0.7260 >>> [0.726]\n",
            "\tsplit_size:80\t skew:  train--0.9980 test--0.6970 avg: 0.6970 max: 0.6970 >>> [0.697]\n",
            "\tsplit_size:90\t skew:  train--0.9980 test--0.6910 avg: 0.6910 max: 0.6910 >>> [0.691]\n",
            "\tsplit_size:50\t kurt:  train--1.0000 test--0.5590 avg: 0.5590 max: 0.5590 >>> [0.559]\n",
            "\tsplit_size:60\t kurt:  train--1.0000 test--0.5960 avg: 0.5960 max: 0.5960 >>> [0.596]\n",
            "\tsplit_size:70\t kurt:  train--1.0000 test--0.6100 avg: 0.6100 max: 0.6100 >>> [0.61]\n",
            "\tsplit_size:80\t kurt:  train--1.0000 test--0.5690 avg: 0.5690 max: 0.5690 >>> [0.569]\n",
            "\tsplit_size:90\t kurt:  train--1.0000 test--0.6180 avg: 0.6180 max: 0.6180 >>> [0.618]\n"
          ]
        },
        {
          "metadata": {
            "tags": null
          },
          "name": "stderr",
          "output_type": "stream",
          "text": [
            "100%|██████████| 544/544 [00:00<00:00, 709.56it/s]\n"
          ]
        },
        {
          "metadata": {
            "tags": null
          },
          "name": "stdout",
          "output_type": "stream",
          "text": [
            "\n",
            "window_size: 4096\n",
            "\tsplit_size:50\t mean:  train--0.6400 test--0.6510 avg: 0.6510 max: 0.6510 >>> [0.651]\n",
            "\tsplit_size:60\t mean:  train--0.6660 test--0.6470 avg: 0.6470 max: 0.6470 >>> [0.647]\n",
            "\tsplit_size:70\t mean:  train--0.6680 test--0.6340 avg: 0.6340 max: 0.6340 >>> [0.634]\n",
            "\tsplit_size:80\t mean:  train--0.6510 test--0.6880 avg: 0.6880 max: 0.6880 >>> [0.688]\n",
            "\tsplit_size:90\t mean:  train--0.6500 test--0.7270 avg: 0.7270 max: 0.7270 >>> [0.727]\n",
            "\tsplit_size:50\t var_:  train--0.5740 test--0.4850 avg: 0.4850 max: 0.4850 >>> [0.485]\n",
            "\tsplit_size:60\t var_:  train--0.5710 test--0.4680 avg: 0.4680 max: 0.4680 >>> [0.468]\n",
            "\tsplit_size:70\t var_:  train--0.6000 test--0.6040 avg: 0.6040 max: 0.6040 >>> [0.604]\n",
            "\tsplit_size:80\t var_:  train--0.5820 test--0.6330 avg: 0.6330 max: 0.6330 >>> [0.633]\n",
            "\tsplit_size:90\t var_:  train--0.5870 test--0.7090 avg: 0.7090 max: 0.7090 >>> [0.709]\n",
            "\tsplit_size:50\t std_:  train--0.5740 test--0.4850 avg: 0.4850 max: 0.4850 >>> [0.485]\n",
            "\tsplit_size:60\t std_:  train--0.6320 test--0.5830 avg: 0.5830 max: 0.5830 >>> [0.583]\n",
            "\tsplit_size:70\t std_:  train--0.6260 test--0.6590 avg: 0.6590 max: 0.6590 >>> [0.659]\n",
            "\tsplit_size:80\t std_:  train--0.6410 test--0.6700 avg: 0.6700 max: 0.6700 >>> [0.67]\n",
            "\tsplit_size:90\t std_:  train--0.6480 test--0.7090 avg: 0.7090 max: 0.7090 >>> [0.709]\n",
            "\tsplit_size:50\t skew:  train--0.6840 test--0.6510 avg: 0.6510 max: 0.6510 >>> [0.651]\n",
            "\tsplit_size:60\t skew:  train--0.6630 test--0.6380 avg: 0.6380 max: 0.6380 >>> [0.638]\n",
            "\tsplit_size:70\t skew:  train--0.6630 test--0.7130 avg: 0.7130 max: 0.7130 >>> [0.713]\n",
            "\tsplit_size:80\t skew:  train--0.6780 test--0.7340 avg: 0.7340 max: 0.7340 >>> [0.734]\n",
            "\tsplit_size:90\t skew:  train--0.6710 test--0.7270 avg: 0.7270 max: 0.7270 >>> [0.727]\n",
            "\tsplit_size:50\t kurt:  train--0.6180 test--0.4960 avg: 0.4960 max: 0.4960 >>> [0.496]\n",
            "\tsplit_size:60\t kurt:  train--0.6100 test--0.4950 avg: 0.4950 max: 0.4950 >>> [0.495]\n",
            "\tsplit_size:70\t kurt:  train--0.5920 test--0.6650 avg: 0.6650 max: 0.6650 >>> [0.665]\n",
            "\tsplit_size:80\t kurt:  train--0.6180 test--0.6880 avg: 0.6880 max: 0.6880 >>> [0.688]\n",
            "\tsplit_size:90\t kurt:  train--0.6420 test--0.6180 avg: 0.6180 max: 0.6180 >>> [0.618]\n"
          ]
        },
        {
          "metadata": {
            "tags": null
          },
          "name": "stderr",
          "output_type": "stream",
          "text": [
            "100%|██████████| 544/544 [00:01<00:00, 368.23it/s]\n"
          ]
        },
        {
          "metadata": {
            "tags": null
          },
          "name": "stdout",
          "output_type": "stream",
          "text": [
            "\n",
            "window_size: 2048\n",
            "\tsplit_size:50\t mean:  train--0.7100 test--0.6580 avg: 0.6580 max: 0.6580 >>> [0.658]\n",
            "\tsplit_size:60\t mean:  train--0.7240 test--0.6610 avg: 0.6610 max: 0.6610 >>> [0.661]\n",
            "\tsplit_size:70\t mean:  train--0.7050 test--0.7070 avg: 0.7070 max: 0.7070 >>> [0.707]\n",
            "\tsplit_size:80\t mean:  train--0.7030 test--0.7710 avg: 0.7710 max: 0.7710 >>> [0.771]\n",
            "\tsplit_size:90\t mean:  train--0.7030 test--0.7450 avg: 0.7450 max: 0.7450 >>> [0.745]\n",
            "\tsplit_size:50\t var_:  train--0.5990 test--0.5810 avg: 0.5810 max: 0.5810 >>> [0.581]\n",
            "\tsplit_size:60\t var_:  train--0.6170 test--0.6010 avg: 0.6010 max: 0.6010 >>> [0.601]\n",
            "\tsplit_size:70\t var_:  train--0.6000 test--0.6160 avg: 0.6160 max: 0.6160 >>> [0.616]\n",
            "\tsplit_size:80\t var_:  train--0.6020 test--0.6510 avg: 0.6510 max: 0.6510 >>> [0.651]\n",
            "\tsplit_size:90\t var_:  train--0.6110 test--0.6180 avg: 0.6180 max: 0.6180 >>> [0.618]\n",
            "\tsplit_size:50\t std_:  train--0.6760 test--0.6250 avg: 0.6250 max: 0.6250 >>> [0.625]\n",
            "\tsplit_size:60\t std_:  train--0.6350 test--0.6510 avg: 0.6510 max: 0.6510 >>> [0.651]\n",
            "\tsplit_size:70\t std_:  train--0.6550 test--0.6590 avg: 0.6590 max: 0.6590 >>> [0.659]\n",
            "\tsplit_size:80\t std_:  train--0.6460 test--0.7060 avg: 0.7060 max: 0.7060 >>> [0.706]\n",
            "\tsplit_size:90\t std_:  train--0.6540 test--0.7090 avg: 0.7090 max: 0.7090 >>> [0.709]\n",
            "\tsplit_size:50\t skew:  train--0.6290 test--0.5740 avg: 0.5740 max: 0.5740 >>> [0.574]\n",
            "\tsplit_size:60\t skew:  train--0.6500 test--0.5640 avg: 0.5640 max: 0.5640 >>> [0.564]\n",
            "\tsplit_size:70\t skew:  train--0.6260 test--0.5850 avg: 0.5850 max: 0.5850 >>> [0.585]\n",
            "\tsplit_size:80\t skew:  train--0.6320 test--0.6150 avg: 0.6150 max: 0.6150 >>> [0.615]\n",
            "\tsplit_size:90\t skew:  train--0.6280 test--0.5820 avg: 0.5820 max: 0.5820 >>> [0.582]\n",
            "\tsplit_size:50\t kurt:  train--0.5990 test--0.5660 avg: 0.5660 max: 0.5660 >>> [0.566]\n",
            "\tsplit_size:60\t kurt:  train--0.5980 test--0.5600 avg: 0.5600 max: 0.5600 >>> [0.56]\n",
            "\tsplit_size:70\t kurt:  train--0.6130 test--0.5550 avg: 0.5550 max: 0.5550 >>> [0.555]\n",
            "\tsplit_size:80\t kurt:  train--0.6090 test--0.5230 avg: 0.5230 max: 0.5230 >>> [0.523]\n",
            "\tsplit_size:90\t kurt:  train--0.5950 test--0.5270 avg: 0.5270 max: 0.5270 >>> [0.527]\n"
          ]
        },
        {
          "metadata": {
            "tags": null
          },
          "name": "stderr",
          "output_type": "stream",
          "text": [
            "100%|██████████| 544/544 [00:02<00:00, 185.47it/s]\n"
          ]
        },
        {
          "metadata": {
            "tags": null
          },
          "name": "stdout",
          "output_type": "stream",
          "text": [
            "\n",
            "window_size: 1024\n",
            "\tsplit_size:50\t mean:  train--0.6650 test--0.6800 avg: 0.6800 max: 0.6800 >>> [0.68]\n",
            "\tsplit_size:60\t mean:  train--0.6720 test--0.6930 avg: 0.6930 max: 0.6930 >>> [0.693]\n",
            "\tsplit_size:70\t mean:  train--0.6840 test--0.6830 avg: 0.6830 max: 0.6830 >>> [0.683]\n",
            "\tsplit_size:80\t mean:  train--0.6850 test--0.7160 avg: 0.7160 max: 0.7160 >>> [0.716]\n",
            "\tsplit_size:90\t mean:  train--0.6990 test--0.7090 avg: 0.7090 max: 0.7090 >>> [0.709]\n",
            "\tsplit_size:50\t var_:  train--0.5850 test--0.6250 avg: 0.6250 max: 0.6250 >>> [0.625]\n",
            "\tsplit_size:60\t var_:  train--0.5800 test--0.6060 avg: 0.6060 max: 0.6060 >>> [0.606]\n",
            "\tsplit_size:70\t var_:  train--0.6050 test--0.6100 avg: 0.6100 max: 0.6100 >>> [0.61]\n",
            "\tsplit_size:80\t var_:  train--0.6000 test--0.6060 avg: 0.6060 max: 0.6060 >>> [0.606]\n",
            "\tsplit_size:90\t var_:  train--0.5950 test--0.6180 avg: 0.6180 max: 0.6180 >>> [0.618]\n",
            "\tsplit_size:50\t std_:  train--0.6510 test--0.6840 avg: 0.6840 max: 0.6840 >>> [0.684]\n",
            "\tsplit_size:60\t std_:  train--0.6500 test--0.7110 avg: 0.7110 max: 0.7110 >>> [0.711]\n",
            "\tsplit_size:70\t std_:  train--0.6630 test--0.7070 avg: 0.7070 max: 0.7070 >>> [0.707]\n",
            "\tsplit_size:80\t std_:  train--0.6620 test--0.7430 avg: 0.7430 max: 0.7430 >>> [0.743]\n",
            "\tsplit_size:90\t std_:  train--0.6770 test--0.6550 avg: 0.6550 max: 0.6550 >>> [0.655]\n",
            "\tsplit_size:50\t skew:  train--0.6250 test--0.5960 avg: 0.5960 max: 0.5960 >>> [0.596]\n",
            "\tsplit_size:60\t skew:  train--0.5740 test--0.5960 avg: 0.5960 max: 0.5960 >>> [0.596]\n",
            "\tsplit_size:70\t skew:  train--0.5820 test--0.5490 avg: 0.5490 max: 0.5490 >>> [0.549]\n",
            "\tsplit_size:80\t skew:  train--0.6210 test--0.5960 avg: 0.5960 max: 0.5960 >>> [0.596]\n",
            "\tsplit_size:90\t skew:  train--0.6420 test--0.5450 avg: 0.5450 max: 0.5450 >>> [0.545]\n",
            "\tsplit_size:50\t kurt:  train--0.5370 test--0.5220 avg: 0.5220 max: 0.5220 >>> [0.522]\n",
            "\tsplit_size:60\t kurt:  train--0.5400 test--0.5320 avg: 0.5320 max: 0.5320 >>> [0.532]\n",
            "\tsplit_size:70\t kurt:  train--0.5710 test--0.4880 avg: 0.4880 max: 0.4880 >>> [0.488]\n",
            "\tsplit_size:80\t kurt:  train--0.5700 test--0.4500 avg: 0.4500 max: 0.4500 >>> [0.45]\n",
            "\tsplit_size:90\t kurt:  train--0.5500 test--0.4180 avg: 0.4180 max: 0.4180 >>> [0.418]\n"
          ]
        },
        {
          "metadata": {
            "tags": null
          },
          "name": "stderr",
          "output_type": "stream",
          "text": [
            "100%|██████████| 544/544 [00:06<00:00, 89.14it/s]\n"
          ]
        },
        {
          "metadata": {
            "tags": null
          },
          "name": "stdout",
          "output_type": "stream",
          "text": [
            "\n",
            "window_size: 512\n",
            "\tsplit_size:50\t mean:  train--0.6730 test--0.7350 avg: 0.7350 max: 0.7350 >>> [0.735]\n",
            "\tsplit_size:60\t mean:  train--0.6750 test--0.7160 avg: 0.7160 max: 0.7160 >>> [0.716]\n",
            "\tsplit_size:70\t mean:  train--0.6890 test--0.7200 avg: 0.7200 max: 0.7200 >>> [0.72]\n",
            "\tsplit_size:80\t mean:  train--0.6990 test--0.7160 avg: 0.7160 max: 0.7160 >>> [0.716]\n",
            "\tsplit_size:90\t mean:  train--0.6970 test--0.7270 avg: 0.7270 max: 0.7270 >>> [0.727]\n",
            "\tsplit_size:50\t var_:  train--0.6180 test--0.6760 avg: 0.6760 max: 0.6760 >>> [0.676]\n",
            "\tsplit_size:60\t var_:  train--0.6070 test--0.6330 avg: 0.6330 max: 0.6330 >>> [0.633]\n",
            "\tsplit_size:70\t var_:  train--0.6390 test--0.6280 avg: 0.6280 max: 0.6280 >>> [0.628]\n",
            "\tsplit_size:80\t var_:  train--0.6230 test--0.6330 avg: 0.6330 max: 0.6330 >>> [0.633]\n",
            "\tsplit_size:90\t var_:  train--0.6380 test--0.6550 avg: 0.6550 max: 0.6550 >>> [0.655]\n",
            "\tsplit_size:50\t std_:  train--0.6650 test--0.7170 avg: 0.7170 max: 0.7170 >>> [0.717]\n",
            "\tsplit_size:60\t std_:  train--0.6690 test--0.7160 avg: 0.7160 max: 0.7160 >>> [0.716]\n",
            "\tsplit_size:70\t std_:  train--0.6840 test--0.6710 avg: 0.6710 max: 0.6710 >>> [0.671]\n",
            "\tsplit_size:80\t std_:  train--0.6760 test--0.6790 avg: 0.6790 max: 0.6790 >>> [0.679]\n",
            "\tsplit_size:90\t std_:  train--0.6690 test--0.7270 avg: 0.7270 max: 0.7270 >>> [0.727]\n",
            "\tsplit_size:50\t skew:  train--0.6620 test--0.6180 avg: 0.6180 max: 0.6180 >>> [0.618]\n",
            "\tsplit_size:60\t skew:  train--0.6870 test--0.6650 avg: 0.6650 max: 0.6650 >>> [0.665]\n",
            "\tsplit_size:70\t skew:  train--0.6970 test--0.6830 avg: 0.6830 max: 0.6830 >>> [0.683]\n",
            "\tsplit_size:80\t skew:  train--0.6760 test--0.6970 avg: 0.6970 max: 0.6970 >>> [0.697]\n",
            "\tsplit_size:90\t skew:  train--0.6950 test--0.5640 avg: 0.5640 max: 0.5640 >>> [0.564]\n",
            "\tsplit_size:50\t kurt:  train--0.5990 test--0.5220 avg: 0.5220 max: 0.5220 >>> [0.522]\n",
            "\tsplit_size:60\t kurt:  train--0.6130 test--0.5320 avg: 0.5320 max: 0.5320 >>> [0.532]\n",
            "\tsplit_size:70\t kurt:  train--0.5790 test--0.5430 avg: 0.5430 max: 0.5430 >>> [0.543]\n",
            "\tsplit_size:80\t kurt:  train--0.5720 test--0.5690 avg: 0.5690 max: 0.5690 >>> [0.569]\n",
            "\tsplit_size:90\t kurt:  train--0.5790 test--0.5640 avg: 0.5640 max: 0.5640 >>> [0.564]\n"
          ]
        },
        {
          "metadata": {
            "tags": null
          },
          "name": "stderr",
          "output_type": "stream",
          "text": [
            "100%|██████████| 544/544 [00:13<00:00, 40.38it/s]\n"
          ]
        },
        {
          "metadata": {
            "tags": null
          },
          "name": "stdout",
          "output_type": "stream",
          "text": [
            "\n",
            "window_size: 256\n",
            "\tsplit_size:50\t mean:  train--0.7280 test--0.6320 avg: 0.6320 max: 0.6320 >>> [0.632]\n",
            "\tsplit_size:60\t mean:  train--0.7360 test--0.6150 avg: 0.6150 max: 0.6150 >>> [0.615]\n",
            "\tsplit_size:70\t mean:  train--0.6920 test--0.6830 avg: 0.6830 max: 0.6830 >>> [0.683]\n",
            "\tsplit_size:80\t mean:  train--0.7060 test--0.6510 avg: 0.6510 max: 0.6510 >>> [0.651]\n",
            "\tsplit_size:90\t mean:  train--0.6990 test--0.6730 avg: 0.6730 max: 0.6730 >>> [0.673]\n",
            "\tsplit_size:50\t var_:  train--0.6620 test--0.5400 avg: 0.5400 max: 0.5400 >>> [0.54]\n",
            "\tsplit_size:60\t var_:  train--0.6530 test--0.5640 avg: 0.5640 max: 0.5640 >>> [0.564]\n",
            "\tsplit_size:70\t var_:  train--0.6390 test--0.5610 avg: 0.5610 max: 0.5610 >>> [0.561]\n",
            "\tsplit_size:80\t var_:  train--0.6440 test--0.5870 avg: 0.5870 max: 0.5870 >>> [0.587]\n",
            "\tsplit_size:90\t var_:  train--0.6400 test--0.6360 avg: 0.6360 max: 0.6360 >>> [0.636]\n",
            "\tsplit_size:50\t std_:  train--0.7020 test--0.6030 avg: 0.6030 max: 0.6030 >>> [0.603]\n",
            "\tsplit_size:60\t std_:  train--0.7090 test--0.6280 avg: 0.6280 max: 0.6280 >>> [0.628]\n",
            "\tsplit_size:70\t std_:  train--0.6840 test--0.6280 avg: 0.6280 max: 0.6280 >>> [0.628]\n",
            "\tsplit_size:80\t std_:  train--0.6940 test--0.6330 avg: 0.6330 max: 0.6330 >>> [0.633]\n",
            "\tsplit_size:90\t std_:  train--0.6910 test--0.6180 avg: 0.6180 max: 0.6180 >>> [0.618]\n",
            "\tsplit_size:50\t skew:  train--0.7390 test--0.6100 avg: 0.6100 max: 0.6100 >>> [0.61]\n",
            "\tsplit_size:60\t skew:  train--0.7180 test--0.5830 avg: 0.5830 max: 0.5830 >>> [0.583]\n",
            "\tsplit_size:70\t skew:  train--0.7370 test--0.5730 avg: 0.5730 max: 0.5730 >>> [0.573]\n",
            "\tsplit_size:80\t skew:  train--0.7170 test--0.6610 avg: 0.6610 max: 0.6610 >>> [0.661]\n",
            "\tsplit_size:90\t skew:  train--0.7280 test--0.6360 avg: 0.6360 max: 0.6360 >>> [0.636]\n",
            "\tsplit_size:50\t kurt:  train--0.6800 test--0.5620 avg: 0.5620 max: 0.5620 >>> [0.562]\n",
            "\tsplit_size:60\t kurt:  train--0.6780 test--0.5320 avg: 0.5320 max: 0.5320 >>> [0.532]\n",
            "\tsplit_size:70\t kurt:  train--0.6580 test--0.5060 avg: 0.5060 max: 0.5060 >>> [0.506]\n",
            "\tsplit_size:80\t kurt:  train--0.6670 test--0.5690 avg: 0.5690 max: 0.5690 >>> [0.569]\n",
            "\tsplit_size:90\t kurt:  train--0.6690 test--0.6180 avg: 0.6180 max: 0.6180 >>> [0.618]\n"
          ]
        },
        {
          "metadata": {
            "tags": null
          },
          "name": "stderr",
          "output_type": "stream",
          "text": [
            "100%|██████████| 544/544 [00:27<00:00, 19.80it/s]\n"
          ]
        },
        {
          "metadata": {
            "tags": null
          },
          "name": "stdout",
          "output_type": "stream",
          "text": [
            "\n",
            "window_size: 128\n",
            "\tsplit_size:50\t mean:  train--0.7020 test--0.7060 avg: 0.7060 max: 0.7060 >>> [0.706]\n",
            "\tsplit_size:60\t mean:  train--0.6990 test--0.6880 avg: 0.6880 max: 0.6880 >>> [0.688]\n",
            "\tsplit_size:70\t mean:  train--0.7000 test--0.7010 avg: 0.7010 max: 0.7010 >>> [0.701]\n",
            "\tsplit_size:80\t mean:  train--0.7010 test--0.6970 avg: 0.6970 max: 0.6970 >>> [0.697]\n",
            "\tsplit_size:90\t mean:  train--0.7030 test--0.6910 avg: 0.6910 max: 0.6910 >>> [0.691]\n",
            "\tsplit_size:50\t var_:  train--0.6880 test--0.6470 avg: 0.6470 max: 0.6470 >>> [0.647]\n",
            "\tsplit_size:60\t var_:  train--0.6810 test--0.6190 avg: 0.6190 max: 0.6190 >>> [0.619]\n",
            "\tsplit_size:70\t var_:  train--0.6610 test--0.5790 avg: 0.5790 max: 0.5790 >>> [0.579]\n",
            "\tsplit_size:80\t var_:  train--0.6760 test--0.5960 avg: 0.5960 max: 0.5960 >>> [0.596]\n",
            "\tsplit_size:90\t var_:  train--0.6770 test--0.5820 avg: 0.5820 max: 0.5820 >>> [0.582]\n",
            "\tsplit_size:50\t std_:  train--0.7430 test--0.6910 avg: 0.6910 max: 0.6910 >>> [0.691]\n",
            "\tsplit_size:60\t std_:  train--0.7210 test--0.6650 avg: 0.6650 max: 0.6650 >>> [0.665]\n",
            "\tsplit_size:70\t std_:  train--0.6970 test--0.6770 avg: 0.6770 max: 0.6770 >>> [0.677]\n",
            "\tsplit_size:80\t std_:  train--0.7010 test--0.6610 avg: 0.6610 max: 0.6610 >>> [0.661]\n",
            "\tsplit_size:90\t std_:  train--0.6990 test--0.6730 avg: 0.6730 max: 0.6730 >>> [0.673]\n",
            "\tsplit_size:50\t skew:  train--0.8090 test--0.6400 avg: 0.6400 max: 0.6400 >>> [0.64]\n",
            "\tsplit_size:60\t skew:  train--0.8130 test--0.6560 avg: 0.6560 max: 0.6560 >>> [0.656]\n",
            "\tsplit_size:70\t skew:  train--0.8450 test--0.6400 avg: 0.6400 max: 0.6400 >>> [0.64]\n",
            "\tsplit_size:80\t skew:  train--0.8530 test--0.6240 avg: 0.6240 max: 0.6240 >>> [0.624]\n",
            "\tsplit_size:90\t skew:  train--0.8450 test--0.6550 avg: 0.6550 max: 0.6550 >>> [0.655]\n",
            "\tsplit_size:50\t kurt:  train--0.7210 test--0.5480 avg: 0.5480 max: 0.5480 >>> [0.548]\n",
            "\tsplit_size:60\t kurt:  train--0.7330 test--0.5600 avg: 0.5600 max: 0.5600 >>> [0.56]\n",
            "\tsplit_size:70\t kurt:  train--0.7390 test--0.5550 avg: 0.5550 max: 0.5550 >>> [0.555]\n",
            "\tsplit_size:80\t kurt:  train--0.7540 test--0.5230 avg: 0.5230 max: 0.5230 >>> [0.523]\n",
            "\tsplit_size:90\t kurt:  train--0.7690 test--0.5820 avg: 0.5820 max: 0.5820 >>> [0.582]\n"
          ]
        },
        {
          "metadata": {
            "tags": null
          },
          "name": "stderr",
          "output_type": "stream",
          "text": [
            "100%|██████████| 544/544 [00:55<00:00,  9.85it/s]\n"
          ]
        },
        {
          "metadata": {
            "tags": null
          },
          "name": "stdout",
          "output_type": "stream",
          "text": [
            "\n",
            "window_size: 64\n",
            "\tsplit_size:50\t mean:  train--0.7500 test--0.6620 avg: 0.6620 max: 0.6620 >>> [0.662]\n",
            "\tsplit_size:60\t mean:  train--0.7330 test--0.6830 avg: 0.6830 max: 0.6830 >>> [0.683]\n",
            "\tsplit_size:70\t mean:  train--0.7080 test--0.6890 avg: 0.6890 max: 0.6890 >>> [0.689]\n",
            "\tsplit_size:80\t mean:  train--0.7100 test--0.6880 avg: 0.6880 max: 0.6880 >>> [0.688]\n",
            "\tsplit_size:90\t mean:  train--0.7140 test--0.7640 avg: 0.7640 max: 0.7640 >>> [0.764]\n",
            "\tsplit_size:50\t var_:  train--0.7500 test--0.6100 avg: 0.6100 max: 0.6100 >>> [0.61]\n",
            "\tsplit_size:60\t var_:  train--0.7020 test--0.5690 avg: 0.5690 max: 0.5690 >>> [0.569]\n",
            "\tsplit_size:70\t var_:  train--0.7110 test--0.5610 avg: 0.5610 max: 0.5610 >>> [0.561]\n",
            "\tsplit_size:80\t var_:  train--0.7060 test--0.5410 avg: 0.5410 max: 0.5410 >>> [0.541]\n",
            "\tsplit_size:90\t var_:  train--0.6990 test--0.6000 avg: 0.6000 max: 0.6000 >>> [0.6]\n",
            "\tsplit_size:50\t std_:  train--0.7650 test--0.6540 avg: 0.6540 max: 0.6540 >>> [0.654]\n",
            "\tsplit_size:60\t std_:  train--0.7210 test--0.6470 avg: 0.6470 max: 0.6470 >>> [0.647]\n",
            "\tsplit_size:70\t std_:  train--0.7210 test--0.6650 avg: 0.6650 max: 0.6650 >>> [0.665]\n",
            "\tsplit_size:80\t std_:  train--0.7100 test--0.6510 avg: 0.6510 max: 0.6510 >>> [0.651]\n",
            "\tsplit_size:90\t std_:  train--0.7200 test--0.6730 avg: 0.6730 max: 0.6730 >>> [0.673]\n",
            "\tsplit_size:50\t skew:  train--0.8900 test--0.6510 avg: 0.6510 max: 0.6510 >>> [0.651]\n",
            "\tsplit_size:60\t skew:  train--0.8930 test--0.6880 avg: 0.6880 max: 0.6880 >>> [0.688]\n",
            "\tsplit_size:70\t skew:  train--0.8820 test--0.6830 avg: 0.6830 max: 0.6830 >>> [0.683]\n",
            "\tsplit_size:80\t skew:  train--0.8970 test--0.7340 avg: 0.7340 max: 0.7340 >>> [0.734]\n",
            "\tsplit_size:90\t skew:  train--0.9040 test--0.6730 avg: 0.6730 max: 0.6730 >>> [0.673]\n",
            "\tsplit_size:50\t kurt:  train--0.8750 test--0.6320 avg: 0.6320 max: 0.6320 >>> [0.632]\n",
            "\tsplit_size:60\t kurt:  train--0.8740 test--0.6190 avg: 0.6190 max: 0.6190 >>> [0.619]\n",
            "\tsplit_size:70\t kurt:  train--0.8630 test--0.6520 avg: 0.6520 max: 0.6520 >>> [0.652]\n",
            "\tsplit_size:80\t kurt:  train--0.8550 test--0.6700 avg: 0.6700 max: 0.6700 >>> [0.67]\n",
            "\tsplit_size:90\t kurt:  train--0.8670 test--0.5820 avg: 0.5820 max: 0.5820 >>> [0.582]\n"
          ]
        },
        {
          "metadata": {
            "tags": null
          },
          "name": "stderr",
          "output_type": "stream",
          "text": [
            "100%|██████████| 544/544 [01:47<00:00,  5.08it/s]\n"
          ]
        },
        {
          "metadata": {
            "tags": null
          },
          "name": "stdout",
          "output_type": "stream",
          "text": [
            "\n",
            "window_size: 32\n",
            "\tsplit_size:50\t mean:  train--0.7790 test--0.6470 avg: 0.6470 max: 0.6470 >>> [0.647]\n",
            "\tsplit_size:60\t mean:  train--0.7700 test--0.6830 avg: 0.6830 max: 0.6830 >>> [0.683]\n",
            "\tsplit_size:70\t mean:  train--0.7610 test--0.6890 avg: 0.6890 max: 0.6890 >>> [0.689]\n",
            "\tsplit_size:80\t mean:  train--0.7520 test--0.6240 avg: 0.6240 max: 0.6240 >>> [0.624]\n",
            "\tsplit_size:90\t mean:  train--0.7340 test--0.6730 avg: 0.6730 max: 0.6730 >>> [0.673]\n",
            "\tsplit_size:50\t var_:  train--0.7720 test--0.6180 avg: 0.6180 max: 0.6180 >>> [0.618]\n",
            "\tsplit_size:60\t var_:  train--0.7670 test--0.6060 avg: 0.6060 max: 0.6060 >>> [0.606]\n",
            "\tsplit_size:70\t var_:  train--0.7680 test--0.6280 avg: 0.6280 max: 0.6280 >>> [0.628]\n",
            "\tsplit_size:80\t var_:  train--0.7770 test--0.5960 avg: 0.5960 max: 0.5960 >>> [0.596]\n",
            "\tsplit_size:90\t var_:  train--0.7830 test--0.5820 avg: 0.5820 max: 0.5820 >>> [0.582]\n",
            "\tsplit_size:50\t std_:  train--0.7760 test--0.6250 avg: 0.6250 max: 0.6250 >>> [0.625]\n",
            "\tsplit_size:60\t std_:  train--0.7790 test--0.6190 avg: 0.6190 max: 0.6190 >>> [0.619]\n",
            "\tsplit_size:70\t std_:  train--0.7760 test--0.6460 avg: 0.6460 max: 0.6460 >>> [0.646]\n",
            "\tsplit_size:80\t std_:  train--0.7790 test--0.5960 avg: 0.5960 max: 0.5960 >>> [0.596]\n",
            "\tsplit_size:90\t std_:  train--0.7480 test--0.6550 avg: 0.6550 max: 0.6550 >>> [0.655]\n",
            "\tsplit_size:50\t skew:  train--0.9630 test--0.6580 avg: 0.6580 max: 0.6580 >>> [0.658]\n",
            "\tsplit_size:60\t skew:  train--0.9720 test--0.6830 avg: 0.6830 max: 0.6830 >>> [0.683]\n",
            "\tsplit_size:70\t skew:  train--0.9710 test--0.6710 avg: 0.6710 max: 0.6710 >>> [0.671]\n",
            "\tsplit_size:80\t skew:  train--0.9630 test--0.6700 avg: 0.6700 max: 0.6700 >>> [0.67]\n",
            "\tsplit_size:90\t skew:  train--0.9750 test--0.6550 avg: 0.6550 max: 0.6550 >>> [0.655]\n",
            "\tsplit_size:50\t kurt:  train--0.9850 test--0.5740 avg: 0.5740 max: 0.5740 >>> [0.574]\n",
            "\tsplit_size:60\t kurt:  train--0.9720 test--0.5280 avg: 0.5280 max: 0.5280 >>> [0.528]\n",
            "\tsplit_size:70\t kurt:  train--0.9630 test--0.5240 avg: 0.5240 max: 0.5240 >>> [0.524]\n",
            "\tsplit_size:80\t kurt:  train--0.9660 test--0.4770 avg: 0.4770 max: 0.4770 >>> [0.477]\n",
            "\tsplit_size:90\t kurt:  train--0.9710 test--0.5640 avg: 0.5640 max: 0.5640 >>> [0.564]\n"
          ]
        },
        {
          "metadata": {
            "tags": null
          },
          "name": "stderr",
          "output_type": "stream",
          "text": [
            "100%|██████████| 544/544 [03:25<00:00,  2.65it/s]\n"
          ]
        },
        {
          "metadata": {
            "tags": null
          },
          "name": "stdout",
          "output_type": "stream",
          "text": [
            "\n",
            "window_size: 16\n",
            "\tsplit_size:50\t mean:  train--0.9230 test--0.8350 avg: 0.8350 max: 0.8350 >>> [0.835]\n",
            "\tsplit_size:60\t mean:  train--0.9290 test--0.8300 avg: 0.8300 max: 0.8300 >>> [0.83]\n",
            "\tsplit_size:70\t mean:  train--0.9160 test--0.8230 avg: 0.8230 max: 0.8230 >>> [0.823]\n",
            "\tsplit_size:80\t mean:  train--0.9080 test--0.8620 avg: 0.8620 max: 0.8620 >>> [0.862]\n",
            "\tsplit_size:90\t mean:  train--0.9180 test--0.9090 avg: 0.9090 max: 0.9090 >>> [0.909]\n",
            "\tsplit_size:50\t var_:  train--0.8240 test--0.6070 avg: 0.6070 max: 0.6070 >>> [0.607]\n",
            "\tsplit_size:60\t var_:  train--0.8160 test--0.6190 avg: 0.6190 max: 0.6190 >>> [0.619]\n",
            "\tsplit_size:70\t var_:  train--0.8210 test--0.5610 avg: 0.5610 max: 0.5610 >>> [0.561]\n",
            "\tsplit_size:80\t var_:  train--0.8300 test--0.5960 avg: 0.5960 max: 0.5960 >>> [0.596]\n",
            "\tsplit_size:90\t var_:  train--0.8260 test--0.6180 avg: 0.6180 max: 0.6180 >>> [0.618]\n",
            "\tsplit_size:50\t std_:  train--0.8530 test--0.7020 avg: 0.7020 max: 0.7020 >>> [0.702]\n",
            "\tsplit_size:60\t std_:  train--0.8650 test--0.7160 avg: 0.7160 max: 0.7160 >>> [0.716]\n",
            "\tsplit_size:70\t std_:  train--0.8610 test--0.6890 avg: 0.6890 max: 0.6890 >>> [0.689]\n",
            "\tsplit_size:80\t std_:  train--0.8600 test--0.7160 avg: 0.7160 max: 0.7160 >>> [0.716]\n",
            "\tsplit_size:90\t std_:  train--0.8630 test--0.8180 avg: 0.8180 max: 0.8180 >>> [0.818]\n",
            "\tsplit_size:50\t skew:  train--1.0000 test--0.8090 avg: 0.8090 max: 0.8090 >>> [0.809]\n",
            "\tsplit_size:60\t skew:  train--0.9970 test--0.8350 avg: 0.8350 max: 0.8350 >>> [0.835]\n",
            "\tsplit_size:70\t skew:  train--0.9970 test--0.8540 avg: 0.8540 max: 0.8540 >>> [0.854]\n",
            "\tsplit_size:80\t skew:  train--0.9910 test--0.8720 avg: 0.8720 max: 0.8720 >>> [0.872]\n",
            "\tsplit_size:90\t skew:  train--0.9900 test--0.9090 avg: 0.9090 max: 0.9090 >>> [0.909]\n",
            "\tsplit_size:50\t kurt:  train--1.0000 test--0.6580 avg: 0.6580 max: 0.6580 >>> [0.658]\n",
            "\tsplit_size:60\t kurt:  train--1.0000 test--0.6510 avg: 0.6510 max: 0.6510 >>> [0.651]\n",
            "\tsplit_size:70\t kurt:  train--1.0000 test--0.6340 avg: 0.6340 max: 0.6340 >>> [0.634]\n",
            "\tsplit_size:80\t kurt:  train--1.0000 test--0.6150 avg: 0.6150 max: 0.6150 >>> [0.615]\n",
            "\tsplit_size:90\t kurt:  train--1.0000 test--0.6910 avg: 0.6910 max: 0.6910 >>> [0.691]\n"
          ]
        },
        {
          "metadata": {
            "tags": null
          },
          "name": "stderr",
          "output_type": "stream",
          "text": [
            "100%|██████████| 544/544 [06:51<00:00,  1.32it/s]\n"
          ]
        },
        {
          "metadata": {
            "tags": null
          },
          "name": "stdout",
          "output_type": "stream",
          "text": [
            "\n",
            "window_size: 8\n",
            "\tsplit_size:50\t mean:  train--0.9410 test--0.7760 avg: 0.7760 max: 0.7760 >>> [0.776]\n",
            "\tsplit_size:60\t mean:  train--0.9290 test--0.8260 avg: 0.8260 max: 0.8260 >>> [0.826]\n",
            "\tsplit_size:70\t mean:  train--0.9240 test--0.8660 avg: 0.8660 max: 0.8660 >>> [0.866]\n",
            "\tsplit_size:80\t mean:  train--0.9290 test--0.8620 avg: 0.8620 max: 0.8620 >>> [0.862]\n",
            "\tsplit_size:90\t mean:  train--0.9450 test--0.8730 avg: 0.8730 max: 0.8730 >>> [0.873]\n",
            "\tsplit_size:50\t var_:  train--0.8900 test--0.5740 avg: 0.5740 max: 0.5740 >>> [0.574]\n",
            "\tsplit_size:60\t var_:  train--0.8870 test--0.5780 avg: 0.5780 max: 0.5780 >>> [0.578]\n",
            "\tsplit_size:70\t var_:  train--0.8820 test--0.5980 avg: 0.5980 max: 0.5980 >>> [0.598]\n",
            "\tsplit_size:80\t var_:  train--0.8340 test--0.6330 avg: 0.6330 max: 0.6330 >>> [0.633]\n",
            "\tsplit_size:90\t var_:  train--0.8450 test--0.5450 avg: 0.5450 max: 0.5450 >>> [0.545]\n",
            "\tsplit_size:50\t std_:  train--0.9080 test--0.5960 avg: 0.5960 max: 0.5960 >>> [0.596]\n",
            "\tsplit_size:60\t std_:  train--0.8900 test--0.6240 avg: 0.6240 max: 0.6240 >>> [0.624]\n",
            "\tsplit_size:70\t std_:  train--0.8950 test--0.6710 avg: 0.6710 max: 0.6710 >>> [0.671]\n",
            "\tsplit_size:80\t std_:  train--0.8800 test--0.6790 avg: 0.6790 max: 0.6790 >>> [0.679]\n",
            "\tsplit_size:90\t std_:  train--0.8690 test--0.6360 avg: 0.6360 max: 0.6360 >>> [0.636]\n",
            "\tsplit_size:50\t skew:  train--1.0000 test--0.5770 avg: 0.5770 max: 0.5770 >>> [0.577]\n",
            "\tsplit_size:60\t skew:  train--1.0000 test--0.6010 avg: 0.6010 max: 0.6010 >>> [0.601]\n",
            "\tsplit_size:70\t skew:  train--1.0000 test--0.6590 avg: 0.6590 max: 0.6590 >>> [0.659]\n",
            "\tsplit_size:80\t skew:  train--1.0000 test--0.7060 avg: 0.7060 max: 0.7060 >>> [0.706]\n",
            "\tsplit_size:90\t skew:  train--1.0000 test--0.6730 avg: 0.6730 max: 0.6730 >>> [0.673]\n",
            "\tsplit_size:50\t kurt:  train--1.0000 test--0.5070 avg: 0.5070 max: 0.5070 >>> [0.507]\n",
            "\tsplit_size:60\t kurt:  train--1.0000 test--0.5180 avg: 0.5180 max: 0.5180 >>> [0.518]\n",
            "\tsplit_size:70\t kurt:  train--1.0000 test--0.5120 avg: 0.5120 max: 0.5120 >>> [0.512]\n",
            "\tsplit_size:80\t kurt:  train--1.0000 test--0.5410 avg: 0.5410 max: 0.5410 >>> [0.541]\n",
            "\tsplit_size:90\t kurt:  train--1.0000 test--0.6000 avg: 0.6000 max: 0.6000 >>> [0.6]\n"
          ]
        },
        {
          "metadata": {
            "tags": null
          },
          "name": "stderr",
          "output_type": "stream",
          "text": [
            "100%|██████████| 544/544 [13:23<00:00,  1.48s/it]\n"
          ]
        },
        {
          "metadata": {
            "tags": null
          },
          "name": "stdout",
          "output_type": "stream",
          "text": [
            "\n",
            "window_size: 4\n",
            "\tsplit_size:50\t mean:  train--0.9780 test--0.8120 avg: 0.8120 max: 0.8120 >>> [0.812]\n",
            "\tsplit_size:60\t mean:  train--0.9850 test--0.8580 avg: 0.8580 max: 0.8580 >>> [0.858]\n",
            "\tsplit_size:70\t mean:  train--0.9820 test--0.8840 avg: 0.8840 max: 0.8840 >>> [0.884]\n",
            "\tsplit_size:80\t mean:  train--0.9750 test--0.9360 avg: 0.9360 max: 0.9360 >>> [0.936]\n",
            "\tsplit_size:90\t mean:  train--0.9690 test--0.9090 avg: 0.9090 max: 0.9090 >>> [0.909]\n",
            "\tsplit_size:50\t var_:  train--0.8680 test--0.5920 avg: 0.5920 max: 0.5920 >>> [0.592]\n",
            "\tsplit_size:60\t var_:  train--0.8770 test--0.5870 avg: 0.5870 max: 0.5870 >>> [0.587]\n",
            "\tsplit_size:70\t var_:  train--0.8790 test--0.6160 avg: 0.6160 max: 0.6160 >>> [0.616]\n",
            "\tsplit_size:80\t var_:  train--0.8970 test--0.6420 avg: 0.6420 max: 0.6420 >>> [0.642]\n",
            "\tsplit_size:90\t var_:  train--0.8900 test--0.6180 avg: 0.6180 max: 0.6180 >>> [0.618]\n",
            "\tsplit_size:50\t std_:  train--0.8970 test--0.6210 avg: 0.6210 max: 0.6210 >>> [0.621]\n",
            "\tsplit_size:60\t std_:  train--0.9020 test--0.6150 avg: 0.6150 max: 0.6150 >>> [0.615]\n",
            "\tsplit_size:70\t std_:  train--0.9050 test--0.6160 avg: 0.6160 max: 0.6160 >>> [0.616]\n",
            "\tsplit_size:80\t std_:  train--0.9100 test--0.6330 avg: 0.6330 max: 0.6330 >>> [0.633]\n",
            "\tsplit_size:90\t std_:  train--0.8960 test--0.5820 avg: 0.5820 max: 0.5820 >>> [0.582]\n",
            "\tsplit_size:50\t skew:  train--1.0000 test--0.6070 avg: 0.6070 max: 0.6070 >>> [0.607]\n",
            "\tsplit_size:60\t skew:  train--1.0000 test--0.5830 avg: 0.5830 max: 0.5830 >>> [0.583]\n",
            "\tsplit_size:70\t skew:  train--1.0000 test--0.5910 avg: 0.5910 max: 0.5910 >>> [0.591]\n",
            "\tsplit_size:80\t skew:  train--1.0000 test--0.5780 avg: 0.5780 max: 0.5780 >>> [0.578]\n",
            "\tsplit_size:90\t skew:  train--1.0000 test--0.5450 avg: 0.5450 max: 0.5450 >>> [0.545]\n",
            "\tsplit_size:50\t kurt:  train--1.0000 test--0.5660 avg: 0.5660 max: 0.5660 >>> [0.566]\n",
            "\tsplit_size:60\t kurt:  train--1.0000 test--0.6190 avg: 0.6190 max: 0.6190 >>> [0.619]\n",
            "\tsplit_size:70\t kurt:  train--1.0000 test--0.6280 avg: 0.6280 max: 0.6280 >>> [0.628]\n",
            "\tsplit_size:80\t kurt:  train--1.0000 test--0.6330 avg: 0.6330 max: 0.6330 >>> [0.633]\n",
            "\tsplit_size:90\t kurt:  train--1.0000 test--0.6550 avg: 0.6550 max: 0.6550 >>> [0.655]\n"
          ]
        },
        {
          "metadata": {
            "tags": null
          },
          "name": "stderr",
          "output_type": "stream",
          "text": [
            "100%|██████████| 544/544 [22:51<00:00,  2.52s/it]\n"
          ]
        },
        {
          "metadata": {
            "tags": null
          },
          "name": "stdout",
          "output_type": "stream",
          "text": [
            "\n",
            "window_size: 2\n",
            "\tsplit_size:50\t mean:  train--0.9780 test--0.7650 avg: 0.7650 max: 0.7650 >>> [0.765]\n",
            "\tsplit_size:60\t mean:  train--0.9880 test--0.7840 avg: 0.7840 max: 0.7840 >>> [0.784]\n",
            "\tsplit_size:70\t mean:  train--0.9950 test--0.8170 avg: 0.8170 max: 0.8170 >>> [0.817]\n",
            "\tsplit_size:80\t mean:  train--0.9720 test--0.8350 avg: 0.8350 max: 0.8350 >>> [0.835]\n",
            "\tsplit_size:90\t mean:  train--0.9730 test--0.8910 avg: 0.8910 max: 0.8910 >>> [0.891]\n",
            "\tsplit_size:50\t var_:  train--0.9740 test--0.5810 avg: 0.5810 max: 0.5810 >>> [0.581]\n",
            "\tsplit_size:60\t var_:  train--0.9050 test--0.5830 avg: 0.5830 max: 0.5830 >>> [0.583]\n",
            "\tsplit_size:70\t var_:  train--0.9390 test--0.5850 avg: 0.5850 max: 0.5850 >>> [0.585]\n",
            "\tsplit_size:80\t var_:  train--0.9100 test--0.5870 avg: 0.5870 max: 0.5870 >>> [0.587]\n",
            "\tsplit_size:90\t var_:  train--0.9300 test--0.5450 avg: 0.5450 max: 0.5450 >>> [0.545]\n",
            "\tsplit_size:50\t std_:  train--0.9780 test--0.5920 avg: 0.5920 max: 0.5920 >>> [0.592]\n",
            "\tsplit_size:60\t std_:  train--0.9510 test--0.6330 avg: 0.6330 max: 0.6330 >>> [0.633]\n",
            "\tsplit_size:70\t std_:  train--0.9470 test--0.6040 avg: 0.6040 max: 0.6040 >>> [0.604]\n",
            "\tsplit_size:80\t std_:  train--0.9360 test--0.6330 avg: 0.6330 max: 0.6330 >>> [0.633]\n",
            "\tsplit_size:90\t std_:  train--0.9390 test--0.5820 avg: 0.5820 max: 0.5820 >>> [0.582]\n",
            "\tsplit_size:50\t skew:  train--0.5960 test--0.4960 avg: 0.4960 max: 0.4960 >>> [0.496]\n",
            "\tsplit_size:60\t skew:  train--0.5890 test--0.5090 avg: 0.5090 max: 0.5090 >>> [0.509]\n",
            "\tsplit_size:70\t skew:  train--0.5840 test--0.5000 avg: 0.5000 max: 0.5000 >>> [0.5]\n",
            "\tsplit_size:80\t skew:  train--0.5470 test--0.5320 avg: 0.5320 max: 0.5320 >>> [0.532]\n",
            "\tsplit_size:90\t skew:  train--0.5540 test--0.4910 avg: 0.4910 max: 0.4910 >>> [0.491]\n",
            "\tsplit_size:50\t kurt:  train--1.0000 test--0.4960 avg: 0.4960 max: 0.4960 >>> [0.496]\n",
            "\tsplit_size:60\t kurt:  train--1.0000 test--0.5090 avg: 0.5090 max: 0.5090 >>> [0.509]\n",
            "\tsplit_size:70\t kurt:  train--1.0000 test--0.5000 avg: 0.5000 max: 0.5000 >>> [0.5]\n",
            "\tsplit_size:80\t kurt:  train--0.9980 test--0.4770 avg: 0.4770 max: 0.4770 >>> [0.477]\n",
            "\tsplit_size:90\t kurt:  train--0.9980 test--0.4730 avg: 0.4730 max: 0.4730 >>> [0.473]\n",
            "\n",
            "window_size: 1\n",
            "\tsplit_size:50\t mean:  train--0.9450 test--0.7720 avg: 0.7720 max: 0.7720 >>> [0.772]\n",
            "\tsplit_size:60\t mean:  train--0.9660 test--0.8300 avg: 0.8300 max: 0.8300 >>> [0.83]\n",
            "\tsplit_size:70\t mean:  train--0.9680 test--0.8350 avg: 0.8350 max: 0.8350 >>> [0.835]\n",
            "\tsplit_size:80\t mean:  train--0.9750 test--0.8620 avg: 0.8620 max: 0.8620 >>> [0.862]\n",
            "\tsplit_size:90\t mean:  train--0.9800 test--0.8910 avg: 0.8910 max: 0.8910 >>> [0.891]\n",
            "########################## epoch:  1  ###########################\n"
          ]
        },
        {
          "metadata": {
            "tags": null
          },
          "name": "stderr",
          "output_type": "stream",
          "text": [
            "100%|██████████| 544/544 [00:02<00:00, 189.89it/s]\n"
          ]
        },
        {
          "metadata": {
            "tags": null
          },
          "name": "stdout",
          "output_type": "stream",
          "text": [
            "\n",
            "window_size: 1000\n",
            "\tsplit_size:50\t mean:  train--0.6950 test--0.6650 avg: 0.6600 max: 0.6650 >>> [0.654, 0.665]\n",
            "\tsplit_size:60\t mean:  train--0.6810 test--0.6830 avg: 0.6540 max: 0.6830 >>> [0.624, 0.683]\n",
            "\tsplit_size:70\t mean:  train--0.6920 test--0.6950 avg: 0.6560 max: 0.6950 >>> [0.616, 0.695]\n",
            "\tsplit_size:80\t mean:  train--0.6940 test--0.6970 avg: 0.6560 max: 0.6970 >>> [0.615, 0.697]\n",
            "\tsplit_size:90\t mean:  train--0.7010 test--0.6910 avg: 0.6460 max: 0.6910 >>> [0.6, 0.691]\n",
            "\tsplit_size:50\t var_:  train--0.5960 test--0.5770 avg: 0.5580 max: 0.5770 >>> [0.54, 0.577]\n",
            "\tsplit_size:60\t var_:  train--0.5800 test--0.6060 avg: 0.5740 max: 0.6060 >>> [0.541, 0.606]\n",
            "\tsplit_size:70\t var_:  train--0.5920 test--0.6040 avg: 0.5700 max: 0.6040 >>> [0.537, 0.604]\n",
            "\tsplit_size:80\t var_:  train--0.5770 test--0.6060 avg: 0.5500 max: 0.6060 >>> [0.495, 0.606]\n",
            "\tsplit_size:90\t var_:  train--0.5990 test--0.6360 avg: 0.5540 max: 0.6360 >>> [0.473, 0.636]\n",
            "\tsplit_size:50\t std_:  train--0.6800 test--0.6540 avg: 0.6320 max: 0.6540 >>> [0.61, 0.654]\n",
            "\tsplit_size:60\t std_:  train--0.6810 test--0.6880 avg: 0.6520 max: 0.6880 >>> [0.615, 0.688]\n",
            "\tsplit_size:70\t std_:  train--0.6680 test--0.6520 avg: 0.6250 max: 0.6520 >>> [0.598, 0.652]\n",
            "\tsplit_size:80\t std_:  train--0.6620 test--0.6970 avg: 0.6330 max: 0.6970 >>> [0.569, 0.697]\n",
            "\tsplit_size:90\t std_:  train--0.6830 test--0.6000 avg: 0.5720 max: 0.6000 >>> [0.545, 0.6]\n",
            "\tsplit_size:50\t skew:  train--0.6650 test--0.5620 avg: 0.5550 max: 0.5620 >>> [0.548, 0.562]\n",
            "\tsplit_size:60\t skew:  train--0.6500 test--0.5550 avg: 0.5710 max: 0.5870 >>> [0.587, 0.555]\n",
            "\tsplit_size:70\t skew:  train--0.6610 test--0.5610 avg: 0.5940 max: 0.6280 >>> [0.628, 0.561]\n",
            "\tsplit_size:80\t skew:  train--0.6410 test--0.5500 avg: 0.5780 max: 0.6060 >>> [0.606, 0.55]\n",
            "\tsplit_size:90\t skew:  train--0.6320 test--0.5090 avg: 0.5460 max: 0.5820 >>> [0.582, 0.509]\n",
            "\tsplit_size:50\t kurt:  train--0.6360 test--0.5370 avg: 0.5280 max: 0.5370 >>> [0.518, 0.537]\n",
            "\tsplit_size:60\t kurt:  train--0.6130 test--0.5410 avg: 0.5410 max: 0.5410 >>> [0.541, 0.541]\n",
            "\tsplit_size:70\t kurt:  train--0.6130 test--0.5000 avg: 0.5300 max: 0.5610 >>> [0.561, 0.5]\n",
            "\tsplit_size:80\t kurt:  train--0.5860 test--0.5230 avg: 0.5230 max: 0.5230 >>> [0.523, 0.523]\n",
            "\tsplit_size:90\t kurt:  train--0.5770 test--0.5090 avg: 0.4910 max: 0.5090 >>> [0.473, 0.509]\n"
          ]
        },
        {
          "metadata": {
            "tags": null
          },
          "name": "stderr",
          "output_type": "stream",
          "text": [
            "100%|██████████| 544/544 [00:35<00:00, 15.39it/s]\n"
          ]
        },
        {
          "metadata": {
            "tags": null
          },
          "name": "stdout",
          "output_type": "stream",
          "text": [
            "\n",
            "window_size: 100\n",
            "\tsplit_size:50\t mean:  train--0.7320 test--0.6510 avg: 0.6750 max: 0.6990 >>> [0.699, 0.651]\n",
            "\tsplit_size:60\t mean:  train--0.7180 test--0.6880 avg: 0.6970 max: 0.7060 >>> [0.706, 0.688]\n",
            "\tsplit_size:70\t mean:  train--0.7290 test--0.6830 avg: 0.6800 max: 0.6830 >>> [0.677, 0.683]\n",
            "\tsplit_size:80\t mean:  train--0.7330 test--0.7160 avg: 0.7060 max: 0.7160 >>> [0.697, 0.716]\n",
            "\tsplit_size:90\t mean:  train--0.7160 test--0.6910 avg: 0.7000 max: 0.7090 >>> [0.709, 0.691]\n",
            "\tsplit_size:50\t var_:  train--0.6950 test--0.5810 avg: 0.6060 max: 0.6320 >>> [0.632, 0.581]\n",
            "\tsplit_size:60\t var_:  train--0.6780 test--0.6060 avg: 0.6190 max: 0.6330 >>> [0.633, 0.606]\n",
            "\tsplit_size:70\t var_:  train--0.6630 test--0.6100 avg: 0.5860 max: 0.6100 >>> [0.561, 0.61]\n",
            "\tsplit_size:80\t var_:  train--0.6710 test--0.6240 avg: 0.5920 max: 0.6240 >>> [0.56, 0.624]\n",
            "\tsplit_size:90\t var_:  train--0.6690 test--0.6550 avg: 0.6090 max: 0.6550 >>> [0.564, 0.655]\n",
            "\tsplit_size:50\t std_:  train--0.7130 test--0.6100 avg: 0.6450 max: 0.6800 >>> [0.68, 0.61]\n",
            "\tsplit_size:60\t std_:  train--0.6990 test--0.6470 avg: 0.6590 max: 0.6700 >>> [0.67, 0.647]\n",
            "\tsplit_size:70\t std_:  train--0.7130 test--0.6770 avg: 0.6560 max: 0.6770 >>> [0.634, 0.677]\n",
            "\tsplit_size:80\t std_:  train--0.6900 test--0.6700 avg: 0.6610 max: 0.6700 >>> [0.651, 0.67]\n",
            "\tsplit_size:90\t std_:  train--0.6970 test--0.6550 avg: 0.6730 max: 0.6910 >>> [0.691, 0.655]\n",
            "\tsplit_size:50\t skew:  train--0.8270 test--0.6290 avg: 0.6180 max: 0.6290 >>> [0.607, 0.629]\n",
            "\tsplit_size:60\t skew:  train--0.8620 test--0.6560 avg: 0.6490 max: 0.6560 >>> [0.642, 0.656]\n",
            "\tsplit_size:70\t skew:  train--0.8340 test--0.6770 avg: 0.6220 max: 0.6770 >>> [0.567, 0.677]\n",
            "\tsplit_size:80\t skew:  train--0.8510 test--0.6610 avg: 0.6740 max: 0.6880 >>> [0.688, 0.661]\n",
            "\tsplit_size:90\t skew:  train--0.8260 test--0.7270 avg: 0.7180 max: 0.7270 >>> [0.709, 0.727]\n",
            "\tsplit_size:50\t kurt:  train--0.7940 test--0.5510 avg: 0.5480 max: 0.5510 >>> [0.544, 0.551]\n",
            "\tsplit_size:60\t kurt:  train--0.7730 test--0.5550 avg: 0.5920 max: 0.6280 >>> [0.628, 0.555]\n",
            "\tsplit_size:70\t kurt:  train--0.7950 test--0.5730 avg: 0.6090 max: 0.6460 >>> [0.646, 0.573]\n",
            "\tsplit_size:80\t kurt:  train--0.7660 test--0.5320 avg: 0.5960 max: 0.6610 >>> [0.661, 0.532]\n",
            "\tsplit_size:90\t kurt:  train--0.7670 test--0.5820 avg: 0.6360 max: 0.6910 >>> [0.691, 0.582]\n"
          ]
        },
        {
          "metadata": {
            "tags": null
          },
          "name": "stderr",
          "output_type": "stream",
          "text": [
            "100%|██████████| 544/544 [05:24<00:00,  1.68it/s]\n"
          ]
        },
        {
          "metadata": {
            "tags": null
          },
          "name": "stdout",
          "output_type": "stream",
          "text": [
            "\n",
            "window_size: 10\n",
            "\tsplit_size:50\t mean:  train--0.9450 test--0.8120 avg: 0.8140 max: 0.8160 >>> [0.816, 0.812]\n",
            "\tsplit_size:60\t mean:  train--0.9480 test--0.8670 avg: 0.8550 max: 0.8670 >>> [0.844, 0.867]\n",
            "\tsplit_size:70\t mean:  train--0.9470 test--0.8780 avg: 0.8720 max: 0.8780 >>> [0.866, 0.878]\n",
            "\tsplit_size:80\t mean:  train--0.9490 test--0.8620 avg: 0.8530 max: 0.8620 >>> [0.844, 0.862]\n",
            "\tsplit_size:90\t mean:  train--0.9650 test--0.8910 avg: 0.8460 max: 0.8910 >>> [0.8, 0.891]\n",
            "\tsplit_size:50\t var_:  train--0.9040 test--0.6290 avg: 0.6350 max: 0.6400 >>> [0.64, 0.629]\n",
            "\tsplit_size:60\t var_:  train--0.8530 test--0.6420 avg: 0.6310 max: 0.6420 >>> [0.619, 0.642]\n",
            "\tsplit_size:70\t var_:  train--0.8610 test--0.6460 avg: 0.6530 max: 0.6590 >>> [0.659, 0.646]\n",
            "\tsplit_size:80\t var_:  train--0.8600 test--0.6060 avg: 0.6290 max: 0.6510 >>> [0.651, 0.606]\n",
            "\tsplit_size:90\t var_:  train--0.8490 test--0.6000 avg: 0.6280 max: 0.6550 >>> [0.655, 0.6]\n",
            "\tsplit_size:50\t std_:  train--0.8970 test--0.6620 avg: 0.6530 max: 0.6620 >>> [0.643, 0.662]\n",
            "\tsplit_size:60\t std_:  train--0.8770 test--0.6970 avg: 0.6700 max: 0.6970 >>> [0.642, 0.697]\n",
            "\tsplit_size:70\t std_:  train--0.9030 test--0.6950 avg: 0.6680 max: 0.6950 >>> [0.64, 0.695]\n",
            "\tsplit_size:80\t std_:  train--0.8800 test--0.6880 avg: 0.6700 max: 0.6880 >>> [0.651, 0.688]\n",
            "\tsplit_size:90\t std_:  train--0.8880 test--0.7090 avg: 0.6460 max: 0.7090 >>> [0.582, 0.709]\n",
            "\tsplit_size:50\t skew:  train--0.9960 test--0.6540 avg: 0.6860 max: 0.7170 >>> [0.717, 0.654]\n",
            "\tsplit_size:60\t skew:  train--0.9970 test--0.6790 avg: 0.7020 max: 0.7250 >>> [0.725, 0.679]\n",
            "\tsplit_size:70\t skew:  train--0.9970 test--0.7320 avg: 0.7290 max: 0.7320 >>> [0.726, 0.732]\n",
            "\tsplit_size:80\t skew:  train--1.0000 test--0.7520 avg: 0.7240 max: 0.7520 >>> [0.697, 0.752]\n",
            "\tsplit_size:90\t skew:  train--1.0000 test--0.8550 avg: 0.7730 max: 0.8550 >>> [0.691, 0.855]\n",
            "\tsplit_size:50\t kurt:  train--1.0000 test--0.5700 avg: 0.5640 max: 0.5700 >>> [0.559, 0.57]\n",
            "\tsplit_size:60\t kurt:  train--1.0000 test--0.5730 avg: 0.5840 max: 0.5960 >>> [0.596, 0.573]\n",
            "\tsplit_size:70\t kurt:  train--0.9970 test--0.5670 avg: 0.5880 max: 0.6100 >>> [0.61, 0.567]\n",
            "\tsplit_size:80\t kurt:  train--0.9980 test--0.6150 avg: 0.5920 max: 0.6150 >>> [0.569, 0.615]\n",
            "\tsplit_size:90\t kurt:  train--1.0000 test--0.5820 avg: 0.6000 max: 0.6180 >>> [0.618, 0.582]\n"
          ]
        },
        {
          "metadata": {
            "tags": null
          },
          "name": "stderr",
          "output_type": "stream",
          "text": [
            "100%|██████████| 544/544 [00:01<00:00, 465.64it/s]\n"
          ]
        },
        {
          "metadata": {
            "tags": null
          },
          "name": "stdout",
          "output_type": "stream",
          "text": [
            "\n",
            "window_size: 4096\n",
            "\tsplit_size:50\t mean:  train--0.6210 test--0.6400 avg: 0.6460 max: 0.6510 >>> [0.651, 0.64]\n",
            "\tsplit_size:60\t mean:  train--0.6290 test--0.6240 avg: 0.6360 max: 0.6470 >>> [0.647, 0.624]\n",
            "\tsplit_size:70\t mean:  train--0.6500 test--0.5980 avg: 0.6160 max: 0.6340 >>> [0.634, 0.598]\n",
            "\tsplit_size:80\t mean:  train--0.6230 test--0.6330 avg: 0.6600 max: 0.6880 >>> [0.688, 0.633]\n",
            "\tsplit_size:90\t mean:  train--0.6340 test--0.6180 avg: 0.6720 max: 0.7270 >>> [0.727, 0.618]\n",
            "\tsplit_size:50\t var_:  train--0.5740 test--0.5880 avg: 0.5360 max: 0.5880 >>> [0.485, 0.588]\n",
            "\tsplit_size:60\t var_:  train--0.5740 test--0.5920 avg: 0.5300 max: 0.5920 >>> [0.468, 0.592]\n",
            "\tsplit_size:70\t var_:  train--0.5820 test--0.5850 avg: 0.5940 max: 0.6040 >>> [0.604, 0.585]\n",
            "\tsplit_size:80\t var_:  train--0.5720 test--0.6240 avg: 0.6290 max: 0.6330 >>> [0.633, 0.624]\n",
            "\tsplit_size:90\t var_:  train--0.5710 test--0.6910 avg: 0.7000 max: 0.7090 >>> [0.709, 0.691]\n",
            "\tsplit_size:50\t std_:  train--0.6580 test--0.6250 avg: 0.5550 max: 0.6250 >>> [0.485, 0.625]\n",
            "\tsplit_size:60\t std_:  train--0.6530 test--0.6420 avg: 0.6120 max: 0.6420 >>> [0.583, 0.642]\n",
            "\tsplit_size:70\t std_:  train--0.6500 test--0.6280 avg: 0.6440 max: 0.6590 >>> [0.659, 0.628]\n",
            "\tsplit_size:80\t std_:  train--0.6530 test--0.6330 avg: 0.6520 max: 0.6700 >>> [0.67, 0.633]\n",
            "\tsplit_size:90\t std_:  train--0.6630 test--0.6730 avg: 0.6910 max: 0.7090 >>> [0.709, 0.673]\n",
            "\tsplit_size:50\t skew:  train--0.6470 test--0.6760 avg: 0.6640 max: 0.6760 >>> [0.651, 0.676]\n",
            "\tsplit_size:60\t skew:  train--0.6630 test--0.6560 avg: 0.6470 max: 0.6560 >>> [0.638, 0.656]\n",
            "\tsplit_size:70\t skew:  train--0.6630 test--0.6590 avg: 0.6860 max: 0.7130 >>> [0.713, 0.659]\n",
            "\tsplit_size:80\t skew:  train--0.6670 test--0.6880 avg: 0.7110 max: 0.7340 >>> [0.734, 0.688]\n",
            "\tsplit_size:90\t skew:  train--0.6730 test--0.6730 avg: 0.7000 max: 0.7270 >>> [0.727, 0.673]\n",
            "\tsplit_size:50\t kurt:  train--0.6100 test--0.6180 avg: 0.5570 max: 0.6180 >>> [0.496, 0.618]\n",
            "\tsplit_size:60\t kurt:  train--0.6200 test--0.6150 avg: 0.5550 max: 0.6150 >>> [0.495, 0.615]\n",
            "\tsplit_size:70\t kurt:  train--0.6210 test--0.6220 avg: 0.6440 max: 0.6650 >>> [0.665, 0.622]\n",
            "\tsplit_size:80\t kurt:  train--0.6340 test--0.5960 avg: 0.6420 max: 0.6880 >>> [0.688, 0.596]\n",
            "\tsplit_size:90\t kurt:  train--0.6420 test--0.6000 avg: 0.6090 max: 0.6180 >>> [0.618, 0.6]\n"
          ]
        },
        {
          "metadata": {
            "tags": null
          },
          "name": "stderr",
          "output_type": "stream",
          "text": [
            "100%|██████████| 544/544 [00:01<00:00, 364.64it/s]\n"
          ]
        },
        {
          "metadata": {
            "tags": null
          },
          "name": "stdout",
          "output_type": "stream",
          "text": [
            "\n",
            "window_size: 2048\n",
            "\tsplit_size:50\t mean:  train--0.7060 test--0.6580 avg: 0.6580 max: 0.6580 >>> [0.658, 0.658]\n",
            "\tsplit_size:60\t mean:  train--0.7090 test--0.6790 avg: 0.6700 max: 0.6790 >>> [0.661, 0.679]\n",
            "\tsplit_size:70\t mean:  train--0.7110 test--0.6770 avg: 0.6920 max: 0.7070 >>> [0.707, 0.677]\n",
            "\tsplit_size:80\t mean:  train--0.7170 test--0.6510 avg: 0.7110 max: 0.7710 >>> [0.771, 0.651]\n",
            "\tsplit_size:90\t mean:  train--0.7140 test--0.6360 avg: 0.6900 max: 0.7450 >>> [0.745, 0.636]\n",
            "\tsplit_size:50\t var_:  train--0.6250 test--0.5880 avg: 0.5840 max: 0.5880 >>> [0.581, 0.588]\n",
            "\tsplit_size:60\t var_:  train--0.6040 test--0.5690 avg: 0.5850 max: 0.6010 >>> [0.601, 0.569]\n",
            "\tsplit_size:70\t var_:  train--0.6110 test--0.5430 avg: 0.5800 max: 0.6160 >>> [0.616, 0.543]\n",
            "\tsplit_size:80\t var_:  train--0.6070 test--0.5230 avg: 0.5870 max: 0.6510 >>> [0.651, 0.523]\n",
            "\tsplit_size:90\t var_:  train--0.6110 test--0.5270 avg: 0.5720 max: 0.6180 >>> [0.618, 0.527]\n",
            "\tsplit_size:50\t std_:  train--0.6650 test--0.6180 avg: 0.6210 max: 0.6250 >>> [0.625, 0.618]\n",
            "\tsplit_size:60\t std_:  train--0.6560 test--0.6280 avg: 0.6400 max: 0.6510 >>> [0.651, 0.628]\n",
            "\tsplit_size:70\t std_:  train--0.6580 test--0.6280 avg: 0.6440 max: 0.6590 >>> [0.659, 0.628]\n",
            "\tsplit_size:80\t std_:  train--0.6570 test--0.6330 avg: 0.6700 max: 0.7060 >>> [0.706, 0.633]\n",
            "\tsplit_size:90\t std_:  train--0.6500 test--0.6550 avg: 0.6820 max: 0.7090 >>> [0.709, 0.655]\n",
            "\tsplit_size:50\t skew:  train--0.6320 test--0.5770 avg: 0.5750 max: 0.5770 >>> [0.574, 0.577]\n",
            "\tsplit_size:60\t skew:  train--0.6230 test--0.5640 avg: 0.5640 max: 0.5640 >>> [0.564, 0.564]\n",
            "\tsplit_size:70\t skew:  train--0.6180 test--0.5790 avg: 0.5820 max: 0.5850 >>> [0.585, 0.579]\n",
            "\tsplit_size:80\t skew:  train--0.5930 test--0.6060 avg: 0.6100 max: 0.6150 >>> [0.615, 0.606]\n",
            "\tsplit_size:90\t skew:  train--0.5930 test--0.6000 avg: 0.5910 max: 0.6000 >>> [0.582, 0.6]\n",
            "\tsplit_size:50\t kurt:  train--0.5740 test--0.5960 avg: 0.5810 max: 0.5960 >>> [0.566, 0.596]\n",
            "\tsplit_size:60\t kurt:  train--0.5890 test--0.5690 avg: 0.5640 max: 0.5690 >>> [0.56, 0.569]\n",
            "\tsplit_size:70\t kurt:  train--0.5840 test--0.5980 avg: 0.5760 max: 0.5980 >>> [0.555, 0.598]\n",
            "\tsplit_size:80\t kurt:  train--0.5840 test--0.6330 avg: 0.5780 max: 0.6330 >>> [0.523, 0.633]\n",
            "\tsplit_size:90\t kurt:  train--0.5870 test--0.6730 avg: 0.6000 max: 0.6730 >>> [0.527, 0.673]\n"
          ]
        },
        {
          "metadata": {
            "tags": null
          },
          "name": "stderr",
          "output_type": "stream",
          "text": [
            "100%|██████████| 544/544 [00:02<00:00, 189.11it/s]\n"
          ]
        },
        {
          "metadata": {
            "tags": null
          },
          "name": "stdout",
          "output_type": "stream",
          "text": [
            "\n",
            "window_size: 1024\n",
            "\tsplit_size:50\t mean:  train--0.6990 test--0.6690 avg: 0.6750 max: 0.6800 >>> [0.68, 0.669]\n",
            "\tsplit_size:60\t mean:  train--0.6930 test--0.6700 avg: 0.6820 max: 0.6930 >>> [0.693, 0.67]\n",
            "\tsplit_size:70\t mean:  train--0.6970 test--0.6400 avg: 0.6620 max: 0.6830 >>> [0.683, 0.64]\n",
            "\tsplit_size:80\t mean:  train--0.6990 test--0.5960 avg: 0.6560 max: 0.7160 >>> [0.716, 0.596]\n",
            "\tsplit_size:90\t mean:  train--0.6970 test--0.6000 avg: 0.6540 max: 0.7090 >>> [0.709, 0.6]\n",
            "\tsplit_size:50\t var_:  train--0.6360 test--0.5590 avg: 0.5920 max: 0.6250 >>> [0.625, 0.559]\n",
            "\tsplit_size:60\t var_:  train--0.6290 test--0.5410 avg: 0.5740 max: 0.6060 >>> [0.606, 0.541]\n",
            "\tsplit_size:70\t var_:  train--0.6210 test--0.5430 avg: 0.5760 max: 0.6100 >>> [0.61, 0.543]\n",
            "\tsplit_size:80\t var_:  train--0.6180 test--0.4770 avg: 0.5420 max: 0.6060 >>> [0.606, 0.477]\n",
            "\tsplit_size:90\t var_:  train--0.6010 test--0.4550 avg: 0.5360 max: 0.6180 >>> [0.618, 0.455]\n",
            "\tsplit_size:50\t std_:  train--0.6910 test--0.6210 avg: 0.6530 max: 0.6840 >>> [0.684, 0.621]\n",
            "\tsplit_size:60\t std_:  train--0.6660 test--0.6150 avg: 0.6630 max: 0.7110 >>> [0.711, 0.615]\n",
            "\tsplit_size:70\t std_:  train--0.6630 test--0.5980 avg: 0.6520 max: 0.7070 >>> [0.707, 0.598]\n",
            "\tsplit_size:80\t std_:  train--0.6640 test--0.5780 avg: 0.6600 max: 0.7430 >>> [0.743, 0.578]\n",
            "\tsplit_size:90\t std_:  train--0.6610 test--0.5640 avg: 0.6090 max: 0.6550 >>> [0.655, 0.564]\n",
            "\tsplit_size:50\t skew:  train--0.6650 test--0.5150 avg: 0.5560 max: 0.5960 >>> [0.596, 0.515]\n",
            "\tsplit_size:60\t skew:  train--0.6440 test--0.5460 avg: 0.5710 max: 0.5960 >>> [0.596, 0.546]\n",
            "\tsplit_size:70\t skew:  train--0.6450 test--0.5490 avg: 0.5490 max: 0.5490 >>> [0.549, 0.549]\n",
            "\tsplit_size:80\t skew:  train--0.6410 test--0.5140 avg: 0.5550 max: 0.5960 >>> [0.596, 0.514]\n",
            "\tsplit_size:90\t skew:  train--0.6460 test--0.5450 avg: 0.5450 max: 0.5450 >>> [0.545, 0.545]\n",
            "\tsplit_size:50\t kurt:  train--0.5770 test--0.5070 avg: 0.5140 max: 0.5220 >>> [0.522, 0.507]\n",
            "\tsplit_size:60\t kurt:  train--0.5670 test--0.5500 avg: 0.5410 max: 0.5500 >>> [0.532, 0.55]\n",
            "\tsplit_size:70\t kurt:  train--0.5710 test--0.5370 avg: 0.5120 max: 0.5370 >>> [0.488, 0.537]\n",
            "\tsplit_size:80\t kurt:  train--0.5720 test--0.4860 avg: 0.4680 max: 0.4860 >>> [0.45, 0.486]\n",
            "\tsplit_size:90\t kurt:  train--0.5620 test--0.5640 avg: 0.4910 max: 0.5640 >>> [0.418, 0.564]\n"
          ]
        },
        {
          "metadata": {
            "tags": null
          },
          "name": "stderr",
          "output_type": "stream",
          "text": [
            "100%|██████████| 544/544 [00:06<00:00, 87.79it/s]\n"
          ]
        },
        {
          "metadata": {
            "tags": null
          },
          "name": "stdout",
          "output_type": "stream",
          "text": [
            "\n",
            "window_size: 512\n",
            "\tsplit_size:50\t mean:  train--0.6620 test--0.6800 avg: 0.7080 max: 0.7350 >>> [0.735, 0.68]\n",
            "\tsplit_size:60\t mean:  train--0.6750 test--0.6880 avg: 0.7020 max: 0.7160 >>> [0.716, 0.688]\n",
            "\tsplit_size:70\t mean:  train--0.6710 test--0.7130 avg: 0.7160 max: 0.7200 >>> [0.72, 0.713]\n",
            "\tsplit_size:80\t mean:  train--0.6760 test--0.6790 avg: 0.6980 max: 0.7160 >>> [0.716, 0.679]\n",
            "\tsplit_size:90\t mean:  train--0.6870 test--0.6550 avg: 0.6910 max: 0.7270 >>> [0.727, 0.655]\n",
            "\tsplit_size:50\t var_:  train--0.6140 test--0.5920 avg: 0.6340 max: 0.6760 >>> [0.676, 0.592]\n",
            "\tsplit_size:60\t var_:  train--0.6010 test--0.6100 avg: 0.6210 max: 0.6330 >>> [0.633, 0.61]\n",
            "\tsplit_size:70\t var_:  train--0.6160 test--0.6100 avg: 0.6190 max: 0.6280 >>> [0.628, 0.61]\n",
            "\tsplit_size:80\t var_:  train--0.6180 test--0.5960 avg: 0.6140 max: 0.6330 >>> [0.633, 0.596]\n",
            "\tsplit_size:90\t var_:  train--0.6010 test--0.6000 avg: 0.6280 max: 0.6550 >>> [0.655, 0.6]\n",
            "\tsplit_size:50\t std_:  train--0.6800 test--0.6760 avg: 0.6960 max: 0.7170 >>> [0.717, 0.676]\n",
            "\tsplit_size:60\t std_:  train--0.6600 test--0.6700 avg: 0.6930 max: 0.7160 >>> [0.716, 0.67]\n",
            "\tsplit_size:70\t std_:  train--0.6790 test--0.7010 avg: 0.6860 max: 0.7010 >>> [0.671, 0.701]\n",
            "\tsplit_size:80\t std_:  train--0.6710 test--0.6880 avg: 0.6840 max: 0.6880 >>> [0.679, 0.688]\n",
            "\tsplit_size:90\t std_:  train--0.6670 test--0.6730 avg: 0.7000 max: 0.7270 >>> [0.727, 0.673]\n",
            "\tsplit_size:50\t skew:  train--0.6730 test--0.5960 avg: 0.6070 max: 0.6180 >>> [0.618, 0.596]\n",
            "\tsplit_size:60\t skew:  train--0.7150 test--0.6190 avg: 0.6420 max: 0.6650 >>> [0.665, 0.619]\n",
            "\tsplit_size:70\t skew:  train--0.6420 test--0.6100 avg: 0.6470 max: 0.6830 >>> [0.683, 0.61]\n",
            "\tsplit_size:80\t skew:  train--0.6900 test--0.6880 avg: 0.6920 max: 0.6970 >>> [0.697, 0.688]\n",
            "\tsplit_size:90\t skew:  train--0.7140 test--0.7270 avg: 0.6460 max: 0.7270 >>> [0.564, 0.727]\n",
            "\tsplit_size:50\t kurt:  train--0.5590 test--0.5590 avg: 0.5400 max: 0.5590 >>> [0.522, 0.559]\n",
            "\tsplit_size:60\t kurt:  train--0.5770 test--0.5640 avg: 0.5480 max: 0.5640 >>> [0.532, 0.564]\n",
            "\tsplit_size:70\t kurt:  train--0.5820 test--0.5370 avg: 0.5400 max: 0.5430 >>> [0.543, 0.537]\n",
            "\tsplit_size:80\t kurt:  train--0.5680 test--0.5960 avg: 0.5820 max: 0.5960 >>> [0.569, 0.596]\n",
            "\tsplit_size:90\t kurt:  train--0.5710 test--0.6180 avg: 0.5910 max: 0.6180 >>> [0.564, 0.618]\n"
          ]
        },
        {
          "metadata": {
            "tags": null
          },
          "name": "stderr",
          "output_type": "stream",
          "text": [
            "100%|██████████| 544/544 [00:13<00:00, 40.79it/s]\n"
          ]
        },
        {
          "metadata": {
            "tags": null
          },
          "name": "stdout",
          "output_type": "stream",
          "text": [
            "\n",
            "window_size: 256\n",
            "\tsplit_size:50\t mean:  train--0.7020 test--0.7060 avg: 0.6690 max: 0.7060 >>> [0.632, 0.706]\n",
            "\tsplit_size:60\t mean:  train--0.7060 test--0.6740 avg: 0.6450 max: 0.6740 >>> [0.615, 0.674]\n",
            "\tsplit_size:70\t mean:  train--0.7080 test--0.6400 avg: 0.6620 max: 0.6830 >>> [0.683, 0.64]\n",
            "\tsplit_size:80\t mean:  train--0.7080 test--0.6610 avg: 0.6560 max: 0.6610 >>> [0.651, 0.661]\n",
            "\tsplit_size:90\t mean:  train--0.7100 test--0.6730 avg: 0.6730 max: 0.6730 >>> [0.673, 0.673]\n",
            "\tsplit_size:50\t var_:  train--0.6510 test--0.5740 avg: 0.5570 max: 0.5740 >>> [0.54, 0.574]\n",
            "\tsplit_size:60\t var_:  train--0.6380 test--0.5500 avg: 0.5570 max: 0.5640 >>> [0.564, 0.55]\n",
            "\tsplit_size:70\t var_:  train--0.6450 test--0.5240 avg: 0.5420 max: 0.5610 >>> [0.561, 0.524]\n",
            "\tsplit_size:80\t var_:  train--0.6550 test--0.5690 avg: 0.5780 max: 0.5870 >>> [0.587, 0.569]\n",
            "\tsplit_size:90\t var_:  train--0.6360 test--0.6180 avg: 0.6270 max: 0.6360 >>> [0.636, 0.618]\n",
            "\tsplit_size:50\t std_:  train--0.6840 test--0.6510 avg: 0.6270 max: 0.6510 >>> [0.603, 0.651]\n",
            "\tsplit_size:60\t std_:  train--0.6810 test--0.6650 avg: 0.6470 max: 0.6650 >>> [0.628, 0.665]\n",
            "\tsplit_size:70\t std_:  train--0.6950 test--0.6340 avg: 0.6310 max: 0.6340 >>> [0.628, 0.634]\n",
            "\tsplit_size:80\t std_:  train--0.6850 test--0.6420 avg: 0.6380 max: 0.6420 >>> [0.633, 0.642]\n",
            "\tsplit_size:90\t std_:  train--0.6790 test--0.7090 avg: 0.6640 max: 0.7090 >>> [0.618, 0.709]\n",
            "\tsplit_size:50\t skew:  train--0.7790 test--0.6030 avg: 0.6060 max: 0.6100 >>> [0.61, 0.603]\n",
            "\tsplit_size:60\t skew:  train--0.7330 test--0.6420 avg: 0.6120 max: 0.6420 >>> [0.583, 0.642]\n",
            "\tsplit_size:70\t skew:  train--0.7630 test--0.6340 avg: 0.6030 max: 0.6340 >>> [0.573, 0.634]\n",
            "\tsplit_size:80\t skew:  train--0.7450 test--0.6420 avg: 0.6520 max: 0.6610 >>> [0.661, 0.642]\n",
            "\tsplit_size:90\t skew:  train--0.7380 test--0.6360 avg: 0.6360 max: 0.6360 >>> [0.636, 0.636]\n",
            "\tsplit_size:50\t kurt:  train--0.6840 test--0.5290 avg: 0.5460 max: 0.5620 >>> [0.562, 0.529]\n",
            "\tsplit_size:60\t kurt:  train--0.6870 test--0.5640 avg: 0.5480 max: 0.5640 >>> [0.532, 0.564]\n",
            "\tsplit_size:70\t kurt:  train--0.6610 test--0.5490 avg: 0.5280 max: 0.5490 >>> [0.506, 0.549]\n",
            "\tsplit_size:80\t kurt:  train--0.6550 test--0.5780 avg: 0.5730 max: 0.5780 >>> [0.569, 0.578]\n",
            "\tsplit_size:90\t kurt:  train--0.6610 test--0.6360 avg: 0.6270 max: 0.6360 >>> [0.618, 0.636]\n"
          ]
        },
        {
          "metadata": {
            "tags": null
          },
          "name": "stderr",
          "output_type": "stream",
          "text": [
            "100%|██████████| 544/544 [00:26<00:00, 20.25it/s]\n"
          ]
        },
        {
          "metadata": {
            "tags": null
          },
          "name": "stdout",
          "output_type": "stream",
          "text": [
            "\n",
            "window_size: 128\n",
            "\tsplit_size:50\t mean:  train--0.7060 test--0.6400 avg: 0.6730 max: 0.7060 >>> [0.706, 0.64]\n",
            "\tsplit_size:60\t mean:  train--0.7090 test--0.6470 avg: 0.6680 max: 0.6880 >>> [0.688, 0.647]\n",
            "\tsplit_size:70\t mean:  train--0.6920 test--0.6830 avg: 0.6920 max: 0.7010 >>> [0.701, 0.683]\n",
            "\tsplit_size:80\t mean:  train--0.6990 test--0.7250 avg: 0.7110 max: 0.7250 >>> [0.697, 0.725]\n",
            "\tsplit_size:90\t mean:  train--0.6950 test--0.7820 avg: 0.7360 max: 0.7820 >>> [0.691, 0.782]\n",
            "\tsplit_size:50\t var_:  train--0.6840 test--0.5850 avg: 0.6160 max: 0.6470 >>> [0.647, 0.585]\n",
            "\tsplit_size:60\t var_:  train--0.6720 test--0.6100 avg: 0.6140 max: 0.6190 >>> [0.619, 0.61]\n",
            "\tsplit_size:70\t var_:  train--0.6530 test--0.5730 avg: 0.5760 max: 0.5790 >>> [0.579, 0.573]\n",
            "\tsplit_size:80\t var_:  train--0.6480 test--0.6240 avg: 0.6100 max: 0.6240 >>> [0.596, 0.624]\n",
            "\tsplit_size:90\t var_:  train--0.6750 test--0.6550 avg: 0.6180 max: 0.6550 >>> [0.582, 0.655]\n",
            "\tsplit_size:50\t std_:  train--0.6950 test--0.6400 avg: 0.6660 max: 0.6910 >>> [0.691, 0.64]\n",
            "\tsplit_size:60\t std_:  train--0.6960 test--0.6420 avg: 0.6540 max: 0.6650 >>> [0.665, 0.642]\n",
            "\tsplit_size:70\t std_:  train--0.6870 test--0.6340 avg: 0.6560 max: 0.6770 >>> [0.677, 0.634]\n",
            "\tsplit_size:80\t std_:  train--0.6870 test--0.6790 avg: 0.6700 max: 0.6790 >>> [0.661, 0.679]\n",
            "\tsplit_size:90\t std_:  train--0.7030 test--0.7270 avg: 0.7000 max: 0.7270 >>> [0.673, 0.727]\n",
            "\tsplit_size:50\t skew:  train--0.7980 test--0.6760 avg: 0.6580 max: 0.6760 >>> [0.64, 0.676]\n",
            "\tsplit_size:60\t skew:  train--0.8250 test--0.7290 avg: 0.6920 max: 0.7290 >>> [0.656, 0.729]\n",
            "\tsplit_size:70\t skew:  train--0.8080 test--0.7260 avg: 0.6830 max: 0.7260 >>> [0.64, 0.726]\n",
            "\tsplit_size:80\t skew:  train--0.8280 test--0.7250 avg: 0.6740 max: 0.7250 >>> [0.624, 0.725]\n",
            "\tsplit_size:90\t skew:  train--0.8320 test--0.7450 avg: 0.7000 max: 0.7450 >>> [0.655, 0.745]\n",
            "\tsplit_size:50\t kurt:  train--0.7940 test--0.6030 avg: 0.5760 max: 0.6030 >>> [0.548, 0.603]\n",
            "\tsplit_size:60\t kurt:  train--0.7850 test--0.6280 avg: 0.5940 max: 0.6280 >>> [0.56, 0.628]\n",
            "\tsplit_size:70\t kurt:  train--0.7680 test--0.5730 avg: 0.5640 max: 0.5730 >>> [0.555, 0.573]\n",
            "\tsplit_size:80\t kurt:  train--0.7590 test--0.5500 avg: 0.5360 max: 0.5500 >>> [0.523, 0.55]\n",
            "\tsplit_size:90\t kurt:  train--0.7730 test--0.6000 avg: 0.5910 max: 0.6000 >>> [0.582, 0.6]\n"
          ]
        },
        {
          "metadata": {
            "tags": null
          },
          "name": "stderr",
          "output_type": "stream",
          "text": [
            "100%|██████████| 544/544 [00:53<00:00, 10.16it/s]\n"
          ]
        },
        {
          "metadata": {
            "tags": null
          },
          "name": "stdout",
          "output_type": "stream",
          "text": [
            "\n",
            "window_size: 64\n",
            "\tsplit_size:50\t mean:  train--0.7130 test--0.6950 avg: 0.6780 max: 0.6950 >>> [0.662, 0.695]\n",
            "\tsplit_size:60\t mean:  train--0.7270 test--0.6740 avg: 0.6790 max: 0.6830 >>> [0.683, 0.674]\n",
            "\tsplit_size:70\t mean:  train--0.7110 test--0.6890 avg: 0.6890 max: 0.6890 >>> [0.689, 0.689]\n",
            "\tsplit_size:80\t mean:  train--0.7290 test--0.6240 avg: 0.6560 max: 0.6880 >>> [0.688, 0.624]\n",
            "\tsplit_size:90\t mean:  train--0.7280 test--0.6550 avg: 0.7100 max: 0.7640 >>> [0.764, 0.655]\n",
            "\tsplit_size:50\t var_:  train--0.6690 test--0.6290 avg: 0.6190 max: 0.6290 >>> [0.61, 0.629]\n",
            "\tsplit_size:60\t var_:  train--0.6810 test--0.6100 avg: 0.5890 max: 0.6100 >>> [0.569, 0.61]\n",
            "\tsplit_size:70\t var_:  train--0.6630 test--0.6340 avg: 0.5980 max: 0.6340 >>> [0.561, 0.634]\n",
            "\tsplit_size:80\t var_:  train--0.6780 test--0.6060 avg: 0.5740 max: 0.6060 >>> [0.541, 0.606]\n",
            "\tsplit_size:90\t var_:  train--0.6790 test--0.6550 avg: 0.6280 max: 0.6550 >>> [0.6, 0.655]\n",
            "\tsplit_size:50\t std_:  train--0.7130 test--0.6910 avg: 0.6720 max: 0.6910 >>> [0.654, 0.691]\n",
            "\tsplit_size:60\t std_:  train--0.7180 test--0.6560 avg: 0.6520 max: 0.6560 >>> [0.647, 0.656]\n",
            "\tsplit_size:70\t std_:  train--0.7110 test--0.6710 avg: 0.6680 max: 0.6710 >>> [0.665, 0.671]\n",
            "\tsplit_size:80\t std_:  train--0.7150 test--0.6240 avg: 0.6380 max: 0.6510 >>> [0.651, 0.624]\n",
            "\tsplit_size:90\t std_:  train--0.7100 test--0.6360 avg: 0.6550 max: 0.6730 >>> [0.673, 0.636]\n",
            "\tsplit_size:50\t skew:  train--0.9120 test--0.6510 avg: 0.6510 max: 0.6510 >>> [0.651, 0.651]\n",
            "\tsplit_size:60\t skew:  train--0.9330 test--0.6930 avg: 0.6900 max: 0.6930 >>> [0.688, 0.693]\n",
            "\tsplit_size:70\t skew:  train--0.9080 test--0.7010 avg: 0.6920 max: 0.7010 >>> [0.683, 0.701]\n",
            "\tsplit_size:80\t skew:  train--0.9080 test--0.7060 avg: 0.7200 max: 0.7340 >>> [0.734, 0.706]\n",
            "\tsplit_size:90\t skew:  train--0.9060 test--0.7090 avg: 0.6910 max: 0.7090 >>> [0.673, 0.709]\n",
            "\tsplit_size:50\t kurt:  train--0.8750 test--0.5920 avg: 0.6120 max: 0.6320 >>> [0.632, 0.592]\n",
            "\tsplit_size:60\t kurt:  train--0.8680 test--0.6010 avg: 0.6100 max: 0.6190 >>> [0.619, 0.601]\n",
            "\tsplit_size:70\t kurt:  train--0.8840 test--0.6590 avg: 0.6560 max: 0.6590 >>> [0.652, 0.659]\n",
            "\tsplit_size:80\t kurt:  train--0.8940 test--0.6150 avg: 0.6430 max: 0.6700 >>> [0.67, 0.615]\n",
            "\tsplit_size:90\t kurt:  train--0.8810 test--0.5270 avg: 0.5540 max: 0.5820 >>> [0.582, 0.527]\n"
          ]
        },
        {
          "metadata": {
            "tags": null
          },
          "name": "stderr",
          "output_type": "stream",
          "text": [
            "100%|██████████| 544/544 [01:47<00:00,  5.08it/s]\n"
          ]
        },
        {
          "metadata": {
            "tags": null
          },
          "name": "stdout",
          "output_type": "stream",
          "text": [
            "\n",
            "window_size: 32\n",
            "\tsplit_size:50\t mean:  train--0.7320 test--0.6840 avg: 0.6660 max: 0.6840 >>> [0.647, 0.684]\n",
            "\tsplit_size:60\t mean:  train--0.7360 test--0.6930 avg: 0.6880 max: 0.6930 >>> [0.683, 0.693]\n",
            "\tsplit_size:70\t mean:  train--0.7450 test--0.6830 avg: 0.6860 max: 0.6890 >>> [0.689, 0.683]\n",
            "\tsplit_size:80\t mean:  train--0.7540 test--0.6420 avg: 0.6330 max: 0.6420 >>> [0.624, 0.642]\n",
            "\tsplit_size:90\t mean:  train--0.7440 test--0.6730 avg: 0.6730 max: 0.6730 >>> [0.673, 0.673]\n",
            "\tsplit_size:50\t var_:  train--0.7500 test--0.6320 avg: 0.6250 max: 0.6320 >>> [0.618, 0.632]\n",
            "\tsplit_size:60\t var_:  train--0.7450 test--0.6190 avg: 0.6120 max: 0.6190 >>> [0.606, 0.619]\n",
            "\tsplit_size:70\t var_:  train--0.7680 test--0.6460 avg: 0.6370 max: 0.6460 >>> [0.628, 0.646]\n",
            "\tsplit_size:80\t var_:  train--0.7680 test--0.6330 avg: 0.6140 max: 0.6330 >>> [0.596, 0.633]\n",
            "\tsplit_size:90\t var_:  train--0.7710 test--0.6910 avg: 0.6360 max: 0.6910 >>> [0.582, 0.691]\n",
            "\tsplit_size:50\t std_:  train--0.7500 test--0.6910 avg: 0.6580 max: 0.6910 >>> [0.625, 0.691]\n",
            "\tsplit_size:60\t std_:  train--0.7550 test--0.6560 avg: 0.6380 max: 0.6560 >>> [0.619, 0.656]\n",
            "\tsplit_size:70\t std_:  train--0.7470 test--0.6710 avg: 0.6590 max: 0.6710 >>> [0.646, 0.671]\n",
            "\tsplit_size:80\t std_:  train--0.7560 test--0.6420 avg: 0.6190 max: 0.6420 >>> [0.596, 0.642]\n",
            "\tsplit_size:90\t std_:  train--0.7480 test--0.7090 avg: 0.6820 max: 0.7090 >>> [0.655, 0.709]\n",
            "\tsplit_size:50\t skew:  train--0.9670 test--0.6990 avg: 0.6780 max: 0.6990 >>> [0.658, 0.699]\n",
            "\tsplit_size:60\t skew:  train--0.9600 test--0.7340 avg: 0.7080 max: 0.7340 >>> [0.683, 0.734]\n",
            "\tsplit_size:70\t skew:  train--0.9630 test--0.7260 avg: 0.6980 max: 0.7260 >>> [0.671, 0.726]\n",
            "\tsplit_size:80\t skew:  train--0.9610 test--0.7520 avg: 0.7110 max: 0.7520 >>> [0.67, 0.752]\n",
            "\tsplit_size:90\t skew:  train--0.9690 test--0.7270 avg: 0.6910 max: 0.7270 >>> [0.655, 0.727]\n",
            "\tsplit_size:50\t kurt:  train--0.9560 test--0.6210 avg: 0.5970 max: 0.6210 >>> [0.574, 0.621]\n",
            "\tsplit_size:60\t kurt:  train--0.9690 test--0.6420 avg: 0.5850 max: 0.6420 >>> [0.528, 0.642]\n",
            "\tsplit_size:70\t kurt:  train--0.9630 test--0.6950 avg: 0.6090 max: 0.6950 >>> [0.524, 0.695]\n",
            "\tsplit_size:80\t kurt:  train--0.9660 test--0.6330 avg: 0.5550 max: 0.6330 >>> [0.477, 0.633]\n",
            "\tsplit_size:90\t kurt:  train--0.9690 test--0.6360 avg: 0.6000 max: 0.6360 >>> [0.564, 0.636]\n"
          ]
        },
        {
          "metadata": {
            "tags": null
          },
          "name": "stderr",
          "output_type": "stream",
          "text": [
            "100%|██████████| 544/544 [03:21<00:00,  2.70it/s]\n"
          ]
        },
        {
          "metadata": {
            "tags": null
          },
          "name": "stdout",
          "output_type": "stream",
          "text": [
            "\n",
            "window_size: 16\n",
            "\tsplit_size:50\t mean:  train--0.8820 test--0.8090 avg: 0.8220 max: 0.8350 >>> [0.835, 0.809]\n",
            "\tsplit_size:60\t mean:  train--0.8830 test--0.8390 avg: 0.8340 max: 0.8390 >>> [0.83, 0.839]\n",
            "\tsplit_size:70\t mean:  train--0.9080 test--0.8350 avg: 0.8290 max: 0.8350 >>> [0.823, 0.835]\n",
            "\tsplit_size:80\t mean:  train--0.9100 test--0.8440 avg: 0.8530 max: 0.8620 >>> [0.862, 0.844]\n",
            "\tsplit_size:90\t mean:  train--0.9180 test--0.8360 avg: 0.8720 max: 0.9090 >>> [0.909, 0.836]\n",
            "\tsplit_size:50\t var_:  train--0.8090 test--0.6140 avg: 0.6100 max: 0.6140 >>> [0.607, 0.614]\n",
            "\tsplit_size:60\t var_:  train--0.8040 test--0.5830 avg: 0.6010 max: 0.6190 >>> [0.619, 0.583]\n",
            "\tsplit_size:70\t var_:  train--0.8050 test--0.5980 avg: 0.5800 max: 0.5980 >>> [0.561, 0.598]\n",
            "\tsplit_size:80\t var_:  train--0.8250 test--0.6330 avg: 0.6140 max: 0.6330 >>> [0.596, 0.633]\n",
            "\tsplit_size:90\t var_:  train--0.8240 test--0.6180 avg: 0.6180 max: 0.6180 >>> [0.618, 0.618]\n",
            "\tsplit_size:50\t std_:  train--0.8600 test--0.6910 avg: 0.6960 max: 0.7020 >>> [0.702, 0.691]\n",
            "\tsplit_size:60\t std_:  train--0.8370 test--0.7020 avg: 0.7090 max: 0.7160 >>> [0.716, 0.702]\n",
            "\tsplit_size:70\t std_:  train--0.8660 test--0.7070 avg: 0.6980 max: 0.7070 >>> [0.689, 0.707]\n",
            "\tsplit_size:80\t std_:  train--0.8600 test--0.7250 avg: 0.7200 max: 0.7250 >>> [0.716, 0.725]\n",
            "\tsplit_size:90\t std_:  train--0.8650 test--0.6550 avg: 0.7360 max: 0.8180 >>> [0.818, 0.655]\n",
            "\tsplit_size:50\t skew:  train--0.9890 test--0.8240 avg: 0.8160 max: 0.8240 >>> [0.809, 0.824]\n",
            "\tsplit_size:60\t skew:  train--0.9910 test--0.8490 avg: 0.8420 max: 0.8490 >>> [0.835, 0.849]\n",
            "\tsplit_size:70\t skew:  train--0.9870 test--0.8410 avg: 0.8470 max: 0.8540 >>> [0.854, 0.841]\n",
            "\tsplit_size:80\t skew:  train--0.9910 test--0.8900 avg: 0.8810 max: 0.8900 >>> [0.872, 0.89]\n",
            "\tsplit_size:90\t skew:  train--0.9900 test--0.8550 avg: 0.8820 max: 0.9090 >>> [0.909, 0.855]\n",
            "\tsplit_size:50\t kurt:  train--1.0000 test--0.6510 avg: 0.6550 max: 0.6580 >>> [0.658, 0.651]\n",
            "\tsplit_size:60\t kurt:  train--1.0000 test--0.6830 avg: 0.6670 max: 0.6830 >>> [0.651, 0.683]\n",
            "\tsplit_size:70\t kurt:  train--1.0000 test--0.6340 avg: 0.6340 max: 0.6340 >>> [0.634, 0.634]\n",
            "\tsplit_size:80\t kurt:  train--1.0000 test--0.7060 avg: 0.6600 max: 0.7060 >>> [0.615, 0.706]\n",
            "\tsplit_size:90\t kurt:  train--1.0000 test--0.6550 avg: 0.6730 max: 0.6910 >>> [0.691, 0.655]\n"
          ]
        },
        {
          "metadata": {
            "tags": null
          },
          "name": "stderr",
          "output_type": "stream",
          "text": [
            "100%|██████████| 544/544 [06:42<00:00,  1.35it/s]\n"
          ]
        },
        {
          "metadata": {
            "tags": null
          },
          "name": "stdout",
          "output_type": "stream",
          "text": [
            "\n",
            "window_size: 8\n",
            "\tsplit_size:50\t mean:  train--0.9120 test--0.8310 avg: 0.8040 max: 0.8310 >>> [0.776, 0.831]\n",
            "\tsplit_size:60\t mean:  train--0.9230 test--0.8260 avg: 0.8260 max: 0.8260 >>> [0.826, 0.826]\n",
            "\tsplit_size:70\t mean:  train--0.9370 test--0.9090 avg: 0.8880 max: 0.9090 >>> [0.866, 0.909]\n",
            "\tsplit_size:80\t mean:  train--0.9590 test--0.8990 avg: 0.8810 max: 0.8990 >>> [0.862, 0.899]\n",
            "\tsplit_size:90\t mean:  train--0.9630 test--0.9270 avg: 0.9000 max: 0.9270 >>> [0.873, 0.927]\n",
            "\tsplit_size:50\t var_:  train--0.8750 test--0.6210 avg: 0.5970 max: 0.6210 >>> [0.574, 0.621]\n",
            "\tsplit_size:60\t var_:  train--0.8800 test--0.6280 avg: 0.6030 max: 0.6280 >>> [0.578, 0.628]\n",
            "\tsplit_size:70\t var_:  train--0.8870 test--0.6520 avg: 0.6250 max: 0.6520 >>> [0.598, 0.652]\n",
            "\tsplit_size:80\t var_:  train--0.8690 test--0.6880 avg: 0.6600 max: 0.6880 >>> [0.633, 0.688]\n",
            "\tsplit_size:90\t var_:  train--0.8630 test--0.7270 avg: 0.6360 max: 0.7270 >>> [0.545, 0.727]\n",
            "\tsplit_size:50\t std_:  train--0.9260 test--0.6580 avg: 0.6270 max: 0.6580 >>> [0.596, 0.658]\n",
            "\tsplit_size:60\t std_:  train--0.9330 test--0.6330 avg: 0.6290 max: 0.6330 >>> [0.624, 0.633]\n",
            "\tsplit_size:70\t std_:  train--0.9110 test--0.6650 avg: 0.6680 max: 0.6710 >>> [0.671, 0.665]\n",
            "\tsplit_size:80\t std_:  train--0.9030 test--0.6700 avg: 0.6750 max: 0.6790 >>> [0.679, 0.67]\n",
            "\tsplit_size:90\t std_:  train--0.8920 test--0.7640 avg: 0.7000 max: 0.7640 >>> [0.636, 0.764]\n",
            "\tsplit_size:50\t skew:  train--0.9960 test--0.5990 avg: 0.5880 max: 0.5990 >>> [0.577, 0.599]\n",
            "\tsplit_size:60\t skew:  train--0.9970 test--0.5830 avg: 0.5920 max: 0.6010 >>> [0.601, 0.583]\n",
            "\tsplit_size:70\t skew:  train--0.9970 test--0.5790 avg: 0.6190 max: 0.6590 >>> [0.659, 0.579]\n",
            "\tsplit_size:80\t skew:  train--1.0000 test--0.5870 avg: 0.6460 max: 0.7060 >>> [0.706, 0.587]\n",
            "\tsplit_size:90\t skew:  train--0.9980 test--0.6360 avg: 0.6550 max: 0.6730 >>> [0.673, 0.636]\n",
            "\tsplit_size:50\t kurt:  train--1.0000 test--0.5400 avg: 0.5240 max: 0.5400 >>> [0.507, 0.54]\n",
            "\tsplit_size:60\t kurt:  train--1.0000 test--0.5320 avg: 0.5250 max: 0.5320 >>> [0.518, 0.532]\n",
            "\tsplit_size:70\t kurt:  train--1.0000 test--0.5300 avg: 0.5210 max: 0.5300 >>> [0.512, 0.53]\n",
            "\tsplit_size:80\t kurt:  train--1.0000 test--0.5230 avg: 0.5320 max: 0.5410 >>> [0.541, 0.523]\n",
            "\tsplit_size:90\t kurt:  train--1.0000 test--0.5640 avg: 0.5820 max: 0.6000 >>> [0.6, 0.564]\n"
          ]
        },
        {
          "metadata": {
            "tags": null
          },
          "name": "stderr",
          "output_type": "stream",
          "text": [
            "100%|██████████| 544/544 [13:18<00:00,  1.47s/it]\n"
          ]
        },
        {
          "metadata": {
            "tags": null
          },
          "name": "stdout",
          "output_type": "stream",
          "text": [
            "\n",
            "window_size: 4\n",
            "\tsplit_size:50\t mean:  train--0.9600 test--0.7980 avg: 0.8050 max: 0.8120 >>> [0.812, 0.798]\n",
            "\tsplit_size:60\t mean:  train--0.9690 test--0.8120 avg: 0.8350 max: 0.8580 >>> [0.858, 0.812]\n",
            "\tsplit_size:70\t mean:  train--0.9660 test--0.8720 avg: 0.8780 max: 0.8840 >>> [0.884, 0.872]\n",
            "\tsplit_size:80\t mean:  train--0.9680 test--0.9170 avg: 0.9270 max: 0.9360 >>> [0.936, 0.917]\n",
            "\tsplit_size:90\t mean:  train--0.9610 test--0.8910 avg: 0.9000 max: 0.9090 >>> [0.909, 0.891]\n",
            "\tsplit_size:50\t var_:  train--0.9600 test--0.5590 avg: 0.5760 max: 0.5920 >>> [0.592, 0.559]\n",
            "\tsplit_size:60\t var_:  train--0.9540 test--0.5830 avg: 0.5850 max: 0.5870 >>> [0.587, 0.583]\n",
            "\tsplit_size:70\t var_:  train--0.9080 test--0.6160 avg: 0.6160 max: 0.6160 >>> [0.616, 0.616]\n",
            "\tsplit_size:80\t var_:  train--0.9220 test--0.7060 avg: 0.6740 max: 0.7060 >>> [0.642, 0.706]\n",
            "\tsplit_size:90\t var_:  train--0.9220 test--0.5640 avg: 0.5910 max: 0.6180 >>> [0.618, 0.564]\n",
            "\tsplit_size:50\t std_:  train--0.9600 test--0.6180 avg: 0.6190 max: 0.6210 >>> [0.621, 0.618]\n",
            "\tsplit_size:60\t std_:  train--0.9450 test--0.5830 avg: 0.5990 max: 0.6150 >>> [0.615, 0.583]\n",
            "\tsplit_size:70\t std_:  train--0.9160 test--0.6710 avg: 0.6440 max: 0.6710 >>> [0.616, 0.671]\n",
            "\tsplit_size:80\t std_:  train--0.9080 test--0.6970 avg: 0.6650 max: 0.6970 >>> [0.633, 0.697]\n",
            "\tsplit_size:90\t std_:  train--0.9200 test--0.5450 avg: 0.5640 max: 0.5820 >>> [0.582, 0.545]\n",
            "\tsplit_size:50\t skew:  train--1.0000 test--0.5440 avg: 0.5760 max: 0.6070 >>> [0.607, 0.544]\n",
            "\tsplit_size:60\t skew:  train--1.0000 test--0.5280 avg: 0.5560 max: 0.5830 >>> [0.583, 0.528]\n",
            "\tsplit_size:70\t skew:  train--1.0000 test--0.6460 avg: 0.6180 max: 0.6460 >>> [0.591, 0.646]\n",
            "\tsplit_size:80\t skew:  train--1.0000 test--0.6790 avg: 0.6290 max: 0.6790 >>> [0.578, 0.679]\n",
            "\tsplit_size:90\t skew:  train--1.0000 test--0.6910 avg: 0.6180 max: 0.6910 >>> [0.545, 0.691]\n",
            "\tsplit_size:50\t kurt:  train--1.0000 test--0.5260 avg: 0.5460 max: 0.5660 >>> [0.566, 0.526]\n",
            "\tsplit_size:60\t kurt:  train--1.0000 test--0.5090 avg: 0.5640 max: 0.6190 >>> [0.619, 0.509]\n",
            "\tsplit_size:70\t kurt:  train--1.0000 test--0.5910 avg: 0.6090 max: 0.6280 >>> [0.628, 0.591]\n",
            "\tsplit_size:80\t kurt:  train--1.0000 test--0.6150 avg: 0.6240 max: 0.6330 >>> [0.633, 0.615]\n",
            "\tsplit_size:90\t kurt:  train--1.0000 test--0.5450 avg: 0.6000 max: 0.6550 >>> [0.655, 0.545]\n"
          ]
        },
        {
          "metadata": {
            "tags": null
          },
          "name": "stderr",
          "output_type": "stream",
          "text": [
            "100%|██████████| 544/544 [22:45<00:00,  2.51s/it]\n"
          ]
        },
        {
          "metadata": {
            "tags": null
          },
          "name": "stdout",
          "output_type": "stream",
          "text": [
            "\n",
            "window_size: 2\n",
            "\tsplit_size:50\t mean:  train--0.9710 test--0.8490 avg: 0.8070 max: 0.8490 >>> [0.765, 0.849]\n",
            "\tsplit_size:60\t mean:  train--0.9480 test--0.8440 avg: 0.8140 max: 0.8440 >>> [0.784, 0.844]\n",
            "\tsplit_size:70\t mean:  train--0.9530 test--0.8110 avg: 0.8140 max: 0.8170 >>> [0.817, 0.811]\n",
            "\tsplit_size:80\t mean:  train--0.9560 test--0.8070 avg: 0.8210 max: 0.8350 >>> [0.835, 0.807]\n",
            "\tsplit_size:90\t mean:  train--0.9730 test--0.7450 avg: 0.8180 max: 0.8910 >>> [0.891, 0.745]\n",
            "\tsplit_size:50\t var_:  train--0.9490 test--0.5990 avg: 0.5900 max: 0.5990 >>> [0.581, 0.599]\n",
            "\tsplit_size:60\t var_:  train--0.9480 test--0.6880 avg: 0.6360 max: 0.6880 >>> [0.583, 0.688]\n",
            "\tsplit_size:70\t var_:  train--0.9500 test--0.6340 avg: 0.6090 max: 0.6340 >>> [0.585, 0.634]\n",
            "\tsplit_size:80\t var_:  train--0.9240 test--0.6420 avg: 0.6140 max: 0.6420 >>> [0.587, 0.642]\n",
            "\tsplit_size:90\t var_:  train--0.9370 test--0.6180 avg: 0.5820 max: 0.6180 >>> [0.545, 0.618]\n",
            "\tsplit_size:50\t std_:  train--0.9740 test--0.6800 avg: 0.6360 max: 0.6800 >>> [0.592, 0.68]\n",
            "\tsplit_size:60\t std_:  train--0.9510 test--0.6970 avg: 0.6650 max: 0.6970 >>> [0.633, 0.697]\n",
            "\tsplit_size:70\t std_:  train--0.9500 test--0.6830 avg: 0.6440 max: 0.6830 >>> [0.604, 0.683]\n",
            "\tsplit_size:80\t std_:  train--0.9290 test--0.6880 avg: 0.6600 max: 0.6880 >>> [0.633, 0.688]\n",
            "\tsplit_size:90\t std_:  train--0.9370 test--0.6910 avg: 0.6360 max: 0.6910 >>> [0.582, 0.691]\n",
            "\tsplit_size:50\t skew:  train--0.5740 test--0.5290 avg: 0.5120 max: 0.5290 >>> [0.496, 0.529]\n",
            "\tsplit_size:60\t skew:  train--0.5640 test--0.5370 avg: 0.5230 max: 0.5370 >>> [0.509, 0.537]\n",
            "\tsplit_size:70\t skew:  train--0.5760 test--0.5240 avg: 0.5120 max: 0.5240 >>> [0.5, 0.524]\n",
            "\tsplit_size:80\t skew:  train--0.5660 test--0.5960 avg: 0.5640 max: 0.5960 >>> [0.532, 0.596]\n",
            "\tsplit_size:90\t skew:  train--0.5690 test--0.5640 avg: 0.5280 max: 0.5640 >>> [0.491, 0.564]\n",
            "\tsplit_size:50\t kurt:  train--1.0000 test--0.5290 avg: 0.5120 max: 0.5290 >>> [0.496, 0.529]\n",
            "\tsplit_size:60\t kurt:  train--0.9970 test--0.5090 avg: 0.5090 max: 0.5090 >>> [0.509, 0.509]\n",
            "\tsplit_size:70\t kurt:  train--1.0000 test--0.5180 avg: 0.5090 max: 0.5180 >>> [0.5, 0.518]\n",
            "\tsplit_size:80\t kurt:  train--0.9930 test--0.4680 avg: 0.4730 max: 0.4770 >>> [0.477, 0.468]\n",
            "\tsplit_size:90\t kurt:  train--0.9980 test--0.4910 avg: 0.4820 max: 0.4910 >>> [0.473, 0.491]\n",
            "\n",
            "window_size: 1\n",
            "\tsplit_size:50\t mean:  train--0.9670 test--0.7830 avg: 0.7780 max: 0.7830 >>> [0.772, 0.783]\n",
            "\tsplit_size:60\t mean:  train--0.9720 test--0.8260 avg: 0.8280 max: 0.8300 >>> [0.83, 0.826]\n",
            "\tsplit_size:70\t mean:  train--0.9580 test--0.8600 avg: 0.8470 max: 0.8600 >>> [0.835, 0.86]\n",
            "\tsplit_size:80\t mean:  train--0.9610 test--0.8720 avg: 0.8670 max: 0.8720 >>> [0.862, 0.872]\n",
            "\tsplit_size:90\t mean:  train--0.9650 test--0.8180 avg: 0.8540 max: 0.8910 >>> [0.891, 0.818]\n",
            "########################## epoch:  2  ###########################\n"
          ]
        },
        {
          "metadata": {
            "tags": null
          },
          "name": "stderr",
          "output_type": "stream",
          "text": [
            "100%|██████████| 544/544 [00:02<00:00, 185.78it/s]\n"
          ]
        },
        {
          "metadata": {
            "tags": null
          },
          "name": "stdout",
          "output_type": "stream",
          "text": [
            "\n",
            "window_size: 1000\n",
            "\tsplit_size:50\t mean:  train--0.6840 test--0.6880 avg: 0.6690 max: 0.6880 >>> [0.654, 0.665, 0.688]\n",
            "\tsplit_size:60\t mean:  train--0.6750 test--0.7200 avg: 0.6760 max: 0.7200 >>> [0.624, 0.683, 0.72]\n",
            "\tsplit_size:70\t mean:  train--0.6630 test--0.7440 avg: 0.6850 max: 0.7440 >>> [0.616, 0.695, 0.744]\n",
            "\tsplit_size:80\t mean:  train--0.6780 test--0.7160 avg: 0.6760 max: 0.7160 >>> [0.615, 0.697, 0.716]\n",
            "\tsplit_size:90\t mean:  train--0.6850 test--0.7450 avg: 0.6790 max: 0.7450 >>> [0.6, 0.691, 0.745]\n",
            "\tsplit_size:50\t var_:  train--0.5880 test--0.6030 avg: 0.5730 max: 0.6030 >>> [0.54, 0.577, 0.603]\n",
            "\tsplit_size:60\t var_:  train--0.5800 test--0.6240 avg: 0.5900 max: 0.6240 >>> [0.541, 0.606, 0.624]\n",
            "\tsplit_size:70\t var_:  train--0.5820 test--0.6520 avg: 0.5980 max: 0.6520 >>> [0.537, 0.604, 0.652]\n",
            "\tsplit_size:80\t var_:  train--0.6000 test--0.6060 avg: 0.5690 max: 0.6060 >>> [0.495, 0.606, 0.606]\n",
            "\tsplit_size:90\t var_:  train--0.5950 test--0.6360 avg: 0.5820 max: 0.6360 >>> [0.473, 0.636, 0.636]\n",
            "\tsplit_size:50\t std_:  train--0.6580 test--0.6620 avg: 0.6420 max: 0.6620 >>> [0.61, 0.654, 0.662]\n",
            "\tsplit_size:60\t std_:  train--0.6440 test--0.6880 avg: 0.6640 max: 0.6880 >>> [0.615, 0.688, 0.688]\n",
            "\tsplit_size:70\t std_:  train--0.6500 test--0.7380 avg: 0.6630 max: 0.7380 >>> [0.598, 0.652, 0.738]\n",
            "\tsplit_size:80\t std_:  train--0.6530 test--0.7160 avg: 0.6610 max: 0.7160 >>> [0.569, 0.697, 0.716]\n",
            "\tsplit_size:90\t std_:  train--0.6630 test--0.7270 avg: 0.6240 max: 0.7270 >>> [0.545, 0.6, 0.727]\n",
            "\tsplit_size:50\t skew:  train--0.6360 test--0.5920 avg: 0.5670 max: 0.5920 >>> [0.548, 0.562, 0.592]\n",
            "\tsplit_size:60\t skew:  train--0.6260 test--0.5780 avg: 0.5730 max: 0.5870 >>> [0.587, 0.555, 0.578]\n",
            "\tsplit_size:70\t skew:  train--0.6450 test--0.5910 avg: 0.5930 max: 0.6280 >>> [0.628, 0.561, 0.591]\n",
            "\tsplit_size:80\t skew:  train--0.6320 test--0.5600 avg: 0.5720 max: 0.6060 >>> [0.606, 0.55, 0.56]\n",
            "\tsplit_size:90\t skew:  train--0.6480 test--0.6000 avg: 0.5640 max: 0.6000 >>> [0.582, 0.509, 0.6]\n",
            "\tsplit_size:50\t kurt:  train--0.6360 test--0.5400 avg: 0.5320 max: 0.5400 >>> [0.518, 0.537, 0.54]\n",
            "\tsplit_size:60\t kurt:  train--0.5950 test--0.5140 avg: 0.5320 max: 0.5410 >>> [0.541, 0.541, 0.514]\n",
            "\tsplit_size:70\t kurt:  train--0.6110 test--0.5300 avg: 0.5300 max: 0.5610 >>> [0.561, 0.5, 0.53]\n",
            "\tsplit_size:80\t kurt:  train--0.5890 test--0.5410 avg: 0.5290 max: 0.5410 >>> [0.523, 0.523, 0.541]\n",
            "\tsplit_size:90\t kurt:  train--0.5870 test--0.4910 avg: 0.4910 max: 0.5090 >>> [0.473, 0.509, 0.491]\n"
          ]
        },
        {
          "metadata": {
            "tags": null
          },
          "name": "stderr",
          "output_type": "stream",
          "text": [
            "100%|██████████| 544/544 [00:36<00:00, 15.10it/s]\n"
          ]
        },
        {
          "metadata": {
            "tags": null
          },
          "name": "stdout",
          "output_type": "stream",
          "text": [
            "\n",
            "window_size: 100\n",
            "\tsplit_size:50\t mean:  train--0.7210 test--0.6880 avg: 0.6790 max: 0.6990 >>> [0.699, 0.651, 0.688]\n",
            "\tsplit_size:60\t mean:  train--0.7150 test--0.6830 avg: 0.6920 max: 0.7060 >>> [0.706, 0.688, 0.683]\n",
            "\tsplit_size:70\t mean:  train--0.7260 test--0.6590 avg: 0.6730 max: 0.6830 >>> [0.677, 0.683, 0.659]\n",
            "\tsplit_size:80\t mean:  train--0.7150 test--0.6970 avg: 0.7030 max: 0.7160 >>> [0.697, 0.716, 0.697]\n",
            "\tsplit_size:90\t mean:  train--0.7060 test--0.7270 avg: 0.7090 max: 0.7270 >>> [0.709, 0.691, 0.727]\n",
            "\tsplit_size:50\t var_:  train--0.6800 test--0.6100 avg: 0.6080 max: 0.6320 >>> [0.632, 0.581, 0.61]\n",
            "\tsplit_size:60\t var_:  train--0.6990 test--0.6100 avg: 0.6160 max: 0.6330 >>> [0.633, 0.606, 0.61]\n",
            "\tsplit_size:70\t var_:  train--0.7000 test--0.5850 avg: 0.5850 max: 0.6100 >>> [0.561, 0.61, 0.585]\n",
            "\tsplit_size:80\t var_:  train--0.6870 test--0.6330 avg: 0.6060 max: 0.6330 >>> [0.56, 0.624, 0.633]\n",
            "\tsplit_size:90\t var_:  train--0.6730 test--0.5820 avg: 0.6000 max: 0.6550 >>> [0.564, 0.655, 0.582]\n",
            "\tsplit_size:50\t std_:  train--0.7130 test--0.6430 avg: 0.6440 max: 0.6800 >>> [0.68, 0.61, 0.643]\n",
            "\tsplit_size:60\t std_:  train--0.7210 test--0.6610 avg: 0.6590 max: 0.6700 >>> [0.67, 0.647, 0.661]\n",
            "\tsplit_size:70\t std_:  train--0.7160 test--0.6460 avg: 0.6520 max: 0.6770 >>> [0.634, 0.677, 0.646]\n",
            "\tsplit_size:80\t std_:  train--0.6970 test--0.6700 avg: 0.6640 max: 0.6700 >>> [0.651, 0.67, 0.67]\n",
            "\tsplit_size:90\t std_:  train--0.6870 test--0.6910 avg: 0.6790 max: 0.6910 >>> [0.691, 0.655, 0.691]\n",
            "\tsplit_size:50\t skew:  train--0.8600 test--0.6250 avg: 0.6200 max: 0.6290 >>> [0.607, 0.629, 0.625]\n",
            "\tsplit_size:60\t skew:  train--0.8340 test--0.6740 avg: 0.6570 max: 0.6740 >>> [0.642, 0.656, 0.674]\n",
            "\tsplit_size:70\t skew:  train--0.8470 test--0.6340 avg: 0.6260 max: 0.6770 >>> [0.567, 0.677, 0.634]\n",
            "\tsplit_size:80\t skew:  train--0.8140 test--0.6700 avg: 0.6730 max: 0.6880 >>> [0.688, 0.661, 0.67]\n",
            "\tsplit_size:90\t skew:  train--0.8360 test--0.6730 avg: 0.7030 max: 0.7270 >>> [0.709, 0.727, 0.673]\n",
            "\tsplit_size:50\t kurt:  train--0.8010 test--0.5740 avg: 0.5560 max: 0.5740 >>> [0.544, 0.551, 0.574]\n",
            "\tsplit_size:60\t kurt:  train--0.7880 test--0.5870 avg: 0.5900 max: 0.6280 >>> [0.628, 0.555, 0.587]\n",
            "\tsplit_size:70\t kurt:  train--0.7920 test--0.5610 avg: 0.5930 max: 0.6460 >>> [0.646, 0.573, 0.561]\n",
            "\tsplit_size:80\t kurt:  train--0.7610 test--0.6060 avg: 0.6000 max: 0.6610 >>> [0.661, 0.532, 0.606]\n",
            "\tsplit_size:90\t kurt:  train--0.7610 test--0.6550 avg: 0.6430 max: 0.6910 >>> [0.691, 0.582, 0.655]\n"
          ]
        },
        {
          "metadata": {
            "tags": null
          },
          "name": "stderr",
          "output_type": "stream",
          "text": [
            "100%|██████████| 544/544 [05:24<00:00,  1.67it/s]\n"
          ]
        },
        {
          "metadata": {
            "tags": null
          },
          "name": "stdout",
          "output_type": "stream",
          "text": [
            "\n",
            "window_size: 10\n",
            "\tsplit_size:50\t mean:  train--0.9120 test--0.7980 avg: 0.8090 max: 0.8160 >>> [0.816, 0.812, 0.798]\n",
            "\tsplit_size:60\t mean:  train--0.9260 test--0.8350 avg: 0.8490 max: 0.8670 >>> [0.844, 0.867, 0.835]\n",
            "\tsplit_size:70\t mean:  train--0.9290 test--0.8480 avg: 0.8640 max: 0.8780 >>> [0.866, 0.878, 0.848]\n",
            "\tsplit_size:80\t mean:  train--0.9380 test--0.8620 avg: 0.8560 max: 0.8620 >>> [0.844, 0.862, 0.862]\n",
            "\tsplit_size:90\t mean:  train--0.9510 test--0.8550 avg: 0.8490 max: 0.8910 >>> [0.8, 0.891, 0.855]\n",
            "\tsplit_size:50\t var_:  train--0.8680 test--0.5920 avg: 0.6200 max: 0.6400 >>> [0.64, 0.629, 0.592]\n",
            "\tsplit_size:60\t var_:  train--0.8680 test--0.6150 avg: 0.6250 max: 0.6420 >>> [0.619, 0.642, 0.615]\n",
            "\tsplit_size:70\t var_:  train--0.8610 test--0.6340 avg: 0.6460 max: 0.6590 >>> [0.659, 0.646, 0.634]\n",
            "\tsplit_size:80\t var_:  train--0.8530 test--0.5780 avg: 0.6120 max: 0.6510 >>> [0.651, 0.606, 0.578]\n",
            "\tsplit_size:90\t var_:  train--0.8490 test--0.5450 avg: 0.6000 max: 0.6550 >>> [0.655, 0.6, 0.545]\n",
            "\tsplit_size:50\t std_:  train--0.9040 test--0.6400 avg: 0.6480 max: 0.6620 >>> [0.643, 0.662, 0.64]\n",
            "\tsplit_size:60\t std_:  train--0.8870 test--0.6510 avg: 0.6630 max: 0.6970 >>> [0.642, 0.697, 0.651]\n",
            "\tsplit_size:70\t std_:  train--0.9000 test--0.6710 avg: 0.6690 max: 0.6950 >>> [0.64, 0.695, 0.671]\n",
            "\tsplit_size:80\t std_:  train--0.8900 test--0.5870 avg: 0.6420 max: 0.6880 >>> [0.651, 0.688, 0.587]\n",
            "\tsplit_size:90\t std_:  train--0.8960 test--0.6550 avg: 0.6490 max: 0.7090 >>> [0.582, 0.709, 0.655]\n",
            "\tsplit_size:50\t skew:  train--1.0000 test--0.6730 avg: 0.6810 max: 0.7170 >>> [0.717, 0.654, 0.673]\n",
            "\tsplit_size:60\t skew:  train--1.0000 test--0.7340 avg: 0.7130 max: 0.7340 >>> [0.725, 0.679, 0.734]\n",
            "\tsplit_size:70\t skew:  train--1.0000 test--0.7070 avg: 0.7220 max: 0.7320 >>> [0.726, 0.732, 0.707]\n",
            "\tsplit_size:80\t skew:  train--1.0000 test--0.7340 avg: 0.7280 max: 0.7520 >>> [0.697, 0.752, 0.734]\n",
            "\tsplit_size:90\t skew:  train--0.9980 test--0.7450 avg: 0.7640 max: 0.8550 >>> [0.691, 0.855, 0.745]\n",
            "\tsplit_size:50\t kurt:  train--1.0000 test--0.6140 avg: 0.5810 max: 0.6140 >>> [0.559, 0.57, 0.614]\n",
            "\tsplit_size:60\t kurt:  train--1.0000 test--0.6010 avg: 0.5900 max: 0.6010 >>> [0.596, 0.573, 0.601]\n",
            "\tsplit_size:70\t kurt:  train--1.0000 test--0.5790 avg: 0.5850 max: 0.6100 >>> [0.61, 0.567, 0.579]\n",
            "\tsplit_size:80\t kurt:  train--1.0000 test--0.6060 avg: 0.5970 max: 0.6150 >>> [0.569, 0.615, 0.606]\n",
            "\tsplit_size:90\t kurt:  train--0.9980 test--0.5450 avg: 0.5820 max: 0.6180 >>> [0.618, 0.582, 0.545]\n"
          ]
        },
        {
          "metadata": {
            "tags": null
          },
          "name": "stderr",
          "output_type": "stream",
          "text": [
            "100%|██████████| 544/544 [00:00<00:00, 726.33it/s]\n"
          ]
        },
        {
          "metadata": {
            "tags": null
          },
          "name": "stdout",
          "output_type": "stream",
          "text": [
            "\n",
            "window_size: 4096\n",
            "\tsplit_size:50\t mean:  train--0.6360 test--0.6510 avg: 0.6470 max: 0.6510 >>> [0.651, 0.64, 0.651]\n",
            "\tsplit_size:60\t mean:  train--0.6200 test--0.6740 avg: 0.6480 max: 0.6740 >>> [0.647, 0.624, 0.674]\n",
            "\tsplit_size:70\t mean:  train--0.6450 test--0.6830 avg: 0.6380 max: 0.6830 >>> [0.634, 0.598, 0.683]\n",
            "\tsplit_size:80\t mean:  train--0.6440 test--0.6330 avg: 0.6510 max: 0.6880 >>> [0.688, 0.633, 0.633]\n",
            "\tsplit_size:90\t mean:  train--0.6540 test--0.6550 avg: 0.6670 max: 0.7270 >>> [0.727, 0.618, 0.655]\n",
            "\tsplit_size:50\t var_:  train--0.5920 test--0.5740 avg: 0.5490 max: 0.5880 >>> [0.485, 0.588, 0.574]\n",
            "\tsplit_size:60\t var_:  train--0.5920 test--0.5730 avg: 0.5440 max: 0.5920 >>> [0.468, 0.592, 0.573]\n",
            "\tsplit_size:70\t var_:  train--0.5920 test--0.6100 avg: 0.6000 max: 0.6100 >>> [0.604, 0.585, 0.61]\n",
            "\tsplit_size:80\t var_:  train--0.5660 test--0.6330 avg: 0.6300 max: 0.6330 >>> [0.633, 0.624, 0.633]\n",
            "\tsplit_size:90\t var_:  train--0.5910 test--0.6910 avg: 0.6970 max: 0.7090 >>> [0.709, 0.691, 0.691]\n",
            "\tsplit_size:50\t std_:  train--0.6430 test--0.6180 avg: 0.5760 max: 0.6250 >>> [0.485, 0.625, 0.618]\n",
            "\tsplit_size:60\t std_:  train--0.6350 test--0.6330 avg: 0.6190 max: 0.6420 >>> [0.583, 0.642, 0.633]\n",
            "\tsplit_size:70\t std_:  train--0.6420 test--0.6280 avg: 0.6380 max: 0.6590 >>> [0.659, 0.628, 0.628]\n",
            "\tsplit_size:80\t std_:  train--0.6370 test--0.6880 avg: 0.6640 max: 0.6880 >>> [0.67, 0.633, 0.688]\n",
            "\tsplit_size:90\t std_:  train--0.6540 test--0.6730 avg: 0.6850 max: 0.7090 >>> [0.709, 0.673, 0.673]\n",
            "\tsplit_size:50\t skew:  train--0.6510 test--0.6990 avg: 0.6750 max: 0.6990 >>> [0.651, 0.676, 0.699]\n",
            "\tsplit_size:60\t skew:  train--0.6660 test--0.7020 avg: 0.6650 max: 0.7020 >>> [0.638, 0.656, 0.702]\n",
            "\tsplit_size:70\t skew:  train--0.6710 test--0.6890 avg: 0.6870 max: 0.7130 >>> [0.713, 0.659, 0.689]\n",
            "\tsplit_size:80\t skew:  train--0.6710 test--0.6330 avg: 0.6850 max: 0.7340 >>> [0.734, 0.688, 0.633]\n",
            "\tsplit_size:90\t skew:  train--0.6710 test--0.6730 avg: 0.6910 max: 0.7270 >>> [0.727, 0.673, 0.673]\n",
            "\tsplit_size:50\t kurt:  train--0.6140 test--0.6360 avg: 0.5830 max: 0.6360 >>> [0.496, 0.618, 0.636]\n",
            "\tsplit_size:60\t kurt:  train--0.5920 test--0.6880 avg: 0.5990 max: 0.6880 >>> [0.495, 0.615, 0.688]\n",
            "\tsplit_size:70\t kurt:  train--0.6290 test--0.6770 avg: 0.6550 max: 0.6770 >>> [0.665, 0.622, 0.677]\n",
            "\tsplit_size:80\t kurt:  train--0.6480 test--0.5960 avg: 0.6270 max: 0.6880 >>> [0.688, 0.596, 0.596]\n",
            "\tsplit_size:90\t kurt:  train--0.6420 test--0.6730 avg: 0.6300 max: 0.6730 >>> [0.618, 0.6, 0.673]\n"
          ]
        },
        {
          "metadata": {
            "tags": null
          },
          "name": "stderr",
          "output_type": "stream",
          "text": [
            "100%|██████████| 544/544 [00:01<00:00, 376.18it/s]\n"
          ]
        },
        {
          "metadata": {
            "tags": null
          },
          "name": "stdout",
          "output_type": "stream",
          "text": [
            "\n",
            "window_size: 2048\n",
            "\tsplit_size:50\t mean:  train--0.6880 test--0.6800 avg: 0.6650 max: 0.6800 >>> [0.658, 0.658, 0.68]\n",
            "\tsplit_size:60\t mean:  train--0.6870 test--0.7060 avg: 0.6820 max: 0.7060 >>> [0.661, 0.679, 0.706]\n",
            "\tsplit_size:70\t mean:  train--0.6760 test--0.7200 avg: 0.7010 max: 0.7200 >>> [0.707, 0.677, 0.72]\n",
            "\tsplit_size:80\t mean:  train--0.6760 test--0.7610 avg: 0.7280 max: 0.7710 >>> [0.771, 0.651, 0.761]\n",
            "\tsplit_size:90\t mean:  train--0.7010 test--0.7640 avg: 0.7150 max: 0.7640 >>> [0.745, 0.636, 0.764]\n",
            "\tsplit_size:50\t var_:  train--0.5990 test--0.5590 avg: 0.5760 max: 0.5880 >>> [0.581, 0.588, 0.559]\n",
            "\tsplit_size:60\t var_:  train--0.6010 test--0.5600 avg: 0.5770 max: 0.6010 >>> [0.601, 0.569, 0.56]\n",
            "\tsplit_size:70\t var_:  train--0.6030 test--0.5550 avg: 0.5710 max: 0.6160 >>> [0.616, 0.543, 0.555]\n",
            "\tsplit_size:80\t var_:  train--0.6000 test--0.5960 avg: 0.5900 max: 0.6510 >>> [0.651, 0.523, 0.596]\n",
            "\tsplit_size:90\t var_:  train--0.6070 test--0.6360 avg: 0.5940 max: 0.6360 >>> [0.618, 0.527, 0.636]\n",
            "\tsplit_size:50\t std_:  train--0.6400 test--0.6210 avg: 0.6210 max: 0.6250 >>> [0.625, 0.618, 0.621]\n",
            "\tsplit_size:60\t std_:  train--0.6500 test--0.6610 avg: 0.6470 max: 0.6610 >>> [0.651, 0.628, 0.661]\n",
            "\tsplit_size:70\t std_:  train--0.6580 test--0.6340 avg: 0.6400 max: 0.6590 >>> [0.659, 0.628, 0.634]\n",
            "\tsplit_size:80\t std_:  train--0.6620 test--0.6970 avg: 0.6790 max: 0.7060 >>> [0.706, 0.633, 0.697]\n",
            "\tsplit_size:90\t std_:  train--0.6540 test--0.6910 avg: 0.6850 max: 0.7090 >>> [0.709, 0.655, 0.691]\n",
            "\tsplit_size:50\t skew:  train--0.5850 test--0.5740 avg: 0.5750 max: 0.5770 >>> [0.574, 0.577, 0.574]\n",
            "\tsplit_size:60\t skew:  train--0.6130 test--0.5960 avg: 0.5750 max: 0.5960 >>> [0.564, 0.564, 0.596]\n",
            "\tsplit_size:70\t skew:  train--0.5970 test--0.5790 avg: 0.5810 max: 0.5850 >>> [0.585, 0.579, 0.579]\n",
            "\tsplit_size:80\t skew:  train--0.6140 test--0.6510 avg: 0.6240 max: 0.6510 >>> [0.615, 0.606, 0.651]\n",
            "\tsplit_size:90\t skew:  train--0.6090 test--0.6910 avg: 0.6240 max: 0.6910 >>> [0.582, 0.6, 0.691]\n",
            "\tsplit_size:50\t kurt:  train--0.5920 test--0.5510 avg: 0.5710 max: 0.5960 >>> [0.566, 0.596, 0.551]\n",
            "\tsplit_size:60\t kurt:  train--0.5860 test--0.5870 avg: 0.5720 max: 0.5870 >>> [0.56, 0.569, 0.587]\n",
            "\tsplit_size:70\t kurt:  train--0.5950 test--0.5850 avg: 0.5790 max: 0.5980 >>> [0.555, 0.598, 0.585]\n",
            "\tsplit_size:80\t kurt:  train--0.5860 test--0.6060 avg: 0.5870 max: 0.6330 >>> [0.523, 0.633, 0.606]\n",
            "\tsplit_size:90\t kurt:  train--0.5970 test--0.5640 avg: 0.5880 max: 0.6730 >>> [0.527, 0.673, 0.564]\n"
          ]
        },
        {
          "metadata": {
            "tags": null
          },
          "name": "stderr",
          "output_type": "stream",
          "text": [
            "100%|██████████| 544/544 [00:02<00:00, 188.16it/s]\n"
          ]
        },
        {
          "metadata": {
            "tags": null
          },
          "name": "stdout",
          "output_type": "stream",
          "text": [
            "\n",
            "window_size: 1024\n",
            "\tsplit_size:50\t mean:  train--0.7020 test--0.6580 avg: 0.6690 max: 0.6800 >>> [0.68, 0.669, 0.658]\n",
            "\tsplit_size:60\t mean:  train--0.6660 test--0.6930 avg: 0.6850 max: 0.6930 >>> [0.693, 0.67, 0.693]\n",
            "\tsplit_size:70\t mean:  train--0.6740 test--0.7200 avg: 0.6810 max: 0.7200 >>> [0.683, 0.64, 0.72]\n",
            "\tsplit_size:80\t mean:  train--0.6850 test--0.6790 avg: 0.6640 max: 0.7160 >>> [0.716, 0.596, 0.679]\n",
            "\tsplit_size:90\t mean:  train--0.6790 test--0.7270 avg: 0.6790 max: 0.7270 >>> [0.709, 0.6, 0.727]\n",
            "\tsplit_size:50\t var_:  train--0.5960 test--0.5770 avg: 0.5870 max: 0.6250 >>> [0.625, 0.559, 0.577]\n",
            "\tsplit_size:60\t var_:  train--0.5860 test--0.5830 avg: 0.5770 max: 0.6060 >>> [0.606, 0.541, 0.583]\n",
            "\tsplit_size:70\t var_:  train--0.5890 test--0.6040 avg: 0.5860 max: 0.6100 >>> [0.61, 0.543, 0.604]\n",
            "\tsplit_size:80\t var_:  train--0.6000 test--0.5870 avg: 0.5570 max: 0.6060 >>> [0.606, 0.477, 0.587]\n",
            "\tsplit_size:90\t var_:  train--0.6090 test--0.5450 avg: 0.5390 max: 0.6180 >>> [0.618, 0.455, 0.545]\n",
            "\tsplit_size:50\t std_:  train--0.6760 test--0.6290 avg: 0.6450 max: 0.6840 >>> [0.684, 0.621, 0.629]\n",
            "\tsplit_size:60\t std_:  train--0.6630 test--0.6700 avg: 0.6650 max: 0.7110 >>> [0.711, 0.615, 0.67]\n",
            "\tsplit_size:70\t std_:  train--0.6470 test--0.6710 avg: 0.6590 max: 0.7070 >>> [0.707, 0.598, 0.671]\n",
            "\tsplit_size:80\t std_:  train--0.6460 test--0.6610 avg: 0.6610 max: 0.7430 >>> [0.743, 0.578, 0.661]\n",
            "\tsplit_size:90\t std_:  train--0.6480 test--0.6910 avg: 0.6370 max: 0.6910 >>> [0.655, 0.564, 0.691]\n",
            "\tsplit_size:50\t skew:  train--0.6400 test--0.5850 avg: 0.5650 max: 0.5960 >>> [0.596, 0.515, 0.585]\n",
            "\tsplit_size:60\t skew:  train--0.6290 test--0.6060 avg: 0.5830 max: 0.6060 >>> [0.596, 0.546, 0.606]\n",
            "\tsplit_size:70\t skew:  train--0.6030 test--0.5610 avg: 0.5530 max: 0.5610 >>> [0.549, 0.549, 0.561]\n",
            "\tsplit_size:80\t skew:  train--0.6070 test--0.5690 avg: 0.5600 max: 0.5960 >>> [0.596, 0.514, 0.569]\n",
            "\tsplit_size:90\t skew:  train--0.6240 test--0.7090 avg: 0.6000 max: 0.7090 >>> [0.545, 0.545, 0.709]\n",
            "\tsplit_size:50\t kurt:  train--0.5740 test--0.5550 avg: 0.5280 max: 0.5550 >>> [0.522, 0.507, 0.555]\n",
            "\tsplit_size:60\t kurt:  train--0.5460 test--0.5690 avg: 0.5500 max: 0.5690 >>> [0.532, 0.55, 0.569]\n",
            "\tsplit_size:70\t kurt:  train--0.5340 test--0.5240 avg: 0.5160 max: 0.5370 >>> [0.488, 0.537, 0.524]\n",
            "\tsplit_size:80\t kurt:  train--0.5470 test--0.4950 avg: 0.4770 max: 0.4950 >>> [0.45, 0.486, 0.495]\n",
            "\tsplit_size:90\t kurt:  train--0.5690 test--0.6000 avg: 0.5270 max: 0.6000 >>> [0.418, 0.564, 0.6]\n"
          ]
        },
        {
          "metadata": {
            "tags": null
          },
          "name": "stderr",
          "output_type": "stream",
          "text": [
            "100%|██████████| 544/544 [00:06<00:00, 89.72it/s]\n"
          ]
        },
        {
          "metadata": {
            "tags": null
          },
          "name": "stdout",
          "output_type": "stream",
          "text": [
            "\n",
            "window_size: 512\n",
            "\tsplit_size:50\t mean:  train--0.6840 test--0.7210 avg: 0.7120 max: 0.7350 >>> [0.735, 0.68, 0.721]\n",
            "\tsplit_size:60\t mean:  train--0.6630 test--0.7480 avg: 0.7170 max: 0.7480 >>> [0.716, 0.688, 0.748]\n",
            "\tsplit_size:70\t mean:  train--0.6740 test--0.7560 avg: 0.7300 max: 0.7560 >>> [0.72, 0.713, 0.756]\n",
            "\tsplit_size:80\t mean:  train--0.6870 test--0.7520 avg: 0.7160 max: 0.7520 >>> [0.716, 0.679, 0.752]\n",
            "\tsplit_size:90\t mean:  train--0.6910 test--0.7270 avg: 0.7030 max: 0.7270 >>> [0.727, 0.655, 0.727]\n",
            "\tsplit_size:50\t var_:  train--0.6540 test--0.6250 avg: 0.6310 max: 0.6760 >>> [0.676, 0.592, 0.625]\n",
            "\tsplit_size:60\t var_:  train--0.6260 test--0.6150 avg: 0.6190 max: 0.6330 >>> [0.633, 0.61, 0.615]\n",
            "\tsplit_size:70\t var_:  train--0.6370 test--0.6100 avg: 0.6160 max: 0.6280 >>> [0.628, 0.61, 0.61]\n",
            "\tsplit_size:80\t var_:  train--0.6210 test--0.6330 avg: 0.6210 max: 0.6330 >>> [0.633, 0.596, 0.633]\n",
            "\tsplit_size:90\t var_:  train--0.6240 test--0.6180 avg: 0.6240 max: 0.6550 >>> [0.655, 0.6, 0.618]\n",
            "\tsplit_size:50\t std_:  train--0.6800 test--0.6800 avg: 0.6910 max: 0.7170 >>> [0.717, 0.676, 0.68]\n",
            "\tsplit_size:60\t std_:  train--0.6500 test--0.7110 avg: 0.6990 max: 0.7160 >>> [0.716, 0.67, 0.711]\n",
            "\tsplit_size:70\t std_:  train--0.6550 test--0.7130 avg: 0.6950 max: 0.7130 >>> [0.671, 0.701, 0.713]\n",
            "\tsplit_size:80\t std_:  train--0.6690 test--0.7250 avg: 0.6970 max: 0.7250 >>> [0.679, 0.688, 0.725]\n",
            "\tsplit_size:90\t std_:  train--0.6750 test--0.7090 avg: 0.7030 max: 0.7270 >>> [0.727, 0.673, 0.709]\n",
            "\tsplit_size:50\t skew:  train--0.6690 test--0.5740 avg: 0.5960 max: 0.6180 >>> [0.618, 0.596, 0.574]\n",
            "\tsplit_size:60\t skew:  train--0.6990 test--0.6060 avg: 0.6300 max: 0.6650 >>> [0.665, 0.619, 0.606]\n",
            "\tsplit_size:70\t skew:  train--0.6870 test--0.5980 avg: 0.6300 max: 0.6830 >>> [0.683, 0.61, 0.598]\n",
            "\tsplit_size:80\t skew:  train--0.6970 test--0.6420 avg: 0.6760 max: 0.6970 >>> [0.697, 0.688, 0.642]\n",
            "\tsplit_size:90\t skew:  train--0.6990 test--0.6730 avg: 0.6550 max: 0.7270 >>> [0.564, 0.727, 0.673]\n",
            "\tsplit_size:50\t kurt:  train--0.5920 test--0.4820 avg: 0.5210 max: 0.5590 >>> [0.522, 0.559, 0.482]\n",
            "\tsplit_size:60\t kurt:  train--0.5740 test--0.5000 avg: 0.5320 max: 0.5640 >>> [0.532, 0.564, 0.5]\n",
            "\tsplit_size:70\t kurt:  train--0.5740 test--0.4880 avg: 0.5230 max: 0.5430 >>> [0.543, 0.537, 0.488]\n",
            "\tsplit_size:80\t kurt:  train--0.5790 test--0.5600 avg: 0.5750 max: 0.5960 >>> [0.569, 0.596, 0.56]\n",
            "\tsplit_size:90\t kurt:  train--0.5850 test--0.6360 avg: 0.6060 max: 0.6360 >>> [0.564, 0.618, 0.636]\n"
          ]
        },
        {
          "metadata": {
            "tags": null
          },
          "name": "stderr",
          "output_type": "stream",
          "text": [
            "100%|██████████| 544/544 [00:13<00:00, 40.17it/s]\n"
          ]
        },
        {
          "metadata": {
            "tags": null
          },
          "name": "stdout",
          "output_type": "stream",
          "text": [
            "\n",
            "window_size: 256\n",
            "\tsplit_size:50\t mean:  train--0.6990 test--0.6910 avg: 0.6760 max: 0.7060 >>> [0.632, 0.706, 0.691]\n",
            "\tsplit_size:60\t mean:  train--0.7090 test--0.6790 avg: 0.6560 max: 0.6790 >>> [0.615, 0.674, 0.679]\n",
            "\tsplit_size:70\t mean:  train--0.7320 test--0.6460 avg: 0.6560 max: 0.6830 >>> [0.683, 0.64, 0.646]\n",
            "\tsplit_size:80\t mean:  train--0.7260 test--0.6610 avg: 0.6580 max: 0.6610 >>> [0.651, 0.661, 0.661]\n",
            "\tsplit_size:90\t mean:  train--0.7060 test--0.6550 avg: 0.6670 max: 0.6730 >>> [0.673, 0.673, 0.655]\n",
            "\tsplit_size:50\t var_:  train--0.6430 test--0.5920 avg: 0.5690 max: 0.5920 >>> [0.54, 0.574, 0.592]\n",
            "\tsplit_size:60\t var_:  train--0.6470 test--0.6100 avg: 0.5750 max: 0.6100 >>> [0.564, 0.55, 0.61]\n",
            "\tsplit_size:70\t var_:  train--0.6450 test--0.6220 avg: 0.5690 max: 0.6220 >>> [0.561, 0.524, 0.622]\n",
            "\tsplit_size:80\t var_:  train--0.6550 test--0.6330 avg: 0.5960 max: 0.6330 >>> [0.587, 0.569, 0.633]\n",
            "\tsplit_size:90\t var_:  train--0.6280 test--0.6360 avg: 0.6300 max: 0.6360 >>> [0.636, 0.618, 0.636]\n",
            "\tsplit_size:50\t std_:  train--0.6840 test--0.6760 avg: 0.6430 max: 0.6760 >>> [0.603, 0.651, 0.676]\n",
            "\tsplit_size:60\t std_:  train--0.6900 test--0.6930 avg: 0.6620 max: 0.6930 >>> [0.628, 0.665, 0.693]\n",
            "\tsplit_size:70\t std_:  train--0.7110 test--0.6520 avg: 0.6380 max: 0.6520 >>> [0.628, 0.634, 0.652]\n",
            "\tsplit_size:80\t std_:  train--0.7170 test--0.6610 avg: 0.6450 max: 0.6610 >>> [0.633, 0.642, 0.661]\n",
            "\tsplit_size:90\t std_:  train--0.6970 test--0.6360 avg: 0.6540 max: 0.7090 >>> [0.618, 0.709, 0.636]\n",
            "\tsplit_size:50\t skew:  train--0.6840 test--0.5700 avg: 0.5940 max: 0.6100 >>> [0.61, 0.603, 0.57]\n",
            "\tsplit_size:60\t skew:  train--0.6930 test--0.6280 avg: 0.6180 max: 0.6420 >>> [0.583, 0.642, 0.628]\n",
            "\tsplit_size:70\t skew:  train--0.7260 test--0.6890 avg: 0.6320 max: 0.6890 >>> [0.573, 0.634, 0.689]\n",
            "\tsplit_size:80\t skew:  train--0.6990 test--0.7060 avg: 0.6700 max: 0.7060 >>> [0.661, 0.642, 0.706]\n",
            "\tsplit_size:90\t skew:  train--0.7140 test--0.7270 avg: 0.6660 max: 0.7270 >>> [0.636, 0.636, 0.727]\n",
            "\tsplit_size:50\t kurt:  train--0.6430 test--0.5000 avg: 0.5300 max: 0.5620 >>> [0.562, 0.529, 0.5]\n",
            "\tsplit_size:60\t kurt:  train--0.6440 test--0.5000 avg: 0.5320 max: 0.5640 >>> [0.532, 0.564, 0.5]\n",
            "\tsplit_size:70\t kurt:  train--0.6530 test--0.5790 avg: 0.5450 max: 0.5790 >>> [0.506, 0.549, 0.579]\n",
            "\tsplit_size:80\t kurt:  train--0.6670 test--0.6150 avg: 0.5870 max: 0.6150 >>> [0.569, 0.578, 0.615]\n",
            "\tsplit_size:90\t kurt:  train--0.6540 test--0.6180 avg: 0.6240 max: 0.6360 >>> [0.618, 0.636, 0.618]\n"
          ]
        },
        {
          "metadata": {
            "tags": null
          },
          "name": "stderr",
          "output_type": "stream",
          "text": [
            "100%|██████████| 544/544 [00:27<00:00, 20.07it/s]\n"
          ]
        },
        {
          "metadata": {
            "tags": null
          },
          "name": "stdout",
          "output_type": "stream",
          "text": [
            "\n",
            "window_size: 128\n",
            "\tsplit_size:50\t mean:  train--0.7280 test--0.6730 avg: 0.6730 max: 0.7060 >>> [0.706, 0.64, 0.673]\n",
            "\tsplit_size:60\t mean:  train--0.7270 test--0.6830 avg: 0.6730 max: 0.6880 >>> [0.688, 0.647, 0.683]\n",
            "\tsplit_size:70\t mean:  train--0.7210 test--0.7010 avg: 0.6950 max: 0.7010 >>> [0.701, 0.683, 0.701]\n",
            "\tsplit_size:80\t mean:  train--0.7100 test--0.7160 avg: 0.7130 max: 0.7250 >>> [0.697, 0.725, 0.716]\n",
            "\tsplit_size:90\t mean:  train--0.7080 test--0.7270 avg: 0.7330 max: 0.7820 >>> [0.691, 0.782, 0.727]\n",
            "\tsplit_size:50\t var_:  train--0.6760 test--0.6210 avg: 0.6180 max: 0.6470 >>> [0.647, 0.585, 0.621]\n",
            "\tsplit_size:60\t var_:  train--0.6720 test--0.6280 avg: 0.6190 max: 0.6280 >>> [0.619, 0.61, 0.628]\n",
            "\tsplit_size:70\t var_:  train--0.6950 test--0.6650 avg: 0.6060 max: 0.6650 >>> [0.579, 0.573, 0.665]\n",
            "\tsplit_size:80\t var_:  train--0.6990 test--0.6790 avg: 0.6330 max: 0.6790 >>> [0.596, 0.624, 0.679]\n",
            "\tsplit_size:90\t var_:  train--0.6750 test--0.6910 avg: 0.6430 max: 0.6910 >>> [0.582, 0.655, 0.691]\n",
            "\tsplit_size:50\t std_:  train--0.7210 test--0.6470 avg: 0.6590 max: 0.6910 >>> [0.691, 0.64, 0.647]\n",
            "\tsplit_size:60\t std_:  train--0.7450 test--0.6650 avg: 0.6570 max: 0.6650 >>> [0.665, 0.642, 0.665]\n",
            "\tsplit_size:70\t std_:  train--0.7210 test--0.6890 avg: 0.6670 max: 0.6890 >>> [0.677, 0.634, 0.689]\n",
            "\tsplit_size:80\t std_:  train--0.7220 test--0.6970 avg: 0.6790 max: 0.6970 >>> [0.661, 0.679, 0.697]\n",
            "\tsplit_size:90\t std_:  train--0.7160 test--0.7270 avg: 0.7090 max: 0.7270 >>> [0.673, 0.727, 0.727]\n",
            "\tsplit_size:50\t skew:  train--0.8200 test--0.6540 avg: 0.6570 max: 0.6760 >>> [0.64, 0.676, 0.654]\n",
            "\tsplit_size:60\t skew:  train--0.8010 test--0.6740 avg: 0.6860 max: 0.7290 >>> [0.656, 0.729, 0.674]\n",
            "\tsplit_size:70\t skew:  train--0.8340 test--0.6340 avg: 0.6670 max: 0.7260 >>> [0.64, 0.726, 0.634]\n",
            "\tsplit_size:80\t skew:  train--0.8460 test--0.6420 avg: 0.6640 max: 0.7250 >>> [0.624, 0.725, 0.642]\n",
            "\tsplit_size:90\t skew:  train--0.8380 test--0.6360 avg: 0.6790 max: 0.7450 >>> [0.655, 0.745, 0.636]\n",
            "\tsplit_size:50\t kurt:  train--0.7650 test--0.5510 avg: 0.5670 max: 0.6030 >>> [0.548, 0.603, 0.551]\n",
            "\tsplit_size:60\t kurt:  train--0.7760 test--0.5370 avg: 0.5750 max: 0.6280 >>> [0.56, 0.628, 0.537]\n",
            "\tsplit_size:70\t kurt:  train--0.7760 test--0.5790 avg: 0.5690 max: 0.5790 >>> [0.555, 0.573, 0.579]\n",
            "\tsplit_size:80\t kurt:  train--0.7750 test--0.5230 avg: 0.5320 max: 0.5500 >>> [0.523, 0.55, 0.523]\n",
            "\tsplit_size:90\t kurt:  train--0.7460 test--0.6360 avg: 0.6060 max: 0.6360 >>> [0.582, 0.6, 0.636]\n"
          ]
        },
        {
          "metadata": {
            "tags": null
          },
          "name": "stderr",
          "output_type": "stream",
          "text": [
            "100%|██████████| 544/544 [00:53<00:00, 10.24it/s]\n"
          ]
        },
        {
          "metadata": {
            "tags": null
          },
          "name": "stdout",
          "output_type": "stream",
          "text": [
            "\n",
            "window_size: 64\n",
            "\tsplit_size:50\t mean:  train--0.7170 test--0.6210 avg: 0.6590 max: 0.6950 >>> [0.662, 0.695, 0.621]\n",
            "\tsplit_size:60\t mean:  train--0.7270 test--0.6420 avg: 0.6660 max: 0.6830 >>> [0.683, 0.674, 0.642]\n",
            "\tsplit_size:70\t mean:  train--0.7320 test--0.6340 avg: 0.6710 max: 0.6890 >>> [0.689, 0.689, 0.634]\n",
            "\tsplit_size:80\t mean:  train--0.7330 test--0.6060 avg: 0.6390 max: 0.6880 >>> [0.688, 0.624, 0.606]\n",
            "\tsplit_size:90\t mean:  train--0.7340 test--0.5640 avg: 0.6610 max: 0.7640 >>> [0.764, 0.655, 0.564]\n",
            "\tsplit_size:50\t var_:  train--0.6880 test--0.5850 avg: 0.6080 max: 0.6290 >>> [0.61, 0.629, 0.585]\n",
            "\tsplit_size:60\t var_:  train--0.6840 test--0.5730 avg: 0.5840 max: 0.6100 >>> [0.569, 0.61, 0.573]\n",
            "\tsplit_size:70\t var_:  train--0.7030 test--0.5730 avg: 0.5890 max: 0.6340 >>> [0.561, 0.634, 0.573]\n",
            "\tsplit_size:80\t var_:  train--0.6940 test--0.5320 avg: 0.5600 max: 0.6060 >>> [0.541, 0.606, 0.532]\n",
            "\tsplit_size:90\t var_:  train--0.6950 test--0.4910 avg: 0.5820 max: 0.6550 >>> [0.6, 0.655, 0.491]\n",
            "\tsplit_size:50\t std_:  train--0.7130 test--0.6620 avg: 0.6690 max: 0.6910 >>> [0.654, 0.691, 0.662]\n",
            "\tsplit_size:60\t std_:  train--0.7210 test--0.6510 avg: 0.6510 max: 0.6560 >>> [0.647, 0.656, 0.651]\n",
            "\tsplit_size:70\t std_:  train--0.7210 test--0.6710 avg: 0.6690 max: 0.6710 >>> [0.665, 0.671, 0.671]\n",
            "\tsplit_size:80\t std_:  train--0.7360 test--0.6150 avg: 0.6300 max: 0.6510 >>> [0.651, 0.624, 0.615]\n",
            "\tsplit_size:90\t std_:  train--0.7300 test--0.5640 avg: 0.6240 max: 0.6730 >>> [0.673, 0.636, 0.564]\n",
            "\tsplit_size:50\t skew:  train--0.9040 test--0.6760 avg: 0.6590 max: 0.6760 >>> [0.651, 0.651, 0.676]\n",
            "\tsplit_size:60\t skew:  train--0.8710 test--0.7110 avg: 0.6970 max: 0.7110 >>> [0.688, 0.693, 0.711]\n",
            "\tsplit_size:70\t skew:  train--0.9080 test--0.7010 avg: 0.6950 max: 0.7010 >>> [0.683, 0.701, 0.701]\n",
            "\tsplit_size:80\t skew:  train--0.9060 test--0.6610 avg: 0.7000 max: 0.7340 >>> [0.734, 0.706, 0.661]\n",
            "\tsplit_size:90\t skew:  train--0.9080 test--0.7820 avg: 0.7210 max: 0.7820 >>> [0.673, 0.709, 0.782]\n",
            "\tsplit_size:50\t kurt:  train--0.9010 test--0.5700 avg: 0.5980 max: 0.6320 >>> [0.632, 0.592, 0.57]\n",
            "\tsplit_size:60\t kurt:  train--0.8870 test--0.5960 avg: 0.6050 max: 0.6190 >>> [0.619, 0.601, 0.596]\n",
            "\tsplit_size:70\t kurt:  train--0.8630 test--0.5980 avg: 0.6360 max: 0.6590 >>> [0.652, 0.659, 0.598]\n",
            "\tsplit_size:80\t kurt:  train--0.8850 test--0.5870 avg: 0.6240 max: 0.6700 >>> [0.67, 0.615, 0.587]\n",
            "\tsplit_size:90\t kurt:  train--0.8810 test--0.6550 avg: 0.5880 max: 0.6550 >>> [0.582, 0.527, 0.655]\n"
          ]
        },
        {
          "metadata": {
            "tags": null
          },
          "name": "stderr",
          "output_type": "stream",
          "text": [
            "100%|██████████| 544/544 [01:46<00:00,  5.12it/s]\n"
          ]
        },
        {
          "metadata": {
            "tags": null
          },
          "name": "stdout",
          "output_type": "stream",
          "text": [
            "\n",
            "window_size: 32\n",
            "\tsplit_size:50\t mean:  train--0.7390 test--0.6910 avg: 0.6740 max: 0.6910 >>> [0.647, 0.684, 0.691]\n",
            "\tsplit_size:60\t mean:  train--0.7240 test--0.7060 avg: 0.6940 max: 0.7060 >>> [0.683, 0.693, 0.706]\n",
            "\tsplit_size:70\t mean:  train--0.7260 test--0.7620 avg: 0.7110 max: 0.7620 >>> [0.689, 0.683, 0.762]\n",
            "\tsplit_size:80\t mean:  train--0.7330 test--0.7610 avg: 0.6760 max: 0.7610 >>> [0.624, 0.642, 0.761]\n",
            "\tsplit_size:90\t mean:  train--0.7460 test--0.7820 avg: 0.7090 max: 0.7820 >>> [0.673, 0.673, 0.782]\n",
            "\tsplit_size:50\t var_:  train--0.7320 test--0.6360 avg: 0.6290 max: 0.6360 >>> [0.618, 0.632, 0.636]\n",
            "\tsplit_size:60\t var_:  train--0.7360 test--0.6510 avg: 0.6250 max: 0.6510 >>> [0.606, 0.619, 0.651]\n",
            "\tsplit_size:70\t var_:  train--0.7550 test--0.6100 avg: 0.6280 max: 0.6460 >>> [0.628, 0.646, 0.61]\n",
            "\tsplit_size:80\t var_:  train--0.7610 test--0.7160 avg: 0.6480 max: 0.7160 >>> [0.596, 0.633, 0.716]\n",
            "\tsplit_size:90\t var_:  train--0.7790 test--0.7450 avg: 0.6730 max: 0.7450 >>> [0.582, 0.691, 0.745]\n",
            "\tsplit_size:50\t std_:  train--0.7540 test--0.6580 avg: 0.6580 max: 0.6910 >>> [0.625, 0.691, 0.658]\n",
            "\tsplit_size:60\t std_:  train--0.7480 test--0.7020 avg: 0.6590 max: 0.7020 >>> [0.619, 0.656, 0.702]\n",
            "\tsplit_size:70\t std_:  train--0.7450 test--0.7070 avg: 0.6750 max: 0.7070 >>> [0.646, 0.671, 0.707]\n",
            "\tsplit_size:80\t std_:  train--0.7490 test--0.7340 avg: 0.6570 max: 0.7340 >>> [0.596, 0.642, 0.734]\n",
            "\tsplit_size:90\t std_:  train--0.7570 test--0.7820 avg: 0.7150 max: 0.7820 >>> [0.655, 0.709, 0.782]\n",
            "\tsplit_size:50\t skew:  train--0.9710 test--0.6800 avg: 0.6790 max: 0.6990 >>> [0.658, 0.699, 0.68]\n",
            "\tsplit_size:60\t skew:  train--0.9690 test--0.6700 avg: 0.6960 max: 0.7340 >>> [0.683, 0.734, 0.67]\n",
            "\tsplit_size:70\t skew:  train--0.9740 test--0.6650 avg: 0.6870 max: 0.7260 >>> [0.671, 0.726, 0.665]\n",
            "\tsplit_size:80\t skew:  train--0.9790 test--0.6700 avg: 0.6970 max: 0.7520 >>> [0.67, 0.752, 0.67]\n",
            "\tsplit_size:90\t skew:  train--0.9650 test--0.7090 avg: 0.6970 max: 0.7270 >>> [0.655, 0.727, 0.709]\n",
            "\tsplit_size:50\t kurt:  train--0.9710 test--0.5990 avg: 0.5980 max: 0.6210 >>> [0.574, 0.621, 0.599]\n",
            "\tsplit_size:60\t kurt:  train--0.9720 test--0.6420 avg: 0.6040 max: 0.6420 >>> [0.528, 0.642, 0.642]\n",
            "\tsplit_size:70\t kurt:  train--0.9530 test--0.6040 avg: 0.6080 max: 0.6950 >>> [0.524, 0.695, 0.604]\n",
            "\tsplit_size:80\t kurt:  train--0.9630 test--0.6420 avg: 0.5840 max: 0.6420 >>> [0.477, 0.633, 0.642]\n",
            "\tsplit_size:90\t kurt:  train--0.9630 test--0.6180 avg: 0.6060 max: 0.6360 >>> [0.564, 0.636, 0.618]\n"
          ]
        },
        {
          "metadata": {
            "tags": null
          },
          "name": "stderr",
          "output_type": "stream",
          "text": [
            "100%|██████████| 544/544 [03:23<00:00,  2.67it/s]\n"
          ]
        },
        {
          "metadata": {
            "tags": null
          },
          "name": "stdout",
          "output_type": "stream",
          "text": [
            "\n",
            "window_size: 16\n",
            "\tsplit_size:50\t mean:  train--0.8970 test--0.7720 avg: 0.8050 max: 0.8350 >>> [0.835, 0.809, 0.772]\n",
            "\tsplit_size:60\t mean:  train--0.8830 test--0.8170 avg: 0.8290 max: 0.8390 >>> [0.83, 0.839, 0.817]\n",
            "\tsplit_size:70\t mean:  train--0.9030 test--0.8720 avg: 0.8430 max: 0.8720 >>> [0.823, 0.835, 0.872]\n",
            "\tsplit_size:80\t mean:  train--0.9170 test--0.8720 avg: 0.8590 max: 0.8720 >>> [0.862, 0.844, 0.872]\n",
            "\tsplit_size:90\t mean:  train--0.9140 test--0.8550 avg: 0.8670 max: 0.9090 >>> [0.909, 0.836, 0.855]\n",
            "\tsplit_size:50\t var_:  train--0.8460 test--0.6650 avg: 0.6290 max: 0.6650 >>> [0.607, 0.614, 0.665]\n",
            "\tsplit_size:60\t var_:  train--0.8220 test--0.6880 avg: 0.6300 max: 0.6880 >>> [0.619, 0.583, 0.688]\n",
            "\tsplit_size:70\t var_:  train--0.7890 test--0.6830 avg: 0.6140 max: 0.6830 >>> [0.561, 0.598, 0.683]\n",
            "\tsplit_size:80\t var_:  train--0.8320 test--0.6790 avg: 0.6360 max: 0.6790 >>> [0.596, 0.633, 0.679]\n",
            "\tsplit_size:90\t var_:  train--0.8180 test--0.7450 avg: 0.6600 max: 0.7450 >>> [0.618, 0.618, 0.745]\n",
            "\tsplit_size:50\t std_:  train--0.8380 test--0.6730 avg: 0.6890 max: 0.7020 >>> [0.702, 0.691, 0.673]\n",
            "\tsplit_size:60\t std_:  train--0.8470 test--0.7480 avg: 0.7220 max: 0.7480 >>> [0.716, 0.702, 0.748]\n",
            "\tsplit_size:70\t std_:  train--0.8290 test--0.7380 avg: 0.7110 max: 0.7380 >>> [0.689, 0.707, 0.738]\n",
            "\tsplit_size:80\t std_:  train--0.8550 test--0.7060 avg: 0.7160 max: 0.7250 >>> [0.716, 0.725, 0.706]\n",
            "\tsplit_size:90\t std_:  train--0.8570 test--0.8000 avg: 0.7580 max: 0.8180 >>> [0.818, 0.655, 0.8]\n",
            "\tsplit_size:50\t skew:  train--1.0000 test--0.8090 avg: 0.8140 max: 0.8240 >>> [0.809, 0.824, 0.809]\n",
            "\tsplit_size:60\t skew:  train--0.9970 test--0.8490 avg: 0.8440 max: 0.8490 >>> [0.835, 0.849, 0.849]\n",
            "\tsplit_size:70\t skew:  train--0.9970 test--0.8480 avg: 0.8480 max: 0.8540 >>> [0.854, 0.841, 0.848]\n",
            "\tsplit_size:80\t skew:  train--0.9980 test--0.8530 avg: 0.8720 max: 0.8900 >>> [0.872, 0.89, 0.853]\n",
            "\tsplit_size:90\t skew:  train--0.9960 test--0.8730 avg: 0.8790 max: 0.9090 >>> [0.909, 0.855, 0.873]\n",
            "\tsplit_size:50\t kurt:  train--1.0000 test--0.6760 avg: 0.6620 max: 0.6760 >>> [0.658, 0.651, 0.676]\n",
            "\tsplit_size:60\t kurt:  train--1.0000 test--0.7200 avg: 0.6850 max: 0.7200 >>> [0.651, 0.683, 0.72]\n",
            "\tsplit_size:70\t kurt:  train--1.0000 test--0.7440 avg: 0.6710 max: 0.7440 >>> [0.634, 0.634, 0.744]\n",
            "\tsplit_size:80\t kurt:  train--1.0000 test--0.7430 avg: 0.6880 max: 0.7430 >>> [0.615, 0.706, 0.743]\n",
            "\tsplit_size:90\t kurt:  train--0.9980 test--0.7090 avg: 0.6850 max: 0.7090 >>> [0.691, 0.655, 0.709]\n"
          ]
        },
        {
          "metadata": {
            "tags": null
          },
          "name": "stderr",
          "output_type": "stream",
          "text": [
            "100%|██████████| 544/544 [06:45<00:00,  1.34it/s]\n"
          ]
        },
        {
          "metadata": {
            "tags": null
          },
          "name": "stdout",
          "output_type": "stream",
          "text": [
            "\n",
            "window_size: 8\n",
            "\tsplit_size:50\t mean:  train--0.9630 test--0.8680 avg: 0.8250 max: 0.8680 >>> [0.776, 0.831, 0.868]\n",
            "\tsplit_size:60\t mean:  train--0.9540 test--0.8620 avg: 0.8380 max: 0.8620 >>> [0.826, 0.826, 0.862]\n",
            "\tsplit_size:70\t mean:  train--0.9580 test--0.8540 avg: 0.8760 max: 0.9090 >>> [0.866, 0.909, 0.854]\n",
            "\tsplit_size:80\t mean:  train--0.9720 test--0.8720 avg: 0.8780 max: 0.8990 >>> [0.862, 0.899, 0.872]\n",
            "\tsplit_size:90\t mean:  train--0.9780 test--0.8910 avg: 0.8970 max: 0.9270 >>> [0.873, 0.927, 0.891]\n",
            "\tsplit_size:50\t var_:  train--0.8570 test--0.6180 avg: 0.6040 max: 0.6210 >>> [0.574, 0.621, 0.618]\n",
            "\tsplit_size:60\t var_:  train--0.8620 test--0.6190 avg: 0.6080 max: 0.6280 >>> [0.578, 0.628, 0.619]\n",
            "\tsplit_size:70\t var_:  train--0.8630 test--0.6220 avg: 0.6240 max: 0.6520 >>> [0.598, 0.652, 0.622]\n",
            "\tsplit_size:80\t var_:  train--0.8670 test--0.6330 avg: 0.6510 max: 0.6880 >>> [0.633, 0.688, 0.633]\n",
            "\tsplit_size:90\t var_:  train--0.8750 test--0.6180 avg: 0.6300 max: 0.7270 >>> [0.545, 0.727, 0.618]\n",
            "\tsplit_size:50\t std_:  train--0.9150 test--0.6800 avg: 0.6450 max: 0.6800 >>> [0.596, 0.658, 0.68]\n",
            "\tsplit_size:60\t std_:  train--0.8900 test--0.6970 avg: 0.6510 max: 0.6970 >>> [0.624, 0.633, 0.697]\n",
            "\tsplit_size:70\t std_:  train--0.8820 test--0.6770 avg: 0.6710 max: 0.6770 >>> [0.671, 0.665, 0.677]\n",
            "\tsplit_size:80\t std_:  train--0.8940 test--0.6610 avg: 0.6700 max: 0.6790 >>> [0.679, 0.67, 0.661]\n",
            "\tsplit_size:90\t std_:  train--0.8900 test--0.7090 avg: 0.7030 max: 0.7640 >>> [0.636, 0.764, 0.709]\n",
            "\tsplit_size:50\t skew:  train--1.0000 test--0.5990 avg: 0.5920 max: 0.5990 >>> [0.577, 0.599, 0.599]\n",
            "\tsplit_size:60\t skew:  train--1.0000 test--0.6150 avg: 0.6000 max: 0.6150 >>> [0.601, 0.583, 0.615]\n",
            "\tsplit_size:70\t skew:  train--1.0000 test--0.6590 avg: 0.6320 max: 0.6590 >>> [0.659, 0.579, 0.659]\n",
            "\tsplit_size:80\t skew:  train--1.0000 test--0.6420 avg: 0.6450 max: 0.7060 >>> [0.706, 0.587, 0.642]\n",
            "\tsplit_size:90\t skew:  train--1.0000 test--0.6360 avg: 0.6480 max: 0.6730 >>> [0.673, 0.636, 0.636]\n",
            "\tsplit_size:50\t kurt:  train--1.0000 test--0.5440 avg: 0.5300 max: 0.5440 >>> [0.507, 0.54, 0.544]\n",
            "\tsplit_size:60\t kurt:  train--1.0000 test--0.5690 avg: 0.5400 max: 0.5690 >>> [0.518, 0.532, 0.569]\n",
            "\tsplit_size:70\t kurt:  train--1.0000 test--0.5980 avg: 0.5470 max: 0.5980 >>> [0.512, 0.53, 0.598]\n",
            "\tsplit_size:80\t kurt:  train--1.0000 test--0.5600 avg: 0.5410 max: 0.5600 >>> [0.541, 0.523, 0.56]\n",
            "\tsplit_size:90\t kurt:  train--1.0000 test--0.5820 avg: 0.5820 max: 0.6000 >>> [0.6, 0.564, 0.582]\n"
          ]
        },
        {
          "metadata": {
            "tags": null
          },
          "name": "stderr",
          "output_type": "stream",
          "text": [
            "100%|██████████| 544/544 [13:21<00:00,  1.47s/it]\n"
          ]
        },
        {
          "metadata": {
            "tags": null
          },
          "name": "stdout",
          "output_type": "stream",
          "text": [
            "\n",
            "window_size: 4\n",
            "\tsplit_size:50\t mean:  train--0.9600 test--0.8380 avg: 0.8160 max: 0.8380 >>> [0.812, 0.798, 0.838]\n",
            "\tsplit_size:60\t mean:  train--0.9630 test--0.8440 avg: 0.8380 max: 0.8580 >>> [0.858, 0.812, 0.844]\n",
            "\tsplit_size:70\t mean:  train--0.9610 test--0.8230 avg: 0.8600 max: 0.8840 >>> [0.884, 0.872, 0.823]\n",
            "\tsplit_size:80\t mean:  train--0.9770 test--0.8350 avg: 0.8960 max: 0.9360 >>> [0.936, 0.917, 0.835]\n",
            "\tsplit_size:90\t mean:  train--0.9730 test--0.8550 avg: 0.8850 max: 0.9090 >>> [0.909, 0.891, 0.855]\n",
            "\tsplit_size:50\t var_:  train--0.9230 test--0.5400 avg: 0.5640 max: 0.5920 >>> [0.592, 0.559, 0.54]\n",
            "\tsplit_size:60\t var_:  train--0.9450 test--0.5320 avg: 0.5670 max: 0.5870 >>> [0.587, 0.583, 0.532]\n",
            "\tsplit_size:70\t var_:  train--0.9340 test--0.5730 avg: 0.6020 max: 0.6160 >>> [0.616, 0.616, 0.573]\n",
            "\tsplit_size:80\t var_:  train--0.9400 test--0.5780 avg: 0.6420 max: 0.7060 >>> [0.642, 0.706, 0.578]\n",
            "\tsplit_size:90\t var_:  train--0.9240 test--0.6000 avg: 0.5940 max: 0.6180 >>> [0.618, 0.564, 0.6]\n",
            "\tsplit_size:50\t std_:  train--0.9560 test--0.5740 avg: 0.6040 max: 0.6210 >>> [0.621, 0.618, 0.574]\n",
            "\tsplit_size:60\t std_:  train--0.9540 test--0.5960 avg: 0.5980 max: 0.6150 >>> [0.615, 0.583, 0.596]\n",
            "\tsplit_size:70\t std_:  train--0.9450 test--0.6100 avg: 0.6320 max: 0.6710 >>> [0.616, 0.671, 0.61]\n",
            "\tsplit_size:80\t std_:  train--0.9290 test--0.6240 avg: 0.6510 max: 0.6970 >>> [0.633, 0.697, 0.624]\n",
            "\tsplit_size:90\t std_:  train--0.9200 test--0.6730 avg: 0.6000 max: 0.6730 >>> [0.582, 0.545, 0.673]\n",
            "\tsplit_size:50\t skew:  train--1.0000 test--0.5040 avg: 0.5520 max: 0.6070 >>> [0.607, 0.544, 0.504]\n",
            "\tsplit_size:60\t skew:  train--1.0000 test--0.5050 avg: 0.5390 max: 0.5830 >>> [0.583, 0.528, 0.505]\n",
            "\tsplit_size:70\t skew:  train--1.0000 test--0.5300 avg: 0.5890 max: 0.6460 >>> [0.591, 0.646, 0.53]\n",
            "\tsplit_size:80\t skew:  train--1.0000 test--0.5600 avg: 0.6060 max: 0.6790 >>> [0.578, 0.679, 0.56]\n",
            "\tsplit_size:90\t skew:  train--1.0000 test--0.5640 avg: 0.6000 max: 0.6910 >>> [0.545, 0.691, 0.564]\n",
            "\tsplit_size:50\t kurt:  train--1.0000 test--0.5220 avg: 0.5380 max: 0.5660 >>> [0.566, 0.526, 0.522]\n",
            "\tsplit_size:60\t kurt:  train--1.0000 test--0.5140 avg: 0.5470 max: 0.6190 >>> [0.619, 0.509, 0.514]\n",
            "\tsplit_size:70\t kurt:  train--1.0000 test--0.5240 avg: 0.5810 max: 0.6280 >>> [0.628, 0.591, 0.524]\n",
            "\tsplit_size:80\t kurt:  train--1.0000 test--0.5410 avg: 0.5960 max: 0.6330 >>> [0.633, 0.615, 0.541]\n",
            "\tsplit_size:90\t kurt:  train--1.0000 test--0.5270 avg: 0.5760 max: 0.6550 >>> [0.655, 0.545, 0.527]\n"
          ]
        },
        {
          "metadata": {
            "tags": null
          },
          "name": "stderr",
          "output_type": "stream",
          "text": [
            "100%|██████████| 544/544 [22:47<00:00,  2.51s/it]\n"
          ]
        },
        {
          "metadata": {
            "tags": null
          },
          "name": "stdout",
          "output_type": "stream",
          "text": [
            "\n",
            "window_size: 2\n",
            "\tsplit_size:50\t mean:  train--0.9850 test--0.8350 avg: 0.8160 max: 0.8490 >>> [0.765, 0.849, 0.835]\n",
            "\tsplit_size:60\t mean:  train--0.9630 test--0.8620 avg: 0.8300 max: 0.8620 >>> [0.784, 0.844, 0.862]\n",
            "\tsplit_size:70\t mean:  train--0.9680 test--0.8480 avg: 0.8250 max: 0.8480 >>> [0.817, 0.811, 0.848]\n",
            "\tsplit_size:80\t mean:  train--0.9720 test--0.8350 avg: 0.8260 max: 0.8350 >>> [0.835, 0.807, 0.835]\n",
            "\tsplit_size:90\t mean:  train--0.9820 test--0.8910 avg: 0.8420 max: 0.8910 >>> [0.891, 0.745, 0.891]\n",
            "\tsplit_size:50\t var_:  train--0.8930 test--0.5770 avg: 0.5860 max: 0.5990 >>> [0.581, 0.599, 0.577]\n",
            "\tsplit_size:60\t var_:  train--0.9140 test--0.5550 avg: 0.6090 max: 0.6880 >>> [0.583, 0.688, 0.555]\n",
            "\tsplit_size:70\t var_:  train--0.9450 test--0.5550 avg: 0.5910 max: 0.6340 >>> [0.585, 0.634, 0.555]\n",
            "\tsplit_size:80\t var_:  train--0.9520 test--0.5960 avg: 0.6080 max: 0.6420 >>> [0.587, 0.642, 0.596]\n",
            "\tsplit_size:90\t var_:  train--0.9490 test--0.6180 avg: 0.5940 max: 0.6180 >>> [0.545, 0.618, 0.618]\n",
            "\tsplit_size:50\t std_:  train--0.9230 test--0.6180 avg: 0.6300 max: 0.6800 >>> [0.592, 0.68, 0.618]\n",
            "\tsplit_size:60\t std_:  train--0.9360 test--0.5600 avg: 0.6300 max: 0.6970 >>> [0.633, 0.697, 0.56]\n",
            "\tsplit_size:70\t std_:  train--0.9420 test--0.5910 avg: 0.6260 max: 0.6830 >>> [0.604, 0.683, 0.591]\n",
            "\tsplit_size:80\t std_:  train--0.9610 test--0.6330 avg: 0.6510 max: 0.6880 >>> [0.633, 0.688, 0.633]\n",
            "\tsplit_size:90\t std_:  train--0.9450 test--0.6550 avg: 0.6430 max: 0.6910 >>> [0.582, 0.691, 0.655]\n",
            "\tsplit_size:50\t skew:  train--0.5590 test--0.5510 avg: 0.5250 max: 0.5510 >>> [0.496, 0.529, 0.551]\n",
            "\tsplit_size:60\t skew:  train--0.5340 test--0.5460 avg: 0.5310 max: 0.5460 >>> [0.509, 0.537, 0.546]\n",
            "\tsplit_size:70\t skew:  train--0.5370 test--0.5490 avg: 0.5240 max: 0.5490 >>> [0.5, 0.524, 0.549]\n",
            "\tsplit_size:80\t skew:  train--0.5520 test--0.5050 avg: 0.5440 max: 0.5960 >>> [0.532, 0.596, 0.505]\n",
            "\tsplit_size:90\t skew:  train--0.5480 test--0.5450 avg: 0.5330 max: 0.5640 >>> [0.491, 0.564, 0.545]\n",
            "\tsplit_size:50\t kurt:  train--0.9850 test--0.4780 avg: 0.5010 max: 0.5290 >>> [0.496, 0.529, 0.478]\n",
            "\tsplit_size:60\t kurt:  train--0.9910 test--0.4720 avg: 0.4970 max: 0.5090 >>> [0.509, 0.509, 0.472]\n",
            "\tsplit_size:70\t kurt:  train--0.9920 test--0.4940 avg: 0.5040 max: 0.5180 >>> [0.5, 0.518, 0.494]\n",
            "\tsplit_size:80\t kurt:  train--0.9980 test--0.4400 avg: 0.4620 max: 0.4770 >>> [0.477, 0.468, 0.44]\n",
            "\tsplit_size:90\t kurt:  train--0.9960 test--0.4550 avg: 0.4730 max: 0.4910 >>> [0.473, 0.491, 0.455]\n",
            "\n",
            "window_size: 1\n",
            "\tsplit_size:50\t mean:  train--0.9740 test--0.7830 avg: 0.7790 max: 0.7830 >>> [0.772, 0.783, 0.783]\n",
            "\tsplit_size:60\t mean:  train--0.9690 test--0.7710 avg: 0.8090 max: 0.8300 >>> [0.83, 0.826, 0.771]\n",
            "\tsplit_size:70\t mean:  train--0.9660 test--0.7560 avg: 0.8170 max: 0.8600 >>> [0.835, 0.86, 0.756]\n",
            "\tsplit_size:80\t mean:  train--0.9700 test--0.7800 avg: 0.8380 max: 0.8720 >>> [0.862, 0.872, 0.78]\n",
            "\tsplit_size:90\t mean:  train--0.9780 test--0.7820 avg: 0.8300 max: 0.8910 >>> [0.891, 0.818, 0.782]\n",
            "########################## epoch:  3  ###########################\n"
          ]
        },
        {
          "metadata": {
            "tags": null
          },
          "name": "stderr",
          "output_type": "stream",
          "text": [
            "100%|██████████| 544/544 [00:02<00:00, 184.95it/s]\n"
          ]
        },
        {
          "metadata": {
            "tags": null
          },
          "name": "stdout",
          "output_type": "stream",
          "text": [
            "\n",
            "window_size: 1000\n",
            "\tsplit_size:50\t mean:  train--0.6880 test--0.6470 avg: 0.6640 max: 0.6880 >>> [0.654, 0.665, 0.688, 0.647]\n",
            "\tsplit_size:60\t mean:  train--0.6810 test--0.6740 avg: 0.6750 max: 0.7200 >>> [0.624, 0.683, 0.72, 0.674]\n",
            "\tsplit_size:70\t mean:  train--0.6740 test--0.7130 avg: 0.6920 max: 0.7440 >>> [0.616, 0.695, 0.744, 0.713]\n",
            "\tsplit_size:80\t mean:  train--0.6920 test--0.7160 avg: 0.6860 max: 0.7160 >>> [0.615, 0.697, 0.716, 0.716]\n",
            "\tsplit_size:90\t mean:  train--0.6910 test--0.7640 avg: 0.7000 max: 0.7640 >>> [0.6, 0.691, 0.745, 0.764]\n",
            "\tsplit_size:50\t var_:  train--0.6140 test--0.5550 avg: 0.5690 max: 0.6030 >>> [0.54, 0.577, 0.603, 0.555]\n",
            "\tsplit_size:60\t var_:  train--0.6070 test--0.5960 avg: 0.5920 max: 0.6240 >>> [0.541, 0.606, 0.624, 0.596]\n",
            "\tsplit_size:70\t var_:  train--0.6000 test--0.5790 avg: 0.5930 max: 0.6520 >>> [0.537, 0.604, 0.652, 0.579]\n",
            "\tsplit_size:80\t var_:  train--0.5820 test--0.6420 avg: 0.5870 max: 0.6420 >>> [0.495, 0.606, 0.606, 0.642]\n",
            "\tsplit_size:90\t var_:  train--0.6030 test--0.6360 avg: 0.5950 max: 0.6360 >>> [0.473, 0.636, 0.636, 0.636]\n",
            "\tsplit_size:50\t std_:  train--0.6580 test--0.6320 avg: 0.6400 max: 0.6620 >>> [0.61, 0.654, 0.662, 0.632]\n",
            "\tsplit_size:60\t std_:  train--0.6440 test--0.6420 avg: 0.6580 max: 0.6880 >>> [0.615, 0.688, 0.688, 0.642]\n",
            "\tsplit_size:70\t std_:  train--0.6530 test--0.6890 avg: 0.6690 max: 0.7380 >>> [0.598, 0.652, 0.738, 0.689]\n",
            "\tsplit_size:80\t std_:  train--0.6690 test--0.6970 avg: 0.6700 max: 0.7160 >>> [0.569, 0.697, 0.716, 0.697]\n",
            "\tsplit_size:90\t std_:  train--0.6690 test--0.7450 avg: 0.6540 max: 0.7450 >>> [0.545, 0.6, 0.727, 0.745]\n",
            "\tsplit_size:50\t skew:  train--0.6140 test--0.5110 avg: 0.5530 max: 0.5920 >>> [0.548, 0.562, 0.592, 0.511]\n",
            "\tsplit_size:60\t skew:  train--0.6070 test--0.5050 avg: 0.5560 max: 0.5870 >>> [0.587, 0.555, 0.578, 0.505]\n",
            "\tsplit_size:70\t skew:  train--0.5950 test--0.6340 avg: 0.6040 max: 0.6340 >>> [0.628, 0.561, 0.591, 0.634]\n",
            "\tsplit_size:80\t skew:  train--0.6070 test--0.6510 avg: 0.5920 max: 0.6510 >>> [0.606, 0.55, 0.56, 0.651]\n",
            "\tsplit_size:90\t skew:  train--0.6220 test--0.6360 avg: 0.5820 max: 0.6360 >>> [0.582, 0.509, 0.6, 0.636]\n",
            "\tsplit_size:50\t kurt:  train--0.5810 test--0.5150 avg: 0.5280 max: 0.5400 >>> [0.518, 0.537, 0.54, 0.515]\n",
            "\tsplit_size:60\t kurt:  train--0.5770 test--0.5230 avg: 0.5300 max: 0.5410 >>> [0.541, 0.541, 0.514, 0.523]\n",
            "\tsplit_size:70\t kurt:  train--0.5710 test--0.5610 avg: 0.5380 max: 0.5610 >>> [0.561, 0.5, 0.53, 0.561]\n",
            "\tsplit_size:80\t kurt:  train--0.5820 test--0.5780 avg: 0.5410 max: 0.5780 >>> [0.523, 0.523, 0.541, 0.578]\n",
            "\tsplit_size:90\t kurt:  train--0.5830 test--0.4910 avg: 0.4910 max: 0.5090 >>> [0.473, 0.509, 0.491, 0.491]\n"
          ]
        },
        {
          "metadata": {
            "tags": null
          },
          "name": "stderr",
          "output_type": "stream",
          "text": [
            "100%|██████████| 544/544 [00:35<00:00, 15.44it/s]\n"
          ]
        },
        {
          "metadata": {
            "tags": null
          },
          "name": "stdout",
          "output_type": "stream",
          "text": [
            "\n",
            "window_size: 100\n",
            "\tsplit_size:50\t mean:  train--0.7210 test--0.6910 avg: 0.6820 max: 0.6990 >>> [0.699, 0.651, 0.688, 0.691]\n",
            "\tsplit_size:60\t mean:  train--0.7270 test--0.7020 avg: 0.6950 max: 0.7060 >>> [0.706, 0.688, 0.683, 0.702]\n",
            "\tsplit_size:70\t mean:  train--0.7370 test--0.6830 avg: 0.6760 max: 0.6830 >>> [0.677, 0.683, 0.659, 0.683]\n",
            "\tsplit_size:80\t mean:  train--0.7260 test--0.6790 avg: 0.6970 max: 0.7160 >>> [0.697, 0.716, 0.697, 0.679]\n",
            "\tsplit_size:90\t mean:  train--0.7140 test--0.7640 avg: 0.7230 max: 0.7640 >>> [0.709, 0.691, 0.727, 0.764]\n",
            "\tsplit_size:50\t var_:  train--0.6840 test--0.6100 avg: 0.6080 max: 0.6320 >>> [0.632, 0.581, 0.61, 0.61]\n",
            "\tsplit_size:60\t var_:  train--0.6840 test--0.6060 avg: 0.6140 max: 0.6330 >>> [0.633, 0.606, 0.61, 0.606]\n",
            "\tsplit_size:70\t var_:  train--0.6840 test--0.6040 avg: 0.5900 max: 0.6100 >>> [0.561, 0.61, 0.585, 0.604]\n",
            "\tsplit_size:80\t var_:  train--0.6870 test--0.6420 avg: 0.6150 max: 0.6420 >>> [0.56, 0.624, 0.633, 0.642]\n",
            "\tsplit_size:90\t var_:  train--0.6770 test--0.7090 avg: 0.6280 max: 0.7090 >>> [0.564, 0.655, 0.582, 0.709]\n",
            "\tsplit_size:50\t std_:  train--0.7020 test--0.6650 avg: 0.6500 max: 0.6800 >>> [0.68, 0.61, 0.643, 0.665]\n",
            "\tsplit_size:60\t std_:  train--0.7020 test--0.6610 avg: 0.6600 max: 0.6700 >>> [0.67, 0.647, 0.661, 0.661]\n",
            "\tsplit_size:70\t std_:  train--0.7130 test--0.6830 avg: 0.6600 max: 0.6830 >>> [0.634, 0.677, 0.646, 0.683]\n",
            "\tsplit_size:80\t std_:  train--0.7060 test--0.6610 avg: 0.6630 max: 0.6700 >>> [0.651, 0.67, 0.67, 0.661]\n",
            "\tsplit_size:90\t std_:  train--0.6950 test--0.7450 avg: 0.6960 max: 0.7450 >>> [0.691, 0.655, 0.691, 0.745]\n",
            "\tsplit_size:50\t skew:  train--0.7940 test--0.6470 avg: 0.6270 max: 0.6470 >>> [0.607, 0.629, 0.625, 0.647]\n",
            "\tsplit_size:60\t skew:  train--0.8130 test--0.6610 avg: 0.6580 max: 0.6740 >>> [0.642, 0.656, 0.674, 0.661]\n",
            "\tsplit_size:70\t skew:  train--0.8630 test--0.7070 avg: 0.6460 max: 0.7070 >>> [0.567, 0.677, 0.634, 0.707]\n",
            "\tsplit_size:80\t skew:  train--0.8300 test--0.7610 avg: 0.6950 max: 0.7610 >>> [0.688, 0.661, 0.67, 0.761]\n",
            "\tsplit_size:90\t skew:  train--0.8470 test--0.8550 avg: 0.7410 max: 0.8550 >>> [0.709, 0.727, 0.673, 0.855]\n",
            "\tsplit_size:50\t kurt:  train--0.7680 test--0.6070 avg: 0.5690 max: 0.6070 >>> [0.544, 0.551, 0.574, 0.607]\n",
            "\tsplit_size:60\t kurt:  train--0.7640 test--0.5690 avg: 0.5850 max: 0.6280 >>> [0.628, 0.555, 0.587, 0.569]\n",
            "\tsplit_size:70\t kurt:  train--0.7740 test--0.5610 avg: 0.5850 max: 0.6460 >>> [0.646, 0.573, 0.561, 0.561]\n",
            "\tsplit_size:80\t kurt:  train--0.7700 test--0.5960 avg: 0.5990 max: 0.6610 >>> [0.661, 0.532, 0.606, 0.596]\n",
            "\tsplit_size:90\t kurt:  train--0.7710 test--0.6360 avg: 0.6410 max: 0.6910 >>> [0.691, 0.582, 0.655, 0.636]\n"
          ]
        },
        {
          "metadata": {
            "tags": null
          },
          "name": "stderr",
          "output_type": "stream",
          "text": [
            "100%|██████████| 544/544 [05:24<00:00,  1.68it/s]\n"
          ]
        },
        {
          "metadata": {
            "tags": null
          },
          "name": "stdout",
          "output_type": "stream",
          "text": [
            "\n",
            "window_size: 10\n",
            "\tsplit_size:50\t mean:  train--0.9410 test--0.8160 avg: 0.8100 max: 0.8160 >>> [0.816, 0.812, 0.798, 0.816]\n",
            "\tsplit_size:60\t mean:  train--0.9390 test--0.8390 avg: 0.8460 max: 0.8670 >>> [0.844, 0.867, 0.835, 0.839]\n",
            "\tsplit_size:70\t mean:  train--0.9240 test--0.8480 avg: 0.8600 max: 0.8780 >>> [0.866, 0.878, 0.848, 0.848]\n",
            "\tsplit_size:80\t mean:  train--0.9470 test--0.8530 avg: 0.8550 max: 0.8620 >>> [0.844, 0.862, 0.862, 0.853]\n",
            "\tsplit_size:90\t mean:  train--0.9510 test--0.7090 avg: 0.8140 max: 0.8910 >>> [0.8, 0.891, 0.855, 0.709]\n",
            "\tsplit_size:50\t var_:  train--0.8530 test--0.5740 avg: 0.6090 max: 0.6400 >>> [0.64, 0.629, 0.592, 0.574]\n",
            "\tsplit_size:60\t var_:  train--0.8400 test--0.5780 avg: 0.6140 max: 0.6420 >>> [0.619, 0.642, 0.615, 0.578]\n",
            "\tsplit_size:70\t var_:  train--0.8240 test--0.5610 avg: 0.6250 max: 0.6590 >>> [0.659, 0.646, 0.634, 0.561]\n",
            "\tsplit_size:80\t var_:  train--0.8250 test--0.5500 avg: 0.5960 max: 0.6510 >>> [0.651, 0.606, 0.578, 0.55]\n",
            "\tsplit_size:90\t var_:  train--0.8550 test--0.6910 avg: 0.6230 max: 0.6910 >>> [0.655, 0.6, 0.545, 0.691]\n",
            "\tsplit_size:50\t std_:  train--0.8600 test--0.5920 avg: 0.6340 max: 0.6620 >>> [0.643, 0.662, 0.64, 0.592]\n",
            "\tsplit_size:60\t std_:  train--0.8470 test--0.6330 avg: 0.6560 max: 0.6970 >>> [0.642, 0.697, 0.651, 0.633]\n",
            "\tsplit_size:70\t std_:  train--0.8470 test--0.6100 avg: 0.6540 max: 0.6950 >>> [0.64, 0.695, 0.671, 0.61]\n",
            "\tsplit_size:80\t std_:  train--0.8640 test--0.7060 avg: 0.6580 max: 0.7060 >>> [0.651, 0.688, 0.587, 0.706]\n",
            "\tsplit_size:90\t std_:  train--0.8960 test--0.6910 avg: 0.6590 max: 0.7090 >>> [0.582, 0.709, 0.655, 0.691]\n",
            "\tsplit_size:50\t skew:  train--1.0000 test--0.6840 avg: 0.6820 max: 0.7170 >>> [0.717, 0.654, 0.673, 0.684]\n",
            "\tsplit_size:60\t skew:  train--0.9970 test--0.6790 avg: 0.7040 max: 0.7340 >>> [0.725, 0.679, 0.734, 0.679]\n",
            "\tsplit_size:70\t skew:  train--1.0000 test--0.7070 avg: 0.7180 max: 0.7320 >>> [0.726, 0.732, 0.707, 0.707]\n",
            "\tsplit_size:80\t skew:  train--1.0000 test--0.7340 avg: 0.7290 max: 0.7520 >>> [0.697, 0.752, 0.734, 0.734]\n",
            "\tsplit_size:90\t skew:  train--0.9960 test--0.6910 avg: 0.7450 max: 0.8550 >>> [0.691, 0.855, 0.745, 0.691]\n",
            "\tsplit_size:50\t kurt:  train--1.0000 test--0.5990 avg: 0.5850 max: 0.6140 >>> [0.559, 0.57, 0.614, 0.599]\n",
            "\tsplit_size:60\t kurt:  train--1.0000 test--0.6190 avg: 0.5970 max: 0.6190 >>> [0.596, 0.573, 0.601, 0.619]\n",
            "\tsplit_size:70\t kurt:  train--1.0000 test--0.5980 avg: 0.5880 max: 0.6100 >>> [0.61, 0.567, 0.579, 0.598]\n",
            "\tsplit_size:80\t kurt:  train--1.0000 test--0.6240 avg: 0.6040 max: 0.6240 >>> [0.569, 0.615, 0.606, 0.624]\n",
            "\tsplit_size:90\t kurt:  train--1.0000 test--0.5820 avg: 0.5820 max: 0.6180 >>> [0.618, 0.582, 0.545, 0.582]\n"
          ]
        },
        {
          "metadata": {
            "tags": null
          },
          "name": "stderr",
          "output_type": "stream",
          "text": [
            "100%|██████████| 544/544 [00:00<00:00, 699.02it/s]\n"
          ]
        },
        {
          "metadata": {
            "tags": null
          },
          "name": "stdout",
          "output_type": "stream",
          "text": [
            "\n",
            "window_size: 4096\n",
            "\tsplit_size:50\t mean:  train--0.6470 test--0.6580 avg: 0.6500 max: 0.6580 >>> [0.651, 0.64, 0.651, 0.658]\n",
            "\tsplit_size:60\t mean:  train--0.6440 test--0.6740 avg: 0.6550 max: 0.6740 >>> [0.647, 0.624, 0.674, 0.674]\n",
            "\tsplit_size:70\t mean:  train--0.6370 test--0.6340 avg: 0.6370 max: 0.6830 >>> [0.634, 0.598, 0.683, 0.634]\n",
            "\tsplit_size:80\t mean:  train--0.6480 test--0.5870 avg: 0.6350 max: 0.6880 >>> [0.688, 0.633, 0.633, 0.587]\n",
            "\tsplit_size:90\t mean:  train--0.6500 test--0.6910 avg: 0.6730 max: 0.7270 >>> [0.727, 0.618, 0.655, 0.691]\n",
            "\tsplit_size:50\t var_:  train--0.5810 test--0.5850 avg: 0.5580 max: 0.5880 >>> [0.485, 0.588, 0.574, 0.585]\n",
            "\tsplit_size:60\t var_:  train--0.5860 test--0.6150 avg: 0.5620 max: 0.6150 >>> [0.468, 0.592, 0.573, 0.615]\n",
            "\tsplit_size:70\t var_:  train--0.5680 test--0.6100 avg: 0.6020 max: 0.6100 >>> [0.604, 0.585, 0.61, 0.61]\n",
            "\tsplit_size:80\t var_:  train--0.5840 test--0.5960 avg: 0.6220 max: 0.6330 >>> [0.633, 0.624, 0.633, 0.596]\n",
            "\tsplit_size:90\t var_:  train--0.5790 test--0.6000 avg: 0.6730 max: 0.7090 >>> [0.709, 0.691, 0.691, 0.6]\n",
            "\tsplit_size:50\t std_:  train--0.6290 test--0.6800 avg: 0.6020 max: 0.6800 >>> [0.485, 0.625, 0.618, 0.68]\n",
            "\tsplit_size:60\t std_:  train--0.6380 test--0.6790 avg: 0.6340 max: 0.6790 >>> [0.583, 0.642, 0.633, 0.679]\n",
            "\tsplit_size:70\t std_:  train--0.6470 test--0.6710 avg: 0.6470 max: 0.6710 >>> [0.659, 0.628, 0.628, 0.671]\n",
            "\tsplit_size:80\t std_:  train--0.6550 test--0.6510 avg: 0.6600 max: 0.6880 >>> [0.67, 0.633, 0.688, 0.651]\n",
            "\tsplit_size:90\t std_:  train--0.6440 test--0.6730 avg: 0.6820 max: 0.7090 >>> [0.709, 0.673, 0.673, 0.673]\n",
            "\tsplit_size:50\t skew:  train--0.6690 test--0.6690 avg: 0.6740 max: 0.6990 >>> [0.651, 0.676, 0.699, 0.669]\n",
            "\tsplit_size:60\t skew:  train--0.6750 test--0.6830 avg: 0.6700 max: 0.7020 >>> [0.638, 0.656, 0.702, 0.683]\n",
            "\tsplit_size:70\t skew:  train--0.6550 test--0.7010 avg: 0.6900 max: 0.7130 >>> [0.713, 0.659, 0.689, 0.701]\n",
            "\tsplit_size:80\t skew:  train--0.6740 test--0.6240 avg: 0.6700 max: 0.7340 >>> [0.734, 0.688, 0.633, 0.624]\n",
            "\tsplit_size:90\t skew:  train--0.6890 test--0.6730 avg: 0.6860 max: 0.7270 >>> [0.727, 0.673, 0.673, 0.673]\n",
            "\tsplit_size:50\t kurt:  train--0.6140 test--0.6030 avg: 0.5880 max: 0.6360 >>> [0.496, 0.618, 0.636, 0.603]\n",
            "\tsplit_size:60\t kurt:  train--0.6380 test--0.6150 avg: 0.6030 max: 0.6880 >>> [0.495, 0.615, 0.688, 0.615]\n",
            "\tsplit_size:70\t kurt:  train--0.6290 test--0.6400 avg: 0.6510 max: 0.6770 >>> [0.665, 0.622, 0.677, 0.64]\n",
            "\tsplit_size:80\t kurt:  train--0.6370 test--0.5870 avg: 0.6170 max: 0.6880 >>> [0.688, 0.596, 0.596, 0.587]\n",
            "\tsplit_size:90\t kurt:  train--0.6400 test--0.6180 avg: 0.6270 max: 0.6730 >>> [0.618, 0.6, 0.673, 0.618]\n"
          ]
        },
        {
          "metadata": {
            "tags": null
          },
          "name": "stderr",
          "output_type": "stream",
          "text": [
            "100%|██████████| 544/544 [00:01<00:00, 362.92it/s]\n"
          ]
        },
        {
          "metadata": {
            "tags": null
          },
          "name": "stdout",
          "output_type": "stream",
          "text": [
            "\n",
            "window_size: 2048\n",
            "\tsplit_size:50\t mean:  train--0.7130 test--0.7060 avg: 0.6760 max: 0.7060 >>> [0.658, 0.658, 0.68, 0.706]\n",
            "\tsplit_size:60\t mean:  train--0.7210 test--0.7060 avg: 0.6880 max: 0.7060 >>> [0.661, 0.679, 0.706, 0.706]\n",
            "\tsplit_size:70\t mean:  train--0.7110 test--0.7130 avg: 0.7040 max: 0.7200 >>> [0.707, 0.677, 0.72, 0.713]\n",
            "\tsplit_size:80\t mean:  train--0.7200 test--0.6700 avg: 0.7130 max: 0.7710 >>> [0.771, 0.651, 0.761, 0.67]\n",
            "\tsplit_size:90\t mean:  train--0.7220 test--0.6910 avg: 0.7090 max: 0.7640 >>> [0.745, 0.636, 0.764, 0.691]\n",
            "\tsplit_size:50\t var_:  train--0.6140 test--0.6030 avg: 0.5830 max: 0.6030 >>> [0.581, 0.588, 0.559, 0.603]\n",
            "\tsplit_size:60\t var_:  train--0.6350 test--0.5920 avg: 0.5800 max: 0.6010 >>> [0.601, 0.569, 0.56, 0.592]\n",
            "\tsplit_size:70\t var_:  train--0.6110 test--0.5850 avg: 0.5750 max: 0.6160 >>> [0.616, 0.543, 0.555, 0.585]\n",
            "\tsplit_size:80\t var_:  train--0.6440 test--0.5780 avg: 0.5870 max: 0.6510 >>> [0.651, 0.523, 0.596, 0.578]\n",
            "\tsplit_size:90\t var_:  train--0.6050 test--0.5450 avg: 0.5820 max: 0.6360 >>> [0.618, 0.527, 0.636, 0.545]\n",
            "\tsplit_size:50\t std_:  train--0.6840 test--0.6580 avg: 0.6300 max: 0.6580 >>> [0.625, 0.618, 0.621, 0.658]\n",
            "\tsplit_size:60\t std_:  train--0.6960 test--0.6330 avg: 0.6430 max: 0.6610 >>> [0.651, 0.628, 0.661, 0.633]\n",
            "\tsplit_size:70\t std_:  train--0.6710 test--0.6710 avg: 0.6480 max: 0.6710 >>> [0.659, 0.628, 0.634, 0.671]\n",
            "\tsplit_size:80\t std_:  train--0.6670 test--0.6240 avg: 0.6650 max: 0.7060 >>> [0.706, 0.633, 0.697, 0.624]\n",
            "\tsplit_size:90\t std_:  train--0.6670 test--0.6180 avg: 0.6680 max: 0.7090 >>> [0.709, 0.655, 0.691, 0.618]\n",
            "\tsplit_size:50\t skew:  train--0.6100 test--0.5700 avg: 0.5740 max: 0.5770 >>> [0.574, 0.577, 0.574, 0.57]\n",
            "\tsplit_size:60\t skew:  train--0.6010 test--0.5730 avg: 0.5740 max: 0.5960 >>> [0.564, 0.564, 0.596, 0.573]\n",
            "\tsplit_size:70\t skew:  train--0.6050 test--0.5790 avg: 0.5800 max: 0.5850 >>> [0.585, 0.579, 0.579, 0.579]\n",
            "\tsplit_size:80\t skew:  train--0.6070 test--0.5320 avg: 0.6010 max: 0.6510 >>> [0.615, 0.606, 0.651, 0.532]\n",
            "\tsplit_size:90\t skew:  train--0.6280 test--0.5640 avg: 0.6090 max: 0.6910 >>> [0.582, 0.6, 0.691, 0.564]\n",
            "\tsplit_size:50\t kurt:  train--0.5880 test--0.5810 avg: 0.5740 max: 0.5960 >>> [0.566, 0.596, 0.551, 0.581]\n",
            "\tsplit_size:60\t kurt:  train--0.5950 test--0.5870 avg: 0.5760 max: 0.5870 >>> [0.56, 0.569, 0.587, 0.587]\n",
            "\tsplit_size:70\t kurt:  train--0.6080 test--0.5550 avg: 0.5730 max: 0.5980 >>> [0.555, 0.598, 0.585, 0.555]\n",
            "\tsplit_size:80\t kurt:  train--0.6110 test--0.5230 avg: 0.5710 max: 0.6330 >>> [0.523, 0.633, 0.606, 0.523]\n",
            "\tsplit_size:90\t kurt:  train--0.6180 test--0.4730 avg: 0.5590 max: 0.6730 >>> [0.527, 0.673, 0.564, 0.473]\n"
          ]
        },
        {
          "metadata": {
            "tags": null
          },
          "name": "stderr",
          "output_type": "stream",
          "text": [
            "100%|██████████| 544/544 [00:02<00:00, 188.10it/s]\n"
          ]
        },
        {
          "metadata": {
            "tags": null
          },
          "name": "stdout",
          "output_type": "stream",
          "text": [
            "\n",
            "window_size: 1024\n",
            "\tsplit_size:50\t mean:  train--0.6880 test--0.6760 avg: 0.6710 max: 0.6800 >>> [0.68, 0.669, 0.658, 0.676]\n",
            "\tsplit_size:60\t mean:  train--0.6960 test--0.6610 avg: 0.6790 max: 0.6930 >>> [0.693, 0.67, 0.693, 0.661]\n",
            "\tsplit_size:70\t mean:  train--0.7030 test--0.6400 avg: 0.6710 max: 0.7200 >>> [0.683, 0.64, 0.72, 0.64]\n",
            "\tsplit_size:80\t mean:  train--0.7010 test--0.6330 avg: 0.6560 max: 0.7160 >>> [0.716, 0.596, 0.679, 0.633]\n",
            "\tsplit_size:90\t mean:  train--0.6950 test--0.6550 avg: 0.6730 max: 0.7270 >>> [0.709, 0.6, 0.727, 0.655]\n",
            "\tsplit_size:50\t var_:  train--0.6400 test--0.5880 avg: 0.5870 max: 0.6250 >>> [0.625, 0.559, 0.577, 0.588]\n",
            "\tsplit_size:60\t var_:  train--0.6350 test--0.5640 avg: 0.5740 max: 0.6060 >>> [0.606, 0.541, 0.583, 0.564]\n",
            "\tsplit_size:70\t var_:  train--0.6320 test--0.5790 avg: 0.5840 max: 0.6100 >>> [0.61, 0.543, 0.604, 0.579]\n",
            "\tsplit_size:80\t var_:  train--0.6210 test--0.5050 avg: 0.5440 max: 0.6060 >>> [0.606, 0.477, 0.587, 0.505]\n",
            "\tsplit_size:90\t var_:  train--0.5950 test--0.5270 avg: 0.5360 max: 0.6180 >>> [0.618, 0.455, 0.545, 0.527]\n",
            "\tsplit_size:50\t std_:  train--0.6990 test--0.6360 avg: 0.6430 max: 0.6840 >>> [0.684, 0.621, 0.629, 0.636]\n",
            "\tsplit_size:60\t std_:  train--0.6960 test--0.6100 avg: 0.6520 max: 0.7110 >>> [0.711, 0.615, 0.67, 0.61]\n",
            "\tsplit_size:70\t std_:  train--0.6820 test--0.5910 avg: 0.6420 max: 0.7070 >>> [0.707, 0.598, 0.671, 0.591]\n",
            "\tsplit_size:80\t std_:  train--0.6690 test--0.5500 avg: 0.6330 max: 0.7430 >>> [0.743, 0.578, 0.661, 0.55]\n",
            "\tsplit_size:90\t std_:  train--0.6670 test--0.5450 avg: 0.6140 max: 0.6910 >>> [0.655, 0.564, 0.691, 0.545]\n",
            "\tsplit_size:50\t skew:  train--0.5960 test--0.5330 avg: 0.5570 max: 0.5960 >>> [0.596, 0.515, 0.585, 0.533]\n",
            "\tsplit_size:60\t skew:  train--0.6010 test--0.5410 avg: 0.5720 max: 0.6060 >>> [0.596, 0.546, 0.606, 0.541]\n",
            "\tsplit_size:70\t skew:  train--0.6110 test--0.5490 avg: 0.5520 max: 0.5610 >>> [0.549, 0.549, 0.561, 0.549]\n",
            "\tsplit_size:80\t skew:  train--0.6070 test--0.5780 avg: 0.5640 max: 0.5960 >>> [0.596, 0.514, 0.569, 0.578]\n",
            "\tsplit_size:90\t skew:  train--0.6280 test--0.6180 avg: 0.6040 max: 0.7090 >>> [0.545, 0.545, 0.709, 0.618]\n",
            "\tsplit_size:50\t kurt:  train--0.5480 test--0.5000 avg: 0.5210 max: 0.5550 >>> [0.522, 0.507, 0.555, 0.5]\n",
            "\tsplit_size:60\t kurt:  train--0.5860 test--0.5000 avg: 0.5380 max: 0.5690 >>> [0.532, 0.55, 0.569, 0.5]\n",
            "\tsplit_size:70\t kurt:  train--0.5950 test--0.4820 avg: 0.5080 max: 0.5370 >>> [0.488, 0.537, 0.524, 0.482]\n",
            "\tsplit_size:80\t kurt:  train--0.5890 test--0.4220 avg: 0.4630 max: 0.4950 >>> [0.45, 0.486, 0.495, 0.422]\n",
            "\tsplit_size:90\t kurt:  train--0.5640 test--0.4180 avg: 0.5000 max: 0.6000 >>> [0.418, 0.564, 0.6, 0.418]\n"
          ]
        },
        {
          "metadata": {
            "tags": null
          },
          "name": "stderr",
          "output_type": "stream",
          "text": [
            "100%|██████████| 544/544 [00:06<00:00, 88.03it/s]\n"
          ]
        },
        {
          "metadata": {
            "tags": null
          },
          "name": "stdout",
          "output_type": "stream",
          "text": [
            "\n",
            "window_size: 512\n",
            "\tsplit_size:50\t mean:  train--0.6620 test--0.7130 avg: 0.7120 max: 0.7350 >>> [0.735, 0.68, 0.721, 0.713]\n",
            "\tsplit_size:60\t mean:  train--0.6810 test--0.7110 avg: 0.7160 max: 0.7480 >>> [0.716, 0.688, 0.748, 0.711]\n",
            "\tsplit_size:70\t mean:  train--0.6950 test--0.7130 avg: 0.7260 max: 0.7560 >>> [0.72, 0.713, 0.756, 0.713]\n",
            "\tsplit_size:80\t mean:  train--0.6990 test--0.6970 avg: 0.7110 max: 0.7520 >>> [0.716, 0.679, 0.752, 0.697]\n",
            "\tsplit_size:90\t mean:  train--0.6970 test--0.6910 avg: 0.7000 max: 0.7270 >>> [0.727, 0.655, 0.727, 0.691]\n",
            "\tsplit_size:50\t var_:  train--0.5920 test--0.6210 avg: 0.6290 max: 0.6760 >>> [0.676, 0.592, 0.625, 0.621]\n",
            "\tsplit_size:60\t var_:  train--0.6320 test--0.6380 avg: 0.6240 max: 0.6380 >>> [0.633, 0.61, 0.615, 0.638]\n",
            "\tsplit_size:70\t var_:  train--0.6080 test--0.6520 avg: 0.6250 max: 0.6520 >>> [0.628, 0.61, 0.61, 0.652]\n",
            "\tsplit_size:80\t var_:  train--0.5980 test--0.6610 avg: 0.6310 max: 0.6610 >>> [0.633, 0.596, 0.633, 0.661]\n",
            "\tsplit_size:90\t var_:  train--0.6260 test--0.7270 avg: 0.6500 max: 0.7270 >>> [0.655, 0.6, 0.618, 0.727]\n",
            "\tsplit_size:50\t std_:  train--0.6690 test--0.7060 avg: 0.6950 max: 0.7170 >>> [0.717, 0.676, 0.68, 0.706]\n",
            "\tsplit_size:60\t std_:  train--0.7020 test--0.6790 avg: 0.6940 max: 0.7160 >>> [0.716, 0.67, 0.711, 0.679]\n",
            "\tsplit_size:70\t std_:  train--0.6820 test--0.6890 avg: 0.6940 max: 0.7130 >>> [0.671, 0.701, 0.713, 0.689]\n",
            "\tsplit_size:80\t std_:  train--0.6670 test--0.6970 avg: 0.6970 max: 0.7250 >>> [0.679, 0.688, 0.725, 0.697]\n",
            "\tsplit_size:90\t std_:  train--0.6730 test--0.7450 avg: 0.7140 max: 0.7450 >>> [0.727, 0.673, 0.709, 0.745]\n",
            "\tsplit_size:50\t skew:  train--0.7060 test--0.6290 avg: 0.6040 max: 0.6290 >>> [0.618, 0.596, 0.574, 0.629]\n",
            "\tsplit_size:60\t skew:  train--0.6840 test--0.6380 avg: 0.6320 max: 0.6650 >>> [0.665, 0.619, 0.606, 0.638]\n",
            "\tsplit_size:70\t skew:  train--0.6740 test--0.6040 avg: 0.6240 max: 0.6830 >>> [0.683, 0.61, 0.598, 0.604]\n",
            "\tsplit_size:80\t skew:  train--0.6760 test--0.6510 avg: 0.6700 max: 0.6970 >>> [0.697, 0.688, 0.642, 0.651]\n",
            "\tsplit_size:90\t skew:  train--0.6910 test--0.6360 avg: 0.6500 max: 0.7270 >>> [0.564, 0.727, 0.673, 0.636]\n",
            "\tsplit_size:50\t kurt:  train--0.6620 test--0.5370 avg: 0.5250 max: 0.5590 >>> [0.522, 0.559, 0.482, 0.537]\n",
            "\tsplit_size:60\t kurt:  train--0.6130 test--0.5500 avg: 0.5360 max: 0.5640 >>> [0.532, 0.564, 0.5, 0.55]\n",
            "\tsplit_size:70\t kurt:  train--0.6030 test--0.5490 avg: 0.5290 max: 0.5490 >>> [0.543, 0.537, 0.488, 0.549]\n",
            "\tsplit_size:80\t kurt:  train--0.5910 test--0.5600 avg: 0.5710 max: 0.5960 >>> [0.569, 0.596, 0.56, 0.56]\n",
            "\tsplit_size:90\t kurt:  train--0.5890 test--0.4910 avg: 0.5770 max: 0.6360 >>> [0.564, 0.618, 0.636, 0.491]\n"
          ]
        },
        {
          "metadata": {
            "tags": null
          },
          "name": "stderr",
          "output_type": "stream",
          "text": [
            "100%|██████████| 544/544 [00:14<00:00, 38.81it/s]\n"
          ]
        },
        {
          "metadata": {
            "tags": null
          },
          "name": "stdout",
          "output_type": "stream",
          "text": [
            "\n",
            "window_size: 256\n",
            "\tsplit_size:50\t mean:  train--0.7060 test--0.6580 avg: 0.6720 max: 0.7060 >>> [0.632, 0.706, 0.691, 0.658]\n",
            "\tsplit_size:60\t mean:  train--0.7150 test--0.6830 avg: 0.6630 max: 0.6830 >>> [0.615, 0.674, 0.679, 0.683]\n",
            "\tsplit_size:70\t mean:  train--0.7210 test--0.6460 avg: 0.6540 max: 0.6830 >>> [0.683, 0.64, 0.646, 0.646]\n",
            "\tsplit_size:80\t mean:  train--0.7220 test--0.6420 avg: 0.6540 max: 0.6610 >>> [0.651, 0.661, 0.661, 0.642]\n",
            "\tsplit_size:90\t mean:  train--0.7100 test--0.6000 avg: 0.6500 max: 0.6730 >>> [0.673, 0.673, 0.655, 0.6]\n",
            "\tsplit_size:50\t var_:  train--0.6430 test--0.5740 avg: 0.5700 max: 0.5920 >>> [0.54, 0.574, 0.592, 0.574]\n",
            "\tsplit_size:60\t var_:  train--0.6410 test--0.5730 avg: 0.5740 max: 0.6100 >>> [0.564, 0.55, 0.61, 0.573]\n",
            "\tsplit_size:70\t var_:  train--0.6370 test--0.5790 avg: 0.5710 max: 0.6220 >>> [0.561, 0.524, 0.622, 0.579]\n",
            "\tsplit_size:80\t var_:  train--0.6320 test--0.5780 avg: 0.5920 max: 0.6330 >>> [0.587, 0.569, 0.633, 0.578]\n",
            "\tsplit_size:90\t var_:  train--0.6420 test--0.5450 avg: 0.6090 max: 0.6360 >>> [0.636, 0.618, 0.636, 0.545]\n",
            "\tsplit_size:50\t std_:  train--0.6910 test--0.6470 avg: 0.6440 max: 0.6760 >>> [0.603, 0.651, 0.676, 0.647]\n",
            "\tsplit_size:60\t std_:  train--0.6840 test--0.6740 avg: 0.6650 max: 0.6930 >>> [0.628, 0.665, 0.693, 0.674]\n",
            "\tsplit_size:70\t std_:  train--0.6920 test--0.6460 avg: 0.6400 max: 0.6520 >>> [0.628, 0.634, 0.652, 0.646]\n",
            "\tsplit_size:80\t std_:  train--0.6850 test--0.6610 avg: 0.6490 max: 0.6610 >>> [0.633, 0.642, 0.661, 0.661]\n",
            "\tsplit_size:90\t std_:  train--0.6910 test--0.5820 avg: 0.6360 max: 0.7090 >>> [0.618, 0.709, 0.636, 0.582]\n",
            "\tsplit_size:50\t skew:  train--0.6990 test--0.6950 avg: 0.6190 max: 0.6950 >>> [0.61, 0.603, 0.57, 0.695]\n",
            "\tsplit_size:60\t skew:  train--0.7240 test--0.6830 avg: 0.6340 max: 0.6830 >>> [0.583, 0.642, 0.628, 0.683]\n",
            "\tsplit_size:70\t skew:  train--0.7260 test--0.6520 avg: 0.6370 max: 0.6890 >>> [0.573, 0.634, 0.689, 0.652]\n",
            "\tsplit_size:80\t skew:  train--0.7400 test--0.6330 avg: 0.6600 max: 0.7060 >>> [0.661, 0.642, 0.706, 0.633]\n",
            "\tsplit_size:90\t skew:  train--0.7420 test--0.6000 avg: 0.6500 max: 0.7270 >>> [0.636, 0.636, 0.727, 0.6]\n",
            "\tsplit_size:50\t kurt:  train--0.6840 test--0.5770 avg: 0.5420 max: 0.5770 >>> [0.562, 0.529, 0.5, 0.577]\n",
            "\tsplit_size:60\t kurt:  train--0.6410 test--0.5780 avg: 0.5440 max: 0.5780 >>> [0.532, 0.564, 0.5, 0.578]\n",
            "\tsplit_size:70\t kurt:  train--0.6740 test--0.5850 avg: 0.5550 max: 0.5850 >>> [0.506, 0.549, 0.579, 0.585]\n",
            "\tsplit_size:80\t kurt:  train--0.6600 test--0.5690 avg: 0.5830 max: 0.6150 >>> [0.569, 0.578, 0.615, 0.569]\n",
            "\tsplit_size:90\t kurt:  train--0.6610 test--0.5450 avg: 0.6040 max: 0.6360 >>> [0.618, 0.636, 0.618, 0.545]\n"
          ]
        },
        {
          "metadata": {
            "tags": null
          },
          "name": "stderr",
          "output_type": "stream",
          "text": [
            "100%|██████████| 544/544 [00:25<00:00, 21.54it/s]\n"
          ]
        },
        {
          "metadata": {
            "tags": null
          },
          "name": "stdout",
          "output_type": "stream",
          "text": [
            "\n",
            "window_size: 128\n",
            "\tsplit_size:50\t mean:  train--0.7170 test--0.6540 avg: 0.6680 max: 0.7060 >>> [0.706, 0.64, 0.673, 0.654]\n",
            "\tsplit_size:60\t mean:  train--0.7060 test--0.6740 avg: 0.6730 max: 0.6880 >>> [0.688, 0.647, 0.683, 0.674]\n",
            "\tsplit_size:70\t mean:  train--0.7030 test--0.7130 avg: 0.7000 max: 0.7130 >>> [0.701, 0.683, 0.701, 0.713]\n",
            "\tsplit_size:80\t mean:  train--0.6920 test--0.7340 avg: 0.7180 max: 0.7340 >>> [0.697, 0.725, 0.716, 0.734]\n",
            "\tsplit_size:90\t mean:  train--0.7060 test--0.7090 avg: 0.7270 max: 0.7820 >>> [0.691, 0.782, 0.727, 0.709]\n",
            "\tsplit_size:50\t var_:  train--0.6950 test--0.5960 avg: 0.6120 max: 0.6470 >>> [0.647, 0.585, 0.621, 0.596]\n",
            "\tsplit_size:60\t var_:  train--0.7020 test--0.5920 avg: 0.6120 max: 0.6280 >>> [0.619, 0.61, 0.628, 0.592]\n",
            "\tsplit_size:70\t var_:  train--0.6920 test--0.5790 avg: 0.5990 max: 0.6650 >>> [0.579, 0.573, 0.665, 0.579]\n",
            "\tsplit_size:80\t var_:  train--0.6900 test--0.5780 avg: 0.6190 max: 0.6790 >>> [0.596, 0.624, 0.679, 0.578]\n",
            "\tsplit_size:90\t var_:  train--0.6870 test--0.5450 avg: 0.6180 max: 0.6910 >>> [0.582, 0.655, 0.691, 0.545]\n",
            "\tsplit_size:50\t std_:  train--0.7210 test--0.6320 avg: 0.6520 max: 0.6910 >>> [0.691, 0.64, 0.647, 0.632]\n",
            "\tsplit_size:60\t std_:  train--0.7150 test--0.6650 avg: 0.6590 max: 0.6650 >>> [0.665, 0.642, 0.665, 0.665]\n",
            "\tsplit_size:70\t std_:  train--0.7240 test--0.6770 avg: 0.6690 max: 0.6890 >>> [0.677, 0.634, 0.689, 0.677]\n",
            "\tsplit_size:80\t std_:  train--0.7200 test--0.6880 avg: 0.6810 max: 0.6970 >>> [0.661, 0.679, 0.697, 0.688]\n",
            "\tsplit_size:90\t std_:  train--0.7160 test--0.7090 avg: 0.7090 max: 0.7270 >>> [0.673, 0.727, 0.727, 0.709]\n",
            "\tsplit_size:50\t skew:  train--0.8420 test--0.6580 avg: 0.6570 max: 0.6760 >>> [0.64, 0.676, 0.654, 0.658]\n",
            "\tsplit_size:60\t skew:  train--0.8280 test--0.6510 avg: 0.6780 max: 0.7290 >>> [0.656, 0.729, 0.674, 0.651]\n",
            "\tsplit_size:70\t skew:  train--0.8210 test--0.6890 avg: 0.6720 max: 0.7260 >>> [0.64, 0.726, 0.634, 0.689]\n",
            "\tsplit_size:80\t skew:  train--0.8210 test--0.6880 avg: 0.6700 max: 0.7250 >>> [0.624, 0.725, 0.642, 0.688]\n",
            "\tsplit_size:90\t skew:  train--0.8320 test--0.6550 avg: 0.6730 max: 0.7450 >>> [0.655, 0.745, 0.636, 0.655]\n",
            "\tsplit_size:50\t kurt:  train--0.7790 test--0.5920 avg: 0.5740 max: 0.6030 >>> [0.548, 0.603, 0.551, 0.592]\n",
            "\tsplit_size:60\t kurt:  train--0.7450 test--0.5960 avg: 0.5800 max: 0.6280 >>> [0.56, 0.628, 0.537, 0.596]\n",
            "\tsplit_size:70\t kurt:  train--0.7660 test--0.5730 avg: 0.5700 max: 0.5790 >>> [0.555, 0.573, 0.579, 0.573]\n",
            "\tsplit_size:80\t kurt:  train--0.7430 test--0.6150 avg: 0.5530 max: 0.6150 >>> [0.523, 0.55, 0.523, 0.615]\n",
            "\tsplit_size:90\t kurt:  train--0.7530 test--0.6730 avg: 0.6230 max: 0.6730 >>> [0.582, 0.6, 0.636, 0.673]\n"
          ]
        },
        {
          "metadata": {
            "tags": null
          },
          "name": "stderr",
          "output_type": "stream",
          "text": [
            "100%|██████████| 544/544 [00:53<00:00, 10.19it/s]\n"
          ]
        },
        {
          "metadata": {
            "tags": null
          },
          "name": "stdout",
          "output_type": "stream",
          "text": [
            "\n",
            "window_size: 64\n",
            "\tsplit_size:50\t mean:  train--0.6950 test--0.6880 avg: 0.6660 max: 0.6950 >>> [0.662, 0.695, 0.621, 0.688]\n",
            "\tsplit_size:60\t mean:  train--0.6930 test--0.7200 avg: 0.6800 max: 0.7200 >>> [0.683, 0.674, 0.642, 0.72]\n",
            "\tsplit_size:70\t mean:  train--0.7030 test--0.7320 avg: 0.6860 max: 0.7320 >>> [0.689, 0.689, 0.634, 0.732]\n",
            "\tsplit_size:80\t mean:  train--0.7100 test--0.7060 avg: 0.6560 max: 0.7060 >>> [0.688, 0.624, 0.606, 0.706]\n",
            "\tsplit_size:90\t mean:  train--0.7180 test--0.7270 avg: 0.6780 max: 0.7640 >>> [0.764, 0.655, 0.564, 0.727]\n",
            "\tsplit_size:50\t var_:  train--0.6800 test--0.5920 avg: 0.6040 max: 0.6290 >>> [0.61, 0.629, 0.585, 0.592]\n",
            "\tsplit_size:60\t var_:  train--0.6840 test--0.6150 avg: 0.5920 max: 0.6150 >>> [0.569, 0.61, 0.573, 0.615]\n",
            "\tsplit_size:70\t var_:  train--0.6740 test--0.6650 avg: 0.6080 max: 0.6650 >>> [0.561, 0.634, 0.573, 0.665]\n",
            "\tsplit_size:80\t var_:  train--0.6600 test--0.6330 avg: 0.5780 max: 0.6330 >>> [0.541, 0.606, 0.532, 0.633]\n",
            "\tsplit_size:90\t var_:  train--0.6950 test--0.6550 avg: 0.6000 max: 0.6550 >>> [0.6, 0.655, 0.491, 0.655]\n",
            "\tsplit_size:50\t std_:  train--0.6730 test--0.6430 avg: 0.6630 max: 0.6910 >>> [0.654, 0.691, 0.662, 0.643]\n",
            "\tsplit_size:60\t std_:  train--0.6930 test--0.6560 avg: 0.6520 max: 0.6560 >>> [0.647, 0.656, 0.651, 0.656]\n",
            "\tsplit_size:70\t std_:  train--0.6890 test--0.6770 avg: 0.6710 max: 0.6770 >>> [0.665, 0.671, 0.671, 0.677]\n",
            "\tsplit_size:80\t std_:  train--0.7010 test--0.6970 avg: 0.6470 max: 0.6970 >>> [0.651, 0.624, 0.615, 0.697]\n",
            "\tsplit_size:90\t std_:  train--0.7160 test--0.6730 avg: 0.6370 max: 0.6730 >>> [0.673, 0.636, 0.564, 0.673]\n",
            "\tsplit_size:50\t skew:  train--0.8930 test--0.6540 avg: 0.6580 max: 0.6760 >>> [0.651, 0.651, 0.676, 0.654]\n",
            "\tsplit_size:60\t skew:  train--0.9050 test--0.6790 avg: 0.6930 max: 0.7110 >>> [0.688, 0.693, 0.711, 0.679]\n",
            "\tsplit_size:70\t skew:  train--0.8870 test--0.7560 avg: 0.7100 max: 0.7560 >>> [0.683, 0.701, 0.701, 0.756]\n",
            "\tsplit_size:80\t skew:  train--0.8990 test--0.7980 avg: 0.7250 max: 0.7980 >>> [0.734, 0.706, 0.661, 0.798]\n",
            "\tsplit_size:90\t skew:  train--0.9060 test--0.7270 avg: 0.7230 max: 0.7820 >>> [0.673, 0.709, 0.782, 0.727]\n",
            "\tsplit_size:50\t kurt:  train--0.8790 test--0.5700 avg: 0.5910 max: 0.6320 >>> [0.632, 0.592, 0.57, 0.57]\n",
            "\tsplit_size:60\t kurt:  train--0.8830 test--0.6010 avg: 0.6040 max: 0.6190 >>> [0.619, 0.601, 0.596, 0.601]\n",
            "\tsplit_size:70\t kurt:  train--0.8530 test--0.6460 avg: 0.6390 max: 0.6590 >>> [0.652, 0.659, 0.598, 0.646]\n",
            "\tsplit_size:80\t kurt:  train--0.8780 test--0.6510 avg: 0.6310 max: 0.6700 >>> [0.67, 0.615, 0.587, 0.651]\n",
            "\tsplit_size:90\t kurt:  train--0.8730 test--0.5640 avg: 0.5820 max: 0.6550 >>> [0.582, 0.527, 0.655, 0.564]\n"
          ]
        },
        {
          "metadata": {
            "tags": null
          },
          "name": "stderr",
          "output_type": "stream",
          "text": [
            "100%|██████████| 544/544 [01:46<00:00,  5.13it/s]\n"
          ]
        },
        {
          "metadata": {
            "tags": null
          },
          "name": "stdout",
          "output_type": "stream",
          "text": [
            "\n",
            "window_size: 32\n",
            "\tsplit_size:50\t mean:  train--0.7460 test--0.7210 avg: 0.6860 max: 0.7210 >>> [0.647, 0.684, 0.691, 0.721]\n",
            "\tsplit_size:60\t mean:  train--0.7360 test--0.7290 avg: 0.7030 max: 0.7290 >>> [0.683, 0.693, 0.706, 0.729]\n",
            "\tsplit_size:70\t mean:  train--0.7450 test--0.6890 avg: 0.7060 max: 0.7620 >>> [0.689, 0.683, 0.762, 0.689]\n",
            "\tsplit_size:80\t mean:  train--0.7520 test--0.6700 avg: 0.6740 max: 0.7610 >>> [0.624, 0.642, 0.761, 0.67]\n",
            "\tsplit_size:90\t mean:  train--0.7440 test--0.7450 avg: 0.7180 max: 0.7820 >>> [0.673, 0.673, 0.782, 0.745]\n",
            "\tsplit_size:50\t var_:  train--0.7610 test--0.6470 avg: 0.6330 max: 0.6470 >>> [0.618, 0.632, 0.636, 0.647]\n",
            "\tsplit_size:60\t var_:  train--0.7790 test--0.6380 avg: 0.6290 max: 0.6510 >>> [0.606, 0.619, 0.651, 0.638]\n",
            "\tsplit_size:70\t var_:  train--0.7530 test--0.6040 avg: 0.6220 max: 0.6460 >>> [0.628, 0.646, 0.61, 0.604]\n",
            "\tsplit_size:80\t var_:  train--0.7560 test--0.6150 avg: 0.6400 max: 0.7160 >>> [0.596, 0.633, 0.716, 0.615]\n",
            "\tsplit_size:90\t var_:  train--0.7650 test--0.7090 avg: 0.6820 max: 0.7450 >>> [0.582, 0.691, 0.745, 0.709]\n",
            "\tsplit_size:50\t std_:  train--0.7760 test--0.6910 avg: 0.6660 max: 0.6910 >>> [0.625, 0.691, 0.658, 0.691]\n",
            "\tsplit_size:60\t std_:  train--0.7520 test--0.6970 avg: 0.6680 max: 0.7020 >>> [0.619, 0.656, 0.702, 0.697]\n",
            "\tsplit_size:70\t std_:  train--0.7450 test--0.6770 avg: 0.6750 max: 0.7070 >>> [0.646, 0.671, 0.707, 0.677]\n",
            "\tsplit_size:80\t std_:  train--0.7470 test--0.6510 avg: 0.6560 max: 0.7340 >>> [0.596, 0.642, 0.734, 0.651]\n",
            "\tsplit_size:90\t std_:  train--0.7280 test--0.7450 avg: 0.7230 max: 0.7820 >>> [0.655, 0.709, 0.782, 0.745]\n",
            "\tsplit_size:50\t skew:  train--0.9710 test--0.6800 avg: 0.6790 max: 0.6990 >>> [0.658, 0.699, 0.68, 0.68]\n",
            "\tsplit_size:60\t skew:  train--0.9820 test--0.7160 avg: 0.7010 max: 0.7340 >>> [0.683, 0.734, 0.67, 0.716]\n",
            "\tsplit_size:70\t skew:  train--0.9760 test--0.7500 avg: 0.7030 max: 0.7500 >>> [0.671, 0.726, 0.665, 0.75]\n",
            "\tsplit_size:80\t skew:  train--0.9700 test--0.7610 avg: 0.7130 max: 0.7610 >>> [0.67, 0.752, 0.67, 0.761]\n",
            "\tsplit_size:90\t skew:  train--0.9670 test--0.8180 avg: 0.7270 max: 0.8180 >>> [0.655, 0.727, 0.709, 0.818]\n",
            "\tsplit_size:50\t kurt:  train--0.9850 test--0.5810 avg: 0.5940 max: 0.6210 >>> [0.574, 0.621, 0.599, 0.581]\n",
            "\tsplit_size:60\t kurt:  train--0.9880 test--0.6330 avg: 0.6110 max: 0.6420 >>> [0.528, 0.642, 0.642, 0.633]\n",
            "\tsplit_size:70\t kurt:  train--0.9760 test--0.6650 avg: 0.6220 max: 0.6950 >>> [0.524, 0.695, 0.604, 0.665]\n",
            "\tsplit_size:80\t kurt:  train--0.9750 test--0.6610 avg: 0.6030 max: 0.6610 >>> [0.477, 0.633, 0.642, 0.661]\n",
            "\tsplit_size:90\t kurt:  train--0.9670 test--0.6730 avg: 0.6230 max: 0.6730 >>> [0.564, 0.636, 0.618, 0.673]\n"
          ]
        },
        {
          "metadata": {
            "tags": null
          },
          "name": "stderr",
          "output_type": "stream",
          "text": [
            "100%|██████████| 544/544 [03:24<00:00,  2.66it/s]\n"
          ]
        },
        {
          "metadata": {
            "tags": null
          },
          "name": "stdout",
          "output_type": "stream",
          "text": [
            "\n",
            "window_size: 16\n",
            "\tsplit_size:50\t mean:  train--0.9340 test--0.7870 avg: 0.8010 max: 0.8350 >>> [0.835, 0.809, 0.772, 0.787]\n",
            "\tsplit_size:60\t mean:  train--0.9140 test--0.7800 avg: 0.8160 max: 0.8390 >>> [0.83, 0.839, 0.817, 0.78]\n",
            "\tsplit_size:70\t mean:  train--0.9030 test--0.8290 avg: 0.8400 max: 0.8720 >>> [0.823, 0.835, 0.872, 0.829]\n",
            "\tsplit_size:80\t mean:  train--0.9220 test--0.7980 avg: 0.8440 max: 0.8720 >>> [0.862, 0.844, 0.872, 0.798]\n",
            "\tsplit_size:90\t mean:  train--0.9260 test--0.8000 avg: 0.8500 max: 0.9090 >>> [0.909, 0.836, 0.855, 0.8]\n",
            "\tsplit_size:50\t var_:  train--0.8270 test--0.5700 avg: 0.6140 max: 0.6650 >>> [0.607, 0.614, 0.665, 0.57]\n",
            "\tsplit_size:60\t var_:  train--0.8530 test--0.6150 avg: 0.6260 max: 0.6880 >>> [0.619, 0.583, 0.688, 0.615]\n",
            "\tsplit_size:70\t var_:  train--0.8530 test--0.6520 avg: 0.6240 max: 0.6830 >>> [0.561, 0.598, 0.683, 0.652]\n",
            "\tsplit_size:80\t var_:  train--0.8480 test--0.6330 avg: 0.6350 max: 0.6790 >>> [0.596, 0.633, 0.679, 0.633]\n",
            "\tsplit_size:90\t var_:  train--0.8380 test--0.5820 avg: 0.6410 max: 0.7450 >>> [0.618, 0.618, 0.745, 0.582]\n",
            "\tsplit_size:50\t std_:  train--0.8310 test--0.6540 avg: 0.6800 max: 0.7020 >>> [0.702, 0.691, 0.673, 0.654]\n",
            "\tsplit_size:60\t std_:  train--0.8590 test--0.6560 avg: 0.7060 max: 0.7480 >>> [0.716, 0.702, 0.748, 0.656]\n",
            "\tsplit_size:70\t std_:  train--0.8680 test--0.6770 avg: 0.7030 max: 0.7380 >>> [0.689, 0.707, 0.738, 0.677]\n",
            "\tsplit_size:80\t std_:  train--0.8800 test--0.6610 avg: 0.7020 max: 0.7250 >>> [0.716, 0.725, 0.706, 0.661]\n",
            "\tsplit_size:90\t std_:  train--0.8670 test--0.6730 avg: 0.7360 max: 0.8180 >>> [0.818, 0.655, 0.8, 0.673]\n",
            "\tsplit_size:50\t skew:  train--1.0000 test--0.8160 avg: 0.8140 max: 0.8240 >>> [0.809, 0.824, 0.809, 0.816]\n",
            "\tsplit_size:60\t skew:  train--1.0000 test--0.8300 avg: 0.8410 max: 0.8490 >>> [0.835, 0.849, 0.849, 0.83]\n",
            "\tsplit_size:70\t skew:  train--0.9970 test--0.8720 avg: 0.8540 max: 0.8720 >>> [0.854, 0.841, 0.848, 0.872]\n",
            "\tsplit_size:80\t skew:  train--0.9950 test--0.8530 avg: 0.8670 max: 0.8900 >>> [0.872, 0.89, 0.853, 0.853]\n",
            "\tsplit_size:90\t skew:  train--0.9940 test--0.8360 avg: 0.8680 max: 0.9090 >>> [0.909, 0.855, 0.873, 0.836]\n",
            "\tsplit_size:50\t kurt:  train--1.0000 test--0.6650 avg: 0.6630 max: 0.6760 >>> [0.658, 0.651, 0.676, 0.665]\n",
            "\tsplit_size:60\t kurt:  train--1.0000 test--0.6970 avg: 0.6880 max: 0.7200 >>> [0.651, 0.683, 0.72, 0.697]\n",
            "\tsplit_size:70\t kurt:  train--1.0000 test--0.6950 avg: 0.6770 max: 0.7440 >>> [0.634, 0.634, 0.744, 0.695]\n",
            "\tsplit_size:80\t kurt:  train--1.0000 test--0.6880 avg: 0.6880 max: 0.7430 >>> [0.615, 0.706, 0.743, 0.688]\n",
            "\tsplit_size:90\t kurt:  train--1.0000 test--0.7450 avg: 0.7000 max: 0.7450 >>> [0.691, 0.655, 0.709, 0.745]\n"
          ]
        },
        {
          "metadata": {
            "tags": null
          },
          "name": "stderr",
          "output_type": "stream",
          "text": [
            "100%|██████████| 544/544 [06:48<00:00,  1.33it/s]\n"
          ]
        },
        {
          "metadata": {
            "tags": null
          },
          "name": "stdout",
          "output_type": "stream",
          "text": [
            "\n",
            "window_size: 8\n",
            "\tsplit_size:50\t mean:  train--0.9120 test--0.8200 avg: 0.8240 max: 0.8680 >>> [0.776, 0.831, 0.868, 0.82]\n",
            "\tsplit_size:60\t mean:  train--0.9110 test--0.8620 avg: 0.8440 max: 0.8620 >>> [0.826, 0.826, 0.862, 0.862]\n",
            "\tsplit_size:70\t mean:  train--0.9530 test--0.8840 avg: 0.8780 max: 0.9090 >>> [0.866, 0.909, 0.854, 0.884]\n",
            "\tsplit_size:80\t mean:  train--0.9520 test--0.8720 avg: 0.8760 max: 0.8990 >>> [0.862, 0.899, 0.872, 0.872]\n",
            "\tsplit_size:90\t mean:  train--0.9710 test--0.8550 avg: 0.8860 max: 0.9270 >>> [0.873, 0.927, 0.891, 0.855]\n",
            "\tsplit_size:50\t var_:  train--0.8860 test--0.6430 avg: 0.6140 max: 0.6430 >>> [0.574, 0.621, 0.618, 0.643]\n",
            "\tsplit_size:60\t var_:  train--0.8740 test--0.6560 avg: 0.6200 max: 0.6560 >>> [0.578, 0.628, 0.619, 0.656]\n",
            "\tsplit_size:70\t var_:  train--0.8790 test--0.6650 avg: 0.6340 max: 0.6650 >>> [0.598, 0.652, 0.622, 0.665]\n",
            "\tsplit_size:80\t var_:  train--0.8740 test--0.6420 avg: 0.6490 max: 0.6880 >>> [0.633, 0.688, 0.633, 0.642]\n",
            "\tsplit_size:90\t var_:  train--0.8670 test--0.5820 avg: 0.6180 max: 0.7270 >>> [0.545, 0.727, 0.618, 0.582]\n",
            "\tsplit_size:50\t std_:  train--0.8680 test--0.6910 avg: 0.6560 max: 0.6910 >>> [0.596, 0.658, 0.68, 0.691]\n",
            "\tsplit_size:60\t std_:  train--0.8770 test--0.6880 avg: 0.6610 max: 0.6970 >>> [0.624, 0.633, 0.697, 0.688]\n",
            "\tsplit_size:70\t std_:  train--0.9000 test--0.7010 avg: 0.6780 max: 0.7010 >>> [0.671, 0.665, 0.677, 0.701]\n",
            "\tsplit_size:80\t std_:  train--0.8990 test--0.7160 avg: 0.6820 max: 0.7160 >>> [0.679, 0.67, 0.661, 0.716]\n",
            "\tsplit_size:90\t std_:  train--0.8900 test--0.6730 avg: 0.6960 max: 0.7640 >>> [0.636, 0.764, 0.709, 0.673]\n",
            "\tsplit_size:50\t skew:  train--1.0000 test--0.5810 avg: 0.5890 max: 0.5990 >>> [0.577, 0.599, 0.599, 0.581]\n",
            "\tsplit_size:60\t skew:  train--1.0000 test--0.5830 avg: 0.5950 max: 0.6150 >>> [0.601, 0.583, 0.615, 0.583]\n",
            "\tsplit_size:70\t skew:  train--1.0000 test--0.5610 avg: 0.6140 max: 0.6590 >>> [0.659, 0.579, 0.659, 0.561]\n",
            "\tsplit_size:80\t skew:  train--1.0000 test--0.5410 avg: 0.6190 max: 0.7060 >>> [0.706, 0.587, 0.642, 0.541]\n",
            "\tsplit_size:90\t skew:  train--0.9960 test--0.4360 avg: 0.5950 max: 0.6730 >>> [0.673, 0.636, 0.636, 0.436]\n",
            "\tsplit_size:50\t kurt:  train--1.0000 test--0.5220 avg: 0.5280 max: 0.5440 >>> [0.507, 0.54, 0.544, 0.522]\n",
            "\tsplit_size:60\t kurt:  train--1.0000 test--0.5180 avg: 0.5340 max: 0.5690 >>> [0.518, 0.532, 0.569, 0.518]\n",
            "\tsplit_size:70\t kurt:  train--1.0000 test--0.5060 avg: 0.5360 max: 0.5980 >>> [0.512, 0.53, 0.598, 0.506]\n",
            "\tsplit_size:80\t kurt:  train--1.0000 test--0.5230 avg: 0.5370 max: 0.5600 >>> [0.541, 0.523, 0.56, 0.523]\n",
            "\tsplit_size:90\t kurt:  train--1.0000 test--0.4910 avg: 0.5590 max: 0.6000 >>> [0.6, 0.564, 0.582, 0.491]\n"
          ]
        },
        {
          "metadata": {
            "tags": null
          },
          "name": "stderr",
          "output_type": "stream",
          "text": [
            "100%|██████████| 544/544 [13:19<00:00,  1.47s/it]\n"
          ]
        },
        {
          "metadata": {
            "tags": null
          },
          "name": "stdout",
          "output_type": "stream",
          "text": [
            "\n",
            "window_size: 4\n",
            "\tsplit_size:50\t mean:  train--0.9520 test--0.8010 avg: 0.8120 max: 0.8380 >>> [0.812, 0.798, 0.838, 0.801]\n",
            "\tsplit_size:60\t mean:  train--0.9720 test--0.8670 avg: 0.8450 max: 0.8670 >>> [0.858, 0.812, 0.844, 0.867]\n",
            "\tsplit_size:70\t mean:  train--0.9630 test--0.8410 avg: 0.8550 max: 0.8840 >>> [0.884, 0.872, 0.823, 0.841]\n",
            "\tsplit_size:80\t mean:  train--0.9720 test--0.8620 avg: 0.8880 max: 0.9360 >>> [0.936, 0.917, 0.835, 0.862]\n",
            "\tsplit_size:90\t mean:  train--0.9800 test--0.8550 avg: 0.8780 max: 0.9090 >>> [0.909, 0.891, 0.855, 0.855]\n",
            "\tsplit_size:50\t var_:  train--0.9450 test--0.5660 avg: 0.5640 max: 0.5920 >>> [0.592, 0.559, 0.54, 0.566]\n",
            "\tsplit_size:60\t var_:  train--0.9420 test--0.6190 avg: 0.5800 max: 0.6190 >>> [0.587, 0.583, 0.532, 0.619]\n",
            "\tsplit_size:70\t var_:  train--0.9180 test--0.5730 avg: 0.5940 max: 0.6160 >>> [0.616, 0.616, 0.573, 0.573]\n",
            "\tsplit_size:80\t var_:  train--0.8970 test--0.6510 avg: 0.6440 max: 0.7060 >>> [0.642, 0.706, 0.578, 0.651]\n",
            "\tsplit_size:90\t var_:  train--0.8900 test--0.5450 avg: 0.5820 max: 0.6180 >>> [0.618, 0.564, 0.6, 0.545]\n",
            "\tsplit_size:50\t std_:  train--0.9490 test--0.6030 avg: 0.6040 max: 0.6210 >>> [0.621, 0.618, 0.574, 0.603]\n",
            "\tsplit_size:60\t std_:  train--0.9420 test--0.6150 avg: 0.6020 max: 0.6150 >>> [0.615, 0.583, 0.596, 0.615]\n",
            "\tsplit_size:70\t std_:  train--0.9420 test--0.6460 avg: 0.6360 max: 0.6710 >>> [0.616, 0.671, 0.61, 0.646]\n",
            "\tsplit_size:80\t std_:  train--0.9030 test--0.6150 avg: 0.6420 max: 0.6970 >>> [0.633, 0.697, 0.624, 0.615]\n",
            "\tsplit_size:90\t std_:  train--0.8770 test--0.6000 avg: 0.6000 max: 0.6730 >>> [0.582, 0.545, 0.673, 0.6]\n",
            "\tsplit_size:50\t skew:  train--1.0000 test--0.5220 avg: 0.5440 max: 0.6070 >>> [0.607, 0.544, 0.504, 0.522]\n",
            "\tsplit_size:60\t skew:  train--1.0000 test--0.5090 avg: 0.5310 max: 0.5830 >>> [0.583, 0.528, 0.505, 0.509]\n",
            "\tsplit_size:70\t skew:  train--1.0000 test--0.4880 avg: 0.5640 max: 0.6460 >>> [0.591, 0.646, 0.53, 0.488]\n",
            "\tsplit_size:80\t skew:  train--1.0000 test--0.5320 avg: 0.5870 max: 0.6790 >>> [0.578, 0.679, 0.56, 0.532]\n",
            "\tsplit_size:90\t skew:  train--1.0000 test--0.7270 avg: 0.6320 max: 0.7270 >>> [0.545, 0.691, 0.564, 0.727]\n",
            "\tsplit_size:50\t kurt:  train--1.0000 test--0.5040 avg: 0.5300 max: 0.5660 >>> [0.566, 0.526, 0.522, 0.504]\n",
            "\tsplit_size:60\t kurt:  train--1.0000 test--0.5140 avg: 0.5390 max: 0.6190 >>> [0.619, 0.509, 0.514, 0.514]\n",
            "\tsplit_size:70\t kurt:  train--1.0000 test--0.4940 avg: 0.5590 max: 0.6280 >>> [0.628, 0.591, 0.524, 0.494]\n",
            "\tsplit_size:80\t kurt:  train--1.0000 test--0.5600 avg: 0.5870 max: 0.6330 >>> [0.633, 0.615, 0.541, 0.56]\n",
            "\tsplit_size:90\t kurt:  train--1.0000 test--0.6550 avg: 0.5960 max: 0.6550 >>> [0.655, 0.545, 0.527, 0.655]\n"
          ]
        },
        {
          "output_type": "stream",
          "name": "stderr",
          "text": [
            "100%|██████████| 544/544 [21:32<00:00,  2.38s/it]\n"
          ]
        },
        {
          "output_type": "stream",
          "name": "stdout",
          "text": [
            "\n",
            "window_size: 2\n",
            "\tsplit_size:50\t mean:  train--0.9600 test--0.8010 avg: 0.8120 max: 0.8490 >>> [0.765, 0.849, 0.835, 0.801]\n",
            "\tsplit_size:60\t mean:  train--0.9510 test--0.8120 avg: 0.8260 max: 0.8620 >>> [0.784, 0.844, 0.862, 0.812]\n",
            "\tsplit_size:70\t mean:  train--0.9610 test--0.8290 avg: 0.8260 max: 0.8480 >>> [0.817, 0.811, 0.848, 0.829]\n",
            "\tsplit_size:80\t mean:  train--0.9660 test--0.8530 avg: 0.8320 max: 0.8530 >>> [0.835, 0.807, 0.835, 0.853]\n",
            "\tsplit_size:90\t mean:  train--0.9800 test--0.9270 avg: 0.8640 max: 0.9270 >>> [0.891, 0.745, 0.891, 0.927]\n",
            "\tsplit_size:50\t var_:  train--0.9630 test--0.6290 avg: 0.5960 max: 0.6290 >>> [0.581, 0.599, 0.577, 0.629]\n",
            "\tsplit_size:60\t var_:  train--0.8740 test--0.6190 avg: 0.6110 max: 0.6880 >>> [0.583, 0.688, 0.555, 0.619]\n",
            "\tsplit_size:70\t var_:  train--0.9080 test--0.5850 avg: 0.5900 max: 0.6340 >>> [0.585, 0.634, 0.555, 0.585]\n",
            "\tsplit_size:80\t var_:  train--0.8900 test--0.5600 avg: 0.5960 max: 0.6420 >>> [0.587, 0.642, 0.596, 0.56]\n",
            "\tsplit_size:90\t var_:  train--0.8960 test--0.5270 avg: 0.5770 max: 0.6180 >>> [0.545, 0.618, 0.618, 0.527]\n",
            "\tsplit_size:50\t std_:  train--0.9450 test--0.6180 avg: 0.6270 max: 0.6800 >>> [0.592, 0.68, 0.618, 0.618]\n",
            "\tsplit_size:60\t std_:  train--0.8930 test--0.6470 avg: 0.6340 max: 0.6970 >>> [0.633, 0.697, 0.56, 0.647]\n",
            "\tsplit_size:70\t std_:  train--0.9110 test--0.6220 avg: 0.6250 max: 0.6830 >>> [0.604, 0.683, 0.591, 0.622]\n",
            "\tsplit_size:80\t std_:  train--0.9080 test--0.6060 avg: 0.6400 max: 0.6880 >>> [0.633, 0.688, 0.633, 0.606]\n",
            "\tsplit_size:90\t std_:  train--0.9220 test--0.5820 avg: 0.6280 max: 0.6910 >>> [0.582, 0.691, 0.655, 0.582]\n",
            "\tsplit_size:50\t skew:  train--0.5330 test--0.5400 avg: 0.5290 max: 0.5510 >>> [0.496, 0.529, 0.551, 0.54]\n",
            "\tsplit_size:60\t skew:  train--0.5400 test--0.5460 avg: 0.5340 max: 0.5460 >>> [0.509, 0.537, 0.546, 0.546]\n",
            "\tsplit_size:70\t skew:  train--0.5450 test--0.5490 avg: 0.5300 max: 0.5490 >>> [0.5, 0.524, 0.549, 0.549]\n",
            "\tsplit_size:80\t skew:  train--0.5400 test--0.5690 avg: 0.5500 max: 0.5960 >>> [0.532, 0.596, 0.505, 0.569]\n",
            "\tsplit_size:90\t skew:  train--0.5400 test--0.6000 avg: 0.5500 max: 0.6000 >>> [0.491, 0.564, 0.545, 0.6]\n",
            "\tsplit_size:50\t kurt:  train--0.9960 test--0.5180 avg: 0.5050 max: 0.5290 >>> [0.496, 0.529, 0.478, 0.518]\n",
            "\tsplit_size:60\t kurt:  train--0.9910 test--0.5000 avg: 0.4980 max: 0.5090 >>> [0.509, 0.509, 0.472, 0.5]\n",
            "\tsplit_size:70\t kurt:  train--0.9970 test--0.5120 avg: 0.5060 max: 0.5180 >>> [0.5, 0.518, 0.494, 0.512]\n",
            "\tsplit_size:80\t kurt:  train--0.9980 test--0.5320 avg: 0.4790 max: 0.5320 >>> [0.477, 0.468, 0.44, 0.532]\n",
            "\tsplit_size:90\t kurt:  train--0.9980 test--0.5090 avg: 0.4820 max: 0.5090 >>> [0.473, 0.491, 0.455, 0.509]\n",
            "\n",
            "window_size: 1\n",
            "\tsplit_size:50\t mean:  train--0.9490 test--0.7870 avg: 0.7810 max: 0.7870 >>> [0.772, 0.783, 0.783, 0.787]\n",
            "\tsplit_size:60\t mean:  train--0.9570 test--0.8260 avg: 0.8130 max: 0.8300 >>> [0.83, 0.826, 0.771, 0.826]\n",
            "\tsplit_size:70\t mean:  train--0.9610 test--0.8110 avg: 0.8150 max: 0.8600 >>> [0.835, 0.86, 0.756, 0.811]\n",
            "\tsplit_size:80\t mean:  train--0.9750 test--0.8440 avg: 0.8400 max: 0.8720 >>> [0.862, 0.872, 0.78, 0.844]\n",
            "\tsplit_size:90\t mean:  train--0.9710 test--0.8730 avg: 0.8410 max: 0.8910 >>> [0.891, 0.818, 0.782, 0.873]\n",
            "########################## epoch:  4  ###########################\n"
          ]
        },
        {
          "output_type": "stream",
          "name": "stderr",
          "text": [
            "100%|██████████| 544/544 [00:02<00:00, 185.64it/s]\n"
          ]
        },
        {
          "output_type": "stream",
          "name": "stdout",
          "text": [
            "\n",
            "window_size: 1000\n",
            "\tsplit_size:50\t mean:  train--0.6880 test--0.6840 avg: 0.6680 max: 0.6880 >>> [0.654, 0.665, 0.688, 0.647, 0.684]\n",
            "\tsplit_size:60\t mean:  train--0.6870 test--0.6740 avg: 0.6750 max: 0.7200 >>> [0.624, 0.683, 0.72, 0.674, 0.674]\n",
            "\tsplit_size:70\t mean:  train--0.6920 test--0.6830 avg: 0.6900 max: 0.7440 >>> [0.616, 0.695, 0.744, 0.713, 0.683]\n",
            "\tsplit_size:80\t mean:  train--0.6870 test--0.7250 avg: 0.6940 max: 0.7250 >>> [0.615, 0.697, 0.716, 0.716, 0.725]\n",
            "\tsplit_size:90\t mean:  train--0.6930 test--0.7090 avg: 0.7020 max: 0.7640 >>> [0.6, 0.691, 0.745, 0.764, 0.709]\n",
            "\tsplit_size:50\t var_:  train--0.5990 test--0.5810 avg: 0.5710 max: 0.6030 >>> [0.54, 0.577, 0.603, 0.555, 0.581]\n",
            "\tsplit_size:60\t var_:  train--0.5860 test--0.5870 avg: 0.5910 max: 0.6240 >>> [0.541, 0.606, 0.624, 0.596, 0.587]\n",
            "\tsplit_size:70\t var_:  train--0.6050 test--0.5980 avg: 0.5940 max: 0.6520 >>> [0.537, 0.604, 0.652, 0.579, 0.598]\n",
            "\tsplit_size:80\t var_:  train--0.5790 test--0.6150 avg: 0.5930 max: 0.6420 >>> [0.495, 0.606, 0.606, 0.642, 0.615]\n",
            "\tsplit_size:90\t var_:  train--0.6050 test--0.6180 avg: 0.6000 max: 0.6360 >>> [0.473, 0.636, 0.636, 0.636, 0.618]\n",
            "\tsplit_size:50\t std_:  train--0.6540 test--0.6910 avg: 0.6500 max: 0.6910 >>> [0.61, 0.654, 0.662, 0.632, 0.691]\n",
            "\tsplit_size:60\t std_:  train--0.6630 test--0.6790 avg: 0.6620 max: 0.6880 >>> [0.615, 0.688, 0.688, 0.642, 0.679]\n",
            "\tsplit_size:70\t std_:  train--0.6550 test--0.6890 avg: 0.6730 max: 0.7380 >>> [0.598, 0.652, 0.738, 0.689, 0.689]\n",
            "\tsplit_size:80\t std_:  train--0.6550 test--0.6970 avg: 0.6750 max: 0.7160 >>> [0.569, 0.697, 0.716, 0.697, 0.697]\n",
            "\tsplit_size:90\t std_:  train--0.6730 test--0.6730 avg: 0.6580 max: 0.7450 >>> [0.545, 0.6, 0.727, 0.745, 0.673]\n",
            "\tsplit_size:50\t skew:  train--0.6400 test--0.5850 avg: 0.5600 max: 0.5920 >>> [0.548, 0.562, 0.592, 0.511, 0.585]\n",
            "\tsplit_size:60\t skew:  train--0.6630 test--0.5690 avg: 0.5590 max: 0.5870 >>> [0.587, 0.555, 0.578, 0.505, 0.569]\n",
            "\tsplit_size:70\t skew:  train--0.6500 test--0.5910 avg: 0.6010 max: 0.6340 >>> [0.628, 0.561, 0.591, 0.634, 0.591]\n",
            "\tsplit_size:80\t skew:  train--0.6510 test--0.5870 avg: 0.5910 max: 0.6510 >>> [0.606, 0.55, 0.56, 0.651, 0.587]\n",
            "\tsplit_size:90\t skew:  train--0.6380 test--0.6360 avg: 0.5930 max: 0.6360 >>> [0.582, 0.509, 0.6, 0.636, 0.636]\n",
            "\tsplit_size:50\t kurt:  train--0.5920 test--0.5220 avg: 0.5260 max: 0.5400 >>> [0.518, 0.537, 0.54, 0.515, 0.522]\n",
            "\tsplit_size:60\t kurt:  train--0.5860 test--0.5280 avg: 0.5290 max: 0.5410 >>> [0.541, 0.541, 0.514, 0.523, 0.528]\n",
            "\tsplit_size:70\t kurt:  train--0.5500 test--0.5240 avg: 0.5350 max: 0.5610 >>> [0.561, 0.5, 0.53, 0.561, 0.524]\n",
            "\tsplit_size:80\t kurt:  train--0.5750 test--0.5500 avg: 0.5430 max: 0.5780 >>> [0.523, 0.523, 0.541, 0.578, 0.55]\n",
            "\tsplit_size:90\t kurt:  train--0.5790 test--0.6910 avg: 0.5310 max: 0.6910 >>> [0.473, 0.509, 0.491, 0.491, 0.691]\n"
          ]
        },
        {
          "output_type": "stream",
          "name": "stderr",
          "text": [
            "100%|██████████| 544/544 [00:34<00:00, 15.65it/s]\n"
          ]
        },
        {
          "output_type": "stream",
          "name": "stdout",
          "text": [
            "\n",
            "window_size: 100\n",
            "\tsplit_size:50\t mean:  train--0.7130 test--0.6540 avg: 0.6770 max: 0.6990 >>> [0.699, 0.651, 0.688, 0.691, 0.654]\n",
            "\tsplit_size:60\t mean:  train--0.6990 test--0.6930 avg: 0.6940 max: 0.7060 >>> [0.706, 0.688, 0.683, 0.702, 0.693]\n",
            "\tsplit_size:70\t mean:  train--0.7050 test--0.6830 avg: 0.6770 max: 0.6830 >>> [0.677, 0.683, 0.659, 0.683, 0.683]\n",
            "\tsplit_size:80\t mean:  train--0.7030 test--0.6610 avg: 0.6900 max: 0.7160 >>> [0.697, 0.716, 0.697, 0.679, 0.661]\n",
            "\tsplit_size:90\t mean:  train--0.7030 test--0.7450 avg: 0.7270 max: 0.7640 >>> [0.709, 0.691, 0.727, 0.764, 0.745]\n",
            "\tsplit_size:50\t var_:  train--0.6800 test--0.5960 avg: 0.6060 max: 0.6320 >>> [0.632, 0.581, 0.61, 0.61, 0.596]\n",
            "\tsplit_size:60\t var_:  train--0.6630 test--0.5920 avg: 0.6090 max: 0.6330 >>> [0.633, 0.606, 0.61, 0.606, 0.592]\n",
            "\tsplit_size:70\t var_:  train--0.6550 test--0.6040 avg: 0.5930 max: 0.6100 >>> [0.561, 0.61, 0.585, 0.604, 0.604]\n",
            "\tsplit_size:80\t var_:  train--0.6510 test--0.5500 avg: 0.6020 max: 0.6420 >>> [0.56, 0.624, 0.633, 0.642, 0.55]\n",
            "\tsplit_size:90\t var_:  train--0.6500 test--0.6360 avg: 0.6290 max: 0.7090 >>> [0.564, 0.655, 0.582, 0.709, 0.636]\n",
            "\tsplit_size:50\t std_:  train--0.7210 test--0.6400 avg: 0.6480 max: 0.6800 >>> [0.68, 0.61, 0.643, 0.665, 0.64]\n",
            "\tsplit_size:60\t std_:  train--0.6870 test--0.6560 avg: 0.6590 max: 0.6700 >>> [0.67, 0.647, 0.661, 0.661, 0.656]\n",
            "\tsplit_size:70\t std_:  train--0.7000 test--0.6340 avg: 0.6550 max: 0.6830 >>> [0.634, 0.677, 0.646, 0.683, 0.634]\n",
            "\tsplit_size:80\t std_:  train--0.6900 test--0.6060 avg: 0.6520 max: 0.6700 >>> [0.651, 0.67, 0.67, 0.661, 0.606]\n",
            "\tsplit_size:90\t std_:  train--0.6850 test--0.6550 avg: 0.6870 max: 0.7450 >>> [0.691, 0.655, 0.691, 0.745, 0.655]\n",
            "\tsplit_size:50\t skew:  train--0.8420 test--0.6180 avg: 0.6250 max: 0.6470 >>> [0.607, 0.629, 0.625, 0.647, 0.618]\n",
            "\tsplit_size:60\t skew:  train--0.8500 test--0.6510 avg: 0.6570 max: 0.6740 >>> [0.642, 0.656, 0.674, 0.661, 0.651]\n",
            "\tsplit_size:70\t skew:  train--0.8370 test--0.6340 avg: 0.6440 max: 0.7070 >>> [0.567, 0.677, 0.634, 0.707, 0.634]\n",
            "\tsplit_size:80\t skew:  train--0.8370 test--0.6240 avg: 0.6810 max: 0.7610 >>> [0.688, 0.661, 0.67, 0.761, 0.624]\n",
            "\tsplit_size:90\t skew:  train--0.8470 test--0.6730 avg: 0.7270 max: 0.8550 >>> [0.709, 0.727, 0.673, 0.855, 0.673]\n",
            "\tsplit_size:50\t kurt:  train--0.8050 test--0.5810 avg: 0.5710 max: 0.6070 >>> [0.544, 0.551, 0.574, 0.607, 0.581]\n",
            "\tsplit_size:60\t kurt:  train--0.7850 test--0.5780 avg: 0.5830 max: 0.6280 >>> [0.628, 0.555, 0.587, 0.569, 0.578]\n",
            "\tsplit_size:70\t kurt:  train--0.7970 test--0.5240 avg: 0.5730 max: 0.6460 >>> [0.646, 0.573, 0.561, 0.561, 0.524]\n",
            "\tsplit_size:80\t kurt:  train--0.7860 test--0.5410 avg: 0.5870 max: 0.6610 >>> [0.661, 0.532, 0.606, 0.596, 0.541]\n",
            "\tsplit_size:90\t kurt:  train--0.7730 test--0.5640 avg: 0.6260 max: 0.6910 >>> [0.691, 0.582, 0.655, 0.636, 0.564]\n"
          ]
        },
        {
          "output_type": "stream",
          "name": "stderr",
          "text": [
            "100%|██████████| 544/544 [05:07<00:00,  1.77it/s]\n"
          ]
        },
        {
          "output_type": "stream",
          "name": "stdout",
          "text": [
            "\n",
            "window_size: 10\n",
            "\tsplit_size:50\t mean:  train--0.9300 test--0.7940 avg: 0.8070 max: 0.8160 >>> [0.816, 0.812, 0.798, 0.816, 0.794]\n",
            "\tsplit_size:60\t mean:  train--0.9290 test--0.7890 avg: 0.8350 max: 0.8670 >>> [0.844, 0.867, 0.835, 0.839, 0.789]\n",
            "\tsplit_size:70\t mean:  train--0.9320 test--0.8050 avg: 0.8490 max: 0.8780 >>> [0.866, 0.878, 0.848, 0.848, 0.805]\n",
            "\tsplit_size:80\t mean:  train--0.9470 test--0.8070 avg: 0.8460 max: 0.8620 >>> [0.844, 0.862, 0.862, 0.853, 0.807]\n",
            "\tsplit_size:90\t mean:  train--0.9470 test--0.8360 avg: 0.8180 max: 0.8910 >>> [0.8, 0.891, 0.855, 0.709, 0.836]\n",
            "\tsplit_size:50\t var_:  train--0.8860 test--0.6360 avg: 0.6140 max: 0.6400 >>> [0.64, 0.629, 0.592, 0.574, 0.636]\n",
            "\tsplit_size:60\t var_:  train--0.8500 test--0.6420 avg: 0.6190 max: 0.6420 >>> [0.619, 0.642, 0.615, 0.578, 0.642]\n",
            "\tsplit_size:70\t var_:  train--0.8500 test--0.6520 avg: 0.6300 max: 0.6590 >>> [0.659, 0.646, 0.634, 0.561, 0.652]\n",
            "\tsplit_size:80\t var_:  train--0.8830 test--0.5870 avg: 0.5940 max: 0.6510 >>> [0.651, 0.606, 0.578, 0.55, 0.587]\n",
            "\tsplit_size:90\t var_:  train--0.8730 test--0.6550 avg: 0.6290 max: 0.6910 >>> [0.655, 0.6, 0.545, 0.691, 0.655]\n",
            "\tsplit_size:50\t std_:  train--0.9120 test--0.6620 avg: 0.6400 max: 0.6620 >>> [0.643, 0.662, 0.64, 0.592, 0.662]\n",
            "\tsplit_size:60\t std_:  train--0.8800 test--0.6560 avg: 0.6560 max: 0.6970 >>> [0.642, 0.697, 0.651, 0.633, 0.656]\n",
            "\tsplit_size:70\t std_:  train--0.8840 test--0.6460 avg: 0.6520 max: 0.6950 >>> [0.64, 0.695, 0.671, 0.61, 0.646]\n",
            "\tsplit_size:80\t std_:  train--0.8940 test--0.6150 avg: 0.6490 max: 0.7060 >>> [0.651, 0.688, 0.587, 0.706, 0.615]\n",
            "\tsplit_size:90\t std_:  train--0.8900 test--0.7270 avg: 0.6730 max: 0.7270 >>> [0.582, 0.709, 0.655, 0.691, 0.727]\n",
            "\tsplit_size:50\t skew:  train--1.0000 test--0.6540 avg: 0.6760 max: 0.7170 >>> [0.717, 0.654, 0.673, 0.684, 0.654]\n",
            "\tsplit_size:60\t skew:  train--1.0000 test--0.7290 avg: 0.7090 max: 0.7340 >>> [0.725, 0.679, 0.734, 0.679, 0.729]\n",
            "\tsplit_size:70\t skew:  train--1.0000 test--0.7010 avg: 0.7150 max: 0.7320 >>> [0.726, 0.732, 0.707, 0.707, 0.701]\n",
            "\tsplit_size:80\t skew:  train--1.0000 test--0.6790 avg: 0.7190 max: 0.7520 >>> [0.697, 0.752, 0.734, 0.734, 0.679]\n",
            "\tsplit_size:90\t skew:  train--0.9980 test--0.7820 avg: 0.7530 max: 0.8550 >>> [0.691, 0.855, 0.745, 0.691, 0.782]\n",
            "\tsplit_size:50\t kurt:  train--1.0000 test--0.5510 avg: 0.5790 max: 0.6140 >>> [0.559, 0.57, 0.614, 0.599, 0.551]\n",
            "\tsplit_size:60\t kurt:  train--1.0000 test--0.6280 avg: 0.6030 max: 0.6280 >>> [0.596, 0.573, 0.601, 0.619, 0.628]\n",
            "\tsplit_size:70\t kurt:  train--1.0000 test--0.5850 avg: 0.5880 max: 0.6100 >>> [0.61, 0.567, 0.579, 0.598, 0.585]\n",
            "\tsplit_size:80\t kurt:  train--1.0000 test--0.5320 avg: 0.5890 max: 0.6240 >>> [0.569, 0.615, 0.606, 0.624, 0.532]\n",
            "\tsplit_size:90\t kurt:  train--1.0000 test--0.5450 avg: 0.5740 max: 0.6180 >>> [0.618, 0.582, 0.545, 0.582, 0.545]\n"
          ]
        },
        {
          "output_type": "stream",
          "name": "stderr",
          "text": [
            "100%|██████████| 544/544 [00:00<00:00, 643.19it/s]\n"
          ]
        },
        {
          "output_type": "stream",
          "name": "stdout",
          "text": [
            "\n",
            "window_size: 4096\n",
            "\tsplit_size:50\t mean:  train--0.6320 test--0.6430 avg: 0.6490 max: 0.6580 >>> [0.651, 0.64, 0.651, 0.658, 0.643]\n",
            "\tsplit_size:60\t mean:  train--0.6600 test--0.6010 avg: 0.6440 max: 0.6740 >>> [0.647, 0.624, 0.674, 0.674, 0.601]\n",
            "\tsplit_size:70\t mean:  train--0.6530 test--0.6220 avg: 0.6340 max: 0.6830 >>> [0.634, 0.598, 0.683, 0.634, 0.622]\n",
            "\tsplit_size:80\t mean:  train--0.6410 test--0.5870 avg: 0.6260 max: 0.6880 >>> [0.688, 0.633, 0.633, 0.587, 0.587]\n",
            "\tsplit_size:90\t mean:  train--0.6520 test--0.6180 avg: 0.6620 max: 0.7270 >>> [0.727, 0.618, 0.655, 0.691, 0.618]\n",
            "\tsplit_size:50\t var_:  train--0.6070 test--0.5700 avg: 0.5600 max: 0.5880 >>> [0.485, 0.588, 0.574, 0.585, 0.57]\n",
            "\tsplit_size:60\t var_:  train--0.6070 test--0.5460 avg: 0.5590 max: 0.6150 >>> [0.468, 0.592, 0.573, 0.615, 0.546]\n",
            "\tsplit_size:70\t var_:  train--0.5970 test--0.5490 avg: 0.5920 max: 0.6100 >>> [0.604, 0.585, 0.61, 0.61, 0.549]\n",
            "\tsplit_size:80\t var_:  train--0.6140 test--0.5140 avg: 0.6000 max: 0.6330 >>> [0.633, 0.624, 0.633, 0.596, 0.514]\n",
            "\tsplit_size:90\t var_:  train--0.5990 test--0.5640 avg: 0.6510 max: 0.7090 >>> [0.709, 0.691, 0.691, 0.6, 0.564]\n",
            "\tsplit_size:50\t std_:  train--0.6360 test--0.5990 avg: 0.6010 max: 0.6800 >>> [0.485, 0.625, 0.618, 0.68, 0.599]\n",
            "\tsplit_size:60\t std_:  train--0.6600 test--0.5870 avg: 0.6250 max: 0.6790 >>> [0.583, 0.642, 0.633, 0.679, 0.587]\n",
            "\tsplit_size:70\t std_:  train--0.6550 test--0.6040 avg: 0.6380 max: 0.6710 >>> [0.659, 0.628, 0.628, 0.671, 0.604]\n",
            "\tsplit_size:80\t std_:  train--0.6460 test--0.5960 avg: 0.6480 max: 0.6880 >>> [0.67, 0.633, 0.688, 0.651, 0.596]\n",
            "\tsplit_size:90\t std_:  train--0.6480 test--0.6180 avg: 0.6690 max: 0.7090 >>> [0.709, 0.673, 0.673, 0.673, 0.618]\n",
            "\tsplit_size:50\t skew:  train--0.6650 test--0.6360 avg: 0.6660 max: 0.6990 >>> [0.651, 0.676, 0.699, 0.669, 0.636]\n",
            "\tsplit_size:60\t skew:  train--0.6720 test--0.6240 avg: 0.6610 max: 0.7020 >>> [0.638, 0.656, 0.702, 0.683, 0.624]\n",
            "\tsplit_size:70\t skew:  train--0.6660 test--0.6100 avg: 0.6740 max: 0.7130 >>> [0.713, 0.659, 0.689, 0.701, 0.61]\n",
            "\tsplit_size:80\t skew:  train--0.6780 test--0.6060 avg: 0.6570 max: 0.7340 >>> [0.734, 0.688, 0.633, 0.624, 0.606]\n",
            "\tsplit_size:90\t skew:  train--0.6810 test--0.6730 avg: 0.6840 max: 0.7270 >>> [0.727, 0.673, 0.673, 0.673, 0.673]\n",
            "\tsplit_size:50\t kurt:  train--0.6400 test--0.6100 avg: 0.5930 max: 0.6360 >>> [0.496, 0.618, 0.636, 0.603, 0.61]\n",
            "\tsplit_size:60\t kurt:  train--0.6500 test--0.5730 avg: 0.5970 max: 0.6880 >>> [0.495, 0.615, 0.688, 0.615, 0.573]\n",
            "\tsplit_size:70\t kurt:  train--0.6630 test--0.5670 avg: 0.6340 max: 0.6770 >>> [0.665, 0.622, 0.677, 0.64, 0.567]\n",
            "\tsplit_size:80\t kurt:  train--0.6390 test--0.5500 avg: 0.6030 max: 0.6880 >>> [0.688, 0.596, 0.596, 0.587, 0.55]\n",
            "\tsplit_size:90\t kurt:  train--0.6440 test--0.6180 avg: 0.6250 max: 0.6730 >>> [0.618, 0.6, 0.673, 0.618, 0.618]\n"
          ]
        },
        {
          "output_type": "stream",
          "name": "stderr",
          "text": [
            "100%|██████████| 544/544 [00:01<00:00, 360.03it/s]\n"
          ]
        },
        {
          "output_type": "stream",
          "name": "stdout",
          "text": [
            "\n",
            "window_size: 2048\n",
            "\tsplit_size:50\t mean:  train--0.6840 test--0.6910 avg: 0.6790 max: 0.7060 >>> [0.658, 0.658, 0.68, 0.706, 0.691]\n",
            "\tsplit_size:60\t mean:  train--0.6930 test--0.6880 avg: 0.6880 max: 0.7060 >>> [0.661, 0.679, 0.706, 0.706, 0.688]\n",
            "\tsplit_size:70\t mean:  train--0.6840 test--0.6950 avg: 0.7020 max: 0.7200 >>> [0.707, 0.677, 0.72, 0.713, 0.695]\n",
            "\tsplit_size:80\t mean:  train--0.7080 test--0.7520 avg: 0.7210 max: 0.7710 >>> [0.771, 0.651, 0.761, 0.67, 0.752]\n",
            "\tsplit_size:90\t mean:  train--0.7080 test--0.6360 avg: 0.6940 max: 0.7640 >>> [0.745, 0.636, 0.764, 0.691, 0.636]\n",
            "\tsplit_size:50\t var_:  train--0.6290 test--0.5660 avg: 0.5790 max: 0.6030 >>> [0.581, 0.588, 0.559, 0.603, 0.566]\n",
            "\tsplit_size:60\t var_:  train--0.5920 test--0.5960 avg: 0.5840 max: 0.6010 >>> [0.601, 0.569, 0.56, 0.592, 0.596]\n",
            "\tsplit_size:70\t var_:  train--0.6030 test--0.6100 avg: 0.5820 max: 0.6160 >>> [0.616, 0.543, 0.555, 0.585, 0.61]\n",
            "\tsplit_size:80\t var_:  train--0.5890 test--0.6330 avg: 0.5960 max: 0.6510 >>> [0.651, 0.523, 0.596, 0.578, 0.633]\n",
            "\tsplit_size:90\t var_:  train--0.5950 test--0.6180 avg: 0.5890 max: 0.6360 >>> [0.618, 0.527, 0.636, 0.545, 0.618]\n",
            "\tsplit_size:50\t std_:  train--0.6950 test--0.6730 avg: 0.6390 max: 0.6730 >>> [0.625, 0.618, 0.621, 0.658, 0.673]\n",
            "\tsplit_size:60\t std_:  train--0.6840 test--0.7160 avg: 0.6580 max: 0.7160 >>> [0.651, 0.628, 0.661, 0.633, 0.716]\n",
            "\tsplit_size:70\t std_:  train--0.6660 test--0.7200 avg: 0.6620 max: 0.7200 >>> [0.659, 0.628, 0.634, 0.671, 0.72]\n",
            "\tsplit_size:80\t std_:  train--0.6690 test--0.7250 avg: 0.6770 max: 0.7250 >>> [0.706, 0.633, 0.697, 0.624, 0.725]\n",
            "\tsplit_size:90\t std_:  train--0.6770 test--0.6730 avg: 0.6690 max: 0.7090 >>> [0.709, 0.655, 0.691, 0.618, 0.673]\n",
            "\tsplit_size:50\t skew:  train--0.5880 test--0.6070 avg: 0.5800 max: 0.6070 >>> [0.574, 0.577, 0.574, 0.57, 0.607]\n",
            "\tsplit_size:60\t skew:  train--0.6070 test--0.6190 avg: 0.5830 max: 0.6190 >>> [0.564, 0.564, 0.596, 0.573, 0.619]\n",
            "\tsplit_size:70\t skew:  train--0.5950 test--0.6280 avg: 0.5900 max: 0.6280 >>> [0.585, 0.579, 0.579, 0.579, 0.628]\n",
            "\tsplit_size:80\t skew:  train--0.6250 test--0.5960 avg: 0.6000 max: 0.6510 >>> [0.615, 0.606, 0.651, 0.532, 0.596]\n",
            "\tsplit_size:90\t skew:  train--0.6110 test--0.5820 avg: 0.6040 max: 0.6910 >>> [0.582, 0.6, 0.691, 0.564, 0.582]\n",
            "\tsplit_size:50\t kurt:  train--0.5850 test--0.5660 avg: 0.5720 max: 0.5960 >>> [0.566, 0.596, 0.551, 0.581, 0.566]\n",
            "\tsplit_size:60\t kurt:  train--0.5740 test--0.5920 avg: 0.5790 max: 0.5920 >>> [0.56, 0.569, 0.587, 0.587, 0.592]\n",
            "\tsplit_size:70\t kurt:  train--0.5740 test--0.6220 avg: 0.5830 max: 0.6220 >>> [0.555, 0.598, 0.585, 0.555, 0.622]\n",
            "\tsplit_size:80\t kurt:  train--0.5930 test--0.5780 avg: 0.5730 max: 0.6330 >>> [0.523, 0.633, 0.606, 0.523, 0.578]\n",
            "\tsplit_size:90\t kurt:  train--0.6030 test--0.5450 avg: 0.5560 max: 0.6730 >>> [0.527, 0.673, 0.564, 0.473, 0.545]\n"
          ]
        },
        {
          "output_type": "stream",
          "name": "stderr",
          "text": [
            "100%|██████████| 544/544 [00:02<00:00, 184.27it/s]\n"
          ]
        },
        {
          "output_type": "stream",
          "name": "stdout",
          "text": [
            "\n",
            "window_size: 1024\n",
            "\tsplit_size:50\t mean:  train--0.6840 test--0.6540 avg: 0.6670 max: 0.6800 >>> [0.68, 0.669, 0.658, 0.676, 0.654]\n",
            "\tsplit_size:60\t mean:  train--0.6780 test--0.6880 avg: 0.6810 max: 0.6930 >>> [0.693, 0.67, 0.693, 0.661, 0.688]\n",
            "\tsplit_size:70\t mean:  train--0.6790 test--0.6830 avg: 0.6730 max: 0.7200 >>> [0.683, 0.64, 0.72, 0.64, 0.683]\n",
            "\tsplit_size:80\t mean:  train--0.6780 test--0.6610 avg: 0.6570 max: 0.7160 >>> [0.716, 0.596, 0.679, 0.633, 0.661]\n",
            "\tsplit_size:90\t mean:  train--0.6970 test--0.6910 avg: 0.6760 max: 0.7270 >>> [0.709, 0.6, 0.727, 0.655, 0.691]\n",
            "\tsplit_size:50\t var_:  train--0.6430 test--0.5880 avg: 0.5870 max: 0.6250 >>> [0.625, 0.559, 0.577, 0.588, 0.588]\n",
            "\tsplit_size:60\t var_:  train--0.6260 test--0.5730 avg: 0.5730 max: 0.6060 >>> [0.606, 0.541, 0.583, 0.564, 0.573]\n",
            "\tsplit_size:70\t var_:  train--0.6240 test--0.5610 avg: 0.5790 max: 0.6100 >>> [0.61, 0.543, 0.604, 0.579, 0.561]\n",
            "\tsplit_size:80\t var_:  train--0.6140 test--0.5140 avg: 0.5380 max: 0.6060 >>> [0.606, 0.477, 0.587, 0.505, 0.514]\n",
            "\tsplit_size:90\t var_:  train--0.5990 test--0.5270 avg: 0.5340 max: 0.6180 >>> [0.618, 0.455, 0.545, 0.527, 0.527]\n",
            "\tsplit_size:50\t std_:  train--0.6910 test--0.6070 avg: 0.6350 max: 0.6840 >>> [0.684, 0.621, 0.629, 0.636, 0.607]\n",
            "\tsplit_size:60\t std_:  train--0.6720 test--0.6190 avg: 0.6450 max: 0.7110 >>> [0.711, 0.615, 0.67, 0.61, 0.619]\n",
            "\tsplit_size:70\t std_:  train--0.6550 test--0.6160 avg: 0.6370 max: 0.7070 >>> [0.707, 0.598, 0.671, 0.591, 0.616]\n",
            "\tsplit_size:80\t std_:  train--0.6510 test--0.6510 avg: 0.6370 max: 0.7430 >>> [0.743, 0.578, 0.661, 0.55, 0.651]\n",
            "\tsplit_size:90\t std_:  train--0.6670 test--0.6910 avg: 0.6290 max: 0.6910 >>> [0.655, 0.564, 0.691, 0.545, 0.691]\n",
            "\tsplit_size:50\t skew:  train--0.6180 test--0.5510 avg: 0.5560 max: 0.5960 >>> [0.596, 0.515, 0.585, 0.533, 0.551]\n",
            "\tsplit_size:60\t skew:  train--0.6040 test--0.5550 avg: 0.5690 max: 0.6060 >>> [0.596, 0.546, 0.606, 0.541, 0.555]\n",
            "\tsplit_size:70\t skew:  train--0.6370 test--0.5490 avg: 0.5510 max: 0.5610 >>> [0.549, 0.549, 0.561, 0.549, 0.549]\n",
            "\tsplit_size:80\t skew:  train--0.6180 test--0.5230 avg: 0.5560 max: 0.5960 >>> [0.596, 0.514, 0.569, 0.578, 0.523]\n",
            "\tsplit_size:90\t skew:  train--0.6500 test--0.5450 avg: 0.5920 max: 0.7090 >>> [0.545, 0.545, 0.709, 0.618, 0.545]\n",
            "\tsplit_size:50\t kurt:  train--0.5620 test--0.5110 avg: 0.5190 max: 0.5550 >>> [0.522, 0.507, 0.555, 0.5, 0.511]\n",
            "\tsplit_size:60\t kurt:  train--0.5550 test--0.4910 avg: 0.5280 max: 0.5690 >>> [0.532, 0.55, 0.569, 0.5, 0.491]\n",
            "\tsplit_size:70\t kurt:  train--0.5760 test--0.5060 avg: 0.5070 max: 0.5370 >>> [0.488, 0.537, 0.524, 0.482, 0.506]\n",
            "\tsplit_size:80\t kurt:  train--0.5520 test--0.5140 avg: 0.4730 max: 0.5140 >>> [0.45, 0.486, 0.495, 0.422, 0.514]\n",
            "\tsplit_size:90\t kurt:  train--0.5690 test--0.5450 avg: 0.5090 max: 0.6000 >>> [0.418, 0.564, 0.6, 0.418, 0.545]\n"
          ]
        },
        {
          "output_type": "stream",
          "name": "stderr",
          "text": [
            "100%|██████████| 544/544 [00:06<00:00, 87.22it/s]\n"
          ]
        },
        {
          "output_type": "stream",
          "name": "stdout",
          "text": [
            "\n",
            "window_size: 512\n",
            "\tsplit_size:50\t mean:  train--0.6950 test--0.6540 avg: 0.7010 max: 0.7350 >>> [0.735, 0.68, 0.721, 0.713, 0.654]\n",
            "\tsplit_size:60\t mean:  train--0.6840 test--0.6560 avg: 0.7040 max: 0.7480 >>> [0.716, 0.688, 0.748, 0.711, 0.656]\n",
            "\tsplit_size:70\t mean:  train--0.6950 test--0.6400 avg: 0.7080 max: 0.7560 >>> [0.72, 0.713, 0.756, 0.713, 0.64]\n",
            "\tsplit_size:80\t mean:  train--0.6780 test--0.6510 avg: 0.6990 max: 0.7520 >>> [0.716, 0.679, 0.752, 0.697, 0.651]\n",
            "\tsplit_size:90\t mean:  train--0.6910 test--0.6000 avg: 0.6800 max: 0.7270 >>> [0.727, 0.655, 0.727, 0.691, 0.6]\n",
            "\tsplit_size:50\t var_:  train--0.6290 test--0.5620 avg: 0.6150 max: 0.6760 >>> [0.676, 0.592, 0.625, 0.621, 0.562]\n",
            "\tsplit_size:60\t var_:  train--0.6350 test--0.5960 avg: 0.6180 max: 0.6380 >>> [0.633, 0.61, 0.615, 0.638, 0.596]\n",
            "\tsplit_size:70\t var_:  train--0.6420 test--0.5610 avg: 0.6120 max: 0.6520 >>> [0.628, 0.61, 0.61, 0.652, 0.561]\n",
            "\tsplit_size:80\t var_:  train--0.6230 test--0.5780 avg: 0.6200 max: 0.6610 >>> [0.633, 0.596, 0.633, 0.661, 0.578]\n",
            "\tsplit_size:90\t var_:  train--0.6240 test--0.5270 avg: 0.6250 max: 0.7270 >>> [0.655, 0.6, 0.618, 0.727, 0.527]\n",
            "\tsplit_size:50\t std_:  train--0.6760 test--0.6030 avg: 0.6760 max: 0.7170 >>> [0.717, 0.676, 0.68, 0.706, 0.603]\n",
            "\tsplit_size:60\t std_:  train--0.6780 test--0.6700 avg: 0.6890 max: 0.7160 >>> [0.716, 0.67, 0.711, 0.679, 0.67]\n",
            "\tsplit_size:70\t std_:  train--0.6710 test--0.6650 avg: 0.6880 max: 0.7130 >>> [0.671, 0.701, 0.713, 0.689, 0.665]\n",
            "\tsplit_size:80\t std_:  train--0.6830 test--0.6510 avg: 0.6880 max: 0.7250 >>> [0.679, 0.688, 0.725, 0.697, 0.651]\n",
            "\tsplit_size:90\t std_:  train--0.6790 test--0.5820 avg: 0.6870 max: 0.7450 >>> [0.727, 0.673, 0.709, 0.745, 0.582]\n",
            "\tsplit_size:50\t skew:  train--0.6140 test--0.5510 avg: 0.5940 max: 0.6290 >>> [0.618, 0.596, 0.574, 0.629, 0.551]\n",
            "\tsplit_size:60\t skew:  train--0.6990 test--0.6650 avg: 0.6390 max: 0.6650 >>> [0.665, 0.619, 0.606, 0.638, 0.665]\n",
            "\tsplit_size:70\t skew:  train--0.7160 test--0.6160 avg: 0.6220 max: 0.6830 >>> [0.683, 0.61, 0.598, 0.604, 0.616]\n",
            "\tsplit_size:80\t skew:  train--0.7100 test--0.6420 avg: 0.6640 max: 0.6970 >>> [0.697, 0.688, 0.642, 0.651, 0.642]\n",
            "\tsplit_size:90\t skew:  train--0.7100 test--0.6360 avg: 0.6470 max: 0.7270 >>> [0.564, 0.727, 0.673, 0.636, 0.636]\n",
            "\tsplit_size:50\t kurt:  train--0.5850 test--0.5110 avg: 0.5220 max: 0.5590 >>> [0.522, 0.559, 0.482, 0.537, 0.511]\n",
            "\tsplit_size:60\t kurt:  train--0.5640 test--0.5730 avg: 0.5440 max: 0.5730 >>> [0.532, 0.564, 0.5, 0.55, 0.573]\n",
            "\tsplit_size:70\t kurt:  train--0.5870 test--0.5790 avg: 0.5390 max: 0.5790 >>> [0.543, 0.537, 0.488, 0.549, 0.579]\n",
            "\tsplit_size:80\t kurt:  train--0.6020 test--0.5230 avg: 0.5620 max: 0.5960 >>> [0.569, 0.596, 0.56, 0.56, 0.523]\n",
            "\tsplit_size:90\t kurt:  train--0.5930 test--0.4000 avg: 0.5420 max: 0.6360 >>> [0.564, 0.618, 0.636, 0.491, 0.4]\n"
          ]
        },
        {
          "output_type": "stream",
          "name": "stderr",
          "text": [
            "100%|██████████| 544/544 [00:13<00:00, 40.04it/s]\n"
          ]
        },
        {
          "output_type": "stream",
          "name": "stdout",
          "text": [
            "\n",
            "window_size: 256\n",
            "\tsplit_size:50\t mean:  train--0.7130 test--0.6510 avg: 0.6680 max: 0.7060 >>> [0.632, 0.706, 0.691, 0.658, 0.651]\n",
            "\tsplit_size:60\t mean:  train--0.7270 test--0.6610 avg: 0.6620 max: 0.6830 >>> [0.615, 0.674, 0.679, 0.683, 0.661]\n",
            "\tsplit_size:70\t mean:  train--0.6970 test--0.7260 avg: 0.6680 max: 0.7260 >>> [0.683, 0.64, 0.646, 0.646, 0.726]\n",
            "\tsplit_size:80\t mean:  train--0.6940 test--0.7610 avg: 0.6750 max: 0.7610 >>> [0.651, 0.661, 0.661, 0.642, 0.761]\n",
            "\tsplit_size:90\t mean:  train--0.7030 test--0.7270 avg: 0.6660 max: 0.7270 >>> [0.673, 0.673, 0.655, 0.6, 0.727]\n",
            "\tsplit_size:50\t var_:  train--0.6430 test--0.6030 avg: 0.5770 max: 0.6030 >>> [0.54, 0.574, 0.592, 0.574, 0.603]\n",
            "\tsplit_size:60\t var_:  train--0.6500 test--0.6420 avg: 0.5880 max: 0.6420 >>> [0.564, 0.55, 0.61, 0.573, 0.642]\n",
            "\tsplit_size:70\t var_:  train--0.6180 test--0.6590 avg: 0.5890 max: 0.6590 >>> [0.561, 0.524, 0.622, 0.579, 0.659]\n",
            "\tsplit_size:80\t var_:  train--0.6340 test--0.6610 avg: 0.6060 max: 0.6610 >>> [0.587, 0.569, 0.633, 0.578, 0.661]\n",
            "\tsplit_size:90\t var_:  train--0.6360 test--0.6360 avg: 0.6140 max: 0.6360 >>> [0.636, 0.618, 0.636, 0.545, 0.636]\n",
            "\tsplit_size:50\t std_:  train--0.6800 test--0.6430 avg: 0.6440 max: 0.6760 >>> [0.603, 0.651, 0.676, 0.647, 0.643]\n",
            "\tsplit_size:60\t std_:  train--0.7150 test--0.6700 avg: 0.6660 max: 0.6930 >>> [0.628, 0.665, 0.693, 0.674, 0.67]\n",
            "\tsplit_size:70\t std_:  train--0.6840 test--0.7130 avg: 0.6550 max: 0.7130 >>> [0.628, 0.634, 0.652, 0.646, 0.713]\n",
            "\tsplit_size:80\t std_:  train--0.6800 test--0.7250 avg: 0.6640 max: 0.7250 >>> [0.633, 0.642, 0.661, 0.661, 0.725]\n",
            "\tsplit_size:90\t std_:  train--0.6930 test--0.6550 avg: 0.6400 max: 0.7090 >>> [0.618, 0.709, 0.636, 0.582, 0.655]\n",
            "\tsplit_size:50\t skew:  train--0.7100 test--0.5260 avg: 0.6010 max: 0.6950 >>> [0.61, 0.603, 0.57, 0.695, 0.526]\n",
            "\tsplit_size:60\t skew:  train--0.7520 test--0.5550 avg: 0.6180 max: 0.6830 >>> [0.583, 0.642, 0.628, 0.683, 0.555]\n",
            "\tsplit_size:70\t skew:  train--0.7370 test--0.5980 avg: 0.6290 max: 0.6890 >>> [0.573, 0.634, 0.689, 0.652, 0.598]\n",
            "\tsplit_size:80\t skew:  train--0.7240 test--0.6240 avg: 0.6530 max: 0.7060 >>> [0.661, 0.642, 0.706, 0.633, 0.624]\n",
            "\tsplit_size:90\t skew:  train--0.7480 test--0.6180 avg: 0.6430 max: 0.7270 >>> [0.636, 0.636, 0.727, 0.6, 0.618]\n",
            "\tsplit_size:50\t kurt:  train--0.6800 test--0.5290 avg: 0.5390 max: 0.5770 >>> [0.562, 0.529, 0.5, 0.577, 0.529]\n",
            "\tsplit_size:60\t kurt:  train--0.6720 test--0.5230 avg: 0.5390 max: 0.5780 >>> [0.532, 0.564, 0.5, 0.578, 0.523]\n",
            "\tsplit_size:70\t kurt:  train--0.6390 test--0.5550 avg: 0.5550 max: 0.5850 >>> [0.506, 0.549, 0.579, 0.585, 0.555]\n",
            "\tsplit_size:80\t kurt:  train--0.6390 test--0.5690 avg: 0.5800 max: 0.6150 >>> [0.569, 0.578, 0.615, 0.569, 0.569]\n",
            "\tsplit_size:90\t kurt:  train--0.6220 test--0.6910 avg: 0.6220 max: 0.6910 >>> [0.618, 0.636, 0.618, 0.545, 0.691]\n"
          ]
        },
        {
          "output_type": "stream",
          "name": "stderr",
          "text": [
            "100%|██████████| 544/544 [00:27<00:00, 20.01it/s]\n"
          ]
        },
        {
          "output_type": "stream",
          "name": "stdout",
          "text": [
            "\n",
            "window_size: 128\n",
            "\tsplit_size:50\t mean:  train--0.6910 test--0.7100 avg: 0.6770 max: 0.7100 >>> [0.706, 0.64, 0.673, 0.654, 0.71]\n",
            "\tsplit_size:60\t mean:  train--0.7120 test--0.7060 avg: 0.6800 max: 0.7060 >>> [0.688, 0.647, 0.683, 0.674, 0.706]\n",
            "\tsplit_size:70\t mean:  train--0.7180 test--0.7010 avg: 0.7000 max: 0.7130 >>> [0.701, 0.683, 0.701, 0.713, 0.701]\n",
            "\tsplit_size:80\t mean:  train--0.7150 test--0.6970 avg: 0.7140 max: 0.7340 >>> [0.697, 0.725, 0.716, 0.734, 0.697]\n",
            "\tsplit_size:90\t mean:  train--0.7200 test--0.6730 avg: 0.7160 max: 0.7820 >>> [0.691, 0.782, 0.727, 0.709, 0.673]\n",
            "\tsplit_size:50\t var_:  train--0.6840 test--0.6290 avg: 0.6160 max: 0.6470 >>> [0.647, 0.585, 0.621, 0.596, 0.629]\n",
            "\tsplit_size:60\t var_:  train--0.6900 test--0.6010 avg: 0.6100 max: 0.6280 >>> [0.619, 0.61, 0.628, 0.592, 0.601]\n",
            "\tsplit_size:70\t var_:  train--0.6950 test--0.6160 avg: 0.6020 max: 0.6650 >>> [0.579, 0.573, 0.665, 0.579, 0.616]\n",
            "\tsplit_size:80\t var_:  train--0.6990 test--0.5870 avg: 0.6130 max: 0.6790 >>> [0.596, 0.624, 0.679, 0.578, 0.587]\n",
            "\tsplit_size:90\t var_:  train--0.6690 test--0.5640 avg: 0.6070 max: 0.6910 >>> [0.582, 0.655, 0.691, 0.545, 0.564]\n",
            "\tsplit_size:50\t std_:  train--0.6840 test--0.6760 avg: 0.6570 max: 0.6910 >>> [0.691, 0.64, 0.647, 0.632, 0.676]\n",
            "\tsplit_size:60\t std_:  train--0.7090 test--0.6700 avg: 0.6610 max: 0.6700 >>> [0.665, 0.642, 0.665, 0.665, 0.67]\n",
            "\tsplit_size:70\t std_:  train--0.7160 test--0.6830 avg: 0.6720 max: 0.6890 >>> [0.677, 0.634, 0.689, 0.677, 0.683]\n",
            "\tsplit_size:80\t std_:  train--0.7170 test--0.6790 avg: 0.6810 max: 0.6970 >>> [0.661, 0.679, 0.697, 0.688, 0.679]\n",
            "\tsplit_size:90\t std_:  train--0.7140 test--0.6550 avg: 0.6980 max: 0.7270 >>> [0.673, 0.727, 0.727, 0.709, 0.655]\n",
            "\tsplit_size:50\t skew:  train--0.7460 test--0.6180 avg: 0.6490 max: 0.6760 >>> [0.64, 0.676, 0.654, 0.658, 0.618]\n",
            "\tsplit_size:60\t skew:  train--0.7420 test--0.6240 avg: 0.6670 max: 0.7290 >>> [0.656, 0.729, 0.674, 0.651, 0.624]\n",
            "\tsplit_size:70\t skew:  train--0.8050 test--0.7130 avg: 0.6800 max: 0.7260 >>> [0.64, 0.726, 0.634, 0.689, 0.713]\n",
            "\tsplit_size:80\t skew:  train--0.7890 test--0.7340 avg: 0.6830 max: 0.7340 >>> [0.624, 0.725, 0.642, 0.688, 0.734]\n",
            "\tsplit_size:90\t skew:  train--0.7980 test--0.6730 avg: 0.6730 max: 0.7450 >>> [0.655, 0.745, 0.636, 0.655, 0.673]\n",
            "\tsplit_size:50\t kurt:  train--0.7650 test--0.5550 avg: 0.5700 max: 0.6030 >>> [0.548, 0.603, 0.551, 0.592, 0.555]\n",
            "\tsplit_size:60\t kurt:  train--0.6810 test--0.5690 avg: 0.5780 max: 0.6280 >>> [0.56, 0.628, 0.537, 0.596, 0.569]\n",
            "\tsplit_size:70\t kurt:  train--0.7760 test--0.6100 avg: 0.5780 max: 0.6100 >>> [0.555, 0.573, 0.579, 0.573, 0.61]\n",
            "\tsplit_size:80\t kurt:  train--0.7560 test--0.5780 avg: 0.5580 max: 0.6150 >>> [0.523, 0.55, 0.523, 0.615, 0.578]\n",
            "\tsplit_size:90\t kurt:  train--0.7730 test--0.5090 avg: 0.6000 max: 0.6730 >>> [0.582, 0.6, 0.636, 0.673, 0.509]\n"
          ]
        },
        {
          "output_type": "stream",
          "name": "stderr",
          "text": [
            "100%|██████████| 544/544 [00:52<00:00, 10.38it/s]\n"
          ]
        },
        {
          "output_type": "stream",
          "name": "stdout",
          "text": [
            "\n",
            "window_size: 64\n",
            "\tsplit_size:50\t mean:  train--0.7240 test--0.6880 avg: 0.6710 max: 0.6950 >>> [0.662, 0.695, 0.621, 0.688, 0.688]\n",
            "\tsplit_size:60\t mean:  train--0.7270 test--0.6650 avg: 0.6770 max: 0.7200 >>> [0.683, 0.674, 0.642, 0.72, 0.665]\n",
            "\tsplit_size:70\t mean:  train--0.7160 test--0.6830 avg: 0.6850 max: 0.7320 >>> [0.689, 0.689, 0.634, 0.732, 0.683]\n",
            "\tsplit_size:80\t mean:  train--0.7220 test--0.6610 avg: 0.6570 max: 0.7060 >>> [0.688, 0.624, 0.606, 0.706, 0.661]\n",
            "\tsplit_size:90\t mean:  train--0.7300 test--0.5820 avg: 0.6580 max: 0.7640 >>> [0.764, 0.655, 0.564, 0.727, 0.582]\n",
            "\tsplit_size:50\t var_:  train--0.6910 test--0.6250 avg: 0.6080 max: 0.6290 >>> [0.61, 0.629, 0.585, 0.592, 0.625]\n",
            "\tsplit_size:60\t var_:  train--0.7060 test--0.5960 avg: 0.5930 max: 0.6150 >>> [0.569, 0.61, 0.573, 0.615, 0.596]\n",
            "\tsplit_size:70\t var_:  train--0.6970 test--0.5790 avg: 0.6020 max: 0.6650 >>> [0.561, 0.634, 0.573, 0.665, 0.579]\n",
            "\tsplit_size:80\t var_:  train--0.7130 test--0.6510 avg: 0.5930 max: 0.6510 >>> [0.541, 0.606, 0.532, 0.633, 0.651]\n",
            "\tsplit_size:90\t var_:  train--0.7120 test--0.6180 avg: 0.6040 max: 0.6550 >>> [0.6, 0.655, 0.491, 0.655, 0.618]\n",
            "\tsplit_size:50\t std_:  train--0.7170 test--0.6760 avg: 0.6650 max: 0.6910 >>> [0.654, 0.691, 0.662, 0.643, 0.676]\n",
            "\tsplit_size:60\t std_:  train--0.7330 test--0.6510 avg: 0.6520 max: 0.6560 >>> [0.647, 0.656, 0.651, 0.656, 0.651]\n",
            "\tsplit_size:70\t std_:  train--0.7210 test--0.6460 avg: 0.6660 max: 0.6770 >>> [0.665, 0.671, 0.671, 0.677, 0.646]\n",
            "\tsplit_size:80\t std_:  train--0.7220 test--0.6610 avg: 0.6500 max: 0.6970 >>> [0.651, 0.624, 0.615, 0.697, 0.661]\n",
            "\tsplit_size:90\t std_:  train--0.7180 test--0.6360 avg: 0.6360 max: 0.6730 >>> [0.673, 0.636, 0.564, 0.673, 0.636]\n",
            "\tsplit_size:50\t skew:  train--0.8900 test--0.7020 avg: 0.6670 max: 0.7020 >>> [0.651, 0.651, 0.676, 0.654, 0.702]\n",
            "\tsplit_size:60\t skew:  train--0.8800 test--0.7020 avg: 0.6950 max: 0.7110 >>> [0.688, 0.693, 0.711, 0.679, 0.702]\n",
            "\tsplit_size:70\t skew:  train--0.9050 test--0.7070 avg: 0.7100 max: 0.7560 >>> [0.683, 0.701, 0.701, 0.756, 0.707]\n",
            "\tsplit_size:80\t skew:  train--0.9030 test--0.7430 avg: 0.7280 max: 0.7980 >>> [0.734, 0.706, 0.661, 0.798, 0.743]\n",
            "\tsplit_size:90\t skew:  train--0.8980 test--0.6910 avg: 0.7160 max: 0.7820 >>> [0.673, 0.709, 0.782, 0.727, 0.691]\n",
            "\tsplit_size:50\t kurt:  train--0.8820 test--0.6180 avg: 0.5960 max: 0.6320 >>> [0.632, 0.592, 0.57, 0.57, 0.618]\n",
            "\tsplit_size:60\t kurt:  train--0.8930 test--0.6330 avg: 0.6100 max: 0.6330 >>> [0.619, 0.601, 0.596, 0.601, 0.633]\n",
            "\tsplit_size:70\t kurt:  train--0.8710 test--0.6650 avg: 0.6440 max: 0.6650 >>> [0.652, 0.659, 0.598, 0.646, 0.665]\n",
            "\tsplit_size:80\t kurt:  train--0.8850 test--0.6510 avg: 0.6350 max: 0.6700 >>> [0.67, 0.615, 0.587, 0.651, 0.651]\n",
            "\tsplit_size:90\t kurt:  train--0.8750 test--0.5820 avg: 0.5820 max: 0.6550 >>> [0.582, 0.527, 0.655, 0.564, 0.582]\n"
          ]
        },
        {
          "output_type": "stream",
          "name": "stderr",
          "text": [
            "100%|██████████| 544/544 [01:42<00:00,  5.31it/s]\n"
          ]
        },
        {
          "output_type": "stream",
          "name": "stdout",
          "text": [
            "\n",
            "window_size: 32\n",
            "\tsplit_size:50\t mean:  train--0.7350 test--0.6990 avg: 0.6880 max: 0.7210 >>> [0.647, 0.684, 0.691, 0.721, 0.699]\n",
            "\tsplit_size:60\t mean:  train--0.7360 test--0.7060 avg: 0.7030 max: 0.7290 >>> [0.683, 0.693, 0.706, 0.729, 0.706]\n",
            "\tsplit_size:70\t mean:  train--0.7450 test--0.7260 avg: 0.7100 max: 0.7620 >>> [0.689, 0.683, 0.762, 0.689, 0.726]\n",
            "\tsplit_size:80\t mean:  train--0.7490 test--0.6790 avg: 0.6750 max: 0.7610 >>> [0.624, 0.642, 0.761, 0.67, 0.679]\n",
            "\tsplit_size:90\t mean:  train--0.7400 test--0.6730 avg: 0.7090 max: 0.7820 >>> [0.673, 0.673, 0.782, 0.745, 0.673]\n",
            "\tsplit_size:50\t var_:  train--0.7460 test--0.5480 avg: 0.6160 max: 0.6470 >>> [0.618, 0.632, 0.636, 0.647, 0.548]\n",
            "\tsplit_size:60\t var_:  train--0.7610 test--0.6610 avg: 0.6350 max: 0.6610 >>> [0.606, 0.619, 0.651, 0.638, 0.661]\n",
            "\tsplit_size:70\t var_:  train--0.7530 test--0.6520 avg: 0.6280 max: 0.6520 >>> [0.628, 0.646, 0.61, 0.604, 0.652]\n",
            "\tsplit_size:80\t var_:  train--0.7770 test--0.6330 avg: 0.6390 max: 0.7160 >>> [0.596, 0.633, 0.716, 0.615, 0.633]\n",
            "\tsplit_size:90\t var_:  train--0.7570 test--0.5640 avg: 0.6580 max: 0.7450 >>> [0.582, 0.691, 0.745, 0.709, 0.564]\n",
            "\tsplit_size:50\t std_:  train--0.7720 test--0.6580 avg: 0.6650 max: 0.6910 >>> [0.625, 0.691, 0.658, 0.691, 0.658]\n",
            "\tsplit_size:60\t std_:  train--0.7420 test--0.6970 avg: 0.6740 max: 0.7020 >>> [0.619, 0.656, 0.702, 0.697, 0.697]\n",
            "\tsplit_size:70\t std_:  train--0.7420 test--0.6770 avg: 0.6760 max: 0.7070 >>> [0.646, 0.671, 0.707, 0.677, 0.677]\n",
            "\tsplit_size:80\t std_:  train--0.7490 test--0.6610 avg: 0.6570 max: 0.7340 >>> [0.596, 0.642, 0.734, 0.651, 0.661]\n",
            "\tsplit_size:90\t std_:  train--0.7400 test--0.6180 avg: 0.7020 max: 0.7820 >>> [0.655, 0.709, 0.782, 0.745, 0.618]\n",
            "\tsplit_size:50\t skew:  train--0.9490 test--0.6470 avg: 0.6730 max: 0.6990 >>> [0.658, 0.699, 0.68, 0.68, 0.647]\n",
            "\tsplit_size:60\t skew:  train--0.9690 test--0.6650 avg: 0.6940 max: 0.7340 >>> [0.683, 0.734, 0.67, 0.716, 0.665]\n",
            "\tsplit_size:70\t skew:  train--0.9680 test--0.7070 avg: 0.7040 max: 0.7500 >>> [0.671, 0.726, 0.665, 0.75, 0.707]\n",
            "\tsplit_size:80\t skew:  train--0.9610 test--0.6880 avg: 0.7080 max: 0.7610 >>> [0.67, 0.752, 0.67, 0.761, 0.688]\n",
            "\tsplit_size:90\t skew:  train--0.9630 test--0.7450 avg: 0.7310 max: 0.8180 >>> [0.655, 0.727, 0.709, 0.818, 0.745]\n",
            "\tsplit_size:50\t kurt:  train--0.9560 test--0.5480 avg: 0.5850 max: 0.6210 >>> [0.574, 0.621, 0.599, 0.581, 0.548]\n",
            "\tsplit_size:60\t kurt:  train--0.9480 test--0.5500 avg: 0.5990 max: 0.6420 >>> [0.528, 0.642, 0.642, 0.633, 0.55]\n",
            "\tsplit_size:70\t kurt:  train--0.9680 test--0.6040 avg: 0.6180 max: 0.6950 >>> [0.524, 0.695, 0.604, 0.665, 0.604]\n",
            "\tsplit_size:80\t kurt:  train--0.9700 test--0.6790 avg: 0.6180 max: 0.6790 >>> [0.477, 0.633, 0.642, 0.661, 0.679]\n",
            "\tsplit_size:90\t kurt:  train--0.9650 test--0.6910 avg: 0.6360 max: 0.6910 >>> [0.564, 0.636, 0.618, 0.673, 0.691]\n"
          ]
        },
        {
          "output_type": "stream",
          "name": "stderr",
          "text": [
            "100%|██████████| 544/544 [03:19<00:00,  2.73it/s]\n"
          ]
        },
        {
          "output_type": "stream",
          "name": "stdout",
          "text": [
            "\n",
            "window_size: 16\n",
            "\tsplit_size:50\t mean:  train--0.8860 test--0.8120 avg: 0.8030 max: 0.8350 >>> [0.835, 0.809, 0.772, 0.787, 0.812]\n",
            "\tsplit_size:60\t mean:  train--0.8740 test--0.8120 avg: 0.8160 max: 0.8390 >>> [0.83, 0.839, 0.817, 0.78, 0.812]\n",
            "\tsplit_size:70\t mean:  train--0.8890 test--0.8230 avg: 0.8360 max: 0.8720 >>> [0.823, 0.835, 0.872, 0.829, 0.823]\n",
            "\tsplit_size:80\t mean:  train--0.9100 test--0.8170 avg: 0.8390 max: 0.8720 >>> [0.862, 0.844, 0.872, 0.798, 0.817]\n",
            "\tsplit_size:90\t mean:  train--0.9260 test--0.8360 avg: 0.8470 max: 0.9090 >>> [0.909, 0.836, 0.855, 0.8, 0.836]\n",
            "\tsplit_size:50\t var_:  train--0.8420 test--0.6690 avg: 0.6250 max: 0.6690 >>> [0.607, 0.614, 0.665, 0.57, 0.669]\n",
            "\tsplit_size:60\t var_:  train--0.8440 test--0.7110 avg: 0.6430 max: 0.7110 >>> [0.619, 0.583, 0.688, 0.615, 0.711]\n",
            "\tsplit_size:70\t var_:  train--0.8420 test--0.6890 avg: 0.6370 max: 0.6890 >>> [0.561, 0.598, 0.683, 0.652, 0.689]\n",
            "\tsplit_size:80\t var_:  train--0.8410 test--0.7430 avg: 0.6570 max: 0.7430 >>> [0.596, 0.633, 0.679, 0.633, 0.743]\n",
            "\tsplit_size:90\t var_:  train--0.8510 test--0.6910 avg: 0.6510 max: 0.7450 >>> [0.618, 0.618, 0.745, 0.582, 0.691]\n",
            "\tsplit_size:50\t std_:  train--0.8820 test--0.6910 avg: 0.6820 max: 0.7020 >>> [0.702, 0.691, 0.673, 0.654, 0.691]\n",
            "\tsplit_size:60\t std_:  train--0.8990 test--0.6880 avg: 0.7020 max: 0.7480 >>> [0.716, 0.702, 0.748, 0.656, 0.688]\n",
            "\tsplit_size:70\t std_:  train--0.8630 test--0.7130 avg: 0.7050 max: 0.7380 >>> [0.689, 0.707, 0.738, 0.677, 0.713]\n",
            "\tsplit_size:80\t std_:  train--0.8740 test--0.7520 avg: 0.7120 max: 0.7520 >>> [0.716, 0.725, 0.706, 0.661, 0.752]\n",
            "\tsplit_size:90\t std_:  train--0.8730 test--0.7450 avg: 0.7380 max: 0.8180 >>> [0.818, 0.655, 0.8, 0.673, 0.745]\n",
            "\tsplit_size:50\t skew:  train--0.9960 test--0.7540 avg: 0.8020 max: 0.8240 >>> [0.809, 0.824, 0.809, 0.816, 0.754]\n",
            "\tsplit_size:60\t skew:  train--0.9970 test--0.7520 avg: 0.8230 max: 0.8490 >>> [0.835, 0.849, 0.849, 0.83, 0.752]\n",
            "\tsplit_size:70\t skew:  train--0.9970 test--0.7930 avg: 0.8420 max: 0.8720 >>> [0.854, 0.841, 0.848, 0.872, 0.793]\n",
            "\tsplit_size:80\t skew:  train--0.9950 test--0.7430 avg: 0.8420 max: 0.8900 >>> [0.872, 0.89, 0.853, 0.853, 0.743]\n",
            "\tsplit_size:90\t skew:  train--0.9980 test--0.7270 avg: 0.8400 max: 0.9090 >>> [0.909, 0.855, 0.873, 0.836, 0.727]\n",
            "\tsplit_size:50\t kurt:  train--0.9960 test--0.6650 avg: 0.6630 max: 0.6760 >>> [0.658, 0.651, 0.676, 0.665, 0.665]\n",
            "\tsplit_size:60\t kurt:  train--0.9970 test--0.6560 avg: 0.6810 max: 0.7200 >>> [0.651, 0.683, 0.72, 0.697, 0.656]\n",
            "\tsplit_size:70\t kurt:  train--1.0000 test--0.7130 avg: 0.6840 max: 0.7440 >>> [0.634, 0.634, 0.744, 0.695, 0.713]\n",
            "\tsplit_size:80\t kurt:  train--0.9950 test--0.6700 avg: 0.6840 max: 0.7430 >>> [0.615, 0.706, 0.743, 0.688, 0.67]\n",
            "\tsplit_size:90\t kurt:  train--1.0000 test--0.7270 avg: 0.7050 max: 0.7450 >>> [0.691, 0.655, 0.709, 0.745, 0.727]\n"
          ]
        },
        {
          "output_type": "stream",
          "name": "stderr",
          "text": [
            "100%|██████████| 544/544 [06:24<00:00,  1.42it/s]\n"
          ]
        },
        {
          "output_type": "stream",
          "name": "stdout",
          "text": [
            "\n",
            "window_size: 8\n",
            "\tsplit_size:50\t mean:  train--0.9410 test--0.8350 avg: 0.8260 max: 0.8680 >>> [0.776, 0.831, 0.868, 0.82, 0.835]\n",
            "\tsplit_size:60\t mean:  train--0.9450 test--0.8810 avg: 0.8510 max: 0.8810 >>> [0.826, 0.826, 0.862, 0.862, 0.881]\n",
            "\tsplit_size:70\t mean:  train--0.9610 test--0.8960 avg: 0.8820 max: 0.9090 >>> [0.866, 0.909, 0.854, 0.884, 0.896]\n",
            "\tsplit_size:80\t mean:  train--0.9700 test--0.8900 avg: 0.8790 max: 0.8990 >>> [0.862, 0.899, 0.872, 0.872, 0.89]\n",
            "\tsplit_size:90\t mean:  train--0.9780 test--0.9820 avg: 0.9060 max: 0.9820 >>> [0.873, 0.927, 0.891, 0.855, 0.982]\n",
            "\tsplit_size:50\t var_:  train--0.8570 test--0.5700 avg: 0.6050 max: 0.6430 >>> [0.574, 0.621, 0.618, 0.643, 0.57]\n",
            "\tsplit_size:60\t var_:  train--0.8770 test--0.5920 avg: 0.6150 max: 0.6560 >>> [0.578, 0.628, 0.619, 0.656, 0.592]\n",
            "\tsplit_size:70\t var_:  train--0.8790 test--0.6100 avg: 0.6290 max: 0.6650 >>> [0.598, 0.652, 0.622, 0.665, 0.61]\n",
            "\tsplit_size:80\t var_:  train--0.8640 test--0.5960 avg: 0.6380 max: 0.6880 >>> [0.633, 0.688, 0.633, 0.642, 0.596]\n",
            "\tsplit_size:90\t var_:  train--0.8590 test--0.6360 avg: 0.6220 max: 0.7270 >>> [0.545, 0.727, 0.618, 0.582, 0.636]\n",
            "\tsplit_size:50\t std_:  train--0.8680 test--0.6400 avg: 0.6530 max: 0.6910 >>> [0.596, 0.658, 0.68, 0.691, 0.64]\n",
            "\tsplit_size:60\t std_:  train--0.9080 test--0.6650 avg: 0.6610 max: 0.6970 >>> [0.624, 0.633, 0.697, 0.688, 0.665]\n",
            "\tsplit_size:70\t std_:  train--0.8820 test--0.6710 avg: 0.6770 max: 0.7010 >>> [0.671, 0.665, 0.677, 0.701, 0.671]\n",
            "\tsplit_size:80\t std_:  train--0.8760 test--0.6700 avg: 0.6790 max: 0.7160 >>> [0.679, 0.67, 0.661, 0.716, 0.67]\n",
            "\tsplit_size:90\t std_:  train--0.8730 test--0.7640 avg: 0.7090 max: 0.7640 >>> [0.636, 0.764, 0.709, 0.673, 0.764]\n",
            "\tsplit_size:50\t skew:  train--1.0000 test--0.6730 avg: 0.6060 max: 0.6730 >>> [0.577, 0.599, 0.599, 0.581, 0.673]\n",
            "\tsplit_size:60\t skew:  train--1.0000 test--0.6420 avg: 0.6050 max: 0.6420 >>> [0.601, 0.583, 0.615, 0.583, 0.642]\n",
            "\tsplit_size:70\t skew:  train--1.0000 test--0.6400 avg: 0.6200 max: 0.6590 >>> [0.659, 0.579, 0.659, 0.561, 0.64]\n",
            "\tsplit_size:80\t skew:  train--0.9980 test--0.6240 avg: 0.6200 max: 0.7060 >>> [0.706, 0.587, 0.642, 0.541, 0.624]\n",
            "\tsplit_size:90\t skew:  train--0.9980 test--0.6000 avg: 0.5960 max: 0.6730 >>> [0.673, 0.636, 0.636, 0.436, 0.6]\n",
            "\tsplit_size:50\t kurt:  train--1.0000 test--0.5810 avg: 0.5390 max: 0.5810 >>> [0.507, 0.54, 0.544, 0.522, 0.581]\n",
            "\tsplit_size:60\t kurt:  train--1.0000 test--0.5410 avg: 0.5360 max: 0.5690 >>> [0.518, 0.532, 0.569, 0.518, 0.541]\n",
            "\tsplit_size:70\t kurt:  train--1.0000 test--0.5490 avg: 0.5390 max: 0.5980 >>> [0.512, 0.53, 0.598, 0.506, 0.549]\n",
            "\tsplit_size:80\t kurt:  train--1.0000 test--0.5600 avg: 0.5410 max: 0.5600 >>> [0.541, 0.523, 0.56, 0.523, 0.56]\n",
            "\tsplit_size:90\t kurt:  train--1.0000 test--0.5640 avg: 0.5600 max: 0.6000 >>> [0.6, 0.564, 0.582, 0.491, 0.564]\n"
          ]
        },
        {
          "output_type": "stream",
          "name": "stderr",
          "text": [
            "100%|██████████| 544/544 [12:29<00:00,  1.38s/it]\n"
          ]
        },
        {
          "output_type": "stream",
          "name": "stdout",
          "text": [
            "\n",
            "window_size: 4\n",
            "\tsplit_size:50\t mean:  train--0.9410 test--0.8090 avg: 0.8120 max: 0.8380 >>> [0.812, 0.798, 0.838, 0.801, 0.809]\n",
            "\tsplit_size:60\t mean:  train--0.9390 test--0.8210 avg: 0.8400 max: 0.8670 >>> [0.858, 0.812, 0.844, 0.867, 0.821]\n",
            "\tsplit_size:70\t mean:  train--0.9450 test--0.8660 avg: 0.8570 max: 0.8840 >>> [0.884, 0.872, 0.823, 0.841, 0.866]\n",
            "\tsplit_size:80\t mean:  train--0.9660 test--0.8530 avg: 0.8810 max: 0.9360 >>> [0.936, 0.917, 0.835, 0.862, 0.853]\n",
            "\tsplit_size:90\t mean:  train--0.9730 test--0.8550 avg: 0.8730 max: 0.9090 >>> [0.909, 0.891, 0.855, 0.855, 0.855]\n",
            "\tsplit_size:50\t var_:  train--0.8860 test--0.5990 avg: 0.5710 max: 0.5990 >>> [0.592, 0.559, 0.54, 0.566, 0.599]\n",
            "\tsplit_size:60\t var_:  train--0.8740 test--0.6150 avg: 0.5870 max: 0.6190 >>> [0.587, 0.583, 0.532, 0.619, 0.615]\n",
            "\tsplit_size:70\t var_:  train--0.9210 test--0.6160 avg: 0.5990 max: 0.6160 >>> [0.616, 0.616, 0.573, 0.573, 0.616]\n",
            "\tsplit_size:80\t var_:  train--0.8970 test--0.5960 avg: 0.6350 max: 0.7060 >>> [0.642, 0.706, 0.578, 0.651, 0.596]\n",
            "\tsplit_size:90\t var_:  train--0.9040 test--0.6180 avg: 0.5890 max: 0.6180 >>> [0.618, 0.564, 0.6, 0.545, 0.618]\n",
            "\tsplit_size:50\t std_:  train--0.9040 test--0.6140 avg: 0.6060 max: 0.6210 >>> [0.621, 0.618, 0.574, 0.603, 0.614]\n",
            "\tsplit_size:60\t std_:  train--0.8930 test--0.5920 avg: 0.6000 max: 0.6150 >>> [0.615, 0.583, 0.596, 0.615, 0.592]\n",
            "\tsplit_size:70\t std_:  train--0.9130 test--0.6280 avg: 0.6340 max: 0.6710 >>> [0.616, 0.671, 0.61, 0.646, 0.628]\n",
            "\tsplit_size:80\t std_:  train--0.9060 test--0.5960 avg: 0.6330 max: 0.6970 >>> [0.633, 0.697, 0.624, 0.615, 0.596]\n",
            "\tsplit_size:90\t std_:  train--0.9020 test--0.7090 avg: 0.6220 max: 0.7090 >>> [0.582, 0.545, 0.673, 0.6, 0.709]\n",
            "\tsplit_size:50\t skew:  train--1.0000 test--0.5740 avg: 0.5500 max: 0.6070 >>> [0.607, 0.544, 0.504, 0.522, 0.574]\n",
            "\tsplit_size:60\t skew:  train--1.0000 test--0.5830 avg: 0.5420 max: 0.5830 >>> [0.583, 0.528, 0.505, 0.509, 0.583]\n",
            "\tsplit_size:70\t skew:  train--1.0000 test--0.6340 avg: 0.5780 max: 0.6460 >>> [0.591, 0.646, 0.53, 0.488, 0.634]\n",
            "\tsplit_size:80\t skew:  train--1.0000 test--0.6240 avg: 0.5950 max: 0.6790 >>> [0.578, 0.679, 0.56, 0.532, 0.624]\n",
            "\tsplit_size:90\t skew:  train--1.0000 test--0.6360 avg: 0.6330 max: 0.7270 >>> [0.545, 0.691, 0.564, 0.727, 0.636]\n",
            "\tsplit_size:50\t kurt:  train--1.0000 test--0.5810 avg: 0.5400 max: 0.5810 >>> [0.566, 0.526, 0.522, 0.504, 0.581]\n",
            "\tsplit_size:60\t kurt:  train--1.0000 test--0.6100 avg: 0.5530 max: 0.6190 >>> [0.619, 0.509, 0.514, 0.514, 0.61]\n",
            "\tsplit_size:70\t kurt:  train--1.0000 test--0.6460 avg: 0.5770 max: 0.6460 >>> [0.628, 0.591, 0.524, 0.494, 0.646]\n",
            "\tsplit_size:80\t kurt:  train--1.0000 test--0.6150 avg: 0.5930 max: 0.6330 >>> [0.633, 0.615, 0.541, 0.56, 0.615]\n",
            "\tsplit_size:90\t kurt:  train--1.0000 test--0.5820 avg: 0.5930 max: 0.6550 >>> [0.655, 0.545, 0.527, 0.655, 0.582]\n"
          ]
        },
        {
          "output_type": "stream",
          "name": "stderr",
          "text": [
            "100%|██████████| 544/544 [21:31<00:00,  2.37s/it]\n"
          ]
        },
        {
          "output_type": "stream",
          "name": "stdout",
          "text": [
            "\n",
            "window_size: 2\n",
            "\tsplit_size:50\t mean:  train--0.9520 test--0.7720 avg: 0.8040 max: 0.8490 >>> [0.765, 0.849, 0.835, 0.801, 0.772]\n",
            "\tsplit_size:60\t mean:  train--0.9600 test--0.7610 avg: 0.8130 max: 0.8620 >>> [0.784, 0.844, 0.862, 0.812, 0.761]\n",
            "\tsplit_size:70\t mean:  train--0.9610 test--0.7930 avg: 0.8200 max: 0.8480 >>> [0.817, 0.811, 0.848, 0.829, 0.793]\n",
            "\tsplit_size:80\t mean:  train--0.9660 test--0.7980 avg: 0.8260 max: 0.8530 >>> [0.835, 0.807, 0.835, 0.853, 0.798]\n",
            "\tsplit_size:90\t mean:  train--0.9780 test--0.8730 avg: 0.8650 max: 0.9270 >>> [0.891, 0.745, 0.891, 0.927, 0.873]\n",
            "\tsplit_size:50\t var_:  train--0.9520 test--0.5660 avg: 0.5900 max: 0.6290 >>> [0.581, 0.599, 0.577, 0.629, 0.566]\n",
            "\tsplit_size:60\t var_:  train--0.9510 test--0.5500 avg: 0.5990 max: 0.6880 >>> [0.583, 0.688, 0.555, 0.619, 0.55]\n",
            "\tsplit_size:70\t var_:  train--0.9160 test--0.5370 avg: 0.5790 max: 0.6340 >>> [0.585, 0.634, 0.555, 0.585, 0.537]\n",
            "\tsplit_size:80\t var_:  train--0.9330 test--0.5690 avg: 0.5910 max: 0.6420 >>> [0.587, 0.642, 0.596, 0.56, 0.569]\n",
            "\tsplit_size:90\t var_:  train--0.9060 test--0.6180 avg: 0.5850 max: 0.6180 >>> [0.545, 0.618, 0.618, 0.527, 0.618]\n",
            "\tsplit_size:50\t std_:  train--0.9670 test--0.6030 avg: 0.6220 max: 0.6800 >>> [0.592, 0.68, 0.618, 0.618, 0.603]\n",
            "\tsplit_size:60\t std_:  train--0.9570 test--0.5730 avg: 0.6220 max: 0.6970 >>> [0.633, 0.697, 0.56, 0.647, 0.573]\n",
            "\tsplit_size:70\t std_:  train--0.9340 test--0.5790 avg: 0.6160 max: 0.6830 >>> [0.604, 0.683, 0.591, 0.622, 0.579]\n",
            "\tsplit_size:80\t std_:  train--0.9430 test--0.5690 avg: 0.6260 max: 0.6880 >>> [0.633, 0.688, 0.633, 0.606, 0.569]\n",
            "\tsplit_size:90\t std_:  train--0.9280 test--0.6360 avg: 0.6290 max: 0.6910 >>> [0.582, 0.691, 0.655, 0.582, 0.636]\n",
            "\tsplit_size:50\t skew:  train--0.5370 test--0.5330 avg: 0.5300 max: 0.5510 >>> [0.496, 0.529, 0.551, 0.54, 0.533]\n",
            "\tsplit_size:60\t skew:  train--0.5430 test--0.5280 avg: 0.5330 max: 0.5460 >>> [0.509, 0.537, 0.546, 0.546, 0.528]\n",
            "\tsplit_size:70\t skew:  train--0.5550 test--0.5240 avg: 0.5290 max: 0.5490 >>> [0.5, 0.524, 0.549, 0.549, 0.524]\n",
            "\tsplit_size:80\t skew:  train--0.5490 test--0.5320 avg: 0.5470 max: 0.5960 >>> [0.532, 0.596, 0.505, 0.569, 0.532]\n",
            "\tsplit_size:90\t skew:  train--0.5440 test--0.5820 avg: 0.5560 max: 0.6000 >>> [0.491, 0.564, 0.545, 0.6, 0.582]\n",
            "\tsplit_size:50\t kurt:  train--1.0000 test--0.5330 avg: 0.5110 max: 0.5330 >>> [0.496, 0.529, 0.478, 0.518, 0.533]\n",
            "\tsplit_size:60\t kurt:  train--1.0000 test--0.5550 avg: 0.5090 max: 0.5550 >>> [0.509, 0.509, 0.472, 0.5, 0.555]\n",
            "\tsplit_size:70\t kurt:  train--1.0000 test--0.5370 avg: 0.5120 max: 0.5370 >>> [0.5, 0.518, 0.494, 0.512, 0.537]\n",
            "\tsplit_size:80\t kurt:  train--1.0000 test--0.5230 avg: 0.4880 max: 0.5320 >>> [0.477, 0.468, 0.44, 0.532, 0.523]\n",
            "\tsplit_size:90\t kurt:  train--0.9980 test--0.6000 avg: 0.5060 max: 0.6000 >>> [0.473, 0.491, 0.455, 0.509, 0.6]\n",
            "\n",
            "window_size: 1\n",
            "\tsplit_size:50\t mean:  train--0.9710 test--0.7650 avg: 0.7780 max: 0.7870 >>> [0.772, 0.783, 0.783, 0.787, 0.765]\n",
            "\tsplit_size:60\t mean:  train--0.9660 test--0.7570 avg: 0.8020 max: 0.8300 >>> [0.83, 0.826, 0.771, 0.826, 0.757]\n",
            "\tsplit_size:70\t mean:  train--0.9740 test--0.7930 avg: 0.8110 max: 0.8600 >>> [0.835, 0.86, 0.756, 0.811, 0.793]\n",
            "\tsplit_size:80\t mean:  train--0.9660 test--0.7710 avg: 0.8260 max: 0.8720 >>> [0.862, 0.872, 0.78, 0.844, 0.771]\n",
            "\tsplit_size:90\t mean:  train--0.9670 test--0.7640 avg: 0.8260 max: 0.8910 >>> [0.891, 0.818, 0.782, 0.873, 0.764]\n",
            "########################## epoch:  5  ###########################\n"
          ]
        },
        {
          "output_type": "stream",
          "name": "stderr",
          "text": [
            "100%|██████████| 544/544 [00:02<00:00, 181.85it/s]\n"
          ]
        },
        {
          "output_type": "stream",
          "name": "stdout",
          "text": [
            "\n",
            "window_size: 1000\n",
            "\tsplit_size:50\t mean:  train--0.6990 test--0.6470 avg: 0.6640 max: 0.6880 >>> [0.654, 0.665, 0.688, 0.647, 0.684, 0.647]\n",
            "\tsplit_size:60\t mean:  train--0.6990 test--0.6330 avg: 0.6680 max: 0.7200 >>> [0.624, 0.683, 0.72, 0.674, 0.674, 0.633]\n",
            "\tsplit_size:70\t mean:  train--0.6920 test--0.6460 avg: 0.6830 max: 0.7440 >>> [0.616, 0.695, 0.744, 0.713, 0.683, 0.646]\n",
            "\tsplit_size:80\t mean:  train--0.6990 test--0.6150 avg: 0.6810 max: 0.7250 >>> [0.615, 0.697, 0.716, 0.716, 0.725, 0.615]\n",
            "\tsplit_size:90\t mean:  train--0.6890 test--0.6000 avg: 0.6850 max: 0.7640 >>> [0.6, 0.691, 0.745, 0.764, 0.709, 0.6]\n",
            "\tsplit_size:50\t var_:  train--0.6360 test--0.5510 avg: 0.5680 max: 0.6030 >>> [0.54, 0.577, 0.603, 0.555, 0.581, 0.551]\n",
            "\tsplit_size:60\t var_:  train--0.6010 test--0.5830 avg: 0.5900 max: 0.6240 >>> [0.541, 0.606, 0.624, 0.596, 0.587, 0.583]\n",
            "\tsplit_size:70\t var_:  train--0.6050 test--0.5610 avg: 0.5880 max: 0.6520 >>> [0.537, 0.604, 0.652, 0.579, 0.598, 0.561]\n",
            "\tsplit_size:80\t var_:  train--0.6050 test--0.5320 avg: 0.5830 max: 0.6420 >>> [0.495, 0.606, 0.606, 0.642, 0.615, 0.532]\n",
            "\tsplit_size:90\t var_:  train--0.6010 test--0.4910 avg: 0.5820 max: 0.6360 >>> [0.473, 0.636, 0.636, 0.636, 0.618, 0.491]\n",
            "\tsplit_size:50\t std_:  train--0.6910 test--0.5920 avg: 0.6400 max: 0.6910 >>> [0.61, 0.654, 0.662, 0.632, 0.691, 0.592]\n",
            "\tsplit_size:60\t std_:  train--0.6690 test--0.6240 avg: 0.6560 max: 0.6880 >>> [0.615, 0.688, 0.688, 0.642, 0.679, 0.624]\n",
            "\tsplit_size:70\t std_:  train--0.6680 test--0.6160 avg: 0.6640 max: 0.7380 >>> [0.598, 0.652, 0.738, 0.689, 0.689, 0.616]\n",
            "\tsplit_size:80\t std_:  train--0.6620 test--0.6240 avg: 0.6670 max: 0.7160 >>> [0.569, 0.697, 0.716, 0.697, 0.697, 0.624]\n",
            "\tsplit_size:90\t std_:  train--0.6610 test--0.5640 avg: 0.6420 max: 0.7450 >>> [0.545, 0.6, 0.727, 0.745, 0.673, 0.564]\n",
            "\tsplit_size:50\t skew:  train--0.6510 test--0.6070 avg: 0.5680 max: 0.6070 >>> [0.548, 0.562, 0.592, 0.511, 0.585, 0.607]\n",
            "\tsplit_size:60\t skew:  train--0.6380 test--0.5600 avg: 0.5590 max: 0.5870 >>> [0.587, 0.555, 0.578, 0.505, 0.569, 0.56]\n",
            "\tsplit_size:70\t skew:  train--0.6580 test--0.5790 avg: 0.5970 max: 0.6340 >>> [0.628, 0.561, 0.591, 0.634, 0.591, 0.579]\n",
            "\tsplit_size:80\t skew:  train--0.6530 test--0.5320 avg: 0.5810 max: 0.6510 >>> [0.606, 0.55, 0.56, 0.651, 0.587, 0.532]\n",
            "\tsplit_size:90\t skew:  train--0.6340 test--0.6550 avg: 0.6030 max: 0.6550 >>> [0.582, 0.509, 0.6, 0.636, 0.636, 0.655]\n",
            "\tsplit_size:50\t kurt:  train--0.6140 test--0.5220 avg: 0.5260 max: 0.5400 >>> [0.518, 0.537, 0.54, 0.515, 0.522, 0.522]\n",
            "\tsplit_size:60\t kurt:  train--0.6200 test--0.5090 avg: 0.5260 max: 0.5410 >>> [0.541, 0.541, 0.514, 0.523, 0.528, 0.509]\n",
            "\tsplit_size:70\t kurt:  train--0.5920 test--0.5370 avg: 0.5360 max: 0.5610 >>> [0.561, 0.5, 0.53, 0.561, 0.524, 0.537]\n",
            "\tsplit_size:80\t kurt:  train--0.6160 test--0.4860 avg: 0.5340 max: 0.5780 >>> [0.523, 0.523, 0.541, 0.578, 0.55, 0.486]\n",
            "\tsplit_size:90\t kurt:  train--0.5910 test--0.5270 avg: 0.5300 max: 0.6910 >>> [0.473, 0.509, 0.491, 0.491, 0.691, 0.527]\n"
          ]
        },
        {
          "output_type": "stream",
          "name": "stderr",
          "text": [
            "100%|██████████| 544/544 [00:35<00:00, 15.41it/s]\n"
          ]
        },
        {
          "output_type": "stream",
          "name": "stdout",
          "text": [
            "\n",
            "window_size: 100\n",
            "\tsplit_size:50\t mean:  train--0.7060 test--0.7020 avg: 0.6810 max: 0.7020 >>> [0.699, 0.651, 0.688, 0.691, 0.654, 0.702]\n",
            "\tsplit_size:60\t mean:  train--0.7060 test--0.7200 avg: 0.6990 max: 0.7200 >>> [0.706, 0.688, 0.683, 0.702, 0.693, 0.72]\n",
            "\tsplit_size:70\t mean:  train--0.7130 test--0.7320 avg: 0.6860 max: 0.7320 >>> [0.677, 0.683, 0.659, 0.683, 0.683, 0.732]\n",
            "\tsplit_size:80\t mean:  train--0.7030 test--0.7340 avg: 0.6970 max: 0.7340 >>> [0.697, 0.716, 0.697, 0.679, 0.661, 0.734]\n",
            "\tsplit_size:90\t mean:  train--0.7030 test--0.6730 avg: 0.7180 max: 0.7640 >>> [0.709, 0.691, 0.727, 0.764, 0.745, 0.673]\n",
            "\tsplit_size:50\t var_:  train--0.6510 test--0.6730 avg: 0.6170 max: 0.6730 >>> [0.632, 0.581, 0.61, 0.61, 0.596, 0.673]\n",
            "\tsplit_size:60\t var_:  train--0.6600 test--0.6560 avg: 0.6170 max: 0.6560 >>> [0.633, 0.606, 0.61, 0.606, 0.592, 0.656]\n",
            "\tsplit_size:70\t var_:  train--0.6820 test--0.6830 avg: 0.6080 max: 0.6830 >>> [0.561, 0.61, 0.585, 0.604, 0.604, 0.683]\n",
            "\tsplit_size:80\t var_:  train--0.6780 test--0.6510 avg: 0.6100 max: 0.6510 >>> [0.56, 0.624, 0.633, 0.642, 0.55, 0.651]\n",
            "\tsplit_size:90\t var_:  train--0.6850 test--0.6180 avg: 0.6270 max: 0.7090 >>> [0.564, 0.655, 0.582, 0.709, 0.636, 0.618]\n",
            "\tsplit_size:50\t std_:  train--0.6800 test--0.6880 avg: 0.6540 max: 0.6880 >>> [0.68, 0.61, 0.643, 0.665, 0.64, 0.688]\n",
            "\tsplit_size:60\t std_:  train--0.6780 test--0.7060 avg: 0.6670 max: 0.7060 >>> [0.67, 0.647, 0.661, 0.661, 0.656, 0.706]\n",
            "\tsplit_size:70\t std_:  train--0.6710 test--0.7320 avg: 0.6680 max: 0.7320 >>> [0.634, 0.677, 0.646, 0.683, 0.634, 0.732]\n",
            "\tsplit_size:80\t std_:  train--0.6900 test--0.7340 avg: 0.6650 max: 0.7340 >>> [0.651, 0.67, 0.67, 0.661, 0.606, 0.734]\n",
            "\tsplit_size:90\t std_:  train--0.6930 test--0.6910 avg: 0.6880 max: 0.7450 >>> [0.691, 0.655, 0.691, 0.745, 0.655, 0.691]\n",
            "\tsplit_size:50\t skew:  train--0.8380 test--0.6250 avg: 0.6250 max: 0.6470 >>> [0.607, 0.629, 0.625, 0.647, 0.618, 0.625]\n",
            "\tsplit_size:60\t skew:  train--0.8130 test--0.6060 avg: 0.6480 max: 0.6740 >>> [0.642, 0.656, 0.674, 0.661, 0.651, 0.606]\n",
            "\tsplit_size:70\t skew:  train--0.8240 test--0.6220 avg: 0.6400 max: 0.7070 >>> [0.567, 0.677, 0.634, 0.707, 0.634, 0.622]\n",
            "\tsplit_size:80\t skew:  train--0.8210 test--0.6060 avg: 0.6680 max: 0.7610 >>> [0.688, 0.661, 0.67, 0.761, 0.624, 0.606]\n",
            "\tsplit_size:90\t skew:  train--0.8450 test--0.6180 avg: 0.7090 max: 0.8550 >>> [0.709, 0.727, 0.673, 0.855, 0.673, 0.618]\n",
            "\tsplit_size:50\t kurt:  train--0.7570 test--0.5770 avg: 0.5720 max: 0.6070 >>> [0.544, 0.551, 0.574, 0.607, 0.581, 0.577]\n",
            "\tsplit_size:60\t kurt:  train--0.7640 test--0.5920 avg: 0.5850 max: 0.6280 >>> [0.628, 0.555, 0.587, 0.569, 0.578, 0.592]\n",
            "\tsplit_size:70\t kurt:  train--0.7660 test--0.5910 avg: 0.5760 max: 0.6460 >>> [0.646, 0.573, 0.561, 0.561, 0.524, 0.591]\n",
            "\tsplit_size:80\t kurt:  train--0.7490 test--0.5960 avg: 0.5890 max: 0.6610 >>> [0.661, 0.532, 0.606, 0.596, 0.541, 0.596]\n",
            "\tsplit_size:90\t kurt:  train--0.7570 test--0.5640 avg: 0.6150 max: 0.6910 >>> [0.691, 0.582, 0.655, 0.636, 0.564, 0.564]\n"
          ]
        },
        {
          "output_type": "stream",
          "name": "stderr",
          "text": [
            "100%|██████████| 544/544 [05:10<00:00,  1.75it/s]\n"
          ]
        },
        {
          "output_type": "stream",
          "name": "stdout",
          "text": [
            "\n",
            "window_size: 10\n",
            "\tsplit_size:50\t mean:  train--0.9450 test--0.8490 avg: 0.8140 max: 0.8490 >>> [0.816, 0.812, 0.798, 0.816, 0.794, 0.849]\n",
            "\tsplit_size:60\t mean:  train--0.9420 test--0.8390 avg: 0.8360 max: 0.8670 >>> [0.844, 0.867, 0.835, 0.839, 0.789, 0.839]\n",
            "\tsplit_size:70\t mean:  train--0.9450 test--0.8600 avg: 0.8510 max: 0.8780 >>> [0.866, 0.878, 0.848, 0.848, 0.805, 0.86]\n",
            "\tsplit_size:80\t mean:  train--0.9520 test--0.8530 avg: 0.8470 max: 0.8620 >>> [0.844, 0.862, 0.862, 0.853, 0.807, 0.853]\n",
            "\tsplit_size:90\t mean:  train--0.9590 test--0.8910 avg: 0.8300 max: 0.8910 >>> [0.8, 0.891, 0.855, 0.709, 0.836, 0.891]\n",
            "\tsplit_size:50\t var_:  train--0.8600 test--0.6180 avg: 0.6150 max: 0.6400 >>> [0.64, 0.629, 0.592, 0.574, 0.636, 0.618]\n",
            "\tsplit_size:60\t var_:  train--0.8470 test--0.6330 avg: 0.6220 max: 0.6420 >>> [0.619, 0.642, 0.615, 0.578, 0.642, 0.633]\n",
            "\tsplit_size:70\t var_:  train--0.8390 test--0.6100 avg: 0.6270 max: 0.6590 >>> [0.659, 0.646, 0.634, 0.561, 0.652, 0.61]\n",
            "\tsplit_size:80\t var_:  train--0.8600 test--0.6240 avg: 0.5990 max: 0.6510 >>> [0.651, 0.606, 0.578, 0.55, 0.587, 0.624]\n",
            "\tsplit_size:90\t var_:  train--0.8530 test--0.6000 avg: 0.6240 max: 0.6910 >>> [0.655, 0.6, 0.545, 0.691, 0.655, 0.6]\n",
            "\tsplit_size:50\t std_:  train--0.8930 test--0.6580 avg: 0.6430 max: 0.6620 >>> [0.643, 0.662, 0.64, 0.592, 0.662, 0.658]\n",
            "\tsplit_size:60\t std_:  train--0.8870 test--0.6930 avg: 0.6620 max: 0.6970 >>> [0.642, 0.697, 0.651, 0.633, 0.656, 0.693]\n",
            "\tsplit_size:70\t std_:  train--0.8840 test--0.6890 avg: 0.6580 max: 0.6950 >>> [0.64, 0.695, 0.671, 0.61, 0.646, 0.689]\n",
            "\tsplit_size:80\t std_:  train--0.8690 test--0.6700 avg: 0.6530 max: 0.7060 >>> [0.651, 0.688, 0.587, 0.706, 0.615, 0.67]\n",
            "\tsplit_size:90\t std_:  train--0.8730 test--0.7450 avg: 0.6850 max: 0.7450 >>> [0.582, 0.709, 0.655, 0.691, 0.727, 0.745]\n",
            "\tsplit_size:50\t skew:  train--0.9960 test--0.6400 avg: 0.6700 max: 0.7170 >>> [0.717, 0.654, 0.673, 0.684, 0.654, 0.64]\n",
            "\tsplit_size:60\t skew:  train--0.9940 test--0.6100 avg: 0.6930 max: 0.7340 >>> [0.725, 0.679, 0.734, 0.679, 0.729, 0.61]\n",
            "\tsplit_size:70\t skew:  train--0.9920 test--0.5980 avg: 0.6950 max: 0.7320 >>> [0.726, 0.732, 0.707, 0.707, 0.701, 0.598]\n",
            "\tsplit_size:80\t skew:  train--0.9930 test--0.5780 avg: 0.6960 max: 0.7520 >>> [0.697, 0.752, 0.734, 0.734, 0.679, 0.578]\n",
            "\tsplit_size:90\t skew:  train--0.9940 test--0.6180 avg: 0.7300 max: 0.8550 >>> [0.691, 0.855, 0.745, 0.691, 0.782, 0.618]\n",
            "\tsplit_size:50\t kurt:  train--1.0000 test--0.5590 avg: 0.5750 max: 0.6140 >>> [0.559, 0.57, 0.614, 0.599, 0.551, 0.559]\n",
            "\tsplit_size:60\t kurt:  train--1.0000 test--0.5730 avg: 0.5980 max: 0.6280 >>> [0.596, 0.573, 0.601, 0.619, 0.628, 0.573]\n",
            "\tsplit_size:70\t kurt:  train--1.0000 test--0.5550 avg: 0.5820 max: 0.6100 >>> [0.61, 0.567, 0.579, 0.598, 0.585, 0.555]\n",
            "\tsplit_size:80\t kurt:  train--1.0000 test--0.5780 avg: 0.5870 max: 0.6240 >>> [0.569, 0.615, 0.606, 0.624, 0.532, 0.578]\n",
            "\tsplit_size:90\t kurt:  train--1.0000 test--0.5640 avg: 0.5730 max: 0.6180 >>> [0.618, 0.582, 0.545, 0.582, 0.545, 0.564]\n"
          ]
        },
        {
          "output_type": "stream",
          "name": "stderr",
          "text": [
            "100%|██████████| 544/544 [00:00<00:00, 692.75it/s]\n"
          ]
        },
        {
          "output_type": "stream",
          "name": "stdout",
          "text": [
            "\n",
            "window_size: 4096\n",
            "\tsplit_size:50\t mean:  train--0.6430 test--0.6470 avg: 0.6480 max: 0.6580 >>> [0.651, 0.64, 0.651, 0.658, 0.643, 0.647]\n",
            "\tsplit_size:60\t mean:  train--0.6630 test--0.6740 avg: 0.6490 max: 0.6740 >>> [0.647, 0.624, 0.674, 0.674, 0.601, 0.674]\n",
            "\tsplit_size:70\t mean:  train--0.6660 test--0.6710 avg: 0.6400 max: 0.6830 >>> [0.634, 0.598, 0.683, 0.634, 0.622, 0.671]\n",
            "\tsplit_size:80\t mean:  train--0.6620 test--0.6700 avg: 0.6330 max: 0.6880 >>> [0.688, 0.633, 0.633, 0.587, 0.587, 0.67]\n",
            "\tsplit_size:90\t mean:  train--0.6630 test--0.5820 avg: 0.6480 max: 0.7270 >>> [0.727, 0.618, 0.655, 0.691, 0.618, 0.582]\n",
            "\tsplit_size:50\t var_:  train--0.5440 test--0.5150 avg: 0.5530 max: 0.5880 >>> [0.485, 0.588, 0.574, 0.585, 0.57, 0.515]\n",
            "\tsplit_size:60\t var_:  train--0.5520 test--0.4950 avg: 0.5480 max: 0.6150 >>> [0.468, 0.592, 0.573, 0.615, 0.546, 0.495]\n",
            "\tsplit_size:70\t var_:  train--0.5660 test--0.6520 avg: 0.6020 max: 0.6520 >>> [0.604, 0.585, 0.61, 0.61, 0.549, 0.652]\n",
            "\tsplit_size:80\t var_:  train--0.5700 test--0.6240 avg: 0.6040 max: 0.6330 >>> [0.633, 0.624, 0.633, 0.596, 0.514, 0.624]\n",
            "\tsplit_size:90\t var_:  train--0.5970 test--0.5640 avg: 0.6360 max: 0.7090 >>> [0.709, 0.691, 0.691, 0.6, 0.564, 0.564]\n",
            "\tsplit_size:50\t std_:  train--0.6430 test--0.6650 avg: 0.6120 max: 0.6800 >>> [0.485, 0.625, 0.618, 0.68, 0.599, 0.665]\n",
            "\tsplit_size:60\t std_:  train--0.6260 test--0.6830 avg: 0.6340 max: 0.6830 >>> [0.583, 0.642, 0.633, 0.679, 0.587, 0.683]\n",
            "\tsplit_size:70\t std_:  train--0.6470 test--0.6830 avg: 0.6460 max: 0.6830 >>> [0.659, 0.628, 0.628, 0.671, 0.604, 0.683]\n",
            "\tsplit_size:80\t std_:  train--0.6480 test--0.6880 avg: 0.6540 max: 0.6880 >>> [0.67, 0.633, 0.688, 0.651, 0.596, 0.688]\n",
            "\tsplit_size:90\t std_:  train--0.6540 test--0.6360 avg: 0.6640 max: 0.7090 >>> [0.709, 0.673, 0.673, 0.673, 0.618, 0.636]\n",
            "\tsplit_size:50\t skew:  train--0.6800 test--0.6580 avg: 0.6650 max: 0.6990 >>> [0.651, 0.676, 0.699, 0.669, 0.636, 0.658]\n",
            "\tsplit_size:60\t skew:  train--0.6810 test--0.6510 avg: 0.6590 max: 0.7020 >>> [0.638, 0.656, 0.702, 0.683, 0.624, 0.651]\n",
            "\tsplit_size:70\t skew:  train--0.6790 test--0.6710 avg: 0.6740 max: 0.7130 >>> [0.713, 0.659, 0.689, 0.701, 0.61, 0.671]\n",
            "\tsplit_size:80\t skew:  train--0.6760 test--0.6700 avg: 0.6590 max: 0.7340 >>> [0.734, 0.688, 0.633, 0.624, 0.606, 0.67]\n",
            "\tsplit_size:90\t skew:  train--0.6770 test--0.6550 avg: 0.6790 max: 0.7270 >>> [0.727, 0.673, 0.673, 0.673, 0.673, 0.655]\n",
            "\tsplit_size:50\t kurt:  train--0.6140 test--0.6030 avg: 0.5940 max: 0.6360 >>> [0.496, 0.618, 0.636, 0.603, 0.61, 0.603]\n",
            "\tsplit_size:60\t kurt:  train--0.6070 test--0.6190 avg: 0.6010 max: 0.6880 >>> [0.495, 0.615, 0.688, 0.615, 0.573, 0.619]\n",
            "\tsplit_size:70\t kurt:  train--0.6390 test--0.6280 avg: 0.6330 max: 0.6770 >>> [0.665, 0.622, 0.677, 0.64, 0.567, 0.628]\n",
            "\tsplit_size:80\t kurt:  train--0.6370 test--0.6330 avg: 0.6080 max: 0.6880 >>> [0.688, 0.596, 0.596, 0.587, 0.55, 0.633]\n",
            "\tsplit_size:90\t kurt:  train--0.6300 test--0.6000 avg: 0.6210 max: 0.6730 >>> [0.618, 0.6, 0.673, 0.618, 0.618, 0.6]\n"
          ]
        },
        {
          "output_type": "stream",
          "name": "stderr",
          "text": [
            "100%|██████████| 544/544 [00:01<00:00, 354.96it/s]\n"
          ]
        },
        {
          "output_type": "stream",
          "name": "stdout",
          "text": [
            "\n",
            "window_size: 2048\n",
            "\tsplit_size:50\t mean:  train--0.7170 test--0.6840 avg: 0.6800 max: 0.7060 >>> [0.658, 0.658, 0.68, 0.706, 0.691, 0.684]\n",
            "\tsplit_size:60\t mean:  train--0.7180 test--0.6790 avg: 0.6870 max: 0.7060 >>> [0.661, 0.679, 0.706, 0.706, 0.688, 0.679]\n",
            "\tsplit_size:70\t mean:  train--0.7340 test--0.6650 avg: 0.6960 max: 0.7200 >>> [0.707, 0.677, 0.72, 0.713, 0.695, 0.665]\n",
            "\tsplit_size:80\t mean:  train--0.7310 test--0.6420 avg: 0.7080 max: 0.7710 >>> [0.771, 0.651, 0.761, 0.67, 0.752, 0.642]\n",
            "\tsplit_size:90\t mean:  train--0.7220 test--0.6180 avg: 0.6820 max: 0.7640 >>> [0.745, 0.636, 0.764, 0.691, 0.636, 0.618]\n",
            "\tsplit_size:50\t var_:  train--0.6140 test--0.5660 avg: 0.5770 max: 0.6030 >>> [0.581, 0.588, 0.559, 0.603, 0.566, 0.566]\n",
            "\tsplit_size:60\t var_:  train--0.6320 test--0.5870 avg: 0.5840 max: 0.6010 >>> [0.601, 0.569, 0.56, 0.592, 0.596, 0.587]\n",
            "\tsplit_size:70\t var_:  train--0.6160 test--0.5980 avg: 0.5840 max: 0.6160 >>> [0.616, 0.543, 0.555, 0.585, 0.61, 0.598]\n",
            "\tsplit_size:80\t var_:  train--0.5910 test--0.5780 avg: 0.5930 max: 0.6510 >>> [0.651, 0.523, 0.596, 0.578, 0.633, 0.578]\n",
            "\tsplit_size:90\t var_:  train--0.5990 test--0.6730 avg: 0.6030 max: 0.6730 >>> [0.618, 0.527, 0.636, 0.545, 0.618, 0.673]\n",
            "\tsplit_size:50\t std_:  train--0.6580 test--0.6320 avg: 0.6380 max: 0.6730 >>> [0.625, 0.618, 0.621, 0.658, 0.673, 0.632]\n",
            "\tsplit_size:60\t std_:  train--0.6720 test--0.6380 avg: 0.6540 max: 0.7160 >>> [0.651, 0.628, 0.661, 0.633, 0.716, 0.638]\n",
            "\tsplit_size:70\t std_:  train--0.6450 test--0.6710 avg: 0.6640 max: 0.7200 >>> [0.659, 0.628, 0.634, 0.671, 0.72, 0.671]\n",
            "\tsplit_size:80\t std_:  train--0.6530 test--0.6700 avg: 0.6760 max: 0.7250 >>> [0.706, 0.633, 0.697, 0.624, 0.725, 0.67]\n",
            "\tsplit_size:90\t std_:  train--0.6630 test--0.6550 avg: 0.6670 max: 0.7090 >>> [0.709, 0.655, 0.691, 0.618, 0.673, 0.655]\n",
            "\tsplit_size:50\t skew:  train--0.5960 test--0.5850 avg: 0.5810 max: 0.6070 >>> [0.574, 0.577, 0.574, 0.57, 0.607, 0.585]\n",
            "\tsplit_size:60\t skew:  train--0.5860 test--0.5960 avg: 0.5850 max: 0.6190 >>> [0.564, 0.564, 0.596, 0.573, 0.619, 0.596]\n",
            "\tsplit_size:70\t skew:  train--0.5890 test--0.6220 avg: 0.5950 max: 0.6280 >>> [0.585, 0.579, 0.579, 0.579, 0.628, 0.622]\n",
            "\tsplit_size:80\t skew:  train--0.5890 test--0.5870 avg: 0.5980 max: 0.6510 >>> [0.615, 0.606, 0.651, 0.532, 0.596, 0.587]\n",
            "\tsplit_size:90\t skew:  train--0.6240 test--0.4910 avg: 0.5850 max: 0.6910 >>> [0.582, 0.6, 0.691, 0.564, 0.582, 0.491]\n",
            "\tsplit_size:50\t kurt:  train--0.5810 test--0.5810 avg: 0.5740 max: 0.5960 >>> [0.566, 0.596, 0.551, 0.581, 0.566, 0.581]\n",
            "\tsplit_size:60\t kurt:  train--0.6070 test--0.5500 avg: 0.5740 max: 0.5920 >>> [0.56, 0.569, 0.587, 0.587, 0.592, 0.55]\n",
            "\tsplit_size:70\t kurt:  train--0.5820 test--0.5670 avg: 0.5800 max: 0.6220 >>> [0.555, 0.598, 0.585, 0.555, 0.622, 0.567]\n",
            "\tsplit_size:80\t kurt:  train--0.5770 test--0.5870 avg: 0.5750 max: 0.6330 >>> [0.523, 0.633, 0.606, 0.523, 0.578, 0.587]\n",
            "\tsplit_size:90\t kurt:  train--0.6030 test--0.5270 avg: 0.5520 max: 0.6730 >>> [0.527, 0.673, 0.564, 0.473, 0.545, 0.527]\n"
          ]
        },
        {
          "output_type": "stream",
          "name": "stderr",
          "text": [
            "100%|██████████| 544/544 [00:02<00:00, 183.44it/s]\n"
          ]
        },
        {
          "output_type": "stream",
          "name": "stdout",
          "text": [
            "\n",
            "window_size: 1024\n",
            "\tsplit_size:50\t mean:  train--0.6730 test--0.6840 avg: 0.6700 max: 0.6840 >>> [0.68, 0.669, 0.658, 0.676, 0.654, 0.684]\n",
            "\tsplit_size:60\t mean:  train--0.6750 test--0.6560 avg: 0.6770 max: 0.6930 >>> [0.693, 0.67, 0.693, 0.661, 0.688, 0.656]\n",
            "\tsplit_size:70\t mean:  train--0.6740 test--0.6770 avg: 0.6740 max: 0.7200 >>> [0.683, 0.64, 0.72, 0.64, 0.683, 0.677]\n",
            "\tsplit_size:80\t mean:  train--0.6850 test--0.7060 avg: 0.6650 max: 0.7160 >>> [0.716, 0.596, 0.679, 0.633, 0.661, 0.706]\n",
            "\tsplit_size:90\t mean:  train--0.6870 test--0.7450 avg: 0.6880 max: 0.7450 >>> [0.709, 0.6, 0.727, 0.655, 0.691, 0.745]\n",
            "\tsplit_size:50\t var_:  train--0.5920 test--0.5700 avg: 0.5840 max: 0.6250 >>> [0.625, 0.559, 0.577, 0.588, 0.588, 0.57]\n",
            "\tsplit_size:60\t var_:  train--0.6230 test--0.5460 avg: 0.5690 max: 0.6060 >>> [0.606, 0.541, 0.583, 0.564, 0.573, 0.546]\n",
            "\tsplit_size:70\t var_:  train--0.6000 test--0.5610 avg: 0.5760 max: 0.6100 >>> [0.61, 0.543, 0.604, 0.579, 0.561, 0.561]\n",
            "\tsplit_size:80\t var_:  train--0.6000 test--0.5870 avg: 0.5460 max: 0.6060 >>> [0.606, 0.477, 0.587, 0.505, 0.514, 0.587]\n",
            "\tsplit_size:90\t var_:  train--0.6090 test--0.6910 avg: 0.5600 max: 0.6910 >>> [0.618, 0.455, 0.545, 0.527, 0.527, 0.691]\n",
            "\tsplit_size:50\t std_:  train--0.6540 test--0.6510 avg: 0.6380 max: 0.6840 >>> [0.684, 0.621, 0.629, 0.636, 0.607, 0.651]\n",
            "\tsplit_size:60\t std_:  train--0.6720 test--0.6010 avg: 0.6380 max: 0.7110 >>> [0.711, 0.615, 0.67, 0.61, 0.619, 0.601]\n",
            "\tsplit_size:70\t std_:  train--0.6530 test--0.6340 avg: 0.6360 max: 0.7070 >>> [0.707, 0.598, 0.671, 0.591, 0.616, 0.634]\n",
            "\tsplit_size:80\t std_:  train--0.6640 test--0.6610 avg: 0.6410 max: 0.7430 >>> [0.743, 0.578, 0.661, 0.55, 0.651, 0.661]\n",
            "\tsplit_size:90\t std_:  train--0.6710 test--0.7090 avg: 0.6420 max: 0.7090 >>> [0.655, 0.564, 0.691, 0.545, 0.691, 0.709]\n",
            "\tsplit_size:50\t skew:  train--0.6650 test--0.5620 avg: 0.5570 max: 0.5960 >>> [0.596, 0.515, 0.585, 0.533, 0.551, 0.562]\n",
            "\tsplit_size:60\t skew:  train--0.6380 test--0.5280 avg: 0.5620 max: 0.6060 >>> [0.596, 0.546, 0.606, 0.541, 0.555, 0.528]\n",
            "\tsplit_size:70\t skew:  train--0.6450 test--0.6100 avg: 0.5610 max: 0.6100 >>> [0.549, 0.549, 0.561, 0.549, 0.549, 0.61]\n",
            "\tsplit_size:80\t skew:  train--0.6410 test--0.5500 avg: 0.5550 max: 0.5960 >>> [0.596, 0.514, 0.569, 0.578, 0.523, 0.55]\n",
            "\tsplit_size:90\t skew:  train--0.6320 test--0.6000 avg: 0.5940 max: 0.7090 >>> [0.545, 0.545, 0.709, 0.618, 0.545, 0.6]\n",
            "\tsplit_size:50\t kurt:  train--0.5290 test--0.5040 avg: 0.5170 max: 0.5550 >>> [0.522, 0.507, 0.555, 0.5, 0.511, 0.504]\n",
            "\tsplit_size:60\t kurt:  train--0.5740 test--0.4860 avg: 0.5210 max: 0.5690 >>> [0.532, 0.55, 0.569, 0.5, 0.491, 0.486]\n",
            "\tsplit_size:70\t kurt:  train--0.5610 test--0.5240 avg: 0.5100 max: 0.5370 >>> [0.488, 0.537, 0.524, 0.482, 0.506, 0.524]\n",
            "\tsplit_size:80\t kurt:  train--0.5400 test--0.5140 avg: 0.4800 max: 0.5140 >>> [0.45, 0.486, 0.495, 0.422, 0.514, 0.514]\n",
            "\tsplit_size:90\t kurt:  train--0.5480 test--0.4360 avg: 0.4970 max: 0.6000 >>> [0.418, 0.564, 0.6, 0.418, 0.545, 0.436]\n"
          ]
        },
        {
          "output_type": "stream",
          "name": "stderr",
          "text": [
            "100%|██████████| 544/544 [00:06<00:00, 84.96it/s]\n"
          ]
        },
        {
          "output_type": "stream",
          "name": "stdout",
          "text": [
            "\n",
            "window_size: 512\n",
            "\tsplit_size:50\t mean:  train--0.6880 test--0.6510 avg: 0.6920 max: 0.7350 >>> [0.735, 0.68, 0.721, 0.713, 0.654, 0.651]\n",
            "\tsplit_size:60\t mean:  train--0.6780 test--0.6700 avg: 0.6980 max: 0.7480 >>> [0.716, 0.688, 0.748, 0.711, 0.656, 0.67]\n",
            "\tsplit_size:70\t mean:  train--0.6870 test--0.6710 avg: 0.7020 max: 0.7560 >>> [0.72, 0.713, 0.756, 0.713, 0.64, 0.671]\n",
            "\tsplit_size:80\t mean:  train--0.6760 test--0.7250 avg: 0.7030 max: 0.7520 >>> [0.716, 0.679, 0.752, 0.697, 0.651, 0.725]\n",
            "\tsplit_size:90\t mean:  train--0.6810 test--0.7820 avg: 0.6970 max: 0.7820 >>> [0.727, 0.655, 0.727, 0.691, 0.6, 0.782]\n",
            "\tsplit_size:50\t var_:  train--0.6320 test--0.5550 avg: 0.6050 max: 0.6760 >>> [0.676, 0.592, 0.625, 0.621, 0.562, 0.555]\n",
            "\tsplit_size:60\t var_:  train--0.6100 test--0.5690 avg: 0.6100 max: 0.6380 >>> [0.633, 0.61, 0.615, 0.638, 0.596, 0.569]\n",
            "\tsplit_size:70\t var_:  train--0.6390 test--0.5670 avg: 0.6050 max: 0.6520 >>> [0.628, 0.61, 0.61, 0.652, 0.561, 0.567]\n",
            "\tsplit_size:80\t var_:  train--0.6020 test--0.6510 avg: 0.6250 max: 0.6610 >>> [0.633, 0.596, 0.633, 0.661, 0.578, 0.651]\n",
            "\tsplit_size:90\t var_:  train--0.6130 test--0.6360 avg: 0.6270 max: 0.7270 >>> [0.655, 0.6, 0.618, 0.727, 0.527, 0.636]\n",
            "\tsplit_size:50\t std_:  train--0.6730 test--0.6250 avg: 0.6680 max: 0.7170 >>> [0.717, 0.676, 0.68, 0.706, 0.603, 0.625]\n",
            "\tsplit_size:60\t std_:  train--0.6630 test--0.6420 avg: 0.6810 max: 0.7160 >>> [0.716, 0.67, 0.711, 0.679, 0.67, 0.642]\n",
            "\tsplit_size:70\t std_:  train--0.6790 test--0.6650 avg: 0.6840 max: 0.7130 >>> [0.671, 0.701, 0.713, 0.689, 0.665, 0.665]\n",
            "\tsplit_size:80\t std_:  train--0.6800 test--0.7160 avg: 0.6930 max: 0.7250 >>> [0.679, 0.688, 0.725, 0.697, 0.651, 0.716]\n",
            "\tsplit_size:90\t std_:  train--0.6790 test--0.7640 avg: 0.7000 max: 0.7640 >>> [0.727, 0.673, 0.709, 0.745, 0.582, 0.764]\n",
            "\tsplit_size:50\t skew:  train--0.6650 test--0.5960 avg: 0.5940 max: 0.6290 >>> [0.618, 0.596, 0.574, 0.629, 0.551, 0.596]\n",
            "\tsplit_size:60\t skew:  train--0.6720 test--0.6060 avg: 0.6330 max: 0.6650 >>> [0.665, 0.619, 0.606, 0.638, 0.665, 0.606]\n",
            "\tsplit_size:70\t skew:  train--0.7080 test--0.6590 avg: 0.6280 max: 0.6830 >>> [0.683, 0.61, 0.598, 0.604, 0.616, 0.659]\n",
            "\tsplit_size:80\t skew:  train--0.6990 test--0.6970 avg: 0.6690 max: 0.6970 >>> [0.697, 0.688, 0.642, 0.651, 0.642, 0.697]\n",
            "\tsplit_size:90\t skew:  train--0.6770 test--0.6550 avg: 0.6480 max: 0.7270 >>> [0.564, 0.727, 0.673, 0.636, 0.636, 0.655]\n",
            "\tsplit_size:50\t kurt:  train--0.5960 test--0.5150 avg: 0.5210 max: 0.5590 >>> [0.522, 0.559, 0.482, 0.537, 0.511, 0.515]\n",
            "\tsplit_size:60\t kurt:  train--0.6010 test--0.5280 avg: 0.5410 max: 0.5730 >>> [0.532, 0.564, 0.5, 0.55, 0.573, 0.528]\n",
            "\tsplit_size:70\t kurt:  train--0.6130 test--0.5430 avg: 0.5400 max: 0.5790 >>> [0.543, 0.537, 0.488, 0.549, 0.579, 0.543]\n",
            "\tsplit_size:80\t kurt:  train--0.5980 test--0.5870 avg: 0.5660 max: 0.5960 >>> [0.569, 0.596, 0.56, 0.56, 0.523, 0.587]\n",
            "\tsplit_size:90\t kurt:  train--0.5810 test--0.5640 avg: 0.5460 max: 0.6360 >>> [0.564, 0.618, 0.636, 0.491, 0.4, 0.564]\n"
          ]
        },
        {
          "output_type": "stream",
          "name": "stderr",
          "text": [
            "100%|██████████| 544/544 [00:13<00:00, 41.68it/s]\n"
          ]
        },
        {
          "output_type": "stream",
          "name": "stdout",
          "text": [
            "\n",
            "window_size: 256\n",
            "\tsplit_size:50\t mean:  train--0.7060 test--0.6690 avg: 0.6680 max: 0.7060 >>> [0.632, 0.706, 0.691, 0.658, 0.651, 0.669]\n",
            "\tsplit_size:60\t mean:  train--0.7020 test--0.6790 avg: 0.6650 max: 0.6830 >>> [0.615, 0.674, 0.679, 0.683, 0.661, 0.679]\n",
            "\tsplit_size:70\t mean:  train--0.6950 test--0.6770 avg: 0.6700 max: 0.7260 >>> [0.683, 0.64, 0.646, 0.646, 0.726, 0.677]\n",
            "\tsplit_size:80\t mean:  train--0.6850 test--0.7250 avg: 0.6840 max: 0.7610 >>> [0.651, 0.661, 0.661, 0.642, 0.761, 0.725]\n",
            "\tsplit_size:90\t mean:  train--0.6910 test--0.6730 avg: 0.6670 max: 0.7270 >>> [0.673, 0.673, 0.655, 0.6, 0.727, 0.673]\n",
            "\tsplit_size:50\t var_:  train--0.6510 test--0.5850 avg: 0.5780 max: 0.6030 >>> [0.54, 0.574, 0.592, 0.574, 0.603, 0.585]\n",
            "\tsplit_size:60\t var_:  train--0.6470 test--0.5960 avg: 0.5890 max: 0.6420 >>> [0.564, 0.55, 0.61, 0.573, 0.642, 0.596]\n",
            "\tsplit_size:70\t var_:  train--0.6470 test--0.6160 avg: 0.5930 max: 0.6590 >>> [0.561, 0.524, 0.622, 0.579, 0.659, 0.616]\n",
            "\tsplit_size:80\t var_:  train--0.6370 test--0.6510 avg: 0.6130 max: 0.6610 >>> [0.587, 0.569, 0.633, 0.578, 0.661, 0.651]\n",
            "\tsplit_size:90\t var_:  train--0.6260 test--0.6550 avg: 0.6210 max: 0.6550 >>> [0.636, 0.618, 0.636, 0.545, 0.636, 0.655]\n",
            "\tsplit_size:50\t std_:  train--0.7210 test--0.6400 avg: 0.6430 max: 0.6760 >>> [0.603, 0.651, 0.676, 0.647, 0.643, 0.64]\n",
            "\tsplit_size:60\t std_:  train--0.7020 test--0.6470 avg: 0.6630 max: 0.6930 >>> [0.628, 0.665, 0.693, 0.674, 0.67, 0.647]\n",
            "\tsplit_size:70\t std_:  train--0.6920 test--0.6650 avg: 0.6560 max: 0.7130 >>> [0.628, 0.634, 0.652, 0.646, 0.713, 0.665]\n",
            "\tsplit_size:80\t std_:  train--0.6970 test--0.7250 avg: 0.6740 max: 0.7250 >>> [0.633, 0.642, 0.661, 0.661, 0.725, 0.725]\n",
            "\tsplit_size:90\t std_:  train--0.6930 test--0.6550 avg: 0.6430 max: 0.7090 >>> [0.618, 0.709, 0.636, 0.582, 0.655, 0.655]\n",
            "\tsplit_size:50\t skew:  train--0.7350 test--0.5550 avg: 0.5930 max: 0.6950 >>> [0.61, 0.603, 0.57, 0.695, 0.526, 0.555]\n",
            "\tsplit_size:60\t skew:  train--0.7330 test--0.6380 avg: 0.6220 max: 0.6830 >>> [0.583, 0.642, 0.628, 0.683, 0.555, 0.638]\n",
            "\tsplit_size:70\t skew:  train--0.7370 test--0.6340 avg: 0.6300 max: 0.6890 >>> [0.573, 0.634, 0.689, 0.652, 0.598, 0.634]\n",
            "\tsplit_size:80\t skew:  train--0.7490 test--0.6790 avg: 0.6580 max: 0.7060 >>> [0.661, 0.642, 0.706, 0.633, 0.624, 0.679]\n",
            "\tsplit_size:90\t skew:  train--0.7400 test--0.6910 avg: 0.6510 max: 0.7270 >>> [0.636, 0.636, 0.727, 0.6, 0.618, 0.691]\n",
            "\tsplit_size:50\t kurt:  train--0.6580 test--0.5040 avg: 0.5340 max: 0.5770 >>> [0.562, 0.529, 0.5, 0.577, 0.529, 0.504]\n",
            "\tsplit_size:60\t kurt:  train--0.6500 test--0.5140 avg: 0.5350 max: 0.5780 >>> [0.532, 0.564, 0.5, 0.578, 0.523, 0.514]\n",
            "\tsplit_size:70\t kurt:  train--0.6740 test--0.5000 avg: 0.5460 max: 0.5850 >>> [0.506, 0.549, 0.579, 0.585, 0.555, 0.5]\n",
            "\tsplit_size:80\t kurt:  train--0.6530 test--0.4680 avg: 0.5610 max: 0.6150 >>> [0.569, 0.578, 0.615, 0.569, 0.569, 0.468]\n",
            "\tsplit_size:90\t kurt:  train--0.6650 test--0.4730 avg: 0.5970 max: 0.6910 >>> [0.618, 0.636, 0.618, 0.545, 0.691, 0.473]\n"
          ]
        },
        {
          "output_type": "stream",
          "name": "stderr",
          "text": [
            "100%|██████████| 544/544 [00:27<00:00, 19.88it/s]\n"
          ]
        },
        {
          "output_type": "stream",
          "name": "stdout",
          "text": [
            "\n",
            "window_size: 128\n",
            "\tsplit_size:50\t mean:  train--0.6910 test--0.6540 avg: 0.6730 max: 0.7100 >>> [0.706, 0.64, 0.673, 0.654, 0.71, 0.654]\n",
            "\tsplit_size:60\t mean:  train--0.6900 test--0.6930 avg: 0.6820 max: 0.7060 >>> [0.688, 0.647, 0.683, 0.674, 0.706, 0.693]\n",
            "\tsplit_size:70\t mean:  train--0.6920 test--0.6890 avg: 0.6980 max: 0.7130 >>> [0.701, 0.683, 0.701, 0.713, 0.701, 0.689]\n",
            "\tsplit_size:80\t mean:  train--0.7080 test--0.7060 avg: 0.7120 max: 0.7340 >>> [0.697, 0.725, 0.716, 0.734, 0.697, 0.706]\n",
            "\tsplit_size:90\t mean:  train--0.7140 test--0.6550 avg: 0.7060 max: 0.7820 >>> [0.691, 0.782, 0.727, 0.709, 0.673, 0.655]\n",
            "\tsplit_size:50\t var_:  train--0.6540 test--0.6030 avg: 0.6140 max: 0.6470 >>> [0.647, 0.585, 0.621, 0.596, 0.629, 0.603]\n",
            "\tsplit_size:60\t var_:  train--0.6530 test--0.6380 avg: 0.6150 max: 0.6380 >>> [0.619, 0.61, 0.628, 0.592, 0.601, 0.638]\n",
            "\tsplit_size:70\t var_:  train--0.6680 test--0.6830 avg: 0.6160 max: 0.6830 >>> [0.579, 0.573, 0.665, 0.579, 0.616, 0.683]\n",
            "\tsplit_size:80\t var_:  train--0.6600 test--0.7060 avg: 0.6280 max: 0.7060 >>> [0.596, 0.624, 0.679, 0.578, 0.587, 0.706]\n",
            "\tsplit_size:90\t var_:  train--0.6750 test--0.6550 avg: 0.6150 max: 0.6910 >>> [0.582, 0.655, 0.691, 0.545, 0.564, 0.655]\n",
            "\tsplit_size:50\t std_:  train--0.6620 test--0.6290 avg: 0.6520 max: 0.6910 >>> [0.691, 0.64, 0.647, 0.632, 0.676, 0.629]\n",
            "\tsplit_size:60\t std_:  train--0.6870 test--0.6740 avg: 0.6640 max: 0.6740 >>> [0.665, 0.642, 0.665, 0.665, 0.67, 0.674]\n",
            "\tsplit_size:70\t std_:  train--0.6820 test--0.6950 avg: 0.6760 max: 0.6950 >>> [0.677, 0.634, 0.689, 0.677, 0.683, 0.695]\n",
            "\tsplit_size:80\t std_:  train--0.6990 test--0.7250 avg: 0.6880 max: 0.7250 >>> [0.661, 0.679, 0.697, 0.688, 0.679, 0.725]\n",
            "\tsplit_size:90\t std_:  train--0.7080 test--0.6730 avg: 0.6940 max: 0.7270 >>> [0.673, 0.727, 0.727, 0.709, 0.655, 0.673]\n",
            "\tsplit_size:50\t skew:  train--0.7900 test--0.5660 avg: 0.6350 max: 0.6760 >>> [0.64, 0.676, 0.654, 0.658, 0.618, 0.566]\n",
            "\tsplit_size:60\t skew:  train--0.7940 test--0.6470 avg: 0.6640 max: 0.7290 >>> [0.656, 0.729, 0.674, 0.651, 0.624, 0.647]\n",
            "\tsplit_size:70\t skew:  train--0.8180 test--0.6400 avg: 0.6740 max: 0.7260 >>> [0.64, 0.726, 0.634, 0.689, 0.713, 0.64]\n",
            "\tsplit_size:80\t skew:  train--0.8110 test--0.7160 avg: 0.6880 max: 0.7340 >>> [0.624, 0.725, 0.642, 0.688, 0.734, 0.716]\n",
            "\tsplit_size:90\t skew:  train--0.8200 test--0.6910 avg: 0.6760 max: 0.7450 >>> [0.655, 0.745, 0.636, 0.655, 0.673, 0.691]\n",
            "\tsplit_size:50\t kurt:  train--0.7940 test--0.5850 avg: 0.5720 max: 0.6030 >>> [0.548, 0.603, 0.551, 0.592, 0.555, 0.585]\n",
            "\tsplit_size:60\t kurt:  train--0.7880 test--0.5600 avg: 0.5750 max: 0.6280 >>> [0.56, 0.628, 0.537, 0.596, 0.569, 0.56]\n",
            "\tsplit_size:70\t kurt:  train--0.7740 test--0.5430 avg: 0.5720 max: 0.6100 >>> [0.555, 0.573, 0.579, 0.573, 0.61, 0.543]\n",
            "\tsplit_size:80\t kurt:  train--0.7560 test--0.5230 avg: 0.5520 max: 0.6150 >>> [0.523, 0.55, 0.523, 0.615, 0.578, 0.523]\n",
            "\tsplit_size:90\t kurt:  train--0.7550 test--0.6550 avg: 0.6090 max: 0.6730 >>> [0.582, 0.6, 0.636, 0.673, 0.509, 0.655]\n"
          ]
        },
        {
          "output_type": "stream",
          "name": "stderr",
          "text": [
            "100%|██████████| 544/544 [00:52<00:00, 10.40it/s]\n"
          ]
        },
        {
          "output_type": "stream",
          "name": "stdout",
          "text": [
            "\n",
            "window_size: 64\n",
            "\tsplit_size:50\t mean:  train--0.7170 test--0.6690 avg: 0.6700 max: 0.6950 >>> [0.662, 0.695, 0.621, 0.688, 0.688, 0.669]\n",
            "\tsplit_size:60\t mean:  train--0.7120 test--0.6830 avg: 0.6780 max: 0.7200 >>> [0.683, 0.674, 0.642, 0.72, 0.665, 0.683]\n",
            "\tsplit_size:70\t mean:  train--0.7000 test--0.7130 avg: 0.6900 max: 0.7320 >>> [0.689, 0.689, 0.634, 0.732, 0.683, 0.713]\n",
            "\tsplit_size:80\t mean:  train--0.7150 test--0.7160 avg: 0.6670 max: 0.7160 >>> [0.688, 0.624, 0.606, 0.706, 0.661, 0.716]\n",
            "\tsplit_size:90\t mean:  train--0.7180 test--0.7270 avg: 0.6700 max: 0.7640 >>> [0.764, 0.655, 0.564, 0.727, 0.582, 0.727]\n",
            "\tsplit_size:50\t var_:  train--0.6910 test--0.6320 avg: 0.6120 max: 0.6320 >>> [0.61, 0.629, 0.585, 0.592, 0.625, 0.632]\n",
            "\tsplit_size:60\t var_:  train--0.7060 test--0.6380 avg: 0.6000 max: 0.6380 >>> [0.569, 0.61, 0.573, 0.615, 0.596, 0.638]\n",
            "\tsplit_size:70\t var_:  train--0.7110 test--0.6520 avg: 0.6110 max: 0.6650 >>> [0.561, 0.634, 0.573, 0.665, 0.579, 0.652]\n",
            "\tsplit_size:80\t var_:  train--0.6920 test--0.6510 avg: 0.6020 max: 0.6510 >>> [0.541, 0.606, 0.532, 0.633, 0.651, 0.651]\n",
            "\tsplit_size:90\t var_:  train--0.6910 test--0.6180 avg: 0.6060 max: 0.6550 >>> [0.6, 0.655, 0.491, 0.655, 0.618, 0.618]\n",
            "\tsplit_size:50\t std_:  train--0.7240 test--0.6650 avg: 0.6650 max: 0.6910 >>> [0.654, 0.691, 0.662, 0.643, 0.676, 0.665]\n",
            "\tsplit_size:60\t std_:  train--0.7240 test--0.6610 avg: 0.6540 max: 0.6610 >>> [0.647, 0.656, 0.651, 0.656, 0.651, 0.661]\n",
            "\tsplit_size:70\t std_:  train--0.7240 test--0.6770 avg: 0.6680 max: 0.6770 >>> [0.665, 0.671, 0.671, 0.677, 0.646, 0.677]\n",
            "\tsplit_size:80\t std_:  train--0.7100 test--0.6700 avg: 0.6530 max: 0.6970 >>> [0.651, 0.624, 0.615, 0.697, 0.661, 0.67]\n",
            "\tsplit_size:90\t std_:  train--0.7180 test--0.7270 avg: 0.6520 max: 0.7270 >>> [0.673, 0.636, 0.564, 0.673, 0.636, 0.727]\n",
            "\tsplit_size:50\t skew:  train--0.8640 test--0.7130 avg: 0.6740 max: 0.7130 >>> [0.651, 0.651, 0.676, 0.654, 0.702, 0.713]\n",
            "\tsplit_size:60\t skew:  train--0.8930 test--0.6830 avg: 0.6930 max: 0.7110 >>> [0.688, 0.693, 0.711, 0.679, 0.702, 0.683]\n",
            "\tsplit_size:70\t skew:  train--0.9080 test--0.7130 avg: 0.7100 max: 0.7560 >>> [0.683, 0.701, 0.701, 0.756, 0.707, 0.713]\n",
            "\tsplit_size:80\t skew:  train--0.9010 test--0.7160 avg: 0.7260 max: 0.7980 >>> [0.734, 0.706, 0.661, 0.798, 0.743, 0.716]\n",
            "\tsplit_size:90\t skew:  train--0.9060 test--0.6550 avg: 0.7060 max: 0.7820 >>> [0.673, 0.709, 0.782, 0.727, 0.691, 0.655]\n",
            "\tsplit_size:50\t kurt:  train--0.8640 test--0.6290 avg: 0.6020 max: 0.6320 >>> [0.632, 0.592, 0.57, 0.57, 0.618, 0.629]\n",
            "\tsplit_size:60\t kurt:  train--0.8710 test--0.6060 avg: 0.6090 max: 0.6330 >>> [0.619, 0.601, 0.596, 0.601, 0.633, 0.606]\n",
            "\tsplit_size:70\t kurt:  train--0.8660 test--0.6160 avg: 0.6390 max: 0.6650 >>> [0.652, 0.659, 0.598, 0.646, 0.665, 0.616]\n",
            "\tsplit_size:80\t kurt:  train--0.8690 test--0.6240 avg: 0.6330 max: 0.6700 >>> [0.67, 0.615, 0.587, 0.651, 0.651, 0.624]\n",
            "\tsplit_size:90\t kurt:  train--0.8730 test--0.5450 avg: 0.5760 max: 0.6550 >>> [0.582, 0.527, 0.655, 0.564, 0.582, 0.545]\n"
          ]
        },
        {
          "output_type": "stream",
          "name": "stderr",
          "text": [
            "100%|██████████| 544/544 [01:44<00:00,  5.21it/s]\n"
          ]
        },
        {
          "output_type": "stream",
          "name": "stdout",
          "text": [
            "\n",
            "window_size: 32\n",
            "\tsplit_size:50\t mean:  train--0.7540 test--0.6760 avg: 0.6860 max: 0.7210 >>> [0.647, 0.684, 0.691, 0.721, 0.699, 0.676]\n",
            "\tsplit_size:60\t mean:  train--0.7300 test--0.6970 avg: 0.7020 max: 0.7290 >>> [0.683, 0.693, 0.706, 0.729, 0.706, 0.697]\n",
            "\tsplit_size:70\t mean:  train--0.7550 test--0.6400 avg: 0.6980 max: 0.7620 >>> [0.689, 0.683, 0.762, 0.689, 0.726, 0.64]\n",
            "\tsplit_size:80\t mean:  train--0.7540 test--0.6240 avg: 0.6670 max: 0.7610 >>> [0.624, 0.642, 0.761, 0.67, 0.679, 0.624]\n",
            "\tsplit_size:90\t mean:  train--0.7480 test--0.6910 avg: 0.7060 max: 0.7820 >>> [0.673, 0.673, 0.782, 0.745, 0.673, 0.691]\n",
            "\tsplit_size:50\t var_:  train--0.7570 test--0.6580 avg: 0.6230 max: 0.6580 >>> [0.618, 0.632, 0.636, 0.647, 0.548, 0.658]\n",
            "\tsplit_size:60\t var_:  train--0.7640 test--0.6560 avg: 0.6390 max: 0.6610 >>> [0.606, 0.619, 0.651, 0.638, 0.661, 0.656]\n",
            "\tsplit_size:70\t var_:  train--0.7790 test--0.6830 avg: 0.6370 max: 0.6830 >>> [0.628, 0.646, 0.61, 0.604, 0.652, 0.683]\n",
            "\tsplit_size:80\t var_:  train--0.7860 test--0.6790 avg: 0.6450 max: 0.7160 >>> [0.596, 0.633, 0.716, 0.615, 0.633, 0.679]\n",
            "\tsplit_size:90\t var_:  train--0.7710 test--0.7270 avg: 0.6700 max: 0.7450 >>> [0.582, 0.691, 0.745, 0.709, 0.564, 0.727]\n",
            "\tsplit_size:50\t std_:  train--0.7540 test--0.6880 avg: 0.6680 max: 0.6910 >>> [0.625, 0.691, 0.658, 0.691, 0.658, 0.688]\n",
            "\tsplit_size:60\t std_:  train--0.7610 test--0.7020 avg: 0.6790 max: 0.7020 >>> [0.619, 0.656, 0.702, 0.697, 0.697, 0.702]\n",
            "\tsplit_size:70\t std_:  train--0.7500 test--0.6460 avg: 0.6710 max: 0.7070 >>> [0.646, 0.671, 0.707, 0.677, 0.677, 0.646]\n",
            "\tsplit_size:80\t std_:  train--0.7470 test--0.6330 avg: 0.6530 max: 0.7340 >>> [0.596, 0.642, 0.734, 0.651, 0.661, 0.633]\n",
            "\tsplit_size:90\t std_:  train--0.7530 test--0.6180 avg: 0.6880 max: 0.7820 >>> [0.655, 0.709, 0.782, 0.745, 0.618, 0.618]\n",
            "\tsplit_size:50\t skew:  train--0.9520 test--0.6800 avg: 0.6740 max: 0.6990 >>> [0.658, 0.699, 0.68, 0.68, 0.647, 0.68]\n",
            "\tsplit_size:60\t skew:  train--0.9570 test--0.6880 avg: 0.6930 max: 0.7340 >>> [0.683, 0.734, 0.67, 0.716, 0.665, 0.688]\n",
            "\tsplit_size:70\t skew:  train--0.9580 test--0.7010 avg: 0.7030 max: 0.7500 >>> [0.671, 0.726, 0.665, 0.75, 0.707, 0.701]\n",
            "\tsplit_size:80\t skew:  train--0.9610 test--0.7340 avg: 0.7120 max: 0.7610 >>> [0.67, 0.752, 0.67, 0.761, 0.688, 0.734]\n",
            "\tsplit_size:90\t skew:  train--0.9750 test--0.7640 avg: 0.7360 max: 0.8180 >>> [0.655, 0.727, 0.709, 0.818, 0.745, 0.764]\n",
            "\tsplit_size:50\t kurt:  train--0.9710 test--0.6210 avg: 0.5910 max: 0.6210 >>> [0.574, 0.621, 0.599, 0.581, 0.548, 0.621]\n",
            "\tsplit_size:60\t kurt:  train--0.9720 test--0.6190 avg: 0.6020 max: 0.6420 >>> [0.528, 0.642, 0.642, 0.633, 0.55, 0.619]\n",
            "\tsplit_size:70\t kurt:  train--0.9680 test--0.6100 avg: 0.6170 max: 0.6950 >>> [0.524, 0.695, 0.604, 0.665, 0.604, 0.61]\n",
            "\tsplit_size:80\t kurt:  train--0.9660 test--0.6240 avg: 0.6190 max: 0.6790 >>> [0.477, 0.633, 0.642, 0.661, 0.679, 0.624]\n",
            "\tsplit_size:90\t kurt:  train--0.9690 test--0.6000 avg: 0.6300 max: 0.6910 >>> [0.564, 0.636, 0.618, 0.673, 0.691, 0.6]\n"
          ]
        },
        {
          "output_type": "stream",
          "name": "stderr",
          "text": [
            "100%|██████████| 544/544 [03:18<00:00,  2.74it/s]\n"
          ]
        },
        {
          "output_type": "stream",
          "name": "stdout",
          "text": [
            "\n",
            "window_size: 16\n",
            "\tsplit_size:50\t mean:  train--0.8790 test--0.7980 avg: 0.8020 max: 0.8350 >>> [0.835, 0.809, 0.772, 0.787, 0.812, 0.798]\n",
            "\tsplit_size:60\t mean:  train--0.8770 test--0.8440 avg: 0.8200 max: 0.8440 >>> [0.83, 0.839, 0.817, 0.78, 0.812, 0.844]\n",
            "\tsplit_size:70\t mean:  train--0.8950 test--0.8170 avg: 0.8330 max: 0.8720 >>> [0.823, 0.835, 0.872, 0.829, 0.823, 0.817]\n",
            "\tsplit_size:80\t mean:  train--0.9220 test--0.8350 avg: 0.8380 max: 0.8720 >>> [0.862, 0.844, 0.872, 0.798, 0.817, 0.835]\n",
            "\tsplit_size:90\t mean:  train--0.9260 test--0.8000 avg: 0.8390 max: 0.9090 >>> [0.909, 0.836, 0.855, 0.8, 0.836, 0.8]\n",
            "\tsplit_size:50\t var_:  train--0.8350 test--0.6690 avg: 0.6320 max: 0.6690 >>> [0.607, 0.614, 0.665, 0.57, 0.669, 0.669]\n",
            "\tsplit_size:60\t var_:  train--0.8160 test--0.6610 avg: 0.6460 max: 0.7110 >>> [0.619, 0.583, 0.688, 0.615, 0.711, 0.661]\n",
            "\tsplit_size:70\t var_:  train--0.8470 test--0.6710 avg: 0.6420 max: 0.6890 >>> [0.561, 0.598, 0.683, 0.652, 0.689, 0.671]\n",
            "\tsplit_size:80\t var_:  train--0.8390 test--0.7340 avg: 0.6700 max: 0.7430 >>> [0.596, 0.633, 0.679, 0.633, 0.743, 0.734]\n",
            "\tsplit_size:90\t var_:  train--0.8550 test--0.6730 avg: 0.6540 max: 0.7450 >>> [0.618, 0.618, 0.745, 0.582, 0.691, 0.673]\n",
            "\tsplit_size:50\t std_:  train--0.8750 test--0.7280 avg: 0.6900 max: 0.7280 >>> [0.702, 0.691, 0.673, 0.654, 0.691, 0.728]\n",
            "\tsplit_size:60\t std_:  train--0.8620 test--0.7200 avg: 0.7050 max: 0.7480 >>> [0.716, 0.702, 0.748, 0.656, 0.688, 0.72]\n",
            "\tsplit_size:70\t std_:  train--0.8710 test--0.6890 avg: 0.7020 max: 0.7380 >>> [0.689, 0.707, 0.738, 0.677, 0.713, 0.689]\n",
            "\tsplit_size:80\t std_:  train--0.8800 test--0.6970 avg: 0.7090 max: 0.7520 >>> [0.716, 0.725, 0.706, 0.661, 0.752, 0.697]\n",
            "\tsplit_size:90\t std_:  train--0.8810 test--0.6550 avg: 0.7240 max: 0.8180 >>> [0.818, 0.655, 0.8, 0.673, 0.745, 0.655]\n",
            "\tsplit_size:50\t skew:  train--0.9890 test--0.7570 avg: 0.7950 max: 0.8240 >>> [0.809, 0.824, 0.809, 0.816, 0.754, 0.757]\n",
            "\tsplit_size:60\t skew:  train--0.9910 test--0.8350 avg: 0.8250 max: 0.8490 >>> [0.835, 0.849, 0.849, 0.83, 0.752, 0.835]\n",
            "\tsplit_size:70\t skew:  train--0.9920 test--0.7930 avg: 0.8330 max: 0.8720 >>> [0.854, 0.841, 0.848, 0.872, 0.793, 0.793]\n",
            "\tsplit_size:80\t skew:  train--0.9950 test--0.8170 avg: 0.8380 max: 0.8900 >>> [0.872, 0.89, 0.853, 0.853, 0.743, 0.817]\n",
            "\tsplit_size:90\t skew:  train--0.9980 test--0.8000 avg: 0.8330 max: 0.9090 >>> [0.909, 0.855, 0.873, 0.836, 0.727, 0.8]\n",
            "\tsplit_size:50\t kurt:  train--1.0000 test--0.6730 avg: 0.6650 max: 0.6760 >>> [0.658, 0.651, 0.676, 0.665, 0.665, 0.673]\n",
            "\tsplit_size:60\t kurt:  train--0.9970 test--0.7020 avg: 0.6850 max: 0.7200 >>> [0.651, 0.683, 0.72, 0.697, 0.656, 0.702]\n",
            "\tsplit_size:70\t kurt:  train--0.9920 test--0.6830 avg: 0.6840 max: 0.7440 >>> [0.634, 0.634, 0.744, 0.695, 0.713, 0.683]\n",
            "\tsplit_size:80\t kurt:  train--0.9980 test--0.6700 avg: 0.6820 max: 0.7430 >>> [0.615, 0.706, 0.743, 0.688, 0.67, 0.67]\n",
            "\tsplit_size:90\t kurt:  train--0.9960 test--0.6730 avg: 0.7000 max: 0.7450 >>> [0.691, 0.655, 0.709, 0.745, 0.727, 0.673]\n"
          ]
        },
        {
          "output_type": "stream",
          "name": "stderr",
          "text": [
            "100%|██████████| 544/544 [06:22<00:00,  1.42it/s]\n"
          ]
        },
        {
          "output_type": "stream",
          "name": "stdout",
          "text": [
            "\n",
            "window_size: 8\n",
            "\tsplit_size:50\t mean:  train--0.9340 test--0.8240 avg: 0.8260 max: 0.8680 >>> [0.776, 0.831, 0.868, 0.82, 0.835, 0.824]\n",
            "\tsplit_size:60\t mean:  train--0.9480 test--0.8490 avg: 0.8510 max: 0.8810 >>> [0.826, 0.826, 0.862, 0.862, 0.881, 0.849]\n",
            "\tsplit_size:70\t mean:  train--0.9470 test--0.8960 avg: 0.8840 max: 0.9090 >>> [0.866, 0.909, 0.854, 0.884, 0.896, 0.896]\n",
            "\tsplit_size:80\t mean:  train--0.9660 test--0.8990 avg: 0.8820 max: 0.8990 >>> [0.862, 0.899, 0.872, 0.872, 0.89, 0.899]\n",
            "\tsplit_size:90\t mean:  train--0.9650 test--0.9450 avg: 0.9120 max: 0.9820 >>> [0.873, 0.927, 0.891, 0.855, 0.982, 0.945]\n",
            "\tsplit_size:50\t var_:  train--0.8570 test--0.5880 avg: 0.6020 max: 0.6430 >>> [0.574, 0.621, 0.618, 0.643, 0.57, 0.588]\n",
            "\tsplit_size:60\t var_:  train--0.8590 test--0.5920 avg: 0.6110 max: 0.6560 >>> [0.578, 0.628, 0.619, 0.656, 0.592, 0.592]\n",
            "\tsplit_size:70\t var_:  train--0.8680 test--0.6830 avg: 0.6380 max: 0.6830 >>> [0.598, 0.652, 0.622, 0.665, 0.61, 0.683]\n",
            "\tsplit_size:80\t var_:  train--0.8690 test--0.6420 avg: 0.6390 max: 0.6880 >>> [0.633, 0.688, 0.633, 0.642, 0.596, 0.642]\n",
            "\tsplit_size:90\t var_:  train--0.8590 test--0.5640 avg: 0.6120 max: 0.7270 >>> [0.545, 0.727, 0.618, 0.582, 0.636, 0.564]\n",
            "\tsplit_size:50\t std_:  train--0.8460 test--0.6290 avg: 0.6490 max: 0.6910 >>> [0.596, 0.658, 0.68, 0.691, 0.64, 0.629]\n",
            "\tsplit_size:60\t std_:  train--0.8770 test--0.6190 avg: 0.6540 max: 0.6970 >>> [0.624, 0.633, 0.697, 0.688, 0.665, 0.619]\n",
            "\tsplit_size:70\t std_:  train--0.8920 test--0.7070 avg: 0.6820 max: 0.7070 >>> [0.671, 0.665, 0.677, 0.701, 0.671, 0.707]\n",
            "\tsplit_size:80\t std_:  train--0.9060 test--0.7060 avg: 0.6840 max: 0.7160 >>> [0.679, 0.67, 0.661, 0.716, 0.67, 0.706]\n",
            "\tsplit_size:90\t std_:  train--0.8750 test--0.6550 avg: 0.7000 max: 0.7640 >>> [0.636, 0.764, 0.709, 0.673, 0.764, 0.655]\n",
            "\tsplit_size:50\t skew:  train--1.0000 test--0.6100 avg: 0.6060 max: 0.6730 >>> [0.577, 0.599, 0.599, 0.581, 0.673, 0.61]\n",
            "\tsplit_size:60\t skew:  train--1.0000 test--0.6240 avg: 0.6080 max: 0.6420 >>> [0.601, 0.583, 0.615, 0.583, 0.642, 0.624]\n",
            "\tsplit_size:70\t skew:  train--1.0000 test--0.6710 avg: 0.6280 max: 0.6710 >>> [0.659, 0.579, 0.659, 0.561, 0.64, 0.671]\n",
            "\tsplit_size:80\t skew:  train--0.9980 test--0.6790 avg: 0.6300 max: 0.7060 >>> [0.706, 0.587, 0.642, 0.541, 0.624, 0.679]\n",
            "\tsplit_size:90\t skew:  train--1.0000 test--0.8180 avg: 0.6330 max: 0.8180 >>> [0.673, 0.636, 0.636, 0.436, 0.6, 0.818]\n",
            "\tsplit_size:50\t kurt:  train--1.0000 test--0.5330 avg: 0.5380 max: 0.5810 >>> [0.507, 0.54, 0.544, 0.522, 0.581, 0.533]\n",
            "\tsplit_size:60\t kurt:  train--1.0000 test--0.5640 avg: 0.5400 max: 0.5690 >>> [0.518, 0.532, 0.569, 0.518, 0.541, 0.564]\n",
            "\tsplit_size:70\t kurt:  train--1.0000 test--0.5430 avg: 0.5400 max: 0.5980 >>> [0.512, 0.53, 0.598, 0.506, 0.549, 0.543]\n",
            "\tsplit_size:80\t kurt:  train--1.0000 test--0.5050 avg: 0.5350 max: 0.5600 >>> [0.541, 0.523, 0.56, 0.523, 0.56, 0.505]\n",
            "\tsplit_size:90\t kurt:  train--1.0000 test--0.6910 avg: 0.5820 max: 0.6910 >>> [0.6, 0.564, 0.582, 0.491, 0.564, 0.691]\n"
          ]
        },
        {
          "output_type": "stream",
          "name": "stderr",
          "text": [
            "100%|██████████| 544/544 [12:34<00:00,  1.39s/it]\n"
          ]
        },
        {
          "output_type": "stream",
          "name": "stdout",
          "text": [
            "\n",
            "window_size: 4\n",
            "\tsplit_size:50\t mean:  train--0.9630 test--0.8380 avg: 0.8160 max: 0.8380 >>> [0.812, 0.798, 0.838, 0.801, 0.809, 0.838]\n",
            "\tsplit_size:60\t mean:  train--0.9850 test--0.8490 avg: 0.8420 max: 0.8670 >>> [0.858, 0.812, 0.844, 0.867, 0.821, 0.849]\n",
            "\tsplit_size:70\t mean:  train--0.9710 test--0.8540 avg: 0.8570 max: 0.8840 >>> [0.884, 0.872, 0.823, 0.841, 0.866, 0.854]\n",
            "\tsplit_size:80\t mean:  train--0.9790 test--0.8620 avg: 0.8780 max: 0.9360 >>> [0.936, 0.917, 0.835, 0.862, 0.853, 0.862]\n",
            "\tsplit_size:90\t mean:  train--0.9880 test--0.8360 avg: 0.8670 max: 0.9090 >>> [0.909, 0.891, 0.855, 0.855, 0.855, 0.836]\n",
            "\tsplit_size:50\t var_:  train--0.9560 test--0.5960 avg: 0.5750 max: 0.5990 >>> [0.592, 0.559, 0.54, 0.566, 0.599, 0.596]\n",
            "\tsplit_size:60\t var_:  train--0.9420 test--0.6010 avg: 0.5900 max: 0.6190 >>> [0.587, 0.583, 0.532, 0.619, 0.615, 0.601]\n",
            "\tsplit_size:70\t var_:  train--0.9370 test--0.5790 avg: 0.5960 max: 0.6160 >>> [0.616, 0.616, 0.573, 0.573, 0.616, 0.579]\n",
            "\tsplit_size:80\t var_:  train--0.9290 test--0.5960 avg: 0.6280 max: 0.7060 >>> [0.642, 0.706, 0.578, 0.651, 0.596, 0.596]\n",
            "\tsplit_size:90\t var_:  train--0.9200 test--0.6360 avg: 0.5970 max: 0.6360 >>> [0.618, 0.564, 0.6, 0.545, 0.618, 0.636]\n",
            "\tsplit_size:50\t std_:  train--0.9450 test--0.6580 avg: 0.6150 max: 0.6580 >>> [0.621, 0.618, 0.574, 0.603, 0.614, 0.658]\n",
            "\tsplit_size:60\t std_:  train--0.9360 test--0.6560 avg: 0.6100 max: 0.6560 >>> [0.615, 0.583, 0.596, 0.615, 0.592, 0.656]\n",
            "\tsplit_size:70\t std_:  train--0.9320 test--0.5980 avg: 0.6280 max: 0.6710 >>> [0.616, 0.671, 0.61, 0.646, 0.628, 0.598]\n",
            "\tsplit_size:80\t std_:  train--0.9360 test--0.5960 avg: 0.6270 max: 0.6970 >>> [0.633, 0.697, 0.624, 0.615, 0.596, 0.596]\n",
            "\tsplit_size:90\t std_:  train--0.9120 test--0.6360 avg: 0.6240 max: 0.7090 >>> [0.582, 0.545, 0.673, 0.6, 0.709, 0.636]\n",
            "\tsplit_size:50\t skew:  train--1.0000 test--0.5440 avg: 0.5490 max: 0.6070 >>> [0.607, 0.544, 0.504, 0.522, 0.574, 0.544]\n",
            "\tsplit_size:60\t skew:  train--1.0000 test--0.5180 avg: 0.5380 max: 0.5830 >>> [0.583, 0.528, 0.505, 0.509, 0.583, 0.518]\n",
            "\tsplit_size:70\t skew:  train--0.9970 test--0.5060 avg: 0.5660 max: 0.6460 >>> [0.591, 0.646, 0.53, 0.488, 0.634, 0.506]\n",
            "\tsplit_size:80\t skew:  train--0.9980 test--0.4590 avg: 0.5720 max: 0.6790 >>> [0.578, 0.679, 0.56, 0.532, 0.624, 0.459]\n",
            "\tsplit_size:90\t skew:  train--1.0000 test--0.6000 avg: 0.6270 max: 0.7270 >>> [0.545, 0.691, 0.564, 0.727, 0.636, 0.6]\n",
            "\tsplit_size:50\t kurt:  train--1.0000 test--0.5260 avg: 0.5380 max: 0.5810 >>> [0.566, 0.526, 0.522, 0.504, 0.581, 0.526]\n",
            "\tsplit_size:60\t kurt:  train--1.0000 test--0.5140 avg: 0.5470 max: 0.6190 >>> [0.619, 0.509, 0.514, 0.514, 0.61, 0.514]\n",
            "\tsplit_size:70\t kurt:  train--1.0000 test--0.4880 avg: 0.5620 max: 0.6460 >>> [0.628, 0.591, 0.524, 0.494, 0.646, 0.488]\n",
            "\tsplit_size:80\t kurt:  train--1.0000 test--0.4590 avg: 0.5710 max: 0.6330 >>> [0.633, 0.615, 0.541, 0.56, 0.615, 0.459]\n",
            "\tsplit_size:90\t kurt:  train--1.0000 test--0.5450 avg: 0.5850 max: 0.6550 >>> [0.655, 0.545, 0.527, 0.655, 0.582, 0.545]\n"
          ]
        },
        {
          "output_type": "stream",
          "name": "stderr",
          "text": [
            "100%|██████████| 544/544 [21:48<00:00,  2.40s/it]\n"
          ]
        },
        {
          "output_type": "stream",
          "name": "stdout",
          "text": [
            "\n",
            "window_size: 2\n",
            "\tsplit_size:50\t mean:  train--0.9780 test--0.8200 avg: 0.8070 max: 0.8490 >>> [0.765, 0.849, 0.835, 0.801, 0.772, 0.82]\n",
            "\tsplit_size:60\t mean:  train--0.9690 test--0.8530 avg: 0.8190 max: 0.8620 >>> [0.784, 0.844, 0.862, 0.812, 0.761, 0.853]\n",
            "\tsplit_size:70\t mean:  train--0.9680 test--0.8410 avg: 0.8230 max: 0.8480 >>> [0.817, 0.811, 0.848, 0.829, 0.793, 0.841]\n",
            "\tsplit_size:80\t mean:  train--0.9630 test--0.8260 avg: 0.8260 max: 0.8530 >>> [0.835, 0.807, 0.835, 0.853, 0.798, 0.826]\n",
            "\tsplit_size:90\t mean:  train--0.9630 test--0.8360 avg: 0.8600 max: 0.9270 >>> [0.891, 0.745, 0.891, 0.927, 0.873, 0.836]\n",
            "\tsplit_size:50\t var_:  train--0.9190 test--0.5810 avg: 0.5890 max: 0.6290 >>> [0.581, 0.599, 0.577, 0.629, 0.566, 0.581]\n",
            "\tsplit_size:60\t var_:  train--0.9390 test--0.6100 avg: 0.6010 max: 0.6880 >>> [0.583, 0.688, 0.555, 0.619, 0.55, 0.61]\n",
            "\tsplit_size:70\t var_:  train--0.9580 test--0.6160 avg: 0.5850 max: 0.6340 >>> [0.585, 0.634, 0.555, 0.585, 0.537, 0.616]\n",
            "\tsplit_size:80\t var_:  train--0.9590 test--0.6790 avg: 0.6060 max: 0.6790 >>> [0.587, 0.642, 0.596, 0.56, 0.569, 0.679]\n",
            "\tsplit_size:90\t var_:  train--0.9200 test--0.5820 avg: 0.5850 max: 0.6180 >>> [0.545, 0.618, 0.618, 0.527, 0.618, 0.582]\n",
            "\tsplit_size:50\t std_:  train--0.9410 test--0.6100 avg: 0.6200 max: 0.6800 >>> [0.592, 0.68, 0.618, 0.618, 0.603, 0.61]\n",
            "\tsplit_size:60\t std_:  train--0.9510 test--0.6190 avg: 0.6220 max: 0.6970 >>> [0.633, 0.697, 0.56, 0.647, 0.573, 0.619]\n",
            "\tsplit_size:70\t std_:  train--0.9550 test--0.6460 avg: 0.6210 max: 0.6830 >>> [0.604, 0.683, 0.591, 0.622, 0.579, 0.646]\n",
            "\tsplit_size:80\t std_:  train--0.9490 test--0.6610 avg: 0.6320 max: 0.6880 >>> [0.633, 0.688, 0.633, 0.606, 0.569, 0.661]\n",
            "\tsplit_size:90\t std_:  train--0.9350 test--0.6360 avg: 0.6300 max: 0.6910 >>> [0.582, 0.691, 0.655, 0.582, 0.636, 0.636]\n",
            "\tsplit_size:50\t skew:  train--0.5480 test--0.5260 avg: 0.5290 max: 0.5510 >>> [0.496, 0.529, 0.551, 0.54, 0.533, 0.526]\n",
            "\tsplit_size:60\t skew:  train--0.5610 test--0.5140 avg: 0.5300 max: 0.5460 >>> [0.509, 0.537, 0.546, 0.546, 0.528, 0.514]\n",
            "\tsplit_size:70\t skew:  train--0.5550 test--0.5180 avg: 0.5270 max: 0.5490 >>> [0.5, 0.524, 0.549, 0.549, 0.524, 0.518]\n",
            "\tsplit_size:80\t skew:  train--0.5540 test--0.5050 avg: 0.5400 max: 0.5960 >>> [0.532, 0.596, 0.505, 0.569, 0.532, 0.505]\n",
            "\tsplit_size:90\t skew:  train--0.5420 test--0.6000 avg: 0.5640 max: 0.6000 >>> [0.491, 0.564, 0.545, 0.6, 0.582, 0.6]\n",
            "\tsplit_size:50\t kurt:  train--1.0000 test--0.5040 avg: 0.5100 max: 0.5330 >>> [0.496, 0.529, 0.478, 0.518, 0.533, 0.504]\n",
            "\tsplit_size:60\t kurt:  train--1.0000 test--0.5140 avg: 0.5100 max: 0.5550 >>> [0.509, 0.509, 0.472, 0.5, 0.555, 0.514]\n",
            "\tsplit_size:70\t kurt:  train--1.0000 test--0.5240 avg: 0.5140 max: 0.5370 >>> [0.5, 0.518, 0.494, 0.512, 0.537, 0.524]\n",
            "\tsplit_size:80\t kurt:  train--0.9980 test--0.4680 avg: 0.4850 max: 0.5320 >>> [0.477, 0.468, 0.44, 0.532, 0.523, 0.468]\n",
            "\tsplit_size:90\t kurt:  train--0.9940 test--0.4360 avg: 0.4940 max: 0.6000 >>> [0.473, 0.491, 0.455, 0.509, 0.6, 0.436]\n",
            "\n",
            "window_size: 1\n",
            "\tsplit_size:50\t mean:  train--0.9630 test--0.7570 avg: 0.7750 max: 0.7870 >>> [0.772, 0.783, 0.783, 0.787, 0.765, 0.757]\n",
            "\tsplit_size:60\t mean:  train--0.9600 test--0.7610 avg: 0.7950 max: 0.8300 >>> [0.83, 0.826, 0.771, 0.826, 0.757, 0.761]\n",
            "\tsplit_size:70\t mean:  train--0.9630 test--0.8230 avg: 0.8130 max: 0.8600 >>> [0.835, 0.86, 0.756, 0.811, 0.793, 0.823]\n",
            "\tsplit_size:80\t mean:  train--0.9610 test--0.7800 avg: 0.8180 max: 0.8720 >>> [0.862, 0.872, 0.78, 0.844, 0.771, 0.78]\n",
            "\tsplit_size:90\t mean:  train--0.9710 test--0.7270 avg: 0.8090 max: 0.8910 >>> [0.891, 0.818, 0.782, 0.873, 0.764, 0.727]\n",
            "########################## epoch:  6  ###########################\n"
          ]
        },
        {
          "output_type": "stream",
          "name": "stderr",
          "text": [
            "100%|██████████| 544/544 [00:03<00:00, 180.08it/s]\n"
          ]
        },
        {
          "output_type": "stream",
          "name": "stdout",
          "text": [
            "\n",
            "window_size: 1000\n",
            "\tsplit_size:50\t mean:  train--0.6880 test--0.6690 avg: 0.6650 max: 0.6880 >>> [0.654, 0.665, 0.688, 0.647, 0.684, 0.647, 0.669]\n",
            "\tsplit_size:60\t mean:  train--0.6900 test--0.6740 avg: 0.6690 max: 0.7200 >>> [0.624, 0.683, 0.72, 0.674, 0.674, 0.633, 0.674]\n",
            "\tsplit_size:70\t mean:  train--0.6920 test--0.6590 avg: 0.6790 max: 0.7440 >>> [0.616, 0.695, 0.744, 0.713, 0.683, 0.646, 0.659]\n",
            "\tsplit_size:80\t mean:  train--0.6850 test--0.6790 avg: 0.6800 max: 0.7250 >>> [0.615, 0.697, 0.716, 0.716, 0.725, 0.615, 0.679]\n",
            "\tsplit_size:90\t mean:  train--0.6930 test--0.7450 avg: 0.6930 max: 0.7640 >>> [0.6, 0.691, 0.745, 0.764, 0.709, 0.6, 0.745]\n",
            "\tsplit_size:50\t var_:  train--0.6250 test--0.5660 avg: 0.5680 max: 0.6030 >>> [0.54, 0.577, 0.603, 0.555, 0.581, 0.551, 0.566]\n",
            "\tsplit_size:60\t var_:  train--0.5950 test--0.5640 avg: 0.5860 max: 0.6240 >>> [0.541, 0.606, 0.624, 0.596, 0.587, 0.583, 0.564]\n",
            "\tsplit_size:70\t var_:  train--0.6110 test--0.5370 avg: 0.5810 max: 0.6520 >>> [0.537, 0.604, 0.652, 0.579, 0.598, 0.561, 0.537]\n",
            "\tsplit_size:80\t var_:  train--0.6000 test--0.5410 avg: 0.5770 max: 0.6420 >>> [0.495, 0.606, 0.606, 0.642, 0.615, 0.532, 0.541]\n",
            "\tsplit_size:90\t var_:  train--0.6030 test--0.5640 avg: 0.5790 max: 0.6360 >>> [0.473, 0.636, 0.636, 0.636, 0.618, 0.491, 0.564]\n",
            "\tsplit_size:50\t std_:  train--0.6540 test--0.6290 avg: 0.6390 max: 0.6910 >>> [0.61, 0.654, 0.662, 0.632, 0.691, 0.592, 0.629]\n",
            "\tsplit_size:60\t std_:  train--0.6630 test--0.6470 avg: 0.6550 max: 0.6880 >>> [0.615, 0.688, 0.688, 0.642, 0.679, 0.624, 0.647]\n",
            "\tsplit_size:70\t std_:  train--0.6680 test--0.6280 avg: 0.6590 max: 0.7380 >>> [0.598, 0.652, 0.738, 0.689, 0.689, 0.616, 0.628]\n",
            "\tsplit_size:80\t std_:  train--0.6710 test--0.6610 avg: 0.6660 max: 0.7160 >>> [0.569, 0.697, 0.716, 0.697, 0.697, 0.624, 0.661]\n",
            "\tsplit_size:90\t std_:  train--0.6710 test--0.6730 avg: 0.6470 max: 0.7450 >>> [0.545, 0.6, 0.727, 0.745, 0.673, 0.564, 0.673]\n",
            "\tsplit_size:50\t skew:  train--0.5880 test--0.5770 avg: 0.5690 max: 0.6070 >>> [0.548, 0.562, 0.592, 0.511, 0.585, 0.607, 0.577]\n",
            "\tsplit_size:60\t skew:  train--0.5890 test--0.5920 avg: 0.5640 max: 0.5920 >>> [0.587, 0.555, 0.578, 0.505, 0.569, 0.56, 0.592]\n",
            "\tsplit_size:70\t skew:  train--0.6240 test--0.6100 avg: 0.5990 max: 0.6340 >>> [0.628, 0.561, 0.591, 0.634, 0.591, 0.579, 0.61]\n",
            "\tsplit_size:80\t skew:  train--0.6020 test--0.6510 avg: 0.5910 max: 0.6510 >>> [0.606, 0.55, 0.56, 0.651, 0.587, 0.532, 0.651]\n",
            "\tsplit_size:90\t skew:  train--0.6200 test--0.6550 avg: 0.6100 max: 0.6550 >>> [0.582, 0.509, 0.6, 0.636, 0.636, 0.655, 0.655]\n",
            "\tsplit_size:50\t kurt:  train--0.5880 test--0.5620 avg: 0.5310 max: 0.5620 >>> [0.518, 0.537, 0.54, 0.515, 0.522, 0.522, 0.562]\n",
            "\tsplit_size:60\t kurt:  train--0.5860 test--0.5830 avg: 0.5340 max: 0.5830 >>> [0.541, 0.541, 0.514, 0.523, 0.528, 0.509, 0.583]\n",
            "\tsplit_size:70\t kurt:  train--0.5890 test--0.5300 avg: 0.5350 max: 0.5610 >>> [0.561, 0.5, 0.53, 0.561, 0.524, 0.537, 0.53]\n",
            "\tsplit_size:80\t kurt:  train--0.5840 test--0.5320 avg: 0.5330 max: 0.5780 >>> [0.523, 0.523, 0.541, 0.578, 0.55, 0.486, 0.532]\n",
            "\tsplit_size:90\t kurt:  train--0.5930 test--0.5640 avg: 0.5350 max: 0.6910 >>> [0.473, 0.509, 0.491, 0.491, 0.691, 0.527, 0.564]\n"
          ]
        },
        {
          "output_type": "stream",
          "name": "stderr",
          "text": [
            "100%|██████████| 544/544 [00:35<00:00, 15.14it/s]\n"
          ]
        },
        {
          "output_type": "stream",
          "name": "stdout",
          "text": [
            "\n",
            "window_size: 100\n",
            "\tsplit_size:50\t mean:  train--0.7020 test--0.6990 avg: 0.6830 max: 0.7020 >>> [0.699, 0.651, 0.688, 0.691, 0.654, 0.702, 0.699]\n",
            "\tsplit_size:60\t mean:  train--0.6990 test--0.7200 avg: 0.7020 max: 0.7200 >>> [0.706, 0.688, 0.683, 0.702, 0.693, 0.72, 0.72]\n",
            "\tsplit_size:70\t mean:  train--0.7180 test--0.7200 avg: 0.6910 max: 0.7320 >>> [0.677, 0.683, 0.659, 0.683, 0.683, 0.732, 0.72]\n",
            "\tsplit_size:80\t mean:  train--0.7150 test--0.7430 avg: 0.7040 max: 0.7430 >>> [0.697, 0.716, 0.697, 0.679, 0.661, 0.734, 0.743]\n",
            "\tsplit_size:90\t mean:  train--0.7030 test--0.7820 avg: 0.7270 max: 0.7820 >>> [0.709, 0.691, 0.727, 0.764, 0.745, 0.673, 0.782]\n",
            "\tsplit_size:50\t var_:  train--0.6990 test--0.6100 avg: 0.6160 max: 0.6730 >>> [0.632, 0.581, 0.61, 0.61, 0.596, 0.673, 0.61]\n",
            "\tsplit_size:60\t var_:  train--0.6930 test--0.6280 avg: 0.6190 max: 0.6560 >>> [0.633, 0.606, 0.61, 0.606, 0.592, 0.656, 0.628]\n",
            "\tsplit_size:70\t var_:  train--0.7080 test--0.6100 avg: 0.6080 max: 0.6830 >>> [0.561, 0.61, 0.585, 0.604, 0.604, 0.683, 0.61]\n",
            "\tsplit_size:80\t var_:  train--0.6900 test--0.6150 avg: 0.6110 max: 0.6510 >>> [0.56, 0.624, 0.633, 0.642, 0.55, 0.651, 0.615]\n",
            "\tsplit_size:90\t var_:  train--0.6830 test--0.7270 avg: 0.6420 max: 0.7270 >>> [0.564, 0.655, 0.582, 0.709, 0.636, 0.618, 0.727]\n",
            "\tsplit_size:50\t std_:  train--0.7240 test--0.6430 avg: 0.6530 max: 0.6880 >>> [0.68, 0.61, 0.643, 0.665, 0.64, 0.688, 0.643]\n",
            "\tsplit_size:60\t std_:  train--0.7020 test--0.6790 avg: 0.6690 max: 0.7060 >>> [0.67, 0.647, 0.661, 0.661, 0.656, 0.706, 0.679]\n",
            "\tsplit_size:70\t std_:  train--0.6970 test--0.6770 avg: 0.6690 max: 0.7320 >>> [0.634, 0.677, 0.646, 0.683, 0.634, 0.732, 0.677]\n",
            "\tsplit_size:80\t std_:  train--0.6830 test--0.6790 avg: 0.6670 max: 0.7340 >>> [0.651, 0.67, 0.67, 0.661, 0.606, 0.734, 0.679]\n",
            "\tsplit_size:90\t std_:  train--0.6870 test--0.7450 avg: 0.6960 max: 0.7450 >>> [0.691, 0.655, 0.691, 0.745, 0.655, 0.691, 0.745]\n",
            "\tsplit_size:50\t skew:  train--0.7980 test--0.6470 avg: 0.6280 max: 0.6470 >>> [0.607, 0.629, 0.625, 0.647, 0.618, 0.625, 0.647]\n",
            "\tsplit_size:60\t skew:  train--0.8160 test--0.6830 avg: 0.6530 max: 0.6830 >>> [0.642, 0.656, 0.674, 0.661, 0.651, 0.606, 0.683]\n",
            "\tsplit_size:70\t skew:  train--0.8290 test--0.6280 avg: 0.6380 max: 0.7070 >>> [0.567, 0.677, 0.634, 0.707, 0.634, 0.622, 0.628]\n",
            "\tsplit_size:80\t skew:  train--0.8410 test--0.6330 avg: 0.6630 max: 0.7610 >>> [0.688, 0.661, 0.67, 0.761, 0.624, 0.606, 0.633]\n",
            "\tsplit_size:90\t skew:  train--0.8490 test--0.6000 avg: 0.6940 max: 0.8550 >>> [0.709, 0.727, 0.673, 0.855, 0.673, 0.618, 0.6]\n",
            "\tsplit_size:50\t kurt:  train--0.8050 test--0.5510 avg: 0.5690 max: 0.6070 >>> [0.544, 0.551, 0.574, 0.607, 0.581, 0.577, 0.551]\n",
            "\tsplit_size:60\t kurt:  train--0.7980 test--0.5870 avg: 0.5850 max: 0.6280 >>> [0.628, 0.555, 0.587, 0.569, 0.578, 0.592, 0.587]\n",
            "\tsplit_size:70\t kurt:  train--0.7760 test--0.5670 avg: 0.5750 max: 0.6460 >>> [0.646, 0.573, 0.561, 0.561, 0.524, 0.591, 0.567]\n",
            "\tsplit_size:80\t kurt:  train--0.7980 test--0.5690 avg: 0.5860 max: 0.6610 >>> [0.661, 0.532, 0.606, 0.596, 0.541, 0.596, 0.569]\n",
            "\tsplit_size:90\t kurt:  train--0.7770 test--0.6360 avg: 0.6180 max: 0.6910 >>> [0.691, 0.582, 0.655, 0.636, 0.564, 0.564, 0.636]\n"
          ]
        },
        {
          "output_type": "stream",
          "name": "stderr",
          "text": [
            "100%|██████████| 544/544 [05:12<00:00,  1.74it/s]\n"
          ]
        },
        {
          "output_type": "stream",
          "name": "stdout",
          "text": [
            "\n",
            "window_size: 10\n",
            "\tsplit_size:50\t mean:  train--0.9450 test--0.7460 avg: 0.8040 max: 0.8490 >>> [0.816, 0.812, 0.798, 0.816, 0.794, 0.849, 0.746]\n",
            "\tsplit_size:60\t mean:  train--0.9330 test--0.7980 avg: 0.8300 max: 0.8670 >>> [0.844, 0.867, 0.835, 0.839, 0.789, 0.839, 0.798]\n",
            "\tsplit_size:70\t mean:  train--0.9450 test--0.7990 avg: 0.8430 max: 0.8780 >>> [0.866, 0.878, 0.848, 0.848, 0.805, 0.86, 0.799]\n",
            "\tsplit_size:80\t mean:  train--0.9380 test--0.8440 avg: 0.8460 max: 0.8620 >>> [0.844, 0.862, 0.862, 0.853, 0.807, 0.853, 0.844]\n",
            "\tsplit_size:90\t mean:  train--0.9430 test--0.8550 avg: 0.8340 max: 0.8910 >>> [0.8, 0.891, 0.855, 0.709, 0.836, 0.891, 0.855]\n",
            "\tsplit_size:50\t var_:  train--0.9010 test--0.6140 avg: 0.6150 max: 0.6400 >>> [0.64, 0.629, 0.592, 0.574, 0.636, 0.618, 0.614]\n",
            "\tsplit_size:60\t var_:  train--0.8830 test--0.5870 avg: 0.6170 max: 0.6420 >>> [0.619, 0.642, 0.615, 0.578, 0.642, 0.633, 0.587]\n",
            "\tsplit_size:70\t var_:  train--0.8790 test--0.6280 avg: 0.6270 max: 0.6590 >>> [0.659, 0.646, 0.634, 0.561, 0.652, 0.61, 0.628]\n",
            "\tsplit_size:80\t var_:  train--0.8670 test--0.6610 avg: 0.6080 max: 0.6610 >>> [0.651, 0.606, 0.578, 0.55, 0.587, 0.624, 0.661]\n",
            "\tsplit_size:90\t var_:  train--0.8630 test--0.5820 avg: 0.6180 max: 0.6910 >>> [0.655, 0.6, 0.545, 0.691, 0.655, 0.6, 0.582]\n",
            "\tsplit_size:50\t std_:  train--0.9040 test--0.6320 avg: 0.6410 max: 0.6620 >>> [0.643, 0.662, 0.64, 0.592, 0.662, 0.658, 0.632]\n",
            "\tsplit_size:60\t std_:  train--0.8900 test--0.6380 avg: 0.6590 max: 0.6970 >>> [0.642, 0.697, 0.651, 0.633, 0.656, 0.693, 0.638]\n",
            "\tsplit_size:70\t std_:  train--0.8820 test--0.6710 avg: 0.6600 max: 0.6950 >>> [0.64, 0.695, 0.671, 0.61, 0.646, 0.689, 0.671]\n",
            "\tsplit_size:80\t std_:  train--0.8830 test--0.6790 avg: 0.6570 max: 0.7060 >>> [0.651, 0.688, 0.587, 0.706, 0.615, 0.67, 0.679]\n",
            "\tsplit_size:90\t std_:  train--0.8880 test--0.6180 avg: 0.6750 max: 0.7450 >>> [0.582, 0.709, 0.655, 0.691, 0.727, 0.745, 0.618]\n",
            "\tsplit_size:50\t skew:  train--0.9960 test--0.6760 avg: 0.6710 max: 0.7170 >>> [0.717, 0.654, 0.673, 0.684, 0.654, 0.64, 0.676]\n",
            "\tsplit_size:60\t skew:  train--0.9970 test--0.7110 avg: 0.6950 max: 0.7340 >>> [0.725, 0.679, 0.734, 0.679, 0.729, 0.61, 0.711]\n",
            "\tsplit_size:70\t skew:  train--0.9970 test--0.7200 avg: 0.6990 max: 0.7320 >>> [0.726, 0.732, 0.707, 0.707, 0.701, 0.598, 0.72]\n",
            "\tsplit_size:80\t skew:  train--0.9980 test--0.7160 avg: 0.6990 max: 0.7520 >>> [0.697, 0.752, 0.734, 0.734, 0.679, 0.578, 0.716]\n",
            "\tsplit_size:90\t skew:  train--0.9960 test--0.7450 avg: 0.7320 max: 0.8550 >>> [0.691, 0.855, 0.745, 0.691, 0.782, 0.618, 0.745]\n",
            "\tsplit_size:50\t kurt:  train--1.0000 test--0.5590 avg: 0.5730 max: 0.6140 >>> [0.559, 0.57, 0.614, 0.599, 0.551, 0.559, 0.559]\n",
            "\tsplit_size:60\t kurt:  train--1.0000 test--0.5920 avg: 0.5970 max: 0.6280 >>> [0.596, 0.573, 0.601, 0.619, 0.628, 0.573, 0.592]\n",
            "\tsplit_size:70\t kurt:  train--1.0000 test--0.6280 avg: 0.5890 max: 0.6280 >>> [0.61, 0.567, 0.579, 0.598, 0.585, 0.555, 0.628]\n",
            "\tsplit_size:80\t kurt:  train--1.0000 test--0.5960 avg: 0.5890 max: 0.6240 >>> [0.569, 0.615, 0.606, 0.624, 0.532, 0.578, 0.596]\n",
            "\tsplit_size:90\t kurt:  train--1.0000 test--0.6180 avg: 0.5790 max: 0.6180 >>> [0.618, 0.582, 0.545, 0.582, 0.545, 0.564, 0.618]\n"
          ]
        },
        {
          "output_type": "stream",
          "name": "stderr",
          "text": [
            "100%|██████████| 544/544 [00:00<00:00, 663.53it/s]\n"
          ]
        },
        {
          "output_type": "stream",
          "name": "stdout",
          "text": [
            "\n",
            "window_size: 4096\n",
            "\tsplit_size:50\t mean:  train--0.6400 test--0.6470 avg: 0.6480 max: 0.6580 >>> [0.651, 0.64, 0.651, 0.658, 0.643, 0.647, 0.647]\n",
            "\tsplit_size:60\t mean:  train--0.6690 test--0.6510 avg: 0.6490 max: 0.6740 >>> [0.647, 0.624, 0.674, 0.674, 0.601, 0.674, 0.651]\n",
            "\tsplit_size:70\t mean:  train--0.6710 test--0.6280 avg: 0.6390 max: 0.6830 >>> [0.634, 0.598, 0.683, 0.634, 0.622, 0.671, 0.628]\n",
            "\tsplit_size:80\t mean:  train--0.6570 test--0.6240 avg: 0.6320 max: 0.6880 >>> [0.688, 0.633, 0.633, 0.587, 0.587, 0.67, 0.624]\n",
            "\tsplit_size:90\t mean:  train--0.6670 test--0.6550 avg: 0.6490 max: 0.7270 >>> [0.727, 0.618, 0.655, 0.691, 0.618, 0.582, 0.655]\n",
            "\tsplit_size:50\t var_:  train--0.5700 test--0.5960 avg: 0.5590 max: 0.5960 >>> [0.485, 0.588, 0.574, 0.585, 0.57, 0.515, 0.596]\n",
            "\tsplit_size:60\t var_:  train--0.5980 test--0.5920 avg: 0.5540 max: 0.6150 >>> [0.468, 0.592, 0.573, 0.615, 0.546, 0.495, 0.592]\n",
            "\tsplit_size:70\t var_:  train--0.6130 test--0.5430 avg: 0.5930 max: 0.6520 >>> [0.604, 0.585, 0.61, 0.61, 0.549, 0.652, 0.543]\n",
            "\tsplit_size:80\t var_:  train--0.6180 test--0.5230 avg: 0.5920 max: 0.6330 >>> [0.633, 0.624, 0.633, 0.596, 0.514, 0.624, 0.523]\n",
            "\tsplit_size:90\t var_:  train--0.5970 test--0.6000 avg: 0.6310 max: 0.7090 >>> [0.709, 0.691, 0.691, 0.6, 0.564, 0.564, 0.6]\n",
            "\tsplit_size:50\t std_:  train--0.6540 test--0.6400 avg: 0.6160 max: 0.6800 >>> [0.485, 0.625, 0.618, 0.68, 0.599, 0.665, 0.64]\n",
            "\tsplit_size:60\t std_:  train--0.6530 test--0.6510 avg: 0.6370 max: 0.6830 >>> [0.583, 0.642, 0.633, 0.679, 0.587, 0.683, 0.651]\n",
            "\tsplit_size:70\t std_:  train--0.6740 test--0.5850 avg: 0.6370 max: 0.6830 >>> [0.659, 0.628, 0.628, 0.671, 0.604, 0.683, 0.585]\n",
            "\tsplit_size:80\t std_:  train--0.6690 test--0.5600 avg: 0.6410 max: 0.6880 >>> [0.67, 0.633, 0.688, 0.651, 0.596, 0.688, 0.56]\n",
            "\tsplit_size:90\t std_:  train--0.6580 test--0.6180 avg: 0.6570 max: 0.7090 >>> [0.709, 0.673, 0.673, 0.673, 0.618, 0.636, 0.618]\n",
            "\tsplit_size:50\t skew:  train--0.6650 test--0.6510 avg: 0.6630 max: 0.6990 >>> [0.651, 0.676, 0.699, 0.669, 0.636, 0.658, 0.651]\n",
            "\tsplit_size:60\t skew:  train--0.6720 test--0.6700 avg: 0.6610 max: 0.7020 >>> [0.638, 0.656, 0.702, 0.683, 0.624, 0.651, 0.67]\n",
            "\tsplit_size:70\t skew:  train--0.6820 test--0.7010 avg: 0.6780 max: 0.7130 >>> [0.713, 0.659, 0.689, 0.701, 0.61, 0.671, 0.701]\n",
            "\tsplit_size:80\t skew:  train--0.6850 test--0.6510 avg: 0.6580 max: 0.7340 >>> [0.734, 0.688, 0.633, 0.624, 0.606, 0.67, 0.651]\n",
            "\tsplit_size:90\t skew:  train--0.6810 test--0.6730 avg: 0.6780 max: 0.7270 >>> [0.727, 0.673, 0.673, 0.673, 0.673, 0.655, 0.673]\n",
            "\tsplit_size:50\t kurt:  train--0.6100 test--0.6100 avg: 0.5970 max: 0.6360 >>> [0.496, 0.618, 0.636, 0.603, 0.61, 0.603, 0.61]\n",
            "\tsplit_size:60\t kurt:  train--0.5950 test--0.5960 avg: 0.6000 max: 0.6880 >>> [0.495, 0.615, 0.688, 0.615, 0.573, 0.619, 0.596]\n",
            "\tsplit_size:70\t kurt:  train--0.6130 test--0.6220 avg: 0.6320 max: 0.6770 >>> [0.665, 0.622, 0.677, 0.64, 0.567, 0.628, 0.622]\n",
            "\tsplit_size:80\t kurt:  train--0.6250 test--0.6610 avg: 0.6160 max: 0.6880 >>> [0.688, 0.596, 0.596, 0.587, 0.55, 0.633, 0.661]\n",
            "\tsplit_size:90\t kurt:  train--0.6260 test--0.6550 avg: 0.6260 max: 0.6730 >>> [0.618, 0.6, 0.673, 0.618, 0.618, 0.6, 0.655]\n"
          ]
        },
        {
          "output_type": "stream",
          "name": "stderr",
          "text": [
            "100%|██████████| 544/544 [00:01<00:00, 348.44it/s]\n"
          ]
        },
        {
          "output_type": "stream",
          "name": "stdout",
          "text": [
            "\n",
            "window_size: 2048\n",
            "\tsplit_size:50\t mean:  train--0.6990 test--0.7100 avg: 0.6840 max: 0.7100 >>> [0.658, 0.658, 0.68, 0.706, 0.691, 0.684, 0.71]\n",
            "\tsplit_size:60\t mean:  train--0.6930 test--0.7290 avg: 0.6930 max: 0.7290 >>> [0.661, 0.679, 0.706, 0.706, 0.688, 0.679, 0.729]\n",
            "\tsplit_size:70\t mean:  train--0.6820 test--0.7500 avg: 0.7040 max: 0.7500 >>> [0.707, 0.677, 0.72, 0.713, 0.695, 0.665, 0.75]\n",
            "\tsplit_size:80\t mean:  train--0.7060 test--0.7520 avg: 0.7140 max: 0.7710 >>> [0.771, 0.651, 0.761, 0.67, 0.752, 0.642, 0.752]\n",
            "\tsplit_size:90\t mean:  train--0.7060 test--0.7640 avg: 0.6930 max: 0.7640 >>> [0.745, 0.636, 0.764, 0.691, 0.636, 0.618, 0.764]\n",
            "\tsplit_size:50\t var_:  train--0.5960 test--0.5880 avg: 0.5790 max: 0.6030 >>> [0.581, 0.588, 0.559, 0.603, 0.566, 0.566, 0.588]\n",
            "\tsplit_size:60\t var_:  train--0.6100 test--0.6060 avg: 0.5870 max: 0.6060 >>> [0.601, 0.569, 0.56, 0.592, 0.596, 0.587, 0.606]\n",
            "\tsplit_size:70\t var_:  train--0.6260 test--0.5670 avg: 0.5820 max: 0.6160 >>> [0.616, 0.543, 0.555, 0.585, 0.61, 0.598, 0.567]\n",
            "\tsplit_size:80\t var_:  train--0.6090 test--0.5960 avg: 0.5940 max: 0.6510 >>> [0.651, 0.523, 0.596, 0.578, 0.633, 0.578, 0.596]\n",
            "\tsplit_size:90\t var_:  train--0.5930 test--0.6910 avg: 0.6150 max: 0.6910 >>> [0.618, 0.527, 0.636, 0.545, 0.618, 0.673, 0.691]\n",
            "\tsplit_size:50\t std_:  train--0.6620 test--0.6620 avg: 0.6410 max: 0.6730 >>> [0.625, 0.618, 0.621, 0.658, 0.673, 0.632, 0.662]\n",
            "\tsplit_size:60\t std_:  train--0.6660 test--0.6650 avg: 0.6560 max: 0.7160 >>> [0.651, 0.628, 0.661, 0.633, 0.716, 0.638, 0.665]\n",
            "\tsplit_size:70\t std_:  train--0.6550 test--0.7260 avg: 0.6730 max: 0.7260 >>> [0.659, 0.628, 0.634, 0.671, 0.72, 0.671, 0.726]\n",
            "\tsplit_size:80\t std_:  train--0.6640 test--0.7060 avg: 0.6800 max: 0.7250 >>> [0.706, 0.633, 0.697, 0.624, 0.725, 0.67, 0.706]\n",
            "\tsplit_size:90\t std_:  train--0.6500 test--0.7450 avg: 0.6780 max: 0.7450 >>> [0.709, 0.655, 0.691, 0.618, 0.673, 0.655, 0.745]\n",
            "\tsplit_size:50\t skew:  train--0.5590 test--0.6140 avg: 0.5860 max: 0.6140 >>> [0.574, 0.577, 0.574, 0.57, 0.607, 0.585, 0.614]\n",
            "\tsplit_size:60\t skew:  train--0.5770 test--0.5550 avg: 0.5810 max: 0.6190 >>> [0.564, 0.564, 0.596, 0.573, 0.619, 0.596, 0.555]\n",
            "\tsplit_size:70\t skew:  train--0.5920 test--0.5850 avg: 0.5940 max: 0.6280 >>> [0.585, 0.579, 0.579, 0.579, 0.628, 0.622, 0.585]\n",
            "\tsplit_size:80\t skew:  train--0.6320 test--0.6240 avg: 0.6020 max: 0.6510 >>> [0.615, 0.606, 0.651, 0.532, 0.596, 0.587, 0.624]\n",
            "\tsplit_size:90\t skew:  train--0.6070 test--0.6360 avg: 0.5920 max: 0.6910 >>> [0.582, 0.6, 0.691, 0.564, 0.582, 0.491, 0.636]\n",
            "\tsplit_size:50\t kurt:  train--0.5590 test--0.5740 avg: 0.5740 max: 0.5960 >>> [0.566, 0.596, 0.551, 0.581, 0.566, 0.581, 0.574]\n",
            "\tsplit_size:60\t kurt:  train--0.5860 test--0.5550 avg: 0.5710 max: 0.5920 >>> [0.56, 0.569, 0.587, 0.587, 0.592, 0.55, 0.555]\n",
            "\tsplit_size:70\t kurt:  train--0.5890 test--0.5180 avg: 0.5710 max: 0.6220 >>> [0.555, 0.598, 0.585, 0.555, 0.622, 0.567, 0.518]\n",
            "\tsplit_size:80\t kurt:  train--0.5930 test--0.5230 avg: 0.5680 max: 0.6330 >>> [0.523, 0.633, 0.606, 0.523, 0.578, 0.587, 0.523]\n",
            "\tsplit_size:90\t kurt:  train--0.5830 test--0.6180 avg: 0.5610 max: 0.6730 >>> [0.527, 0.673, 0.564, 0.473, 0.545, 0.527, 0.618]\n"
          ]
        },
        {
          "output_type": "stream",
          "name": "stderr",
          "text": [
            "100%|██████████| 544/544 [00:03<00:00, 177.55it/s]\n"
          ]
        },
        {
          "output_type": "stream",
          "name": "stdout",
          "text": [
            "\n",
            "window_size: 1024\n",
            "\tsplit_size:50\t mean:  train--0.6690 test--0.6800 avg: 0.6720 max: 0.6840 >>> [0.68, 0.669, 0.658, 0.676, 0.654, 0.684, 0.68]\n",
            "\tsplit_size:60\t mean:  train--0.6900 test--0.6650 avg: 0.6750 max: 0.6930 >>> [0.693, 0.67, 0.693, 0.661, 0.688, 0.656, 0.665]\n",
            "\tsplit_size:70\t mean:  train--0.6950 test--0.6460 avg: 0.6700 max: 0.7200 >>> [0.683, 0.64, 0.72, 0.64, 0.683, 0.677, 0.646]\n",
            "\tsplit_size:80\t mean:  train--0.7010 test--0.6510 avg: 0.6630 max: 0.7160 >>> [0.716, 0.596, 0.679, 0.633, 0.661, 0.706, 0.651]\n",
            "\tsplit_size:90\t mean:  train--0.7060 test--0.6180 avg: 0.6780 max: 0.7450 >>> [0.709, 0.6, 0.727, 0.655, 0.691, 0.745, 0.618]\n",
            "\tsplit_size:50\t var_:  train--0.5990 test--0.5960 avg: 0.5860 max: 0.6250 >>> [0.625, 0.559, 0.577, 0.588, 0.588, 0.57, 0.596]\n",
            "\tsplit_size:60\t var_:  train--0.6230 test--0.5640 avg: 0.5680 max: 0.6060 >>> [0.606, 0.541, 0.583, 0.564, 0.573, 0.546, 0.564]\n",
            "\tsplit_size:70\t var_:  train--0.6210 test--0.5490 avg: 0.5720 max: 0.6100 >>> [0.61, 0.543, 0.604, 0.579, 0.561, 0.561, 0.549]\n",
            "\tsplit_size:80\t var_:  train--0.6160 test--0.5500 avg: 0.5470 max: 0.6060 >>> [0.606, 0.477, 0.587, 0.505, 0.514, 0.587, 0.55]\n",
            "\tsplit_size:90\t var_:  train--0.6130 test--0.5450 avg: 0.5580 max: 0.6910 >>> [0.618, 0.455, 0.545, 0.527, 0.527, 0.691, 0.545]\n",
            "\tsplit_size:50\t std_:  train--0.6250 test--0.6510 avg: 0.6400 max: 0.6840 >>> [0.684, 0.621, 0.629, 0.636, 0.607, 0.651, 0.651]\n",
            "\tsplit_size:60\t std_:  train--0.6560 test--0.6420 avg: 0.6380 max: 0.7110 >>> [0.711, 0.615, 0.67, 0.61, 0.619, 0.601, 0.642]\n",
            "\tsplit_size:70\t std_:  train--0.6760 test--0.6040 avg: 0.6320 max: 0.7070 >>> [0.707, 0.598, 0.671, 0.591, 0.616, 0.634, 0.604]\n",
            "\tsplit_size:80\t std_:  train--0.6690 test--0.6240 avg: 0.6380 max: 0.7430 >>> [0.743, 0.578, 0.661, 0.55, 0.651, 0.661, 0.624]\n",
            "\tsplit_size:90\t std_:  train--0.6710 test--0.6000 avg: 0.6360 max: 0.7090 >>> [0.655, 0.564, 0.691, 0.545, 0.691, 0.709, 0.6]\n",
            "\tsplit_size:50\t skew:  train--0.5920 test--0.5620 avg: 0.5580 max: 0.5960 >>> [0.596, 0.515, 0.585, 0.533, 0.551, 0.562, 0.562]\n",
            "\tsplit_size:60\t skew:  train--0.6260 test--0.5280 avg: 0.5570 max: 0.6060 >>> [0.596, 0.546, 0.606, 0.541, 0.555, 0.528, 0.528]\n",
            "\tsplit_size:70\t skew:  train--0.6110 test--0.5000 avg: 0.5520 max: 0.6100 >>> [0.549, 0.549, 0.561, 0.549, 0.549, 0.61, 0.5]\n",
            "\tsplit_size:80\t skew:  train--0.6020 test--0.4770 avg: 0.5440 max: 0.5960 >>> [0.596, 0.514, 0.569, 0.578, 0.523, 0.55, 0.477]\n",
            "\tsplit_size:90\t skew:  train--0.6220 test--0.5820 avg: 0.5920 max: 0.7090 >>> [0.545, 0.545, 0.709, 0.618, 0.545, 0.6, 0.582]\n",
            "\tsplit_size:50\t kurt:  train--0.5330 test--0.5040 avg: 0.5150 max: 0.5550 >>> [0.522, 0.507, 0.555, 0.5, 0.511, 0.504, 0.504]\n",
            "\tsplit_size:60\t kurt:  train--0.5670 test--0.4820 avg: 0.5160 max: 0.5690 >>> [0.532, 0.55, 0.569, 0.5, 0.491, 0.486, 0.482]\n",
            "\tsplit_size:70\t kurt:  train--0.5630 test--0.4630 avg: 0.5030 max: 0.5370 >>> [0.488, 0.537, 0.524, 0.482, 0.506, 0.524, 0.463]\n",
            "\tsplit_size:80\t kurt:  train--0.5450 test--0.4400 avg: 0.4740 max: 0.5140 >>> [0.45, 0.486, 0.495, 0.422, 0.514, 0.514, 0.44]\n",
            "\tsplit_size:90\t kurt:  train--0.5710 test--0.4910 avg: 0.4960 max: 0.6000 >>> [0.418, 0.564, 0.6, 0.418, 0.545, 0.436, 0.491]\n"
          ]
        },
        {
          "output_type": "stream",
          "name": "stderr",
          "text": [
            "100%|██████████| 544/544 [00:06<00:00, 83.95it/s]\n"
          ]
        },
        {
          "output_type": "stream",
          "name": "stdout",
          "text": [
            "\n",
            "window_size: 512\n",
            "\tsplit_size:50\t mean:  train--0.7130 test--0.6360 avg: 0.6840 max: 0.7350 >>> [0.735, 0.68, 0.721, 0.713, 0.654, 0.651, 0.636]\n",
            "\tsplit_size:60\t mean:  train--0.7150 test--0.6280 avg: 0.6880 max: 0.7480 >>> [0.716, 0.688, 0.748, 0.711, 0.656, 0.67, 0.628]\n",
            "\tsplit_size:70\t mean:  train--0.7050 test--0.6220 avg: 0.6910 max: 0.7560 >>> [0.72, 0.713, 0.756, 0.713, 0.64, 0.671, 0.622]\n",
            "\tsplit_size:80\t mean:  train--0.6940 test--0.6330 avg: 0.6930 max: 0.7520 >>> [0.716, 0.679, 0.752, 0.697, 0.651, 0.725, 0.633]\n",
            "\tsplit_size:90\t mean:  train--0.6990 test--0.5820 avg: 0.6810 max: 0.7820 >>> [0.727, 0.655, 0.727, 0.691, 0.6, 0.782, 0.582]\n",
            "\tsplit_size:50\t var_:  train--0.6430 test--0.5740 avg: 0.6010 max: 0.6760 >>> [0.676, 0.592, 0.625, 0.621, 0.562, 0.555, 0.574]\n",
            "\tsplit_size:60\t var_:  train--0.6470 test--0.5830 avg: 0.6060 max: 0.6380 >>> [0.633, 0.61, 0.615, 0.638, 0.596, 0.569, 0.583]\n",
            "\tsplit_size:70\t var_:  train--0.6260 test--0.5610 avg: 0.5980 max: 0.6520 >>> [0.628, 0.61, 0.61, 0.652, 0.561, 0.567, 0.561]\n",
            "\tsplit_size:80\t var_:  train--0.6340 test--0.6150 avg: 0.6240 max: 0.6610 >>> [0.633, 0.596, 0.633, 0.661, 0.578, 0.651, 0.615]\n",
            "\tsplit_size:90\t var_:  train--0.6300 test--0.4550 avg: 0.6030 max: 0.7270 >>> [0.655, 0.6, 0.618, 0.727, 0.527, 0.636, 0.455]\n",
            "\tsplit_size:50\t std_:  train--0.6950 test--0.6400 avg: 0.6640 max: 0.7170 >>> [0.717, 0.676, 0.68, 0.706, 0.603, 0.625, 0.64]\n",
            "\tsplit_size:60\t std_:  train--0.7020 test--0.6240 avg: 0.6730 max: 0.7160 >>> [0.716, 0.67, 0.711, 0.679, 0.67, 0.642, 0.624]\n",
            "\tsplit_size:70\t std_:  train--0.7000 test--0.6160 avg: 0.6740 max: 0.7130 >>> [0.671, 0.701, 0.713, 0.689, 0.665, 0.665, 0.616]\n",
            "\tsplit_size:80\t std_:  train--0.6800 test--0.6700 avg: 0.6890 max: 0.7250 >>> [0.679, 0.688, 0.725, 0.697, 0.651, 0.716, 0.67]\n",
            "\tsplit_size:90\t std_:  train--0.6850 test--0.5450 avg: 0.6780 max: 0.7640 >>> [0.727, 0.673, 0.709, 0.745, 0.582, 0.764, 0.545]\n",
            "\tsplit_size:50\t skew:  train--0.7060 test--0.6030 avg: 0.5950 max: 0.6290 >>> [0.618, 0.596, 0.574, 0.629, 0.551, 0.596, 0.603]\n",
            "\tsplit_size:60\t skew:  train--0.6840 test--0.5320 avg: 0.6190 max: 0.6650 >>> [0.665, 0.619, 0.606, 0.638, 0.665, 0.606, 0.532]\n",
            "\tsplit_size:70\t skew:  train--0.6970 test--0.5550 avg: 0.6180 max: 0.6830 >>> [0.683, 0.61, 0.598, 0.604, 0.616, 0.659, 0.555]\n",
            "\tsplit_size:80\t skew:  train--0.7100 test--0.5500 avg: 0.6520 max: 0.6970 >>> [0.697, 0.688, 0.642, 0.651, 0.642, 0.697, 0.55]\n",
            "\tsplit_size:90\t skew:  train--0.7100 test--0.6730 avg: 0.6520 max: 0.7270 >>> [0.564, 0.727, 0.673, 0.636, 0.636, 0.655, 0.673]\n",
            "\tsplit_size:50\t kurt:  train--0.5920 test--0.4930 avg: 0.5170 max: 0.5590 >>> [0.522, 0.559, 0.482, 0.537, 0.511, 0.515, 0.493]\n",
            "\tsplit_size:60\t kurt:  train--0.6350 test--0.4910 avg: 0.5340 max: 0.5730 >>> [0.532, 0.564, 0.5, 0.55, 0.573, 0.528, 0.491]\n",
            "\tsplit_size:70\t kurt:  train--0.6210 test--0.4820 avg: 0.5320 max: 0.5790 >>> [0.543, 0.537, 0.488, 0.549, 0.579, 0.543, 0.482]\n",
            "\tsplit_size:80\t kurt:  train--0.6320 test--0.5140 avg: 0.5580 max: 0.5960 >>> [0.569, 0.596, 0.56, 0.56, 0.523, 0.587, 0.514]\n",
            "\tsplit_size:90\t kurt:  train--0.5830 test--0.5640 avg: 0.5480 max: 0.6360 >>> [0.564, 0.618, 0.636, 0.491, 0.4, 0.564, 0.564]\n"
          ]
        },
        {
          "output_type": "stream",
          "name": "stderr",
          "text": [
            "100%|██████████| 544/544 [00:13<00:00, 40.26it/s]\n"
          ]
        },
        {
          "output_type": "stream",
          "name": "stdout",
          "text": [
            "\n",
            "window_size: 256\n",
            "\tsplit_size:50\t mean:  train--0.6880 test--0.6800 avg: 0.6700 max: 0.7060 >>> [0.632, 0.706, 0.691, 0.658, 0.651, 0.669, 0.68]\n",
            "\tsplit_size:60\t mean:  train--0.6960 test--0.7110 avg: 0.6720 max: 0.7110 >>> [0.615, 0.674, 0.679, 0.683, 0.661, 0.679, 0.711]\n",
            "\tsplit_size:70\t mean:  train--0.6920 test--0.6950 avg: 0.6730 max: 0.7260 >>> [0.683, 0.64, 0.646, 0.646, 0.726, 0.677, 0.695]\n",
            "\tsplit_size:80\t mean:  train--0.7060 test--0.6790 avg: 0.6830 max: 0.7610 >>> [0.651, 0.661, 0.661, 0.642, 0.761, 0.725, 0.679]\n",
            "\tsplit_size:90\t mean:  train--0.7030 test--0.6910 avg: 0.6700 max: 0.7270 >>> [0.673, 0.673, 0.655, 0.6, 0.727, 0.673, 0.691]\n",
            "\tsplit_size:50\t var_:  train--0.5920 test--0.4670 avg: 0.5620 max: 0.6030 >>> [0.54, 0.574, 0.592, 0.574, 0.603, 0.585, 0.467]\n",
            "\tsplit_size:60\t var_:  train--0.6440 test--0.6700 avg: 0.6010 max: 0.6700 >>> [0.564, 0.55, 0.61, 0.573, 0.642, 0.596, 0.67]\n",
            "\tsplit_size:70\t var_:  train--0.6580 test--0.6590 avg: 0.6030 max: 0.6590 >>> [0.561, 0.524, 0.622, 0.579, 0.659, 0.616, 0.659]\n",
            "\tsplit_size:80\t var_:  train--0.6210 test--0.6610 avg: 0.6200 max: 0.6610 >>> [0.587, 0.569, 0.633, 0.578, 0.661, 0.651, 0.661]\n",
            "\tsplit_size:90\t var_:  train--0.6280 test--0.7090 avg: 0.6340 max: 0.7090 >>> [0.636, 0.618, 0.636, 0.545, 0.636, 0.655, 0.709]\n",
            "\tsplit_size:50\t std_:  train--0.6210 test--0.5620 avg: 0.6320 max: 0.6760 >>> [0.603, 0.651, 0.676, 0.647, 0.643, 0.64, 0.562]\n",
            "\tsplit_size:60\t std_:  train--0.6840 test--0.7060 avg: 0.6690 max: 0.7060 >>> [0.628, 0.665, 0.693, 0.674, 0.67, 0.647, 0.706]\n",
            "\tsplit_size:70\t std_:  train--0.6790 test--0.7200 avg: 0.6650 max: 0.7200 >>> [0.628, 0.634, 0.652, 0.646, 0.713, 0.665, 0.72]\n",
            "\tsplit_size:80\t std_:  train--0.6850 test--0.7250 avg: 0.6820 max: 0.7250 >>> [0.633, 0.642, 0.661, 0.661, 0.725, 0.725, 0.725]\n",
            "\tsplit_size:90\t std_:  train--0.6850 test--0.7270 avg: 0.6550 max: 0.7270 >>> [0.618, 0.709, 0.636, 0.582, 0.655, 0.655, 0.727]\n",
            "\tsplit_size:50\t skew:  train--0.6250 test--0.4930 avg: 0.5790 max: 0.6950 >>> [0.61, 0.603, 0.57, 0.695, 0.526, 0.555, 0.493]\n",
            "\tsplit_size:60\t skew:  train--0.7210 test--0.5690 avg: 0.6140 max: 0.6830 >>> [0.583, 0.642, 0.628, 0.683, 0.555, 0.638, 0.569]\n",
            "\tsplit_size:70\t skew:  train--0.7340 test--0.6100 avg: 0.6270 max: 0.6890 >>> [0.573, 0.634, 0.689, 0.652, 0.598, 0.634, 0.61]\n",
            "\tsplit_size:80\t skew:  train--0.7520 test--0.6330 avg: 0.6540 max: 0.7060 >>> [0.661, 0.642, 0.706, 0.633, 0.624, 0.679, 0.633]\n",
            "\tsplit_size:90\t skew:  train--0.7380 test--0.5640 avg: 0.6390 max: 0.7270 >>> [0.636, 0.636, 0.727, 0.6, 0.618, 0.691, 0.564]\n",
            "\tsplit_size:50\t kurt:  train--0.6070 test--0.4850 avg: 0.5270 max: 0.5770 >>> [0.562, 0.529, 0.5, 0.577, 0.529, 0.504, 0.485]\n",
            "\tsplit_size:60\t kurt:  train--0.6290 test--0.5320 avg: 0.5350 max: 0.5780 >>> [0.532, 0.564, 0.5, 0.578, 0.523, 0.514, 0.532]\n",
            "\tsplit_size:70\t kurt:  train--0.6710 test--0.5730 avg: 0.5500 max: 0.5850 >>> [0.506, 0.549, 0.579, 0.585, 0.555, 0.5, 0.573]\n",
            "\tsplit_size:80\t kurt:  train--0.6760 test--0.5410 avg: 0.5580 max: 0.6150 >>> [0.569, 0.578, 0.615, 0.569, 0.569, 0.468, 0.541]\n",
            "\tsplit_size:90\t kurt:  train--0.6770 test--0.4550 avg: 0.5770 max: 0.6910 >>> [0.618, 0.636, 0.618, 0.545, 0.691, 0.473, 0.455]\n"
          ]
        },
        {
          "output_type": "stream",
          "name": "stderr",
          "text": [
            "100%|██████████| 544/544 [00:27<00:00, 20.00it/s]\n"
          ]
        },
        {
          "output_type": "stream",
          "name": "stdout",
          "text": [
            "\n",
            "window_size: 128\n",
            "\tsplit_size:50\t mean:  train--0.7020 test--0.7060 avg: 0.6780 max: 0.7100 >>> [0.706, 0.64, 0.673, 0.654, 0.71, 0.654, 0.706]\n",
            "\tsplit_size:60\t mean:  train--0.7180 test--0.7390 avg: 0.6900 max: 0.7390 >>> [0.688, 0.647, 0.683, 0.674, 0.706, 0.693, 0.739]\n",
            "\tsplit_size:70\t mean:  train--0.7050 test--0.7200 avg: 0.7010 max: 0.7200 >>> [0.701, 0.683, 0.701, 0.713, 0.701, 0.689, 0.72]\n",
            "\tsplit_size:80\t mean:  train--0.7010 test--0.7520 avg: 0.7180 max: 0.7520 >>> [0.697, 0.725, 0.716, 0.734, 0.697, 0.706, 0.752]\n",
            "\tsplit_size:90\t mean:  train--0.7080 test--0.7090 avg: 0.7070 max: 0.7820 >>> [0.691, 0.782, 0.727, 0.709, 0.673, 0.655, 0.709]\n",
            "\tsplit_size:50\t var_:  train--0.6690 test--0.6360 avg: 0.6170 max: 0.6470 >>> [0.647, 0.585, 0.621, 0.596, 0.629, 0.603, 0.636]\n",
            "\tsplit_size:60\t var_:  train--0.6630 test--0.6420 avg: 0.6190 max: 0.6420 >>> [0.619, 0.61, 0.628, 0.592, 0.601, 0.638, 0.642]\n",
            "\tsplit_size:70\t var_:  train--0.6760 test--0.6650 avg: 0.6230 max: 0.6830 >>> [0.579, 0.573, 0.665, 0.579, 0.616, 0.683, 0.665]\n",
            "\tsplit_size:80\t var_:  train--0.6620 test--0.6610 avg: 0.6330 max: 0.7060 >>> [0.596, 0.624, 0.679, 0.578, 0.587, 0.706, 0.661]\n",
            "\tsplit_size:90\t var_:  train--0.6710 test--0.6000 avg: 0.6130 max: 0.6910 >>> [0.582, 0.655, 0.691, 0.545, 0.564, 0.655, 0.6]\n",
            "\tsplit_size:50\t std_:  train--0.6950 test--0.6910 avg: 0.6580 max: 0.6910 >>> [0.691, 0.64, 0.647, 0.632, 0.676, 0.629, 0.691]\n",
            "\tsplit_size:60\t std_:  train--0.6930 test--0.6930 avg: 0.6680 max: 0.6930 >>> [0.665, 0.642, 0.665, 0.665, 0.67, 0.674, 0.693]\n",
            "\tsplit_size:70\t std_:  train--0.7050 test--0.6890 avg: 0.6780 max: 0.6950 >>> [0.677, 0.634, 0.689, 0.677, 0.683, 0.695, 0.689]\n",
            "\tsplit_size:80\t std_:  train--0.6990 test--0.7060 avg: 0.6910 max: 0.7250 >>> [0.661, 0.679, 0.697, 0.688, 0.679, 0.725, 0.706]\n",
            "\tsplit_size:90\t std_:  train--0.7080 test--0.6910 avg: 0.6940 max: 0.7270 >>> [0.673, 0.727, 0.727, 0.709, 0.655, 0.673, 0.691]\n",
            "\tsplit_size:50\t skew:  train--0.8350 test--0.6360 avg: 0.6350 max: 0.6760 >>> [0.64, 0.676, 0.654, 0.658, 0.618, 0.566, 0.636]\n",
            "\tsplit_size:60\t skew:  train--0.8250 test--0.6280 avg: 0.6580 max: 0.7290 >>> [0.656, 0.729, 0.674, 0.651, 0.624, 0.647, 0.628]\n",
            "\tsplit_size:70\t skew:  train--0.8370 test--0.6520 avg: 0.6710 max: 0.7260 >>> [0.64, 0.726, 0.634, 0.689, 0.713, 0.64, 0.652]\n",
            "\tsplit_size:80\t skew:  train--0.8090 test--0.6970 avg: 0.6890 max: 0.7340 >>> [0.624, 0.725, 0.642, 0.688, 0.734, 0.716, 0.697]\n",
            "\tsplit_size:90\t skew:  train--0.8200 test--0.6550 avg: 0.6730 max: 0.7450 >>> [0.655, 0.745, 0.636, 0.655, 0.673, 0.691, 0.655]\n",
            "\tsplit_size:50\t kurt:  train--0.7500 test--0.5770 avg: 0.5730 max: 0.6030 >>> [0.548, 0.603, 0.551, 0.592, 0.555, 0.585, 0.577]\n",
            "\tsplit_size:60\t kurt:  train--0.7520 test--0.6060 avg: 0.5790 max: 0.6280 >>> [0.56, 0.628, 0.537, 0.596, 0.569, 0.56, 0.606]\n",
            "\tsplit_size:70\t kurt:  train--0.7530 test--0.5980 avg: 0.5760 max: 0.6100 >>> [0.555, 0.573, 0.579, 0.573, 0.61, 0.543, 0.598]\n",
            "\tsplit_size:80\t kurt:  train--0.7610 test--0.6330 avg: 0.5640 max: 0.6330 >>> [0.523, 0.55, 0.523, 0.615, 0.578, 0.523, 0.633]\n",
            "\tsplit_size:90\t kurt:  train--0.7570 test--0.6000 avg: 0.6080 max: 0.6730 >>> [0.582, 0.6, 0.636, 0.673, 0.509, 0.655, 0.6]\n"
          ]
        },
        {
          "output_type": "stream",
          "name": "stderr",
          "text": [
            "100%|██████████| 544/544 [00:53<00:00, 10.19it/s]\n"
          ]
        },
        {
          "output_type": "stream",
          "name": "stdout",
          "text": [
            "\n",
            "window_size: 64\n",
            "\tsplit_size:50\t mean:  train--0.7430 test--0.6800 avg: 0.6720 max: 0.6950 >>> [0.662, 0.695, 0.621, 0.688, 0.688, 0.669, 0.68]\n",
            "\tsplit_size:60\t mean:  train--0.7330 test--0.6650 avg: 0.6760 max: 0.7200 >>> [0.683, 0.674, 0.642, 0.72, 0.665, 0.683, 0.665]\n",
            "\tsplit_size:70\t mean:  train--0.7240 test--0.6830 avg: 0.6890 max: 0.7320 >>> [0.689, 0.689, 0.634, 0.732, 0.683, 0.713, 0.683]\n",
            "\tsplit_size:80\t mean:  train--0.7310 test--0.6790 avg: 0.6690 max: 0.7160 >>> [0.688, 0.624, 0.606, 0.706, 0.661, 0.716, 0.679]\n",
            "\tsplit_size:90\t mean:  train--0.7220 test--0.7090 avg: 0.6750 max: 0.7640 >>> [0.764, 0.655, 0.564, 0.727, 0.582, 0.727, 0.709]\n",
            "\tsplit_size:50\t var_:  train--0.7350 test--0.5920 avg: 0.6090 max: 0.6320 >>> [0.61, 0.629, 0.585, 0.592, 0.625, 0.632, 0.592]\n",
            "\tsplit_size:60\t var_:  train--0.7020 test--0.6010 avg: 0.6000 max: 0.6380 >>> [0.569, 0.61, 0.573, 0.615, 0.596, 0.638, 0.601]\n",
            "\tsplit_size:70\t var_:  train--0.7450 test--0.6160 avg: 0.6110 max: 0.6650 >>> [0.561, 0.634, 0.573, 0.665, 0.579, 0.652, 0.616]\n",
            "\tsplit_size:80\t var_:  train--0.7290 test--0.5690 avg: 0.5980 max: 0.6510 >>> [0.541, 0.606, 0.532, 0.633, 0.651, 0.651, 0.569]\n",
            "\tsplit_size:90\t var_:  train--0.7080 test--0.6180 avg: 0.6080 max: 0.6550 >>> [0.6, 0.655, 0.491, 0.655, 0.618, 0.618, 0.618]\n",
            "\tsplit_size:50\t std_:  train--0.7460 test--0.6540 avg: 0.6640 max: 0.6910 >>> [0.654, 0.691, 0.662, 0.643, 0.676, 0.665, 0.654]\n",
            "\tsplit_size:60\t std_:  train--0.7360 test--0.6650 avg: 0.6550 max: 0.6650 >>> [0.647, 0.656, 0.651, 0.656, 0.651, 0.661, 0.665]\n",
            "\tsplit_size:70\t std_:  train--0.7370 test--0.6590 avg: 0.6670 max: 0.6770 >>> [0.665, 0.671, 0.671, 0.677, 0.646, 0.677, 0.659]\n",
            "\tsplit_size:80\t std_:  train--0.7220 test--0.6610 avg: 0.6540 max: 0.6970 >>> [0.651, 0.624, 0.615, 0.697, 0.661, 0.67, 0.661]\n",
            "\tsplit_size:90\t std_:  train--0.7120 test--0.6910 avg: 0.6570 max: 0.7270 >>> [0.673, 0.636, 0.564, 0.673, 0.636, 0.727, 0.691]\n",
            "\tsplit_size:50\t skew:  train--0.9150 test--0.7240 avg: 0.6820 max: 0.7240 >>> [0.651, 0.651, 0.676, 0.654, 0.702, 0.713, 0.724]\n",
            "\tsplit_size:60\t skew:  train--0.9260 test--0.7160 avg: 0.6960 max: 0.7160 >>> [0.688, 0.693, 0.711, 0.679, 0.702, 0.683, 0.716]\n",
            "\tsplit_size:70\t skew:  train--0.9000 test--0.7380 avg: 0.7140 max: 0.7560 >>> [0.683, 0.701, 0.701, 0.756, 0.707, 0.713, 0.738]\n",
            "\tsplit_size:80\t skew:  train--0.9060 test--0.7430 avg: 0.7290 max: 0.7980 >>> [0.734, 0.706, 0.661, 0.798, 0.743, 0.716, 0.743]\n",
            "\tsplit_size:90\t skew:  train--0.9040 test--0.6910 avg: 0.7040 max: 0.7820 >>> [0.673, 0.709, 0.782, 0.727, 0.691, 0.655, 0.691]\n",
            "\tsplit_size:50\t kurt:  train--0.9120 test--0.6180 avg: 0.6040 max: 0.6320 >>> [0.632, 0.592, 0.57, 0.57, 0.618, 0.629, 0.618]\n",
            "\tsplit_size:60\t kurt:  train--0.8990 test--0.6330 avg: 0.6130 max: 0.6330 >>> [0.619, 0.601, 0.596, 0.601, 0.633, 0.606, 0.633]\n",
            "\tsplit_size:70\t kurt:  train--0.8890 test--0.6340 avg: 0.6390 max: 0.6650 >>> [0.652, 0.659, 0.598, 0.646, 0.665, 0.616, 0.634]\n",
            "\tsplit_size:80\t kurt:  train--0.8830 test--0.6510 avg: 0.6360 max: 0.6700 >>> [0.67, 0.615, 0.587, 0.651, 0.651, 0.624, 0.651]\n",
            "\tsplit_size:90\t kurt:  train--0.8830 test--0.5270 avg: 0.5690 max: 0.6550 >>> [0.582, 0.527, 0.655, 0.564, 0.582, 0.545, 0.527]\n"
          ]
        },
        {
          "output_type": "stream",
          "name": "stderr",
          "text": [
            " 31%|███▏      | 170/544 [00:33<01:15,  4.95it/s]"
          ]
        }
      ]
    },
    {
      "cell_type": "code",
      "source": [
        ""
      ],
      "metadata": {
        "id": "uwCvtZPWz5E2"
      },
      "execution_count": null,
      "outputs": []
    },
    {
      "cell_type": "code",
      "source": [
        ""
      ],
      "metadata": {
        "id": "X2NiVbo5z5BU"
      },
      "execution_count": null,
      "outputs": []
    },
    {
      "cell_type": "code",
      "source": [
        ""
      ],
      "metadata": {
        "id": "JhLkH0suz4-u"
      },
      "execution_count": null,
      "outputs": []
    },
    {
      "cell_type": "code",
      "source": [
        "def lr_accuracy(x,y,split):\n",
        "  train_size=(len(y)*split)//100\n",
        "  x_train=x[:train_size]\n",
        "  y_train=y[:train_size]\n",
        "  x_test=x[train_size:]\n",
        "  y_test=y[train_size:]\n",
        "  linear_model=LinearRegression().fit(x_train,y_train)\n",
        "  pred=linear_model.predict(x_test)\n",
        "  pred_norm=(pred-np.min(pred))/(np.max(pred)-np.min(pred))\n",
        "  threshold=[]\n",
        "  acc=[]\n",
        "  acc_=0\n",
        "  acc__=0\n",
        "  thresh=.1\n",
        "  thresh_=0\n",
        "  while thresh<.9:\n",
        "    acc_=np.sum((y_test==(pred_norm>thresh).astype(np.int_)).astype(np.int_))/len(y_test)\n",
        "    acc.append(acc_)\n",
        "    if acc_>acc__:\n",
        "      acc__=acc_\n",
        "      thresh_=thresh\n",
        "    threshold.append(thresh)\n",
        "    thresh+=0.02\n",
        "  start_time=time.time()\n",
        "  _=linear_model.predict([x_test[-1]])\n",
        "  end_time=time.time()-start_time\n",
        "  return acc__"
      ],
      "metadata": {
        "id": "vjiHnKubz48H"
      },
      "execution_count": null,
      "outputs": []
    },
    {
      "cell_type": "code",
      "execution_count": null,
      "metadata": {
        "colab": {
          "base_uri": "https://localhost:8080/"
        },
        "id": "GfhkQXZ0xaq1",
        "outputId": "d231370b-a531-43c0-a143-d8ce714bad48"
      },
      "outputs": [
        {
          "output_type": "stream",
          "name": "stderr",
          "text": [
            "100%|██████████| 544/544 [00:02<00:00, 190.10it/s]\n"
          ]
        },
        {
          "output_type": "stream",
          "name": "stdout",
          "text": [
            "\n",
            "window_size: 1000\n",
            "\tsplit_size:50\t mean: test--0.75\n",
            "\tsplit_size:60\t mean: test--0.7935779816513762\n",
            "\tsplit_size:70\t mean: test--0.8109756097560976\n",
            "\tsplit_size:80\t mean: test--0.7889908256880734\n",
            "\tsplit_size:90\t mean: test--0.8181818181818182\n",
            "\tsplit_size:50\t variance: test--0.6617647058823529\n",
            "\tsplit_size:60\t variance: test--0.6743119266055045\n",
            "\tsplit_size:70\t variance: test--0.6951219512195121\n",
            "\tsplit_size:80\t variance: test--0.6788990825688074\n",
            "\tsplit_size:90\t variance: test--0.7454545454545455\n",
            "\tsplit_size:50\t std: test--0.6838235294117647\n",
            "\tsplit_size:60\t std: test--0.6880733944954128\n",
            "\tsplit_size:70\t std: test--0.7195121951219512\n",
            "\tsplit_size:80\t std: test--0.7339449541284404\n",
            "\tsplit_size:90\t std: test--0.7090909090909091\n",
            "\tsplit_size:50\t skew: test--0.6102941176470589\n",
            "\tsplit_size:60\t skew: test--0.5871559633027523\n",
            "\tsplit_size:70\t skew: test--0.5853658536585366\n",
            "\tsplit_size:80\t skew: test--0.5688073394495413\n",
            "\tsplit_size:90\t skew: test--0.6181818181818182\n",
            "\tsplit_size:50\t kurtosis: test--0.5772058823529411\n",
            "\tsplit_size:60\t kurtosis: test--0.5825688073394495\n",
            "\tsplit_size:70\t kurtosis: test--0.5670731707317073\n",
            "\tsplit_size:80\t kurtosis: test--0.5504587155963303\n",
            "\tsplit_size:90\t kurtosis: test--0.5636363636363636\n"
          ]
        },
        {
          "output_type": "stream",
          "name": "stderr",
          "text": [
            "100%|██████████| 544/544 [00:36<00:00, 14.79it/s]\n"
          ]
        },
        {
          "output_type": "stream",
          "name": "stdout",
          "text": [
            "\n",
            "window_size: 100\n",
            "\tsplit_size:50\t mean: test--0.7316176470588235\n",
            "\tsplit_size:60\t mean: test--0.7477064220183486\n",
            "\tsplit_size:70\t mean: test--0.7439024390243902\n",
            "\tsplit_size:80\t mean: test--0.7431192660550459\n",
            "\tsplit_size:90\t mean: test--0.7818181818181819\n",
            "\tsplit_size:50\t variance: test--0.7536764705882353\n",
            "\tsplit_size:60\t variance: test--0.7339449541284404\n",
            "\tsplit_size:70\t variance: test--0.7134146341463414\n",
            "\tsplit_size:80\t variance: test--0.6972477064220184\n",
            "\tsplit_size:90\t variance: test--0.6545454545454545\n",
            "\tsplit_size:50\t std: test--0.7352941176470589\n",
            "\tsplit_size:60\t std: test--0.7339449541284404\n",
            "\tsplit_size:70\t std: test--0.7195121951219512\n",
            "\tsplit_size:80\t std: test--0.7155963302752294\n",
            "\tsplit_size:90\t std: test--0.6909090909090909\n",
            "\tsplit_size:50\t skew: test--0.6176470588235294\n",
            "\tsplit_size:60\t skew: test--0.6055045871559633\n",
            "\tsplit_size:70\t skew: test--0.5975609756097561\n",
            "\tsplit_size:80\t skew: test--0.6238532110091743\n",
            "\tsplit_size:90\t skew: test--0.6909090909090909\n",
            "\tsplit_size:50\t kurtosis: test--0.5625\n",
            "\tsplit_size:60\t kurtosis: test--0.5779816513761468\n",
            "\tsplit_size:70\t kurtosis: test--0.5792682926829268\n",
            "\tsplit_size:80\t kurtosis: test--0.5963302752293578\n",
            "\tsplit_size:90\t kurtosis: test--0.5818181818181818\n"
          ]
        },
        {
          "output_type": "stream",
          "name": "stderr",
          "text": [
            "100%|██████████| 544/544 [05:33<00:00,  1.63it/s]\n"
          ]
        },
        {
          "output_type": "stream",
          "name": "stdout",
          "text": [
            "\n",
            "window_size: 10\n",
            "\tsplit_size:50\t mean: test--0.6691176470588235\n",
            "\tsplit_size:60\t mean: test--0.6330275229357798\n",
            "\tsplit_size:70\t mean: test--0.7378048780487805\n",
            "\tsplit_size:80\t mean: test--0.7155963302752294\n",
            "\tsplit_size:90\t mean: test--0.7818181818181819\n",
            "\tsplit_size:50\t variance: test--0.5698529411764706\n",
            "\tsplit_size:60\t variance: test--0.5596330275229358\n",
            "\tsplit_size:70\t variance: test--0.6097560975609756\n",
            "\tsplit_size:80\t variance: test--0.6330275229357798\n",
            "\tsplit_size:90\t variance: test--0.6363636363636364\n",
            "\tsplit_size:50\t std: test--0.6139705882352942\n",
            "\tsplit_size:60\t std: test--0.5871559633027523\n",
            "\tsplit_size:70\t std: test--0.6646341463414634\n",
            "\tsplit_size:80\t std: test--0.6422018348623854\n",
            "\tsplit_size:90\t std: test--0.8181818181818182\n",
            "\tsplit_size:50\t skew: test--0.5882352941176471\n",
            "\tsplit_size:60\t skew: test--0.555045871559633\n",
            "\tsplit_size:70\t skew: test--0.5792682926829268\n",
            "\tsplit_size:80\t skew: test--0.5688073394495413\n",
            "\tsplit_size:90\t skew: test--0.6181818181818182\n",
            "\tsplit_size:50\t kurtosis: test--0.6029411764705882\n",
            "\tsplit_size:60\t kurtosis: test--0.591743119266055\n",
            "\tsplit_size:70\t kurtosis: test--0.5792682926829268\n",
            "\tsplit_size:80\t kurtosis: test--0.6146788990825688\n",
            "\tsplit_size:90\t kurtosis: test--0.6545454545454545\n"
          ]
        },
        {
          "output_type": "stream",
          "name": "stderr",
          "text": [
            "100%|██████████| 544/544 [00:00<00:00, 677.57it/s]\n"
          ]
        },
        {
          "output_type": "stream",
          "name": "stdout",
          "text": [
            "\n",
            "window_size: 4096\n",
            "\tsplit_size:50\t mean: test--0.6691176470588235\n",
            "\tsplit_size:60\t mean: test--0.6926605504587156\n",
            "\tsplit_size:70\t mean: test--0.6585365853658537\n",
            "\tsplit_size:80\t mean: test--0.6880733944954128\n",
            "\tsplit_size:90\t mean: test--0.6909090909090909\n",
            "\tsplit_size:50\t variance: test--0.6102941176470589\n",
            "\tsplit_size:60\t variance: test--0.6330275229357798\n",
            "\tsplit_size:70\t variance: test--0.6158536585365854\n",
            "\tsplit_size:80\t variance: test--0.6513761467889908\n",
            "\tsplit_size:90\t variance: test--0.6727272727272727\n",
            "\tsplit_size:50\t std: test--0.6323529411764706\n",
            "\tsplit_size:60\t std: test--0.6467889908256881\n",
            "\tsplit_size:70\t std: test--0.6341463414634146\n",
            "\tsplit_size:80\t std: test--0.6513761467889908\n",
            "\tsplit_size:90\t std: test--0.6909090909090909\n",
            "\tsplit_size:50\t skew: test--0.6838235294117647\n",
            "\tsplit_size:60\t skew: test--0.6972477064220184\n",
            "\tsplit_size:70\t skew: test--0.7134146341463414\n",
            "\tsplit_size:80\t skew: test--0.6880733944954128\n",
            "\tsplit_size:90\t skew: test--0.7818181818181819\n",
            "\tsplit_size:50\t kurtosis: test--0.6544117647058824\n",
            "\tsplit_size:60\t kurtosis: test--0.6559633027522935\n",
            "\tsplit_size:70\t kurtosis: test--0.6646341463414634\n",
            "\tsplit_size:80\t kurtosis: test--0.6605504587155964\n",
            "\tsplit_size:90\t kurtosis: test--0.7090909090909091\n"
          ]
        },
        {
          "output_type": "stream",
          "name": "stderr",
          "text": [
            "100%|██████████| 544/544 [00:01<00:00, 327.52it/s]\n"
          ]
        },
        {
          "output_type": "stream",
          "name": "stdout",
          "text": [
            "\n",
            "window_size: 2048\n",
            "\tsplit_size:50\t mean: test--0.6948529411764706\n",
            "\tsplit_size:60\t mean: test--0.6743119266055045\n",
            "\tsplit_size:70\t mean: test--0.6707317073170732\n",
            "\tsplit_size:80\t mean: test--0.6788990825688074\n",
            "\tsplit_size:90\t mean: test--0.7090909090909091\n",
            "\tsplit_size:50\t variance: test--0.6323529411764706\n",
            "\tsplit_size:60\t variance: test--0.6284403669724771\n",
            "\tsplit_size:70\t variance: test--0.6402439024390244\n",
            "\tsplit_size:80\t variance: test--0.6605504587155964\n",
            "\tsplit_size:90\t variance: test--0.7090909090909091\n",
            "\tsplit_size:50\t std: test--0.6470588235294118\n",
            "\tsplit_size:60\t std: test--0.6284403669724771\n",
            "\tsplit_size:70\t std: test--0.6341463414634146\n",
            "\tsplit_size:80\t std: test--0.6605504587155964\n",
            "\tsplit_size:90\t std: test--0.7090909090909091\n",
            "\tsplit_size:50\t skew: test--0.5992647058823529\n",
            "\tsplit_size:60\t skew: test--0.6146788990825688\n",
            "\tsplit_size:70\t skew: test--0.6097560975609756\n",
            "\tsplit_size:80\t skew: test--0.6238532110091743\n",
            "\tsplit_size:90\t skew: test--0.6181818181818182\n",
            "\tsplit_size:50\t kurtosis: test--0.5992647058823529\n",
            "\tsplit_size:60\t kurtosis: test--0.5871559633027523\n",
            "\tsplit_size:70\t kurtosis: test--0.6158536585365854\n",
            "\tsplit_size:80\t kurtosis: test--0.6330275229357798\n",
            "\tsplit_size:90\t kurtosis: test--0.6363636363636364\n"
          ]
        },
        {
          "output_type": "stream",
          "name": "stderr",
          "text": [
            "100%|██████████| 544/544 [00:02<00:00, 184.15it/s]\n"
          ]
        },
        {
          "output_type": "stream",
          "name": "stdout",
          "text": [
            "\n",
            "window_size: 1024\n",
            "\tsplit_size:50\t mean: test--0.75\n",
            "\tsplit_size:60\t mean: test--0.7660550458715596\n",
            "\tsplit_size:70\t mean: test--0.7865853658536586\n",
            "\tsplit_size:80\t mean: test--0.8165137614678899\n",
            "\tsplit_size:90\t mean: test--0.8\n",
            "\tsplit_size:50\t variance: test--0.6580882352941176\n",
            "\tsplit_size:60\t variance: test--0.6559633027522935\n",
            "\tsplit_size:70\t variance: test--0.6707317073170732\n",
            "\tsplit_size:80\t variance: test--0.6972477064220184\n",
            "\tsplit_size:90\t variance: test--0.7454545454545455\n",
            "\tsplit_size:50\t std: test--0.6911764705882353\n",
            "\tsplit_size:60\t std: test--0.7018348623853211\n",
            "\tsplit_size:70\t std: test--0.7134146341463414\n",
            "\tsplit_size:80\t std: test--0.7706422018348624\n",
            "\tsplit_size:90\t std: test--0.8\n",
            "\tsplit_size:50\t skew: test--0.5367647058823529\n",
            "\tsplit_size:60\t skew: test--0.5504587155963303\n",
            "\tsplit_size:70\t skew: test--0.5670731707317073\n",
            "\tsplit_size:80\t skew: test--0.5779816513761468\n",
            "\tsplit_size:90\t skew: test--0.6181818181818182\n",
            "\tsplit_size:50\t kurtosis: test--0.5367647058823529\n",
            "\tsplit_size:60\t kurtosis: test--0.5596330275229358\n",
            "\tsplit_size:70\t kurtosis: test--0.5609756097560976\n",
            "\tsplit_size:80\t kurtosis: test--0.5963302752293578\n",
            "\tsplit_size:90\t kurtosis: test--0.6363636363636364\n"
          ]
        },
        {
          "output_type": "stream",
          "name": "stderr",
          "text": [
            "100%|██████████| 544/544 [00:06<00:00, 88.85it/s]\n"
          ]
        },
        {
          "output_type": "stream",
          "name": "stdout",
          "text": [
            "\n",
            "window_size: 512\n",
            "\tsplit_size:50\t mean: test--0.7720588235294118\n",
            "\tsplit_size:60\t mean: test--0.7706422018348624\n",
            "\tsplit_size:70\t mean: test--0.7621951219512195\n",
            "\tsplit_size:80\t mean: test--0.8256880733944955\n",
            "\tsplit_size:90\t mean: test--0.8727272727272727\n",
            "\tsplit_size:50\t variance: test--0.7389705882352942\n",
            "\tsplit_size:60\t variance: test--0.7339449541284404\n",
            "\tsplit_size:70\t variance: test--0.7378048780487805\n",
            "\tsplit_size:80\t variance: test--0.7064220183486238\n",
            "\tsplit_size:90\t variance: test--0.7454545454545455\n",
            "\tsplit_size:50\t std: test--0.7389705882352942\n",
            "\tsplit_size:60\t std: test--0.7201834862385321\n",
            "\tsplit_size:70\t std: test--0.7073170731707317\n",
            "\tsplit_size:80\t std: test--0.6788990825688074\n",
            "\tsplit_size:90\t std: test--0.7454545454545455\n",
            "\tsplit_size:50\t skew: test--0.5845588235294118\n",
            "\tsplit_size:60\t skew: test--0.6376146788990825\n",
            "\tsplit_size:70\t skew: test--0.6219512195121951\n",
            "\tsplit_size:80\t skew: test--0.6330275229357798\n",
            "\tsplit_size:90\t skew: test--0.6363636363636364\n",
            "\tsplit_size:50\t kurtosis: test--0.5625\n",
            "\tsplit_size:60\t kurtosis: test--0.6009174311926605\n",
            "\tsplit_size:70\t kurtosis: test--0.5853658536585366\n",
            "\tsplit_size:80\t kurtosis: test--0.6055045871559633\n",
            "\tsplit_size:90\t kurtosis: test--0.6181818181818182\n"
          ]
        },
        {
          "output_type": "stream",
          "name": "stderr",
          "text": [
            "100%|██████████| 544/544 [00:13<00:00, 40.05it/s]\n"
          ]
        },
        {
          "output_type": "stream",
          "name": "stdout",
          "text": [
            "\n",
            "window_size: 256\n",
            "\tsplit_size:50\t mean: test--0.75\n",
            "\tsplit_size:60\t mean: test--0.7477064220183486\n",
            "\tsplit_size:70\t mean: test--0.8048780487804879\n",
            "\tsplit_size:80\t mean: test--0.7981651376146789\n",
            "\tsplit_size:90\t mean: test--0.8181818181818182\n",
            "\tsplit_size:50\t variance: test--0.7242647058823529\n",
            "\tsplit_size:60\t variance: test--0.7293577981651376\n",
            "\tsplit_size:70\t variance: test--0.7439024390243902\n",
            "\tsplit_size:80\t variance: test--0.7522935779816514\n",
            "\tsplit_size:90\t variance: test--0.7272727272727273\n",
            "\tsplit_size:50\t std: test--0.7463235294117647\n",
            "\tsplit_size:60\t std: test--0.7614678899082569\n",
            "\tsplit_size:70\t std: test--0.7621951219512195\n",
            "\tsplit_size:80\t std: test--0.7889908256880734\n",
            "\tsplit_size:90\t std: test--0.7090909090909091\n",
            "\tsplit_size:50\t skew: test--0.5919117647058824\n",
            "\tsplit_size:60\t skew: test--0.6330275229357798\n",
            "\tsplit_size:70\t skew: test--0.6463414634146342\n",
            "\tsplit_size:80\t skew: test--0.6605504587155964\n",
            "\tsplit_size:90\t skew: test--0.7090909090909091\n",
            "\tsplit_size:50\t kurtosis: test--0.5661764705882353\n",
            "\tsplit_size:60\t kurtosis: test--0.6055045871559633\n",
            "\tsplit_size:70\t kurtosis: test--0.6158536585365854\n",
            "\tsplit_size:80\t kurtosis: test--0.6880733944954128\n",
            "\tsplit_size:90\t kurtosis: test--0.7090909090909091\n"
          ]
        },
        {
          "output_type": "stream",
          "name": "stderr",
          "text": [
            "100%|██████████| 544/544 [00:28<00:00, 19.23it/s]\n"
          ]
        },
        {
          "output_type": "stream",
          "name": "stdout",
          "text": [
            "\n",
            "window_size: 128\n",
            "\tsplit_size:50\t mean: test--0.7904411764705882\n",
            "\tsplit_size:60\t mean: test--0.8119266055045872\n",
            "\tsplit_size:70\t mean: test--0.8109756097560976\n",
            "\tsplit_size:80\t mean: test--0.8165137614678899\n",
            "\tsplit_size:90\t mean: test--0.8363636363636363\n",
            "\tsplit_size:50\t variance: test--0.7022058823529411\n",
            "\tsplit_size:60\t variance: test--0.7064220183486238\n",
            "\tsplit_size:70\t variance: test--0.7134146341463414\n",
            "\tsplit_size:80\t variance: test--0.7522935779816514\n",
            "\tsplit_size:90\t variance: test--0.8363636363636363\n",
            "\tsplit_size:50\t std: test--0.7095588235294118\n",
            "\tsplit_size:60\t std: test--0.7201834862385321\n",
            "\tsplit_size:70\t std: test--0.7439024390243902\n",
            "\tsplit_size:80\t std: test--0.7431192660550459\n",
            "\tsplit_size:90\t std: test--0.8\n",
            "\tsplit_size:50\t skew: test--0.6066176470588235\n",
            "\tsplit_size:60\t skew: test--0.6330275229357798\n",
            "\tsplit_size:70\t skew: test--0.6524390243902439\n",
            "\tsplit_size:80\t skew: test--0.6788990825688074\n",
            "\tsplit_size:90\t skew: test--0.6363636363636364\n",
            "\tsplit_size:50\t kurtosis: test--0.6102941176470589\n",
            "\tsplit_size:60\t kurtosis: test--0.6376146788990825\n",
            "\tsplit_size:70\t kurtosis: test--0.6707317073170732\n",
            "\tsplit_size:80\t kurtosis: test--0.6330275229357798\n",
            "\tsplit_size:90\t kurtosis: test--0.6181818181818182\n"
          ]
        },
        {
          "output_type": "stream",
          "name": "stderr",
          "text": [
            "100%|██████████| 544/544 [00:56<00:00,  9.59it/s]\n"
          ]
        },
        {
          "output_type": "stream",
          "name": "stdout",
          "text": [
            "\n",
            "window_size: 64\n",
            "\tsplit_size:50\t mean: test--0.7463235294117647\n",
            "\tsplit_size:60\t mean: test--0.7844036697247706\n",
            "\tsplit_size:70\t mean: test--0.7682926829268293\n",
            "\tsplit_size:80\t mean: test--0.7431192660550459\n",
            "\tsplit_size:90\t mean: test--0.8363636363636363\n",
            "\tsplit_size:50\t variance: test--0.6838235294117647\n",
            "\tsplit_size:60\t variance: test--0.7431192660550459\n",
            "\tsplit_size:70\t variance: test--0.7195121951219512\n",
            "\tsplit_size:80\t variance: test--0.6972477064220184\n",
            "\tsplit_size:90\t variance: test--0.7090909090909091\n",
            "\tsplit_size:50\t std: test--0.6654411764705882\n",
            "\tsplit_size:60\t std: test--0.7431192660550459\n",
            "\tsplit_size:70\t std: test--0.7134146341463414\n",
            "\tsplit_size:80\t std: test--0.7247706422018348\n",
            "\tsplit_size:90\t std: test--0.7818181818181819\n",
            "\tsplit_size:50\t skew: test--0.6544117647058824\n",
            "\tsplit_size:60\t skew: test--0.6422018348623854\n",
            "\tsplit_size:70\t skew: test--0.6707317073170732\n",
            "\tsplit_size:80\t skew: test--0.6788990825688074\n",
            "\tsplit_size:90\t skew: test--0.7272727272727273\n",
            "\tsplit_size:50\t kurtosis: test--0.5735294117647058\n",
            "\tsplit_size:60\t kurtosis: test--0.5963302752293578\n",
            "\tsplit_size:70\t kurtosis: test--0.6158536585365854\n",
            "\tsplit_size:80\t kurtosis: test--0.6788990825688074\n",
            "\tsplit_size:90\t kurtosis: test--0.6909090909090909\n"
          ]
        },
        {
          "output_type": "stream",
          "name": "stderr",
          "text": [
            "100%|██████████| 544/544 [01:50<00:00,  4.94it/s]\n"
          ]
        },
        {
          "output_type": "stream",
          "name": "stdout",
          "text": [
            "\n",
            "window_size: 32\n",
            "\tsplit_size:50\t mean: test--0.5220588235294118\n",
            "\tsplit_size:60\t mean: test--0.7018348623853211\n",
            "\tsplit_size:70\t mean: test--0.6585365853658537\n",
            "\tsplit_size:80\t mean: test--0.7339449541284404\n",
            "\tsplit_size:90\t mean: test--0.7818181818181819\n",
            "\tsplit_size:50\t variance: test--0.5661764705882353\n",
            "\tsplit_size:60\t variance: test--0.6651376146788991\n",
            "\tsplit_size:70\t variance: test--0.7012195121951219\n",
            "\tsplit_size:80\t variance: test--0.7522935779816514\n",
            "\tsplit_size:90\t variance: test--0.7272727272727273\n",
            "\tsplit_size:50\t std: test--0.5919117647058824\n",
            "\tsplit_size:60\t std: test--0.6559633027522935\n",
            "\tsplit_size:70\t std: test--0.6829268292682927\n",
            "\tsplit_size:80\t std: test--0.7431192660550459\n",
            "\tsplit_size:90\t std: test--0.7636363636363637\n",
            "\tsplit_size:50\t skew: test--0.625\n",
            "\tsplit_size:60\t skew: test--0.6192660550458715\n",
            "\tsplit_size:70\t skew: test--0.6646341463414634\n",
            "\tsplit_size:80\t skew: test--0.6330275229357798\n",
            "\tsplit_size:90\t skew: test--0.5818181818181818\n",
            "\tsplit_size:50\t kurtosis: test--0.5772058823529411\n",
            "\tsplit_size:60\t kurtosis: test--0.5779816513761468\n",
            "\tsplit_size:70\t kurtosis: test--0.6158536585365854\n",
            "\tsplit_size:80\t kurtosis: test--0.5412844036697247\n",
            "\tsplit_size:90\t kurtosis: test--0.6\n"
          ]
        },
        {
          "output_type": "stream",
          "name": "stderr",
          "text": [
            "100%|██████████| 544/544 [03:36<00:00,  2.51it/s]\n"
          ]
        },
        {
          "output_type": "stream",
          "name": "stdout",
          "text": [
            "\n",
            "window_size: 16\n",
            "\tsplit_size:50\t mean: test--0.6875\n",
            "\tsplit_size:60\t mean: test--0.7155963302752294\n",
            "\tsplit_size:70\t mean: test--0.7073170731707317\n",
            "\tsplit_size:80\t mean: test--0.7247706422018348\n",
            "\tsplit_size:90\t mean: test--0.7272727272727273\n",
            "\tsplit_size:50\t variance: test--0.5845588235294118\n",
            "\tsplit_size:60\t variance: test--0.5504587155963303\n",
            "\tsplit_size:70\t variance: test--0.6097560975609756\n",
            "\tsplit_size:80\t variance: test--0.5412844036697247\n",
            "\tsplit_size:90\t variance: test--0.6363636363636364\n",
            "\tsplit_size:50\t std: test--0.6139705882352942\n",
            "\tsplit_size:60\t std: test--0.591743119266055\n",
            "\tsplit_size:70\t std: test--0.6585365853658537\n",
            "\tsplit_size:80\t std: test--0.6055045871559633\n",
            "\tsplit_size:90\t std: test--0.6727272727272727\n",
            "\tsplit_size:50\t skew: test--0.6066176470588235\n",
            "\tsplit_size:60\t skew: test--0.6009174311926605\n",
            "\tsplit_size:70\t skew: test--0.6097560975609756\n",
            "\tsplit_size:80\t skew: test--0.5779816513761468\n",
            "\tsplit_size:90\t skew: test--0.6\n",
            "\tsplit_size:50\t kurtosis: test--0.5808823529411765\n",
            "\tsplit_size:60\t kurtosis: test--0.6146788990825688\n",
            "\tsplit_size:70\t kurtosis: test--0.6585365853658537\n",
            "\tsplit_size:80\t kurtosis: test--0.5871559633027523\n",
            "\tsplit_size:90\t kurtosis: test--0.5636363636363636\n"
          ]
        },
        {
          "output_type": "stream",
          "name": "stderr",
          "text": [
            "100%|██████████| 544/544 [06:54<00:00,  1.31it/s]\n"
          ]
        },
        {
          "output_type": "stream",
          "name": "stdout",
          "text": [
            "\n",
            "window_size: 8\n",
            "\tsplit_size:50\t mean: test--0.6985294117647058\n",
            "\tsplit_size:60\t mean: test--0.6697247706422018\n",
            "\tsplit_size:70\t mean: test--0.6951219512195121\n",
            "\tsplit_size:80\t mean: test--0.7155963302752294\n",
            "\tsplit_size:90\t mean: test--0.7636363636363637\n",
            "\tsplit_size:50\t variance: test--0.6066176470588235\n",
            "\tsplit_size:60\t variance: test--0.5825688073394495\n",
            "\tsplit_size:70\t variance: test--0.5975609756097561\n",
            "\tsplit_size:80\t variance: test--0.6330275229357798\n",
            "\tsplit_size:90\t variance: test--0.6909090909090909\n",
            "\tsplit_size:50\t std: test--0.6139705882352942\n",
            "\tsplit_size:60\t std: test--0.6376146788990825\n",
            "\tsplit_size:70\t std: test--0.6585365853658537\n",
            "\tsplit_size:80\t std: test--0.6880733944954128\n",
            "\tsplit_size:90\t std: test--0.8181818181818182\n",
            "\tsplit_size:50\t skew: test--0.5514705882352942\n",
            "\tsplit_size:60\t skew: test--0.5779816513761468\n",
            "\tsplit_size:70\t skew: test--0.5609756097560976\n",
            "\tsplit_size:80\t skew: test--0.5871559633027523\n",
            "\tsplit_size:90\t skew: test--0.6545454545454545\n",
            "\tsplit_size:50\t kurtosis: test--0.5772058823529411\n",
            "\tsplit_size:60\t kurtosis: test--0.5458715596330275\n",
            "\tsplit_size:70\t kurtosis: test--0.5487804878048781\n",
            "\tsplit_size:80\t kurtosis: test--0.6055045871559633\n",
            "\tsplit_size:90\t kurtosis: test--0.5454545454545454\n"
          ]
        },
        {
          "output_type": "stream",
          "name": "stderr",
          "text": [
            "100%|██████████| 544/544 [13:55<00:00,  1.54s/it]\n"
          ]
        },
        {
          "output_type": "stream",
          "name": "stdout",
          "text": [
            "\n",
            "window_size: 4\n",
            "\tsplit_size:50\t mean: test--0.6507352941176471\n",
            "\tsplit_size:60\t mean: test--0.6743119266055045\n",
            "\tsplit_size:70\t mean: test--0.676829268292683\n",
            "\tsplit_size:80\t mean: test--0.7064220183486238\n",
            "\tsplit_size:90\t mean: test--0.6727272727272727\n",
            "\tsplit_size:50\t variance: test--0.5919117647058824\n",
            "\tsplit_size:60\t variance: test--0.5963302752293578\n",
            "\tsplit_size:70\t variance: test--0.5975609756097561\n",
            "\tsplit_size:80\t variance: test--0.6238532110091743\n",
            "\tsplit_size:90\t variance: test--0.6363636363636364\n",
            "\tsplit_size:50\t std: test--0.5845588235294118\n",
            "\tsplit_size:60\t std: test--0.6100917431192661\n",
            "\tsplit_size:70\t std: test--0.6463414634146342\n",
            "\tsplit_size:80\t std: test--0.6605504587155964\n",
            "\tsplit_size:90\t std: test--0.5818181818181818\n",
            "\tsplit_size:50\t skew: test--0.5551470588235294\n",
            "\tsplit_size:60\t skew: test--0.555045871559633\n",
            "\tsplit_size:70\t skew: test--0.6036585365853658\n",
            "\tsplit_size:80\t skew: test--0.6422018348623854\n",
            "\tsplit_size:90\t skew: test--0.6\n",
            "\tsplit_size:50\t kurtosis: test--0.5992647058823529\n",
            "\tsplit_size:60\t kurtosis: test--0.6146788990825688\n",
            "\tsplit_size:70\t kurtosis: test--0.6036585365853658\n",
            "\tsplit_size:80\t kurtosis: test--0.5871559633027523\n",
            "\tsplit_size:90\t kurtosis: test--0.6181818181818182\n"
          ]
        },
        {
          "output_type": "stream",
          "name": "stderr",
          "text": [
            "100%|██████████| 544/544 [23:16<00:00,  2.57s/it]\n"
          ]
        },
        {
          "output_type": "stream",
          "name": "stdout",
          "text": [
            "\n",
            "window_size: 2\n",
            "\tsplit_size:50\t mean: test--0.6801470588235294\n",
            "\tsplit_size:60\t mean: test--0.6880733944954128\n",
            "\tsplit_size:70\t mean: test--0.6646341463414634\n",
            "\tsplit_size:80\t mean: test--0.7155963302752294\n",
            "\tsplit_size:90\t mean: test--0.7636363636363637\n",
            "\tsplit_size:50\t variance: test--0.5735294117647058\n",
            "\tsplit_size:60\t variance: test--0.5688073394495413\n",
            "\tsplit_size:70\t variance: test--0.5914634146341463\n",
            "\tsplit_size:80\t variance: test--0.6513761467889908\n",
            "\tsplit_size:90\t variance: test--0.6\n",
            "\tsplit_size:50\t std: test--0.6397058823529411\n",
            "\tsplit_size:60\t std: test--0.6284403669724771\n",
            "\tsplit_size:70\t std: test--0.6341463414634146\n",
            "\tsplit_size:80\t std: test--0.6513761467889908\n",
            "\tsplit_size:90\t std: test--0.6909090909090909\n",
            "\tsplit_size:50\t skew: test--0.5294117647058824\n",
            "\tsplit_size:60\t skew: test--0.555045871559633\n",
            "\tsplit_size:70\t skew: test--0.5853658536585366\n",
            "\tsplit_size:80\t skew: test--0.5963302752293578\n",
            "\tsplit_size:90\t skew: test--0.6\n",
            "\tsplit_size:50\t kurtosis: test--0.5441176470588235\n",
            "\tsplit_size:60\t kurtosis: test--0.5688073394495413\n",
            "\tsplit_size:70\t kurtosis: test--0.5975609756097561\n",
            "\tsplit_size:80\t kurtosis: test--0.5779816513761468\n",
            "\tsplit_size:90\t kurtosis: test--0.6363636363636364\n"
          ]
        },
        {
          "output_type": "stream",
          "name": "stderr",
          "text": [
            "100%|██████████| 544/544 [43:54<00:00,  4.84s/it]\n"
          ]
        },
        {
          "output_type": "stream",
          "name": "stdout",
          "text": [
            "\n",
            "window_size: 1\n",
            "\tsplit_size:50\t mean: test--0.6838235294117647\n",
            "\tsplit_size:60\t mean: test--0.6605504587155964\n",
            "\tsplit_size:70\t mean: test--0.6585365853658537\n",
            "\tsplit_size:80\t mean: test--0.6972477064220184\n",
            "\tsplit_size:90\t mean: test--0.7272727272727273\n"
          ]
        },
        {
          "output_type": "stream",
          "name": "stderr",
          "text": [
            "/usr/local/lib/python3.7/dist-packages/ipykernel_launcher.py:9: RuntimeWarning: invalid value encountered in true_divide\n",
            "  if __name__ == '__main__':\n",
            "/usr/local/lib/python3.7/dist-packages/ipykernel_launcher.py:9: RuntimeWarning: invalid value encountered in true_divide\n",
            "  if __name__ == '__main__':\n"
          ]
        },
        {
          "output_type": "stream",
          "name": "stdout",
          "text": [
            "\tsplit_size:50\t variance: test--0.4889705882352941\n",
            "\tsplit_size:60\t variance: test--0.47706422018348627\n"
          ]
        },
        {
          "output_type": "stream",
          "name": "stderr",
          "text": [
            "/usr/local/lib/python3.7/dist-packages/ipykernel_launcher.py:9: RuntimeWarning: invalid value encountered in true_divide\n",
            "  if __name__ == '__main__':\n"
          ]
        },
        {
          "output_type": "stream",
          "name": "stdout",
          "text": [
            "\tsplit_size:70\t variance: test--0.4878048780487805\n",
            "\tsplit_size:80\t variance: test--0.5137614678899083\n"
          ]
        },
        {
          "output_type": "stream",
          "name": "stderr",
          "text": [
            "/usr/local/lib/python3.7/dist-packages/ipykernel_launcher.py:9: RuntimeWarning: invalid value encountered in true_divide\n",
            "  if __name__ == '__main__':\n",
            "/usr/local/lib/python3.7/dist-packages/ipykernel_launcher.py:9: RuntimeWarning: invalid value encountered in true_divide\n",
            "  if __name__ == '__main__':\n"
          ]
        },
        {
          "output_type": "stream",
          "name": "stdout",
          "text": [
            "\tsplit_size:90\t variance: test--0.5818181818181818\n"
          ]
        },
        {
          "output_type": "stream",
          "name": "stderr",
          "text": [
            "/usr/local/lib/python3.7/dist-packages/ipykernel_launcher.py:9: RuntimeWarning: invalid value encountered in true_divide\n",
            "  if __name__ == '__main__':\n"
          ]
        },
        {
          "output_type": "stream",
          "name": "stdout",
          "text": [
            "\tsplit_size:50\t std: test--0.4889705882352941\n",
            "\tsplit_size:60\t std: test--0.47706422018348627\n"
          ]
        },
        {
          "output_type": "stream",
          "name": "stderr",
          "text": [
            "/usr/local/lib/python3.7/dist-packages/ipykernel_launcher.py:9: RuntimeWarning: invalid value encountered in true_divide\n",
            "  if __name__ == '__main__':\n",
            "/usr/local/lib/python3.7/dist-packages/ipykernel_launcher.py:9: RuntimeWarning: invalid value encountered in true_divide\n",
            "  if __name__ == '__main__':\n"
          ]
        },
        {
          "output_type": "stream",
          "name": "stdout",
          "text": [
            "\tsplit_size:70\t std: test--0.4878048780487805\n"
          ]
        },
        {
          "output_type": "stream",
          "name": "stderr",
          "text": [
            "/usr/local/lib/python3.7/dist-packages/ipykernel_launcher.py:9: RuntimeWarning: invalid value encountered in true_divide\n",
            "  if __name__ == '__main__':\n"
          ]
        },
        {
          "output_type": "stream",
          "name": "stdout",
          "text": [
            "\tsplit_size:80\t std: test--0.5137614678899083\n",
            "\tsplit_size:90\t std: test--0.5818181818181818\n"
          ]
        },
        {
          "output_type": "stream",
          "name": "stderr",
          "text": [
            "/usr/local/lib/python3.7/dist-packages/ipykernel_launcher.py:9: RuntimeWarning: invalid value encountered in true_divide\n",
            "  if __name__ == '__main__':\n",
            "/usr/local/lib/python3.7/dist-packages/ipykernel_launcher.py:9: RuntimeWarning: invalid value encountered in true_divide\n",
            "  if __name__ == '__main__':\n"
          ]
        },
        {
          "output_type": "stream",
          "name": "stdout",
          "text": [
            "\tsplit_size:50\t skew: test--0.4889705882352941\n",
            "\tsplit_size:60\t skew: test--0.47706422018348627\n"
          ]
        },
        {
          "output_type": "stream",
          "name": "stderr",
          "text": [
            "/usr/local/lib/python3.7/dist-packages/ipykernel_launcher.py:9: RuntimeWarning: invalid value encountered in true_divide\n",
            "  if __name__ == '__main__':\n",
            "/usr/local/lib/python3.7/dist-packages/ipykernel_launcher.py:9: RuntimeWarning: invalid value encountered in true_divide\n",
            "  if __name__ == '__main__':\n"
          ]
        },
        {
          "output_type": "stream",
          "name": "stdout",
          "text": [
            "\tsplit_size:70\t skew: test--0.4878048780487805\n"
          ]
        },
        {
          "output_type": "stream",
          "name": "stderr",
          "text": [
            "/usr/local/lib/python3.7/dist-packages/ipykernel_launcher.py:9: RuntimeWarning: invalid value encountered in true_divide\n",
            "  if __name__ == '__main__':\n"
          ]
        },
        {
          "output_type": "stream",
          "name": "stdout",
          "text": [
            "\tsplit_size:80\t skew: test--0.5137614678899083\n",
            "\tsplit_size:90\t skew: test--0.5818181818181818\n"
          ]
        },
        {
          "output_type": "stream",
          "name": "stderr",
          "text": [
            "/usr/local/lib/python3.7/dist-packages/ipykernel_launcher.py:9: RuntimeWarning: invalid value encountered in true_divide\n",
            "  if __name__ == '__main__':\n",
            "/usr/local/lib/python3.7/dist-packages/ipykernel_launcher.py:9: RuntimeWarning: invalid value encountered in true_divide\n",
            "  if __name__ == '__main__':\n"
          ]
        },
        {
          "output_type": "stream",
          "name": "stdout",
          "text": [
            "\tsplit_size:50\t kurtosis: test--0.4889705882352941\n",
            "\tsplit_size:60\t kurtosis: test--0.47706422018348627\n"
          ]
        },
        {
          "output_type": "stream",
          "name": "stderr",
          "text": [
            "/usr/local/lib/python3.7/dist-packages/ipykernel_launcher.py:9: RuntimeWarning: invalid value encountered in true_divide\n",
            "  if __name__ == '__main__':\n",
            "/usr/local/lib/python3.7/dist-packages/ipykernel_launcher.py:9: RuntimeWarning: invalid value encountered in true_divide\n",
            "  if __name__ == '__main__':\n"
          ]
        },
        {
          "output_type": "stream",
          "name": "stdout",
          "text": [
            "\tsplit_size:70\t kurtosis: test--0.4878048780487805\n",
            "\tsplit_size:80\t kurtosis: test--0.5137614678899083\n"
          ]
        },
        {
          "output_type": "stream",
          "name": "stderr",
          "text": [
            "/usr/local/lib/python3.7/dist-packages/ipykernel_launcher.py:9: RuntimeWarning: invalid value encountered in true_divide\n",
            "  if __name__ == '__main__':\n"
          ]
        },
        {
          "output_type": "stream",
          "name": "stdout",
          "text": [
            "\tsplit_size:90\t kurtosis: test--0.5818181818181818\n"
          ]
        },
        {
          "output_type": "stream",
          "name": "stderr",
          "text": [
            "/usr/local/lib/python3.7/dist-packages/ipykernel_launcher.py:9: RuntimeWarning: invalid value encountered in true_divide\n",
            "  if __name__ == '__main__':\n"
          ]
        }
      ],
      "source": [
        "# with abs\n",
        "\n",
        "with open(lr_log,\"w\") as log_file:\n",
        "  for window_size in all_window_sizes:\n",
        "    x_data,y_data=shuffle(X,Y)\n",
        "    segmented_data=segment_data(window_size,x_data)\n",
        "    log_file.write(\"\\n\\nwindow_size: \"+str(window_size))\n",
        "    print(\"\\nwindow_size: \"+str(window_size))\n",
        "    for key in segmented_data.keys():\n",
        "      for split_size in range(50,100,10):\n",
        "        acc=lr_accuracy(np.array(segmented_data[key]),y_data,split_size)\n",
        "        text=\"\\tsplit_size:\"+str(split_size)+\"\\t \"+str(key)+\": test--\"+str(acc)\n",
        "        print(text)\n",
        "        log_file.write(text)"
      ]
    },
    {
      "cell_type": "code",
      "execution_count": null,
      "metadata": {
        "id": "qX7zznMSxaod"
      },
      "outputs": [],
      "source": [
        "\n"
      ]
    },
    {
      "cell_type": "code",
      "execution_count": null,
      "metadata": {
        "id": "9Lk1BAGoxal2"
      },
      "outputs": [],
      "source": [
        ""
      ]
    },
    {
      "cell_type": "code",
      "execution_count": null,
      "metadata": {
        "id": "xpCgmJdrxajf"
      },
      "outputs": [],
      "source": [
        ""
      ]
    }
  ],
  "metadata": {
    "colab": {
      "name": "bridge_exp_final.ipynb",
      "provenance": [],
      "collapsed_sections": []
    },
    "kernelspec": {
      "display_name": "Python 3",
      "name": "python3"
    },
    "language_info": {
      "name": "python"
    }
  },
  "nbformat": 4,
  "nbformat_minor": 0
}